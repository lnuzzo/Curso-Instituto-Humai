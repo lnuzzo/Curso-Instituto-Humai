{
  "nbformat": 4,
  "nbformat_minor": 0,
  "metadata": {
    "colab": {
      "name": "Esperanza, Varianza, Covarianza.ipynb",
      "provenance": [],
      "collapsed_sections": [
        "3YpgzigjkQGK"
      ],
      "toc_visible": true,
      "include_colab_link": true
    },
    "kernelspec": {
      "name": "python3",
      "display_name": "Python 3"
    }
  },
  "cells": [
    {
      "cell_type": "markdown",
      "metadata": {
        "id": "view-in-github",
        "colab_type": "text"
      },
      "source": [
        "<a href=\"https://colab.research.google.com/github/AnIsAsPe/ElementosEstadisticaMachineLearningPython/blob/master/Esperanza%2C_Varianza%2C_Covarianza.ipynb\" target=\"_parent\"><img src=\"https://colab.research.google.com/assets/colab-badge.svg\" alt=\"Open In Colab\"/></a>"
      ]
    },
    {
      "cell_type": "markdown",
      "metadata": {
        "id": "3YpgzigjkQGK"
      },
      "source": [
        "## Instalar y cargar librerias"
      ]
    },
    {
      "cell_type": "code",
      "metadata": {
        "id": "vd8naGGErbwV"
      },
      "source": [
        "import numpy as np\n",
        "import pandas as pd\n",
        "\n",
        "import random\n",
        "import operator\n",
        "import re # módulo operaciones expresiones regulares\n",
        "import unicodedata  #para quitar tildes\n",
        "from collections import Counter\n",
        "import math\n",
        "\n",
        "import matplotlib.pyplot as plt\n",
        "import seaborn as sns"
      ],
      "execution_count": 102,
      "outputs": []
    },
    {
      "cell_type": "markdown",
      "metadata": {
        "id": "pbALUjcWkWgr"
      },
      "source": [
        "## Definición de funciones"
      ]
    },
    {
      "cell_type": "code",
      "metadata": {
        "id": "96lVL2qUMtsa"
      },
      "source": [
        "def leer_libro(archivo_txt):\n",
        "  '''funcion para leer un archivo en formato txt'''\n",
        "  with open(archivo_txt, \"r\", encoding=\"utf8\") as f:\n",
        "    texto = f.read()\n",
        "    texto = texto.replace(\"\\n\", \"\").replace(\"\\r\", \"\") \n",
        "  return texto"
      ],
      "execution_count": 2,
      "outputs": []
    },
    {
      "cell_type": "code",
      "metadata": {
        "id": "F5sgP6ZkinM7"
      },
      "source": [
        "def borrar_elementos(texto, lista):\n",
        "  '''Función para eliminar en un texto los elementos contenidos en una lista, \n",
        "  por ejemplo:   autor, titulo y otros elementos'''\n",
        "  \n",
        "  for elemento in lista:\n",
        "    texto = texto.replace(elemento, \"\")\n",
        "  return texto"
      ],
      "execution_count": 3,
      "outputs": []
    },
    {
      "cell_type": "code",
      "metadata": {
        "id": "4wWolL-TXZct"
      },
      "source": [
        "def limpiar_texto(texto):\n",
        "  '''Función para convertir a minúsculas, quitar signos de puntuación,\n",
        "  números y tildes'''\n",
        "\n",
        "  #Convertir en mínusculas \n",
        "  texto_limpio = texto.lower()\n",
        "\n",
        "  #Quitar puntuación\n",
        "  puntuacion = [\".\", \",\" , \"-\", \"\\n\", \":\", \";\",'\"', \"'\", \"  \",\n",
        "                \"!\", \"¡\", \"¿\", \"?\", \"(\", \")\", \"<\", \"«\", \"»\", \"~\",]\n",
        "  for p in puntuacion:\n",
        "    texto_limpio = texto_limpio.replace(p,\"\")\n",
        "\n",
        "  #Quitar numeros\n",
        "\n",
        "  texto_limpio = \"\".join(filter(lambda x: not x.isdigit(), texto_limpio))\n",
        "\n",
        "  #Quitar tildes \n",
        "  \n",
        "  texto_limpio =''.join((c for c in unicodedata.normalize('NFD',texto_limpio) if\n",
        "                         unicodedata.category(c) != 'Mn'))\n",
        "\n",
        "  return texto_limpio"
      ],
      "execution_count": 4,
      "outputs": []
    },
    {
      "cell_type": "code",
      "metadata": {
        "id": "SWryxprKpFwc"
      },
      "source": [
        "def obtener_frecuencias(lista):\n",
        "  '''Devuelve diccionario con las frecuencias de los elementos de una lista\n",
        "   o cadena de texto'''\n",
        "  frecuencias_dict = {}\n",
        "  for c in lista:\n",
        "    if c in frecuencias_dict:\n",
        "      frecuencias_dict[c] += 1\n",
        "    else:\n",
        "      frecuencias_dict[c] = 1\n",
        "  #ordenar el diccionario de frecuencias\n",
        "  return Counter(frecuencias_dict)"
      ],
      "execution_count": 5,
      "outputs": []
    },
    {
      "cell_type": "code",
      "metadata": {
        "id": "hU8f6vv2LVvF"
      },
      "source": [
        "def genera_texto_nletras(texto, n=1, tot_letras = 100):\n",
        "  '''Devuelve un texto, utilizando ngramas a partir de letras\n",
        "  n es la cantidad de letras que se toman en consideración para \n",
        "  generar la siguiente'''\n",
        "  ngramas = {}\n",
        "  for i in range(len(texto) - n):\n",
        "    seq = texto[i:i+n]\n",
        "    if seq not in ngramas.keys():\n",
        "      ngramas[seq] = []\n",
        "    ngramas[seq].append(texto[i+n]) \n",
        "    \n",
        "  ngrama = np.random.choice(list(ngramas.keys()))\n",
        "  nuevo_texto = ngrama\n",
        "  \n",
        "  for i in range(tot_letras):\n",
        "    if ngrama not in ngramas.keys():\n",
        "      break\n",
        "    siguiente_letra = np.random.choice(ngramas[ngrama])\n",
        "    nuevo_texto += siguiente_letra\n",
        "    ngrama = nuevo_texto[len(nuevo_texto)-n:len(nuevo_texto)]\n",
        "  return nuevo_texto"
      ],
      "execution_count": 6,
      "outputs": []
    },
    {
      "cell_type": "markdown",
      "metadata": {
        "id": "W2lgfB02dZux"
      },
      "source": [
        "### Funciones nuevas"
      ]
    },
    {
      "cell_type": "markdown",
      "metadata": {
        "id": "0FC01oO9djBb"
      },
      "source": [
        "#### genera_muestras_de_texto()"
      ]
    },
    {
      "cell_type": "code",
      "metadata": {
        "id": "FpIt6D50agt4"
      },
      "source": [
        "def genera_muestras_de_texto(texto, grado=0, \n",
        "                             num_muestras=100, \n",
        "                             tam_muestra=200 ):\n",
        "  muestras={}\n",
        "  for i in range(num_muestras):\n",
        "    if grado == 0:\n",
        "      muestras[i]= \"\".join(random.sample(texto, tam_muestra))\n",
        "    else:\n",
        "      muestras[i] = genera_texto_nletras(texto, grado, tam_muestra)\n",
        "  return pd.Series(muestras, name= 'muestra' )"
      ],
      "execution_count": 7,
      "outputs": []
    },
    {
      "cell_type": "markdown",
      "metadata": {
        "id": "Ak274PqYspA3"
      },
      "source": [
        "#### contar_caracteres_por_tipo()"
      ]
    },
    {
      "cell_type": "code",
      "metadata": {
        "id": "aRGTk2-tspI8"
      },
      "source": [
        "def contar_caracteres_por_tipo(texto):\n",
        "  '''Funcion que devuelve una tupla con el conteo de vocales, \n",
        "  consonantes y espacios que existen en un texto'''\n",
        "  cuenta_vocales = 0\n",
        "  cuenta_consonantes = 0\n",
        "  cuenta_espacios = 0\n",
        "  for caracter in texto:\n",
        "    if caracter in vocales:\n",
        "      cuenta_vocales +=1\n",
        "    elif caracter in espacio:\n",
        "      cuenta_espacios +=1\n",
        "    else:\n",
        "      cuenta_consonantes +=1\n",
        "  return cuenta_vocales, cuenta_consonantes, cuenta_espacios"
      ],
      "execution_count": 8,
      "outputs": []
    },
    {
      "cell_type": "markdown",
      "metadata": {
        "id": "eRO54v3Rk7Zs"
      },
      "source": [
        "## Leer y prepocesar texto"
      ]
    },
    {
      "cell_type": "code",
      "metadata": {
        "id": "CnnsS-y3z5ss"
      },
      "source": [
        "#from google.colab import files  #para importar archivos a cloab\n",
        "#files.upload()"
      ],
      "execution_count": 105,
      "outputs": []
    },
    {
      "cell_type": "code",
      "metadata": {
        "id": "GteEzZIRNH3w",
        "outputId": "bf52c472-38bc-4daf-99f4-52bef1b01abb",
        "colab": {
          "base_uri": "https://localhost:8080/",
          "height": 86
        }
      },
      "source": [
        "libro = leer_libro('gabriel_garcia_marquez_cien_annos_soledad.txt')\n",
        "libro[:400]"
      ],
      "execution_count": 10,
      "outputs": [
        {
          "output_type": "execute_result",
          "data": {
            "application/vnd.google.colaboratory.intrinsic+json": {
              "type": "string"
            },
            "text/plain": [
              "'Gabriel García Márquez Cien años de soledad EDITADO POR \"EDICIONES LA CUEVA\" Para J omi García Ascot y María Luisa Elio Cien años de soledad Gabriel García Márquez Muchos años después, frente al pelotón de fusilamiento, el coronel Aureliano Buendía había de recordar aquella tarde remota en que su padre lo llevó a conocer el hielo. Macondo era entonces una aldea de veinte casas de barro y cañabrava'"
            ]
          },
          "metadata": {
            "tags": []
          },
          "execution_count": 10
        }
      ]
    },
    {
      "cell_type": "markdown",
      "metadata": {
        "id": "IXcu0VbkQQDA"
      },
      "source": [
        "## Preprocesar texto"
      ]
    },
    {
      "cell_type": "markdown",
      "metadata": {
        "id": "73ZL3uYFQ-T3"
      },
      "source": [
        "Borrar nombre del autor y título del libro porque se repite muchas veces en el archivo"
      ]
    },
    {
      "cell_type": "code",
      "metadata": {
        "id": "SIfWx3huarFt"
      },
      "source": [
        "borrar = ['Gabriel García Márquez', \n",
        "          'Cien años de soledad',\n",
        "          'EDITADO POR \"EDICIONES LA CUEVA\"',\n",
        "          'Para J omi García Ascot y María Luisa Elio']\n",
        "\n",
        "libro =  borrar_elementos(libro, borrar)"
      ],
      "execution_count": 11,
      "outputs": []
    },
    {
      "cell_type": "markdown",
      "metadata": {
        "id": "tGm_ZpviQ6ZF"
      },
      "source": [
        "Convertir todas las letras a minúsculas, quitar signos de puntuación, quitar números y tildes"
      ]
    },
    {
      "cell_type": "code",
      "metadata": {
        "id": "QoWgjTjpQjrq"
      },
      "source": [
        "libro_limpio = limpiar_texto(libro)"
      ],
      "execution_count": 12,
      "outputs": []
    },
    {
      "cell_type": "markdown",
      "metadata": {
        "id": "_IQR1WLOUiSr"
      },
      "source": [
        "# Separar de caracteres por tipo "
      ]
    },
    {
      "cell_type": "code",
      "metadata": {
        "id": "x_Yq_FxkkXZx",
        "outputId": "d3232c49-b9d0-49c6-9c12-024e28e97c00",
        "colab": {
          "base_uri": "https://localhost:8080/",
          "height": 34
        }
      },
      "source": [
        "caracteres = 'abcdefghijklmnopqrstuvwxyz'\n",
        "len(caracteres)"
      ],
      "execution_count": 13,
      "outputs": [
        {
          "output_type": "execute_result",
          "data": {
            "text/plain": [
              "26"
            ]
          },
          "metadata": {
            "tags": []
          },
          "execution_count": 13
        }
      ]
    },
    {
      "cell_type": "code",
      "metadata": {
        "id": "kKM9_OfmiWgI",
        "outputId": "5a6365af-64a3-40ac-f784-1726d6066aa2",
        "colab": {
          "base_uri": "https://localhost:8080/",
          "height": 34
        }
      },
      "source": [
        "#identificar vocales, espacios y consonantes\n",
        "vocales = 'aeiou'\n",
        "espacio = ' '\n",
        "\n",
        "consonantes = \"\"\n",
        "for e in caracteres:\n",
        "  if e not in (vocales + espacio):\n",
        "    consonantes += e\n",
        "\n",
        "print(consonantes)"
      ],
      "execution_count": 14,
      "outputs": [
        {
          "output_type": "stream",
          "text": [
            "bcdfghjklmnpqrstvwxyz\n"
          ],
          "name": "stdout"
        }
      ]
    },
    {
      "cell_type": "markdown",
      "metadata": {
        "id": "6icpPovxXd3Z"
      },
      "source": [
        "## Probabilidad de ocurrencia de vocales, consonantes y espacios"
      ]
    },
    {
      "cell_type": "code",
      "metadata": {
        "id": "FgL3AMFvVsYX",
        "outputId": "6f867ee0-618a-4354-a678-166a3e65f6a7",
        "colab": {
          "base_uri": "https://localhost:8080/",
          "height": 34
        }
      },
      "source": [
        "vo_co_es = contar_caracteres_por_tipo(libro_limpio)\n",
        "vo_co_es =[x/len(libro_limpio) for x in vo_co_es]\n",
        "vo_co_es"
      ],
      "execution_count": 25,
      "outputs": [
        {
          "output_type": "execute_result",
          "data": {
            "text/plain": [
              "[0.3840527256252816, 0.44122783483758626, 0.17471943953713218]"
            ]
          },
          "metadata": {
            "tags": []
          },
          "execution_count": 25
        }
      ]
    },
    {
      "cell_type": "code",
      "metadata": {
        "id": "BYIIbJ-XUG8v",
        "outputId": "530becfe-9477-4feb-cfe6-3a47c798a36b",
        "colab": {
          "base_uri": "https://localhost:8080/",
          "height": 265
        }
      },
      "source": [
        "plt.bar( [\"vocales\", \"consonantes\", \"espacios\"],  vo_co_es)\n",
        "plt.ylabel('probabilidad')\n",
        "plt.\n",
        "plt.show()"
      ],
      "execution_count": 26,
      "outputs": [
        {
          "output_type": "display_data",
          "data": {
            "image/png": "[encoded data removed]",
            "text/plain": [
              "<Figure size 432x288 with 1 Axes>"
            ]
          },
          "metadata": {
            "tags": [],
            "needs_background": "light"
          }
        }
      ]
    },
    {
      "cell_type": "markdown",
      "metadata": {
        "id": "U80hum35UrEK"
      },
      "source": [
        "# Construir 100 muestras para orden 0"
      ]
    },
    {
      "cell_type": "code",
      "metadata": {
        "id": "fSUo1hG9aAIj",
        "outputId": "dbc1d0e2-0e0c-447e-a700-139ab1f27502",
        "colab": {
          "base_uri": "https://localhost:8080/",
          "height": 119
        }
      },
      "source": [
        "gr = 0           #grado\n",
        "n_car = 200      #cantidad de caracteres en el texto generado\n",
        "textos = 100     #cantidad de textos a generar\n",
        "\n",
        "#Generar la serie de textos\n",
        "serie_textos = genera_muestras_de_texto(libro_limpio, \n",
        "                                        grado = gr,\n",
        "                                        num_muestras = textos, \n",
        "                                        tam_muestra = n_car)\n",
        "serie_textos.head()"
      ],
      "execution_count": 32,
      "outputs": [
        {
          "output_type": "execute_result",
          "data": {
            "text/plain": [
              "0     tcmssabeaol  erst oao osa di recreslocglcmcee...\n",
              "1    u yeemdssbcn doa  p s bcoa an aar r riqena aq ...\n",
              "2     ec es l emcualoasr ult d  mrnnaiuenretnsnoe m...\n",
              "3    oaealdarlase saaaaatrshpospacen ootao roasbdln...\n",
              "4    l   idg soobsoeapnia a eoard pc b r deita  loi...\n",
              "Name: muestra, dtype: object"
            ]
          },
          "metadata": {
            "tags": []
          },
          "execution_count": 32
        }
      ]
    },
    {
      "cell_type": "code",
      "metadata": {
        "id": "X3kuJlGJMtQg",
        "outputId": "c531eb38-e610-432b-c39e-6be3fa17a2be",
        "colab": {
          "base_uri": "https://localhost:8080/",
          "height": 204
        }
      },
      "source": [
        "serie_textos[30:40]"
      ],
      "execution_count": 33,
      "outputs": [
        {
          "output_type": "execute_result",
          "data": {
            "text/plain": [
              "30    s s oibtnp reaayooe bis a rqeeoanievneliaaipdo...\n",
              "31    i nnsssaars oe ug eaomor e srl ue na icanperd ...\n",
              "32    rlorati rn vaol ld at tniol nausior    colsobn...\n",
              "33    t eel oldasr lis t edio p aebntimsenzcicnpdejs...\n",
              "34    oeabu ned dni a re bo to oaanoide  epne g eaft...\n",
              "35    nera nrciele vrasrnuo j iri n a dobnroaenuroae...\n",
              "36    s nisn o troddtdaelnsniqer sob bamnani dmd osa...\n",
              "37    edtldot  suts solrlssiae eraaeestaofoaaqeracaq...\n",
              "38    tbs  dasnnn  bahiaj ecrierlaipobrca bqn umcenm...\n",
              "39    euoo rlr drcn  yalc n rsaigledeas lzn  r deiap...\n",
              "Name: muestra, dtype: object"
            ]
          },
          "metadata": {
            "tags": []
          },
          "execution_count": 33
        }
      ]
    },
    {
      "cell_type": "markdown",
      "metadata": {
        "id": "poA5iq1OvO-f"
      },
      "source": [
        "## Contar vocales, consonantes y espacios de cada muestra"
      ]
    },
    {
      "cell_type": "code",
      "metadata": {
        "id": "NYg_daWzNKix",
        "outputId": "ce7b3063-af34-4a9c-b87b-f3a28df0ba6b",
        "colab": {
          "base_uri": "https://localhost:8080/",
          "height": 419
        }
      },
      "source": [
        "datos =pd.DataFrame()\n",
        "datos['texto'] = serie_textos\n",
        "datos"
      ],
      "execution_count": 67,
      "outputs": [
        {
          "output_type": "execute_result",
          "data": {
            "text/html": [
              "<div>\n",
              "<style scoped>\n",
              "    .dataframe tbody tr th:only-of-type {\n",
              "        vertical-align: middle;\n",
              "    }\n",
              "\n",
              "    .dataframe tbody tr th {\n",
              "        vertical-align: top;\n",
              "    }\n",
              "\n",
              "    .dataframe thead th {\n",
              "        text-align: right;\n",
              "    }\n",
              "</style>\n",
              "<table border=\"1\" class=\"dataframe\">\n",
              "  <thead>\n",
              "    <tr style=\"text-align: right;\">\n",
              "      <th></th>\n",
              "      <th>texto</th>\n",
              "    </tr>\n",
              "  </thead>\n",
              "  <tbody>\n",
              "    <tr>\n",
              "      <th>0</th>\n",
              "      <td>tcmssabeaol  erst oao osa di recreslocglcmcee...</td>\n",
              "    </tr>\n",
              "    <tr>\n",
              "      <th>1</th>\n",
              "      <td>u yeemdssbcn doa  p s bcoa an aar r riqena aq ...</td>\n",
              "    </tr>\n",
              "    <tr>\n",
              "      <th>2</th>\n",
              "      <td>ec es l emcualoasr ult d  mrnnaiuenretnsnoe m...</td>\n",
              "    </tr>\n",
              "    <tr>\n",
              "      <th>3</th>\n",
              "      <td>oaealdarlase saaaaatrshpospacen ootao roasbdln...</td>\n",
              "    </tr>\n",
              "    <tr>\n",
              "      <th>4</th>\n",
              "      <td>l   idg soobsoeapnia a eoard pc b r deita  loi...</td>\n",
              "    </tr>\n",
              "    <tr>\n",
              "      <th>...</th>\n",
              "      <td>...</td>\n",
              "    </tr>\n",
              "    <tr>\n",
              "      <th>95</th>\n",
              "      <td>o patoteqalaqmrouorxds turl cbrdq crorln  nes ...</td>\n",
              "    </tr>\n",
              "    <tr>\n",
              "      <th>96</th>\n",
              "      <td>a  sisetd huls l t a u a pjlsiocleasau nana ui...</td>\n",
              "    </tr>\n",
              "    <tr>\n",
              "      <th>97</th>\n",
              "      <td>galiqivlal  pp et ab apa old tdcdd aampu isser...</td>\n",
              "    </tr>\n",
              "    <tr>\n",
              "      <th>98</th>\n",
              "      <td>oe u da so  shaaplea pdglol sssarouaonysonespl...</td>\n",
              "    </tr>\n",
              "    <tr>\n",
              "      <th>99</th>\n",
              "      <td>nvatbdriscauuc  ri aiposecg eajcaaa oenaaaoodn...</td>\n",
              "    </tr>\n",
              "  </tbody>\n",
              "</table>\n",
              "<p>100 rows × 1 columns</p>\n",
              "</div>"
            ],
            "text/plain": [
              "                                                texto\n",
              "0    tcmssabeaol  erst oao osa di recreslocglcmcee...\n",
              "1   u yeemdssbcn doa  p s bcoa an aar r riqena aq ...\n",
              "2    ec es l emcualoasr ult d  mrnnaiuenretnsnoe m...\n",
              "3   oaealdarlase saaaaatrshpospacen ootao roasbdln...\n",
              "4   l   idg soobsoeapnia a eoard pc b r deita  loi...\n",
              "..                                                ...\n",
              "95  o patoteqalaqmrouorxds turl cbrdq crorln  nes ...\n",
              "96  a  sisetd huls l t a u a pjlsiocleasau nana ui...\n",
              "97  galiqivlal  pp et ab apa old tdcdd aampu isser...\n",
              "98  oe u da so  shaaplea pdglol sssarouaonysonespl...\n",
              "99  nvatbdriscauuc  ri aiposecg eajcaaa oenaaaoodn...\n",
              "\n",
              "[100 rows x 1 columns]"
            ]
          },
          "metadata": {
            "tags": []
          },
          "execution_count": 67
        }
      ]
    },
    {
      "cell_type": "code",
      "metadata": {
        "id": "xICUwW0GNRkF",
        "outputId": "3a0ad431-fb9f-43af-ba08-f04c910ab454",
        "colab": {
          "base_uri": "https://localhost:8080/",
          "height": 221
        }
      },
      "source": [
        "tupla_cuentas = datos['texto'].apply(contar_caracteres_por_tipo)\n",
        "tupla_cuentas"
      ],
      "execution_count": 68,
      "outputs": [
        {
          "output_type": "execute_result",
          "data": {
            "text/plain": [
              "0     (85, 85, 30)\n",
              "1     (69, 92, 39)\n",
              "2     (72, 90, 38)\n",
              "3     (76, 97, 27)\n",
              "4     (78, 86, 36)\n",
              "          ...     \n",
              "95    (72, 87, 41)\n",
              "96    (69, 96, 35)\n",
              "97    (78, 85, 37)\n",
              "98    (85, 84, 31)\n",
              "99    (87, 78, 35)\n",
              "Name: texto, Length: 100, dtype: object"
            ]
          },
          "metadata": {
            "tags": []
          },
          "execution_count": 68
        }
      ]
    },
    {
      "cell_type": "code",
      "metadata": {
        "id": "xndzikbmpDOA",
        "outputId": "b14d0454-9141-4ca8-84b6-4a88e7f4c027",
        "colab": {
          "base_uri": "https://localhost:8080/",
          "height": 419
        }
      },
      "source": [
        "datos['vocales'], datos['consonantes'], datos['espacios']= zip(*tupla_cuentas)\n",
        "datos = datos.set_index('texto')\n",
        "datos =datos.div(200)\n",
        "datos.reset_index()"
      ],
      "execution_count": 69,
      "outputs": [
        {
          "output_type": "execute_result",
          "data": {
            "text/html": [
              "<div>\n",
              "<style scoped>\n",
              "    .dataframe tbody tr th:only-of-type {\n",
              "        vertical-align: middle;\n",
              "    }\n",
              "\n",
              "    .dataframe tbody tr th {\n",
              "        vertical-align: top;\n",
              "    }\n",
              "\n",
              "    .dataframe thead th {\n",
              "        text-align: right;\n",
              "    }\n",
              "</style>\n",
              "<table border=\"1\" class=\"dataframe\">\n",
              "  <thead>\n",
              "    <tr style=\"text-align: right;\">\n",
              "      <th></th>\n",
              "      <th>texto</th>\n",
              "      <th>vocales</th>\n",
              "      <th>consonantes</th>\n",
              "      <th>espacios</th>\n",
              "    </tr>\n",
              "  </thead>\n",
              "  <tbody>\n",
              "    <tr>\n",
              "      <th>0</th>\n",
              "      <td>tcmssabeaol  erst oao osa di recreslocglcmcee...</td>\n",
              "      <td>0.425</td>\n",
              "      <td>0.425</td>\n",
              "      <td>0.150</td>\n",
              "    </tr>\n",
              "    <tr>\n",
              "      <th>1</th>\n",
              "      <td>u yeemdssbcn doa  p s bcoa an aar r riqena aq ...</td>\n",
              "      <td>0.345</td>\n",
              "      <td>0.460</td>\n",
              "      <td>0.195</td>\n",
              "    </tr>\n",
              "    <tr>\n",
              "      <th>2</th>\n",
              "      <td>ec es l emcualoasr ult d  mrnnaiuenretnsnoe m...</td>\n",
              "      <td>0.360</td>\n",
              "      <td>0.450</td>\n",
              "      <td>0.190</td>\n",
              "    </tr>\n",
              "    <tr>\n",
              "      <th>3</th>\n",
              "      <td>oaealdarlase saaaaatrshpospacen ootao roasbdln...</td>\n",
              "      <td>0.380</td>\n",
              "      <td>0.485</td>\n",
              "      <td>0.135</td>\n",
              "    </tr>\n",
              "    <tr>\n",
              "      <th>4</th>\n",
              "      <td>l   idg soobsoeapnia a eoard pc b r deita  loi...</td>\n",
              "      <td>0.390</td>\n",
              "      <td>0.430</td>\n",
              "      <td>0.180</td>\n",
              "    </tr>\n",
              "    <tr>\n",
              "      <th>...</th>\n",
              "      <td>...</td>\n",
              "      <td>...</td>\n",
              "      <td>...</td>\n",
              "      <td>...</td>\n",
              "    </tr>\n",
              "    <tr>\n",
              "      <th>95</th>\n",
              "      <td>o patoteqalaqmrouorxds turl cbrdq crorln  nes ...</td>\n",
              "      <td>0.360</td>\n",
              "      <td>0.435</td>\n",
              "      <td>0.205</td>\n",
              "    </tr>\n",
              "    <tr>\n",
              "      <th>96</th>\n",
              "      <td>a  sisetd huls l t a u a pjlsiocleasau nana ui...</td>\n",
              "      <td>0.345</td>\n",
              "      <td>0.480</td>\n",
              "      <td>0.175</td>\n",
              "    </tr>\n",
              "    <tr>\n",
              "      <th>97</th>\n",
              "      <td>galiqivlal  pp et ab apa old tdcdd aampu isser...</td>\n",
              "      <td>0.390</td>\n",
              "      <td>0.425</td>\n",
              "      <td>0.185</td>\n",
              "    </tr>\n",
              "    <tr>\n",
              "      <th>98</th>\n",
              "      <td>oe u da so  shaaplea pdglol sssarouaonysonespl...</td>\n",
              "      <td>0.425</td>\n",
              "      <td>0.420</td>\n",
              "      <td>0.155</td>\n",
              "    </tr>\n",
              "    <tr>\n",
              "      <th>99</th>\n",
              "      <td>nvatbdriscauuc  ri aiposecg eajcaaa oenaaaoodn...</td>\n",
              "      <td>0.435</td>\n",
              "      <td>0.390</td>\n",
              "      <td>0.175</td>\n",
              "    </tr>\n",
              "  </tbody>\n",
              "</table>\n",
              "<p>100 rows × 4 columns</p>\n",
              "</div>"
            ],
            "text/plain": [
              "                                                texto  ...  espacios\n",
              "0    tcmssabeaol  erst oao osa di recreslocglcmcee...  ...     0.150\n",
              "1   u yeemdssbcn doa  p s bcoa an aar r riqena aq ...  ...     0.195\n",
              "2    ec es l emcualoasr ult d  mrnnaiuenretnsnoe m...  ...     0.190\n",
              "3   oaealdarlase saaaaatrshpospacen ootao roasbdln...  ...     0.135\n",
              "4   l   idg soobsoeapnia a eoard pc b r deita  loi...  ...     0.180\n",
              "..                                                ...  ...       ...\n",
              "95  o patoteqalaqmrouorxds turl cbrdq crorln  nes ...  ...     0.205\n",
              "96  a  sisetd huls l t a u a pjlsiocleasau nana ui...  ...     0.175\n",
              "97  galiqivlal  pp et ab apa old tdcdd aampu isser...  ...     0.185\n",
              "98  oe u da so  shaaplea pdglol sssarouaonysonespl...  ...     0.155\n",
              "99  nvatbdriscauuc  ri aiposecg eajcaaa oenaaaoodn...  ...     0.175\n",
              "\n",
              "[100 rows x 4 columns]"
            ]
          },
          "metadata": {
            "tags": []
          },
          "execution_count": 69
        }
      ]
    },
    {
      "cell_type": "markdown",
      "metadata": {
        "id": "EQGzi4INoBBe"
      },
      "source": [
        "## Calcular Esperanza, Varianza y Desviación Estándar\n",
        "de las variables vocales, consonantes y espacios de las 100 muestras"
      ]
    },
    {
      "cell_type": "code",
      "metadata": {
        "id": "fPDIRWs502mO",
        "outputId": "db4bbf91-1f10-4f6a-fb6c-a30d6fc3b9fc",
        "colab": {
          "base_uri": "https://localhost:8080/",
          "height": 390
        }
      },
      "source": [
        "datos.hist(figsize=(10, 6), bins=50)\n",
        "plt.show()"
      ],
      "execution_count": 70,
      "outputs": [
        {
          "output_type": "display_data",
          "data": {
            "image/png": "[encoded data removed]",
            "text/plain": [
              "<Figure size 720x432 with 4 Axes>"
            ]
          },
          "metadata": {
            "tags": [],
            "needs_background": "light"
          }
        }
      ]
    },
    {
      "cell_type": "markdown",
      "metadata": {
        "id": "mpPWyMU2pWNy"
      },
      "source": [
        "### Cálculo sin usar funciones especiales"
      ]
    },
    {
      "cell_type": "code",
      "metadata": {
        "id": "3Ccz3WEDYZT1",
        "outputId": "16c9671d-5f8b-4a83-d1b3-c29cc162eb5e",
        "colab": {
          "base_uri": "https://localhost:8080/",
          "height": 68
        }
      },
      "source": [
        "esperanza = datos['vocales'].sum()/len(datos)\n",
        "varianza = sum((datos['vocales']- media)**2) /len(datos)\n",
        "desviacion = math.sqrt(varianza)\n",
        "print('promedio: ', promedio, \n",
        "      '\\nvarianza: ', varianza,\n",
        "      '\\ndesviación estándar:',desviacion)\n"
      ],
      "execution_count": 100,
      "outputs": [
        {
          "output_type": "stream",
          "text": [
            "promedio:  0.17845000000000003 \n",
            "varianza:  0.041760092499999985 \n",
            "desviación estándar: 0.20435286271545106\n"
          ],
          "name": "stdout"
        }
      ]
    },
    {
      "cell_type": "code",
      "metadata": {
        "id": "ndmdnwvupeu7"
      },
      "source": [
        ""
      ],
      "execution_count": null,
      "outputs": []
    },
    {
      "cell_type": "markdown",
      "metadata": {
        "id": "kv0N17dipfQq"
      },
      "source": [
        "### Cálculo usando el método de numpy y pandas\n"
      ]
    },
    {
      "cell_type": "code",
      "metadata": {
        "id": "uCqYugf3vYPX",
        "outputId": "e31f5962-0dcd-4a40-c7e0-4d3cb7a50c7e",
        "colab": {
          "base_uri": "https://localhost:8080/",
          "height": 297
        }
      },
      "source": [
        "datos.describe()"
      ],
      "execution_count": 71,
      "outputs": [
        {
          "output_type": "execute_result",
          "data": {
            "text/html": [
              "<div>\n",
              "<style scoped>\n",
              "    .dataframe tbody tr th:only-of-type {\n",
              "        vertical-align: middle;\n",
              "    }\n",
              "\n",
              "    .dataframe tbody tr th {\n",
              "        vertical-align: top;\n",
              "    }\n",
              "\n",
              "    .dataframe thead th {\n",
              "        text-align: right;\n",
              "    }\n",
              "</style>\n",
              "<table border=\"1\" class=\"dataframe\">\n",
              "  <thead>\n",
              "    <tr style=\"text-align: right;\">\n",
              "      <th></th>\n",
              "      <th>vocales</th>\n",
              "      <th>consonantes</th>\n",
              "      <th>espacios</th>\n",
              "    </tr>\n",
              "  </thead>\n",
              "  <tbody>\n",
              "    <tr>\n",
              "      <th>count</th>\n",
              "      <td>100.000000</td>\n",
              "      <td>100.000000</td>\n",
              "      <td>100.000000</td>\n",
              "    </tr>\n",
              "    <tr>\n",
              "      <th>mean</th>\n",
              "      <td>0.379900</td>\n",
              "      <td>0.441650</td>\n",
              "      <td>0.178450</td>\n",
              "    </tr>\n",
              "    <tr>\n",
              "      <th>std</th>\n",
              "      <td>0.034495</td>\n",
              "      <td>0.031854</td>\n",
              "      <td>0.025601</td>\n",
              "    </tr>\n",
              "    <tr>\n",
              "      <th>min</th>\n",
              "      <td>0.315000</td>\n",
              "      <td>0.365000</td>\n",
              "      <td>0.115000</td>\n",
              "    </tr>\n",
              "    <tr>\n",
              "      <th>25%</th>\n",
              "      <td>0.353750</td>\n",
              "      <td>0.420000</td>\n",
              "      <td>0.160000</td>\n",
              "    </tr>\n",
              "    <tr>\n",
              "      <th>50%</th>\n",
              "      <td>0.380000</td>\n",
              "      <td>0.442500</td>\n",
              "      <td>0.175000</td>\n",
              "    </tr>\n",
              "    <tr>\n",
              "      <th>75%</th>\n",
              "      <td>0.405000</td>\n",
              "      <td>0.465000</td>\n",
              "      <td>0.195000</td>\n",
              "    </tr>\n",
              "    <tr>\n",
              "      <th>max</th>\n",
              "      <td>0.465000</td>\n",
              "      <td>0.510000</td>\n",
              "      <td>0.245000</td>\n",
              "    </tr>\n",
              "  </tbody>\n",
              "</table>\n",
              "</div>"
            ],
            "text/plain": [
              "          vocales  consonantes    espacios\n",
              "count  100.000000   100.000000  100.000000\n",
              "mean     0.379900     0.441650    0.178450\n",
              "std      0.034495     0.031854    0.025601\n",
              "min      0.315000     0.365000    0.115000\n",
              "25%      0.353750     0.420000    0.160000\n",
              "50%      0.380000     0.442500    0.175000\n",
              "75%      0.405000     0.465000    0.195000\n",
              "max      0.465000     0.510000    0.245000"
            ]
          },
          "metadata": {
            "tags": []
          },
          "execution_count": 71
        }
      ]
    },
    {
      "cell_type": "code",
      "metadata": {
        "id": "Yp0412sYKPKF",
        "outputId": "ede2e9ab-9d8d-46c1-c8ea-e4aa897c0c39",
        "colab": {
          "base_uri": "https://localhost:8080/",
          "height": 85
        }
      },
      "source": [
        "datos.var()"
      ],
      "execution_count": null,
      "outputs": [
        {
          "output_type": "execute_result",
          "data": {
            "text/plain": [
              "vocales        0.001182\n",
              "consonantes    0.000830\n",
              "espacios       0.000830\n",
              "dtype: float64"
            ]
          },
          "metadata": {
            "tags": []
          },
          "execution_count": 189
        }
      ]
    },
    {
      "cell_type": "markdown",
      "metadata": {
        "id": "5oAA8ybapwoS"
      },
      "source": [
        "## Análisis de covarianza y correlación"
      ]
    },
    {
      "cell_type": "code",
      "metadata": {
        "id": "bebHQhdMKIb8",
        "outputId": "77233636-3137-49c7-c5aa-9bf567d9f877",
        "colab": {
          "base_uri": "https://localhost:8080/",
          "height": 142
        }
      },
      "source": [
        "datos.cov()"
      ],
      "execution_count": null,
      "outputs": [
        {
          "output_type": "execute_result",
          "data": {
            "text/html": [
              "<div>\n",
              "<style scoped>\n",
              "    .dataframe tbody tr th:only-of-type {\n",
              "        vertical-align: middle;\n",
              "    }\n",
              "\n",
              "    .dataframe tbody tr th {\n",
              "        vertical-align: top;\n",
              "    }\n",
              "\n",
              "    .dataframe thead th {\n",
              "        text-align: right;\n",
              "    }\n",
              "</style>\n",
              "<table border=\"1\" class=\"dataframe\">\n",
              "  <thead>\n",
              "    <tr style=\"text-align: right;\">\n",
              "      <th></th>\n",
              "      <th>vocales</th>\n",
              "      <th>consonantes</th>\n",
              "      <th>espacios</th>\n",
              "    </tr>\n",
              "  </thead>\n",
              "  <tbody>\n",
              "    <tr>\n",
              "      <th>vocales</th>\n",
              "      <td>0.001373</td>\n",
              "      <td>-0.000808</td>\n",
              "      <td>-0.000565</td>\n",
              "    </tr>\n",
              "    <tr>\n",
              "      <th>consonantes</th>\n",
              "      <td>-0.000808</td>\n",
              "      <td>0.000954</td>\n",
              "      <td>-0.000147</td>\n",
              "    </tr>\n",
              "    <tr>\n",
              "      <th>espacios</th>\n",
              "      <td>-0.000565</td>\n",
              "      <td>-0.000147</td>\n",
              "      <td>0.000712</td>\n",
              "    </tr>\n",
              "  </tbody>\n",
              "</table>\n",
              "</div>"
            ],
            "text/plain": [
              "              vocales  consonantes  espacios\n",
              "vocales      0.001373    -0.000808 -0.000565\n",
              "consonantes -0.000808     0.000954 -0.000147\n",
              "espacios    -0.000565    -0.000147  0.000712"
            ]
          },
          "metadata": {
            "tags": []
          },
          "execution_count": 223
        }
      ]
    },
    {
      "cell_type": "code",
      "metadata": {
        "id": "GAQ_F7gHJ8pf",
        "outputId": "7cc00f21-1d22-4449-e972-6c72e9d0443b",
        "colab": {
          "base_uri": "https://localhost:8080/",
          "height": 142
        }
      },
      "source": [
        "datos.corr()"
      ],
      "execution_count": null,
      "outputs": [
        {
          "output_type": "execute_result",
          "data": {
            "text/html": [
              "<div>\n",
              "<style scoped>\n",
              "    .dataframe tbody tr th:only-of-type {\n",
              "        vertical-align: middle;\n",
              "    }\n",
              "\n",
              "    .dataframe tbody tr th {\n",
              "        vertical-align: top;\n",
              "    }\n",
              "\n",
              "    .dataframe thead th {\n",
              "        text-align: right;\n",
              "    }\n",
              "</style>\n",
              "<table border=\"1\" class=\"dataframe\">\n",
              "  <thead>\n",
              "    <tr style=\"text-align: right;\">\n",
              "      <th></th>\n",
              "      <th>vocales</th>\n",
              "      <th>consonantes</th>\n",
              "      <th>espacios</th>\n",
              "    </tr>\n",
              "  </thead>\n",
              "  <tbody>\n",
              "    <tr>\n",
              "      <th>vocales</th>\n",
              "      <td>1.000000</td>\n",
              "      <td>-0.705508</td>\n",
              "      <td>-0.571791</td>\n",
              "    </tr>\n",
              "    <tr>\n",
              "      <th>consonantes</th>\n",
              "      <td>-0.705508</td>\n",
              "      <td>1.000000</td>\n",
              "      <td>-0.178016</td>\n",
              "    </tr>\n",
              "    <tr>\n",
              "      <th>espacios</th>\n",
              "      <td>-0.571791</td>\n",
              "      <td>-0.178016</td>\n",
              "      <td>1.000000</td>\n",
              "    </tr>\n",
              "  </tbody>\n",
              "</table>\n",
              "</div>"
            ],
            "text/plain": [
              "              vocales  consonantes  espacios\n",
              "vocales      1.000000    -0.705508 -0.571791\n",
              "consonantes -0.705508     1.000000 -0.178016\n",
              "espacios    -0.571791    -0.178016  1.000000"
            ]
          },
          "metadata": {
            "tags": []
          },
          "execution_count": 224
        }
      ]
    },
    {
      "cell_type": "code",
      "metadata": {
        "id": "EH4OMTyusd5i",
        "outputId": "c0247213-62be-40df-88ed-5b9f610b5339",
        "colab": {
          "base_uri": "https://localhost:8080/",
          "height": 567
        }
      },
      "source": [
        "sns.pairplot(datos)"
      ],
      "execution_count": 104,
      "outputs": [
        {
          "output_type": "execute_result",
          "data": {
            "text/plain": [
              "<seaborn.axisgrid.PairGrid at 0x7f0c1240eeb8>"
            ]
          },
          "metadata": {
            "tags": []
          },
          "execution_count": 104
        },
        {
          "output_type": "display_data",
          "data": {
            "image/png": "[encoded data removed]",
            "text/plain": [
              "<Figure size 540x540 with 12 Axes>"
            ]
          },
          "metadata": {
            "tags": [],
            "needs_background": "light"
          }
        }
      ]
    },
    {
      "cell_type": "markdown",
      "metadata": {
        "id": "1JSlEZ-VXv4v"
      },
      "source": [
        "# Probabilidad de ocurrencia de vocales, consonantes y espacios en el libro 100 años de soledad"
      ]
    },
    {
      "cell_type": "markdown",
      "metadata": {
        "id": "G9RWygwPp5Mi"
      },
      "source": [
        ""
      ]
    },
    {
      "cell_type": "code",
      "metadata": {
        "id": "W4wNO_txXv41",
        "outputId": "6f867ee0-618a-4354-a678-166a3e65f6a7",
        "colab": {
          "base_uri": "https://localhost:8080/",
          "height": 34
        }
      },
      "source": [
        "vo_co_es = contar_caracteres_por_tipo(libro_limpio)\n",
        "vo_co_es =[x/len(libro_limpio) for x in vo_co_es]\n",
        "vo_co_es"
      ],
      "execution_count": null,
      "outputs": [
        {
          "output_type": "execute_result",
          "data": {
            "text/plain": [
              "[0.3840527256252816, 0.44122783483758626, 0.17471943953713218]"
            ]
          },
          "metadata": {
            "tags": []
          },
          "execution_count": 25
        }
      ]
    },
    {
      "cell_type": "code",
      "metadata": {
        "id": "Yx3bIURZXv5F",
        "outputId": "59a0c236-9902-46dc-8de9-acfc5d6450bf",
        "colab": {
          "base_uri": "https://localhost:8080/",
          "height": 265
        }
      },
      "source": [
        "plt.bar( [\"vocales\", \"consonantes\", \"espacios\"],  vo_co_es)\n",
        "plt.ylabel('probabilidad')\n",
        "plt.show()"
      ],
      "execution_count": 28,
      "outputs": [
        {
          "output_type": "display_data",
          "data": {
            "image/png": "[encoded data removed]",
            "text/plain": [
              "<Figure size 432x288 with 1 Axes>"
            ]
          },
          "metadata": {
            "tags": [],
            "needs_background": "light"
          }
        }
      ]
    },
    {
      "cell_type": "markdown",
      "metadata": {
        "id": "pK1HTRv_YPfk"
      },
      "source": [
        "## Análisis con grado 1"
      ]
    },
    {
      "cell_type": "code",
      "metadata": {
        "id": "tDz-hhZ77U5D",
        "outputId": "8493882c-1691-4dd8-c2b2-39445f7d40fe",
        "colab": {
          "base_uri": "https://localhost:8080/",
          "height": 51
        }
      },
      "source": [
        "%%time\n",
        "gr = 1           #grado\n",
        "n_car = 200      #cantidad de caracteres en el texto generado\n",
        "textos = 100     #cantidad de textos a generar\n",
        "\n",
        "#Generar la serie de textos\n",
        "serie_textos_g1= genera_muestras_de_texto(libro_limpio, grado = gr, \n",
        "                          num_muestras = textos, tam_muestra = n_car)\n",
        "\n",
        "\n",
        "\n"
      ],
      "execution_count": null,
      "outputs": [
        {
          "output_type": "stream",
          "text": [
            "CPU times: user 2min 3s, sys: 213 ms, total: 2min 3s\n",
            "Wall time: 2min 3s\n"
          ],
          "name": "stdout"
        }
      ]
    }
  ]
}
