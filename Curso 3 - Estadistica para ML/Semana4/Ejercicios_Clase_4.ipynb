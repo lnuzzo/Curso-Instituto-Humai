{
  "nbformat": 4,
  "nbformat_minor": 0,
  "metadata": {
    "colab": {
      "name": "Ejercicios Clase 4.ipynb",
      "provenance": [],
      "collapsed_sections": [],
      "toc_visible": true,
      "authorship_tag": "ABX9TyPc+SiSa08jqJT9J3PgwQof",
      "include_colab_link": true
    },
    "kernelspec": {
      "name": "python3",
      "display_name": "Python 3"
    }
  },
  "cells": [
    {
      "cell_type": "markdown",
      "metadata": {
        "id": "view-in-github",
        "colab_type": "text"
      },
      "source": [
        "<a href=\"https://colab.research.google.com/github/AnIsAsPe/ElementosEstadisticaMachineLearningPython/blob/master/Semana4/Ejercicios_Clase_4.ipynb\" target=\"_parent\"><img src=\"https://colab.research.google.com/assets/colab-badge.svg\" alt=\"Open In Colab\"/></a>"
      ]
    },
    {
      "cell_type": "code",
      "metadata": {
        "id": "8V-3QSifH3R1"
      },
      "source": [
        "import numpy as np\n",
        "import itertools \n",
        "import pandas as pd\n",
        "import matplotlib.pyplot as plt\n",
        "import seaborn as sns\n",
        "import random"
      ],
      "execution_count": 1,
      "outputs": []
    },
    {
      "cell_type": "markdown",
      "metadata": {
        "id": "ZqV_XJ2ez_Jp"
      },
      "source": [
        "Ejercicio\n",
        "Calcular la esperanza matemática de la ganacia de un jugador al tirar un dado, de acuerdo a la siguiente regla:\n",
        "- gana \\$5 dolares si  tirar obtiene un 1, 2 o 3\n",
        "- gana \\$10 dólares si  tirar obtiene un 4 o 5\n",
        "- pierde \\$25 dólares si al tirar obtiene un 6\n"
      ]
    },
    {
      "cell_type": "code",
      "metadata": {
        "id": "VUKJyARMz9gk",
        "outputId": "5f99dfdc-23a8-4a55-bc9b-6be48c91d677",
        "colab": {
          "base_uri": "https://localhost:8080/",
          "height": 50
        }
      },
      "source": [
        "\n",
        "Premios = [5, 5, 5, 10, 10, -25]  \n",
        "\n",
        "Probabilidad = [1/6, 1/6, 1/6, 1/6, 1/6, 1/6]   \n",
        "\n",
        "esperanza_ganancia = 0\n",
        "varianza = 0\n",
        "for premio, probabilidad in zip(Premios, Probabilidad):\n",
        "  esperanza_ganancia += premio * probabilidad\n",
        "  varianza += ((premio-esperanza_ganancia)**2)*probabilidad\n",
        "print('esperanza: ',round(esperanza_ganancia,2))\n",
        "print('varianza: ',round(varianza,2))"
      ],
      "execution_count": 2,
      "outputs": [
        {
          "output_type": "stream",
          "text": [
            "esperanza:  1.67\n",
            "varianza:  132.87\n"
          ],
          "name": "stdout"
        }
      ]
    },
    {
      "cell_type": "code",
      "metadata": {
        "id": "bwIGqMadzuc6",
        "outputId": "7ba8c9a0-4397-49a0-85f2-d74923df686b",
        "colab": {
          "base_uri": "https://localhost:8080/",
          "height": 50
        }
      },
      "source": [
        "n=100000\n",
        "\n",
        "premio = []\n",
        "for i in range(n):\n",
        "  tiro_d1 = np.random.choice(Premios)\n",
        "  premio.append(tiro_d1)\n",
        "\n",
        "print('En {} tiros, el jugador gana: {}'.format(n, sum(premio)),\n",
        "      '\\nen promedio gana en cada tiro:', sum(premio)/n)\n"
      ],
      "execution_count": 3,
      "outputs": [
        {
          "output_type": "stream",
          "text": [
            "En 100000 tiros, el jugador gana: 170855 \n",
            "en promedio gana en cada tiro: 1.70855\n"
          ],
          "name": "stdout"
        }
      ]
    },
    {
      "cell_type": "markdown",
      "metadata": {
        "id": "SUsYYbCa0JAi"
      },
      "source": [
        "## Tarea:\n",
        "\n",
        "1. Genere la ley de probabilidad de las siguientes variables aleatorias:\n",
        "\n",
        "  - El número que puede salir en la [ruleta francesa](https://es.wikipedia.org/wiki/Ruleta#/media/Archivo:Roulette_frz.png) (sólo tienen un cero)\n",
        "  - El color que puede salir en la ruleta francesa\n",
        "\n",
        "  - Ganancia al apostar a un número concreto (si gana obtiene 35 veces lo apostado, suponga que la apuesta es de $1)\n",
        "\n",
        "\n",
        "2. Evalue si los siguientes eventos son dependientes o independientes\n",
        "\n",
        "   - A : obtener un numero par que no sea cero,\n",
        "   - B : que sea color rojo\n",
        "\n",
        "3. Calcule la probabilidad condicional de obtener un número par dado que salió el color rojo P(A|B) \n",
        "\n",
        "4. Calcule la probabilidad condicional de que el número sea rojo, dado que salio un par P(A|B)\n",
        "\n",
        "5. Calcula la esperanza matemática de la variable:\n",
        "> X = fichas ganadas al apostar 1 al número 28\n",
        "\n",
        "6. Simular 10 juegos de ruleta haciendo la misma apuesta, calcular el promedio de las ganancias y explicar las diferencias\n"
      ]
    },
    {
      "cell_type": "code",
      "metadata": {
        "id": "Pesmt1eYCqi6"
      },
      "source": [
        "numero = list(range(0,37))\n",
        "rojo = list(itertools.chain((range(1,10,2)),\n",
        "                            (range(12,19,2)),\n",
        "                            (range(19,28,2)),\n",
        "                            (range(30,37,2))))\n",
        "negro= [i for i in range(1,37) if i not in rojo]"
      ],
      "execution_count": 4,
      "outputs": []
    },
    {
      "cell_type": "code",
      "metadata": {
        "id": "YGXJM-EMHLPo"
      },
      "source": [
        "ruleta = pd.DataFrame({'numero': numero, 'color': np.nan, 'probabilidad': 1/37})\n",
        "ruleta.loc[rojo, 'color'] = 'rojo'\n",
        "ruleta.loc[negro, 'color'] = 'negro'\n",
        "ruleta.loc[0,'color'] = 'verde'"
      ],
      "execution_count": 5,
      "outputs": []
    },
    {
      "cell_type": "code",
      "metadata": {
        "id": "FO8ovCEaeD-v",
        "outputId": "a5ba8ed8-745f-4ea6-993f-7f266fd72d05",
        "colab": {
          "base_uri": "https://localhost:8080/",
          "height": 1000
        }
      },
      "source": [
        "ruleta"
      ],
      "execution_count": 6,
      "outputs": [
        {
          "output_type": "execute_result",
          "data": {
            "text/html": [
              "<div>\n",
              "<style scoped>\n",
              "    .dataframe tbody tr th:only-of-type {\n",
              "        vertical-align: middle;\n",
              "    }\n",
              "\n",
              "    .dataframe tbody tr th {\n",
              "        vertical-align: top;\n",
              "    }\n",
              "\n",
              "    .dataframe thead th {\n",
              "        text-align: right;\n",
              "    }\n",
              "</style>\n",
              "<table border=\"1\" class=\"dataframe\">\n",
              "  <thead>\n",
              "    <tr style=\"text-align: right;\">\n",
              "      <th></th>\n",
              "      <th>numero</th>\n",
              "      <th>color</th>\n",
              "      <th>probabilidad</th>\n",
              "    </tr>\n",
              "  </thead>\n",
              "  <tbody>\n",
              "    <tr>\n",
              "      <th>0</th>\n",
              "      <td>0</td>\n",
              "      <td>verde</td>\n",
              "      <td>0.027027</td>\n",
              "    </tr>\n",
              "    <tr>\n",
              "      <th>1</th>\n",
              "      <td>1</td>\n",
              "      <td>rojo</td>\n",
              "      <td>0.027027</td>\n",
              "    </tr>\n",
              "    <tr>\n",
              "      <th>2</th>\n",
              "      <td>2</td>\n",
              "      <td>negro</td>\n",
              "      <td>0.027027</td>\n",
              "    </tr>\n",
              "    <tr>\n",
              "      <th>3</th>\n",
              "      <td>3</td>\n",
              "      <td>rojo</td>\n",
              "      <td>0.027027</td>\n",
              "    </tr>\n",
              "    <tr>\n",
              "      <th>4</th>\n",
              "      <td>4</td>\n",
              "      <td>negro</td>\n",
              "      <td>0.027027</td>\n",
              "    </tr>\n",
              "    <tr>\n",
              "      <th>5</th>\n",
              "      <td>5</td>\n",
              "      <td>rojo</td>\n",
              "      <td>0.027027</td>\n",
              "    </tr>\n",
              "    <tr>\n",
              "      <th>6</th>\n",
              "      <td>6</td>\n",
              "      <td>negro</td>\n",
              "      <td>0.027027</td>\n",
              "    </tr>\n",
              "    <tr>\n",
              "      <th>7</th>\n",
              "      <td>7</td>\n",
              "      <td>rojo</td>\n",
              "      <td>0.027027</td>\n",
              "    </tr>\n",
              "    <tr>\n",
              "      <th>8</th>\n",
              "      <td>8</td>\n",
              "      <td>negro</td>\n",
              "      <td>0.027027</td>\n",
              "    </tr>\n",
              "    <tr>\n",
              "      <th>9</th>\n",
              "      <td>9</td>\n",
              "      <td>rojo</td>\n",
              "      <td>0.027027</td>\n",
              "    </tr>\n",
              "    <tr>\n",
              "      <th>10</th>\n",
              "      <td>10</td>\n",
              "      <td>negro</td>\n",
              "      <td>0.027027</td>\n",
              "    </tr>\n",
              "    <tr>\n",
              "      <th>11</th>\n",
              "      <td>11</td>\n",
              "      <td>negro</td>\n",
              "      <td>0.027027</td>\n",
              "    </tr>\n",
              "    <tr>\n",
              "      <th>12</th>\n",
              "      <td>12</td>\n",
              "      <td>rojo</td>\n",
              "      <td>0.027027</td>\n",
              "    </tr>\n",
              "    <tr>\n",
              "      <th>13</th>\n",
              "      <td>13</td>\n",
              "      <td>negro</td>\n",
              "      <td>0.027027</td>\n",
              "    </tr>\n",
              "    <tr>\n",
              "      <th>14</th>\n",
              "      <td>14</td>\n",
              "      <td>rojo</td>\n",
              "      <td>0.027027</td>\n",
              "    </tr>\n",
              "    <tr>\n",
              "      <th>15</th>\n",
              "      <td>15</td>\n",
              "      <td>negro</td>\n",
              "      <td>0.027027</td>\n",
              "    </tr>\n",
              "    <tr>\n",
              "      <th>16</th>\n",
              "      <td>16</td>\n",
              "      <td>rojo</td>\n",
              "      <td>0.027027</td>\n",
              "    </tr>\n",
              "    <tr>\n",
              "      <th>17</th>\n",
              "      <td>17</td>\n",
              "      <td>negro</td>\n",
              "      <td>0.027027</td>\n",
              "    </tr>\n",
              "    <tr>\n",
              "      <th>18</th>\n",
              "      <td>18</td>\n",
              "      <td>rojo</td>\n",
              "      <td>0.027027</td>\n",
              "    </tr>\n",
              "    <tr>\n",
              "      <th>19</th>\n",
              "      <td>19</td>\n",
              "      <td>rojo</td>\n",
              "      <td>0.027027</td>\n",
              "    </tr>\n",
              "    <tr>\n",
              "      <th>20</th>\n",
              "      <td>20</td>\n",
              "      <td>negro</td>\n",
              "      <td>0.027027</td>\n",
              "    </tr>\n",
              "    <tr>\n",
              "      <th>21</th>\n",
              "      <td>21</td>\n",
              "      <td>rojo</td>\n",
              "      <td>0.027027</td>\n",
              "    </tr>\n",
              "    <tr>\n",
              "      <th>22</th>\n",
              "      <td>22</td>\n",
              "      <td>negro</td>\n",
              "      <td>0.027027</td>\n",
              "    </tr>\n",
              "    <tr>\n",
              "      <th>23</th>\n",
              "      <td>23</td>\n",
              "      <td>rojo</td>\n",
              "      <td>0.027027</td>\n",
              "    </tr>\n",
              "    <tr>\n",
              "      <th>24</th>\n",
              "      <td>24</td>\n",
              "      <td>negro</td>\n",
              "      <td>0.027027</td>\n",
              "    </tr>\n",
              "    <tr>\n",
              "      <th>25</th>\n",
              "      <td>25</td>\n",
              "      <td>rojo</td>\n",
              "      <td>0.027027</td>\n",
              "    </tr>\n",
              "    <tr>\n",
              "      <th>26</th>\n",
              "      <td>26</td>\n",
              "      <td>negro</td>\n",
              "      <td>0.027027</td>\n",
              "    </tr>\n",
              "    <tr>\n",
              "      <th>27</th>\n",
              "      <td>27</td>\n",
              "      <td>rojo</td>\n",
              "      <td>0.027027</td>\n",
              "    </tr>\n",
              "    <tr>\n",
              "      <th>28</th>\n",
              "      <td>28</td>\n",
              "      <td>negro</td>\n",
              "      <td>0.027027</td>\n",
              "    </tr>\n",
              "    <tr>\n",
              "      <th>29</th>\n",
              "      <td>29</td>\n",
              "      <td>negro</td>\n",
              "      <td>0.027027</td>\n",
              "    </tr>\n",
              "    <tr>\n",
              "      <th>30</th>\n",
              "      <td>30</td>\n",
              "      <td>rojo</td>\n",
              "      <td>0.027027</td>\n",
              "    </tr>\n",
              "    <tr>\n",
              "      <th>31</th>\n",
              "      <td>31</td>\n",
              "      <td>negro</td>\n",
              "      <td>0.027027</td>\n",
              "    </tr>\n",
              "    <tr>\n",
              "      <th>32</th>\n",
              "      <td>32</td>\n",
              "      <td>rojo</td>\n",
              "      <td>0.027027</td>\n",
              "    </tr>\n",
              "    <tr>\n",
              "      <th>33</th>\n",
              "      <td>33</td>\n",
              "      <td>negro</td>\n",
              "      <td>0.027027</td>\n",
              "    </tr>\n",
              "    <tr>\n",
              "      <th>34</th>\n",
              "      <td>34</td>\n",
              "      <td>rojo</td>\n",
              "      <td>0.027027</td>\n",
              "    </tr>\n",
              "    <tr>\n",
              "      <th>35</th>\n",
              "      <td>35</td>\n",
              "      <td>negro</td>\n",
              "      <td>0.027027</td>\n",
              "    </tr>\n",
              "    <tr>\n",
              "      <th>36</th>\n",
              "      <td>36</td>\n",
              "      <td>rojo</td>\n",
              "      <td>0.027027</td>\n",
              "    </tr>\n",
              "  </tbody>\n",
              "</table>\n",
              "</div>"
            ],
            "text/plain": [
              "    numero  color  probabilidad\n",
              "0        0  verde      0.027027\n",
              "1        1   rojo      0.027027\n",
              "2        2  negro      0.027027\n",
              "3        3   rojo      0.027027\n",
              "4        4  negro      0.027027\n",
              "5        5   rojo      0.027027\n",
              "6        6  negro      0.027027\n",
              "7        7   rojo      0.027027\n",
              "8        8  negro      0.027027\n",
              "9        9   rojo      0.027027\n",
              "10      10  negro      0.027027\n",
              "11      11  negro      0.027027\n",
              "12      12   rojo      0.027027\n",
              "13      13  negro      0.027027\n",
              "14      14   rojo      0.027027\n",
              "15      15  negro      0.027027\n",
              "16      16   rojo      0.027027\n",
              "17      17  negro      0.027027\n",
              "18      18   rojo      0.027027\n",
              "19      19   rojo      0.027027\n",
              "20      20  negro      0.027027\n",
              "21      21   rojo      0.027027\n",
              "22      22  negro      0.027027\n",
              "23      23   rojo      0.027027\n",
              "24      24  negro      0.027027\n",
              "25      25   rojo      0.027027\n",
              "26      26  negro      0.027027\n",
              "27      27   rojo      0.027027\n",
              "28      28  negro      0.027027\n",
              "29      29  negro      0.027027\n",
              "30      30   rojo      0.027027\n",
              "31      31  negro      0.027027\n",
              "32      32   rojo      0.027027\n",
              "33      33  negro      0.027027\n",
              "34      34   rojo      0.027027\n",
              "35      35  negro      0.027027\n",
              "36      36   rojo      0.027027"
            ]
          },
          "metadata": {
            "tags": []
          },
          "execution_count": 6
        }
      ]
    },
    {
      "cell_type": "markdown",
      "metadata": {
        "id": "f7MDGIw4uKKw"
      },
      "source": [
        "####prueba_independencia()"
      ]
    },
    {
      "cell_type": "code",
      "metadata": {
        "id": "MOhqmXknhMh2"
      },
      "source": [
        "def prueba_independencia(pA, pB, pAnB):\n",
        "  return round(pA*pB,2) == round(pAnB,2)\n"
      ],
      "execution_count": 7,
      "outputs": []
    },
    {
      "cell_type": "markdown",
      "metadata": {
        "id": "6ml7n_r1uRfx"
      },
      "source": [
        "#### probabilidad_condicional()"
      ]
    },
    {
      "cell_type": "code",
      "metadata": {
        "id": "xO4auzjtpqyX"
      },
      "source": [
        "def probabilidad_condicional(pA, pB, pAnB):\n",
        "  pA_B = round(pAnB / pB, 2)\n",
        "  pB_A = round(pAnB / pA, 2)\n",
        "  print('P(A):', round(pA,2))\n",
        "  print('P(B):', round(pB,2))\n",
        "  print('P(A|B):', pA_B)\n",
        "  print('P(B|A):', pB_A)\n",
        "  return pA_B, pB_A"
      ],
      "execution_count": 8,
      "outputs": []
    },
    {
      "cell_type": "code",
      "metadata": {
        "id": "8D327iIjKLNe",
        "outputId": "5527ebc0-dfdc-42e3-f667-b07bfcb64157",
        "colab": {
          "base_uri": "https://localhost:8080/",
          "height": 34
        }
      },
      "source": [
        "A = ruleta['numero'].isin(range(2,37,2))\n",
        "B = ruleta['color'] == 'negro'\n",
        "\n",
        "p_A = ruleta[A]['probabilidad'].sum()\n",
        "p_B = ruleta[B]['probabilidad'].sum()\n",
        "p_AnB = ruleta[A & B]['probabilidad'].sum()\n",
        "\n",
        "prueba_independencia(p_A, p_B, p_AnB)"
      ],
      "execution_count": 9,
      "outputs": [
        {
          "output_type": "execute_result",
          "data": {
            "text/plain": [
              "False"
            ]
          },
          "metadata": {
            "tags": []
          },
          "execution_count": 9
        }
      ]
    },
    {
      "cell_type": "code",
      "metadata": {
        "id": "fMfxuVZmOS3G",
        "outputId": "83af6acb-7b5d-4e00-9555-774629a047b6",
        "colab": {
          "base_uri": "https://localhost:8080/",
          "height": 84
        }
      },
      "source": [
        "ruleta['color'].value_counts()"
      ],
      "execution_count": 10,
      "outputs": [
        {
          "output_type": "execute_result",
          "data": {
            "text/plain": [
              "rojo     18\n",
              "negro    18\n",
              "verde     1\n",
              "Name: color, dtype: int64"
            ]
          },
          "metadata": {
            "tags": []
          },
          "execution_count": 10
        }
      ]
    },
    {
      "cell_type": "code",
      "metadata": {
        "id": "PTnjqZxlNzWo",
        "outputId": "62d22d3a-c04f-4d39-ec5d-6d2ab18d04f6",
        "colab": {
          "base_uri": "https://localhost:8080/",
          "height": 84
        }
      },
      "source": [
        "pA_B, pB_A = probabilidad_condicional(p_A, p_B, p_AnB)"
      ],
      "execution_count": 11,
      "outputs": [
        {
          "output_type": "stream",
          "text": [
            "P(A): 0.49\n",
            "P(B): 0.49\n",
            "P(A|B): 0.56\n",
            "P(B|A): 0.56\n"
          ],
          "name": "stdout"
        }
      ]
    }
  ]
}