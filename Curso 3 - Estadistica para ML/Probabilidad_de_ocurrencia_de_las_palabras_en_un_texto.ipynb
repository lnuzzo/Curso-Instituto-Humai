{
 "cells": [
  {
   "cell_type": "markdown",
   "metadata": {
    "id": "5z5e4lJNay0z"
   },
   "source": [
    "# Probabilidad de ocurrencia de las palabras en un texto"
   ]
  },
  {
   "cell_type": "code",
   "execution_count": 2,
   "metadata": {
    "id": "vd8naGGErbwV"
   },
   "outputs": [],
   "source": [
    "from collections import Counter\n"
   ]
  },
  {
   "cell_type": "code",
   "execution_count": 33,
   "metadata": {},
   "outputs": [],
   "source": [
    "import matplotlib.pyplot as plt"
   ]
  },
  {
   "cell_type": "code",
   "execution_count": 3,
   "metadata": {
    "id": "L0SnMYliuhU3"
   },
   "outputs": [],
   "source": [
    "def contar_palabras(texto):\n",
    "  texto = texto.lower()\n",
    "  puntuaciones = [\".\", \",\" , \"\\n\", \":\", \";\",'\"', \"'\",\"«\",\"»\",\"-\"]\n",
    "  for p in puntuaciones:\n",
    "    texto = texto.replace(p,\"\")\n",
    "    conteo_palabras = Counter(texto.split())\n",
    "  return conteo_palabras"
   ]
  },
  {
   "cell_type": "code",
   "execution_count": 4,
   "metadata": {
    "colab": {
     "base_uri": "https://localhost:8080/",
     "height": 35
    },
    "id": "dwtIw8xbaxfD",
    "outputId": "637aac74-86d1-498a-d73c-dbff14fd6e43"
   },
   "outputs": [
    {
     "data": {
      "text/plain": [
       "'Esta es una frase frase para tener un ejemplo. Queremos tener la frecuencia de cada una palabras que aparecen en un texto'"
      ]
     },
     "execution_count": 4,
     "metadata": {},
     "output_type": "execute_result"
    }
   ],
   "source": [
    "texto = 'Esta es una frase frase para tener un ejemplo. Queremos tener la frecuencia de cada una palabras que aparecen en un texto'\n",
    "texto"
   ]
  },
  {
   "cell_type": "code",
   "execution_count": 5,
   "metadata": {
    "colab": {
     "base_uri": "https://localhost:8080/",
     "height": 323
    },
    "id": "tgJUbBS6vIlL",
    "outputId": "8b4d9983-4be5-4c9f-d2fa-35800386c4b1"
   },
   "outputs": [
    {
     "data": {
      "text/plain": [
       "Counter({'esta': 1,\n",
       "         'es': 1,\n",
       "         'una': 2,\n",
       "         'frase': 2,\n",
       "         'para': 1,\n",
       "         'tener': 2,\n",
       "         'un': 2,\n",
       "         'ejemplo': 1,\n",
       "         'queremos': 1,\n",
       "         'la': 1,\n",
       "         'frecuencia': 1,\n",
       "         'de': 1,\n",
       "         'cada': 1,\n",
       "         'palabras': 1,\n",
       "         'que': 1,\n",
       "         'aparecen': 1,\n",
       "         'en': 1,\n",
       "         'texto': 1})"
      ]
     },
     "execution_count": 5,
     "metadata": {},
     "output_type": "execute_result"
    }
   ],
   "source": [
    "# Devuelve una subclase de diccionario/collection de palabras con la cantidad de apariciones en la columna de valor\n",
    "palabras = contar_palabras(texto)\n",
    "palabras"
   ]
  },
  {
   "cell_type": "code",
   "execution_count": 6,
   "metadata": {
    "colab": {
     "base_uri": "https://localhost:8080/",
     "height": 34
    },
    "id": "WehzdJFmks6V",
    "outputId": "d8f5a307-5ed2-4872-a44c-5c8811d7c2c4"
   },
   "outputs": [
    {
     "data": {
      "text/plain": [
       "collections.Counter"
      ]
     },
     "execution_count": 6,
     "metadata": {},
     "output_type": "execute_result"
    }
   ],
   "source": [
    "type(palabras)"
   ]
  },
  {
   "cell_type": "code",
   "execution_count": 7,
   "metadata": {
    "colab": {
     "base_uri": "https://localhost:8080/",
     "height": 51
    },
    "id": "pnpOcEWM0VBe",
    "outputId": "57bc016a-e02a-4563-8b26-371f951d73c3"
   },
   "outputs": [
    {
     "name": "stdout",
     "output_type": "stream",
     "text": [
      "Palabras únicas: 18\n",
      "Palabras Totales: 22\n"
     ]
    }
   ],
   "source": [
    "# con len saca el tamaño de diccionario, como tiene claves unicas, devuelve cant. palabra unicas\n",
    "unicas =  len(palabras) \n",
    "# devuelve lista de valores del diccionario, la suma da el total de palabras\n",
    "totales = sum(palabras.values())\n",
    "print('Palabras únicas: {}\\nPalabras Totales: {}'.format(unicas, totales))"
   ]
  },
  {
   "cell_type": "code",
   "execution_count": 8,
   "metadata": {
    "colab": {
     "base_uri": "https://localhost:8080/",
     "height": 34
    },
    "id": "aqiU_BiD4N_n",
    "outputId": "8fe5498b-80c9-4475-ddbc-1701ee653d8e"
   },
   "outputs": [
    {
     "data": {
      "text/plain": [
       "[('una', 2)]"
      ]
     },
     "execution_count": 8,
     "metadata": {},
     "output_type": "execute_result"
    }
   ],
   "source": [
    "# Devuelve el elemento mas comun según su valor\n",
    "palabras.most_common(1)"
   ]
  },
  {
   "cell_type": "code",
   "execution_count": 9,
   "metadata": {
    "colab": {
     "base_uri": "https://localhost:8080/",
     "height": 34
    },
    "id": "rE-v1GeZ5EsB",
    "outputId": "ba2852e4-0837-4236-e6b9-ddbf99c0a62d"
   },
   "outputs": [
    {
     "data": {
      "text/plain": [
       "2"
      ]
     },
     "execution_count": 9,
     "metadata": {},
     "output_type": "execute_result"
    }
   ],
   "source": [
    "palabras['frase']"
   ]
  },
  {
   "cell_type": "code",
   "execution_count": 10,
   "metadata": {
    "colab": {
     "base_uri": "https://localhost:8080/",
     "height": 34
    },
    "id": "klOHFgAj6TYE",
    "outputId": "07746a63-6fdb-46e9-b16d-5512c8ea8c41"
   },
   "outputs": [
    {
     "data": {
      "text/plain": [
       "0.1111111111111111"
      ]
     },
     "execution_count": 10,
     "metadata": {},
     "output_type": "execute_result"
    }
   ],
   "source": [
    "P_frase = palabras['frase'] /len(palabras)\n",
    "P_frase"
   ]
  },
  {
   "cell_type": "markdown",
   "metadata": {
    "id": "kucmtmjGSpUh"
   },
   "source": [
    "# Distribución de la palabras Cien Años de Soledad"
   ]
  },
  {
   "cell_type": "code",
   "execution_count": 11,
   "metadata": {
    "id": "XWx5QtwxSnkB"
   },
   "outputs": [
    {
     "ename": "ModuleNotFoundError",
     "evalue": "No module named 'google'",
     "output_type": "error",
     "traceback": [
      "\u001b[1;31m---------------------------------------------------------------------------\u001b[0m",
      "\u001b[1;31mModuleNotFoundError\u001b[0m                       Traceback (most recent call last)",
      "\u001b[1;32m<ipython-input-11-ee201b91671e>\u001b[0m in \u001b[0;36m<module>\u001b[1;34m\u001b[0m\n\u001b[1;32m----> 1\u001b[1;33m \u001b[1;32mfrom\u001b[0m \u001b[0mgoogle\u001b[0m\u001b[1;33m.\u001b[0m\u001b[0mcolab\u001b[0m \u001b[1;32mimport\u001b[0m \u001b[0mfiles\u001b[0m\u001b[1;33m\u001b[0m\u001b[1;33m\u001b[0m\u001b[0m\n\u001b[0m",
      "\u001b[1;31mModuleNotFoundError\u001b[0m: No module named 'google'"
     ]
    }
   ],
   "source": [
    "# from google.colab import files"
   ]
  },
  {
   "cell_type": "code",
   "execution_count": 12,
   "metadata": {
    "colab": {
     "base_uri": "https://localhost:8080/",
     "height": 109,
     "resources": {
      "http://localhost:8080/nbextensions/google.colab/files.js": {
       "data": "Ly8gQ29weXJpZ2h0IDIwMTcgR29vZ2xlIExMQwovLwovLyBMaWNlbnNlZCB1bmRlciB0aGUgQXBhY2hlIExpY2Vuc2UsIFZlcnNpb24gMi4wICh0aGUgIkxpY2Vuc2UiKTsKLy8geW91IG1heSBub3QgdXNlIHRoaXMgZmlsZSBleGNlcHQgaW4gY29tcGxpYW5jZSB3aXRoIHRoZSBMaWNlbnNlLgovLyBZb3UgbWF5IG9idGFpbiBhIGNvcHkgb2YgdGhlIExpY2Vuc2UgYXQKLy8KLy8gICAgICBodHRwOi8vd3d3LmFwYWNoZS5vcmcvbGljZW5zZXMvTElDRU5TRS0yLjAKLy8KLy8gVW5sZXNzIHJlcXVpcmVkIGJ5IGFwcGxpY2FibGUgbGF3IG9yIGFncmVlZCB0byBpbiB3cml0aW5nLCBzb2Z0d2FyZQovLyBkaXN0cmlidXRlZCB1bmRlciB0aGUgTGljZW5zZSBpcyBkaXN0cmlidXRlZCBvbiBhbiAiQVMgSVMiIEJBU0lTLAovLyBXSVRIT1VUIFdBUlJBTlRJRVMgT1IgQ09ORElUSU9OUyBPRiBBTlkgS0lORCwgZWl0aGVyIGV4cHJlc3Mgb3IgaW1wbGllZC4KLy8gU2VlIHRoZSBMaWNlbnNlIGZvciB0aGUgc3BlY2lmaWMgbGFuZ3VhZ2UgZ292ZXJuaW5nIHBlcm1pc3Npb25zIGFuZAovLyBsaW1pdGF0aW9ucyB1bmRlciB0aGUgTGljZW5zZS4KCi8qKgogKiBAZmlsZW92ZXJ2aWV3IEhlbHBlcnMgZm9yIGdvb2dsZS5jb2xhYiBQeXRob24gbW9kdWxlLgogKi8KKGZ1bmN0aW9uKHNjb3BlKSB7CmZ1bmN0aW9uIHNwYW4odGV4dCwgc3R5bGVBdHRyaWJ1dGVzID0ge30pIHsKICBjb25zdCBlbGVtZW50ID0gZG9jdW1lbnQuY3JlYXRlRWxlbWVudCgnc3BhbicpOwogIGVsZW1lbnQudGV4dENvbnRlbnQgPSB0ZXh0OwogIGZvciAoY29uc3Qga2V5IG9mIE9iamVjdC5rZXlzKHN0eWxlQXR0cmlidXRlcykpIHsKICAgIGVsZW1lbnQuc3R5bGVba2V5XSA9IHN0eWxlQXR0cmlidXRlc1trZXldOwogIH0KICByZXR1cm4gZWxlbWVudDsKfQoKLy8gTWF4IG51bWJlciBvZiBieXRlcyB3aGljaCB3aWxsIGJlIHVwbG9hZGVkIGF0IGEgdGltZS4KY29uc3QgTUFYX1BBWUxPQURfU0laRSA9IDEwMCAqIDEwMjQ7CgpmdW5jdGlvbiBfdXBsb2FkRmlsZXMoaW5wdXRJZCwgb3V0cHV0SWQpIHsKICBjb25zdCBzdGVwcyA9IHVwbG9hZEZpbGVzU3RlcChpbnB1dElkLCBvdXRwdXRJZCk7CiAgY29uc3Qgb3V0cHV0RWxlbWVudCA9IGRvY3VtZW50LmdldEVsZW1lbnRCeUlkKG91dHB1dElkKTsKICAvLyBDYWNoZSBzdGVwcyBvbiB0aGUgb3V0cHV0RWxlbWVudCB0byBtYWtlIGl0IGF2YWlsYWJsZSBmb3IgdGhlIG5leHQgY2FsbAogIC8vIHRvIHVwbG9hZEZpbGVzQ29udGludWUgZnJvbSBQeXRob24uCiAgb3V0cHV0RWxlbWVudC5zdGVwcyA9IHN0ZXBzOwoKICByZXR1cm4gX3VwbG9hZEZpbGVzQ29udGludWUob3V0cHV0SWQpOwp9CgovLyBUaGlzIGlzIHJvdWdobHkgYW4gYXN5bmMgZ2VuZXJhdG9yIChub3Qgc3VwcG9ydGVkIGluIHRoZSBicm93c2VyIHlldCksCi8vIHdoZXJlIHRoZXJlIGFyZSBtdWx0aXBsZSBhc3luY2hyb25vdXMgc3RlcHMgYW5kIHRoZSBQeXRob24gc2lkZSBpcyBnb2luZwovLyB0byBwb2xsIGZvciBjb21wbGV0aW9uIG9mIGVhY2ggc3RlcC4KLy8gVGhpcyB1c2VzIGEgUHJvbWlzZSB0byBibG9jayB0aGUgcHl0aG9uIHNpZGUgb24gY29tcGxldGlvbiBvZiBlYWNoIHN0ZXAsCi8vIHRoZW4gcGFzc2VzIHRoZSByZXN1bHQgb2YgdGhlIHByZXZpb3VzIHN0ZXAgYXMgdGhlIGlucHV0IHRvIHRoZSBuZXh0IHN0ZXAuCmZ1bmN0aW9uIF91cGxvYWRGaWxlc0NvbnRpbnVlKG91dHB1dElkKSB7CiAgY29uc3Qgb3V0cHV0RWxlbWVudCA9IGRvY3VtZW50LmdldEVsZW1lbnRCeUlkKG91dHB1dElkKTsKICBjb25zdCBzdGVwcyA9IG91dHB1dEVsZW1lbnQuc3RlcHM7CgogIGNvbnN0IG5leHQgPSBzdGVwcy5uZXh0KG91dHB1dEVsZW1lbnQubGFzdFByb21pc2VWYWx1ZSk7CiAgcmV0dXJuIFByb21pc2UucmVzb2x2ZShuZXh0LnZhbHVlLnByb21pc2UpLnRoZW4oKHZhbHVlKSA9PiB7CiAgICAvLyBDYWNoZSB0aGUgbGFzdCBwcm9taXNlIHZhbHVlIHRvIG1ha2UgaXQgYXZhaWxhYmxlIHRvIHRoZSBuZXh0CiAgICAvLyBzdGVwIG9mIHRoZSBnZW5lcmF0b3IuCiAgICBvdXRwdXRFbGVtZW50Lmxhc3RQcm9taXNlVmFsdWUgPSB2YWx1ZTsKICAgIHJldHVybiBuZXh0LnZhbHVlLnJlc3BvbnNlOwogIH0pOwp9CgovKioKICogR2VuZXJhdG9yIGZ1bmN0aW9uIHdoaWNoIGlzIGNhbGxlZCBiZXR3ZWVuIGVhY2ggYXN5bmMgc3RlcCBvZiB0aGUgdXBsb2FkCiAqIHByb2Nlc3MuCiAqIEBwYXJhbSB7c3RyaW5nfSBpbnB1dElkIEVsZW1lbnQgSUQgb2YgdGhlIGlucHV0IGZpbGUgcGlja2VyIGVsZW1lbnQuCiAqIEBwYXJhbSB7c3RyaW5nfSBvdXRwdXRJZCBFbGVtZW50IElEIG9mIHRoZSBvdXRwdXQgZGlzcGxheS4KICogQHJldHVybiB7IUl0ZXJhYmxlPCFPYmplY3Q+fSBJdGVyYWJsZSBvZiBuZXh0IHN0ZXBzLgogKi8KZnVuY3Rpb24qIHVwbG9hZEZpbGVzU3RlcChpbnB1dElkLCBvdXRwdXRJZCkgewogIGNvbnN0IGlucHV0RWxlbWVudCA9IGRvY3VtZW50LmdldEVsZW1lbnRCeUlkKGlucHV0SWQpOwogIGlucHV0RWxlbWVudC5kaXNhYmxlZCA9IGZhbHNlOwoKICBjb25zdCBvdXRwdXRFbGVtZW50ID0gZG9jdW1lbnQuZ2V0RWxlbWVudEJ5SWQob3V0cHV0SWQpOwogIG91dHB1dEVsZW1lbnQuaW5uZXJIVE1MID0gJyc7CgogIGNvbnN0IHBpY2tlZFByb21pc2UgPSBuZXcgUHJvbWlzZSgocmVzb2x2ZSkgPT4gewogICAgaW5wdXRFbGVtZW50LmFkZEV2ZW50TGlzdGVuZXIoJ2NoYW5nZScsIChlKSA9PiB7CiAgICAgIHJlc29sdmUoZS50YXJnZXQuZmlsZXMpOwogICAgfSk7CiAgfSk7CgogIGNvbnN0IGNhbmNlbCA9IGRvY3VtZW50LmNyZWF0ZUVsZW1lbnQoJ2J1dHRvbicpOwogIGlucHV0RWxlbWVudC5wYXJlbnRFbGVtZW50LmFwcGVuZENoaWxkKGNhbmNlbCk7CiAgY2FuY2VsLnRleHRDb250ZW50ID0gJ0NhbmNlbCB1cGxvYWQnOwogIGNvbnN0IGNhbmNlbFByb21pc2UgPSBuZXcgUHJvbWlzZSgocmVzb2x2ZSkgPT4gewogICAgY2FuY2VsLm9uY2xpY2sgPSAoKSA9PiB7CiAgICAgIHJlc29sdmUobnVsbCk7CiAgICB9OwogIH0pOwoKICAvLyBXYWl0IGZvciB0aGUgdXNlciB0byBwaWNrIHRoZSBmaWxlcy4KICBjb25zdCBmaWxlcyA9IHlpZWxkIHsKICAgIHByb21pc2U6IFByb21pc2UucmFjZShbcGlja2VkUHJvbWlzZSwgY2FuY2VsUHJvbWlzZV0pLAogICAgcmVzcG9uc2U6IHsKICAgICAgYWN0aW9uOiAnc3RhcnRpbmcnLAogICAgfQogIH07CgogIGNhbmNlbC5yZW1vdmUoKTsKCiAgLy8gRGlzYWJsZSB0aGUgaW5wdXQgZWxlbWVudCBzaW5jZSBmdXJ0aGVyIHBpY2tzIGFyZSBub3QgYWxsb3dlZC4KICBpbnB1dEVsZW1lbnQuZGlzYWJsZWQgPSB0cnVlOwoKICBpZiAoIWZpbGVzKSB7CiAgICByZXR1cm4gewogICAgICByZXNwb25zZTogewogICAgICAgIGFjdGlvbjogJ2NvbXBsZXRlJywKICAgICAgfQogICAgfTsKICB9CgogIGZvciAoY29uc3QgZmlsZSBvZiBmaWxlcykgewogICAgY29uc3QgbGkgPSBkb2N1bWVudC5jcmVhdGVFbGVtZW50KCdsaScpOwogICAgbGkuYXBwZW5kKHNwYW4oZmlsZS5uYW1lLCB7Zm9udFdlaWdodDogJ2JvbGQnfSkpOwogICAgbGkuYXBwZW5kKHNwYW4oCiAgICAgICAgYCgke2ZpbGUudHlwZSB8fCAnbi9hJ30pIC0gJHtmaWxlLnNpemV9IGJ5dGVzLCBgICsKICAgICAgICBgbGFzdCBtb2RpZmllZDogJHsKICAgICAgICAgICAgZmlsZS5sYXN0TW9kaWZpZWREYXRlID8gZmlsZS5sYXN0TW9kaWZpZWREYXRlLnRvTG9jYWxlRGF0ZVN0cmluZygpIDoKICAgICAgICAgICAgICAgICAgICAgICAgICAgICAgICAgICAgJ24vYSd9IC0gYCkpOwogICAgY29uc3QgcGVyY2VudCA9IHNwYW4oJzAlIGRvbmUnKTsKICAgIGxpLmFwcGVuZENoaWxkKHBlcmNlbnQpOwoKICAgIG91dHB1dEVsZW1lbnQuYXBwZW5kQ2hpbGQobGkpOwoKICAgIGNvbnN0IGZpbGVEYXRhUHJvbWlzZSA9IG5ldyBQcm9taXNlKChyZXNvbHZlKSA9PiB7CiAgICAgIGNvbnN0IHJlYWRlciA9IG5ldyBGaWxlUmVhZGVyKCk7CiAgICAgIHJlYWRlci5vbmxvYWQgPSAoZSkgPT4gewogICAgICAgIHJlc29sdmUoZS50YXJnZXQucmVzdWx0KTsKICAgICAgfTsKICAgICAgcmVhZGVyLnJlYWRBc0FycmF5QnVmZmVyKGZpbGUpOwogICAgfSk7CiAgICAvLyBXYWl0IGZvciB0aGUgZGF0YSB0byBiZSByZWFkeS4KICAgIGxldCBmaWxlRGF0YSA9IHlpZWxkIHsKICAgICAgcHJvbWlzZTogZmlsZURhdGFQcm9taXNlLAogICAgICByZXNwb25zZTogewogICAgICAgIGFjdGlvbjogJ2NvbnRpbnVlJywKICAgICAgfQogICAgfTsKCiAgICAvLyBVc2UgYSBjaHVua2VkIHNlbmRpbmcgdG8gYXZvaWQgbWVzc2FnZSBzaXplIGxpbWl0cy4gU2VlIGIvNjIxMTU2NjAuCiAgICBsZXQgcG9zaXRpb24gPSAwOwogICAgd2hpbGUgKHBvc2l0aW9uIDwgZmlsZURhdGEuYnl0ZUxlbmd0aCkgewogICAgICBjb25zdCBsZW5ndGggPSBNYXRoLm1pbihmaWxlRGF0YS5ieXRlTGVuZ3RoIC0gcG9zaXRpb24sIE1BWF9QQVlMT0FEX1NJWkUpOwogICAgICBjb25zdCBjaHVuayA9IG5ldyBVaW50OEFycmF5KGZpbGVEYXRhLCBwb3NpdGlvbiwgbGVuZ3RoKTsKICAgICAgcG9zaXRpb24gKz0gbGVuZ3RoOwoKICAgICAgY29uc3QgYmFzZTY0ID0gYnRvYShTdHJpbmcuZnJvbUNoYXJDb2RlLmFwcGx5KG51bGwsIGNodW5rKSk7CiAgICAgIHlpZWxkIHsKICAgICAgICByZXNwb25zZTogewogICAgICAgICAgYWN0aW9uOiAnYXBwZW5kJywKICAgICAgICAgIGZpbGU6IGZpbGUubmFtZSwKICAgICAgICAgIGRhdGE6IGJhc2U2NCwKICAgICAgICB9LAogICAgICB9OwogICAgICBwZXJjZW50LnRleHRDb250ZW50ID0KICAgICAgICAgIGAke01hdGgucm91bmQoKHBvc2l0aW9uIC8gZmlsZURhdGEuYnl0ZUxlbmd0aCkgKiAxMDApfSUgZG9uZWA7CiAgICB9CiAgfQoKICAvLyBBbGwgZG9uZS4KICB5aWVsZCB7CiAgICByZXNwb25zZTogewogICAgICBhY3Rpb246ICdjb21wbGV0ZScsCiAgICB9CiAgfTsKfQoKc2NvcGUuZ29vZ2xlID0gc2NvcGUuZ29vZ2xlIHx8IHt9OwpzY29wZS5nb29nbGUuY29sYWIgPSBzY29wZS5nb29nbGUuY29sYWIgfHwge307CnNjb3BlLmdvb2dsZS5jb2xhYi5fZmlsZXMgPSB7CiAgX3VwbG9hZEZpbGVzLAogIF91cGxvYWRGaWxlc0NvbnRpbnVlLAp9Owp9KShzZWxmKTsK",
       "headers": [
        [
         "content-type",
         "application/javascript"
        ]
       ],
       "ok": true,
       "status": 200,
       "status_text": ""
      }
     }
    },
    "id": "c_FckpxMS-Ud",
    "outputId": "81254a35-4843-4d1e-d559-f6a1b5d3ac6c"
   },
   "outputs": [
    {
     "ename": "NameError",
     "evalue": "name 'files' is not defined",
     "output_type": "error",
     "traceback": [
      "\u001b[1;31m---------------------------------------------------------------------------\u001b[0m",
      "\u001b[1;31mNameError\u001b[0m                                 Traceback (most recent call last)",
      "\u001b[1;32m<ipython-input-12-63b259460c61>\u001b[0m in \u001b[0;36m<module>\u001b[1;34m\u001b[0m\n\u001b[1;32m----> 1\u001b[1;33m \u001b[0mfiles\u001b[0m\u001b[1;33m.\u001b[0m\u001b[0mupload\u001b[0m\u001b[1;33m(\u001b[0m\u001b[1;33m)\u001b[0m\u001b[1;33m\u001b[0m\u001b[1;33m\u001b[0m\u001b[0m\n\u001b[0m",
      "\u001b[1;31mNameError\u001b[0m: name 'files' is not defined"
     ]
    }
   ],
   "source": [
    "# files.upload()"
   ]
  },
  {
   "cell_type": "code",
   "execution_count": 14,
   "metadata": {
    "id": "Mq83Lpi8ycOn"
   },
   "outputs": [],
   "source": [
    "def leer_libro(archivo_txt):\n",
    "  with open(archivo_txt, \"r\", encoding=\"utf8\") as f:\n",
    "    texto = f.read()\n",
    "    texto = texto.replace(\"\\n\", \"\").replace(\"\\r\", \"\") \n",
    "  return texto"
   ]
  },
  {
   "cell_type": "code",
   "execution_count": 17,
   "metadata": {
    "colab": {
     "base_uri": "https://localhost:8080/",
     "height": 120
    },
    "id": "eo1bC6GETJPS",
    "outputId": "54a20e68-034a-49bb-b09a-2474fa6e00ab"
   },
   "outputs": [
    {
     "data": {
      "text/plain": [
       "'Gabriel García Márquez Cien años de soledad EDITADO POR \"EDICIONES LA CUEVA\" Para J omi García Ascot y María Luisa Elio Cien años de soledad Gabriel García Márquez Muchos años después, frente al pelotón de fusilamiento, el coronel Aureliano Buendía había de recordar aquella tarde remota en que su padre lo llevó a conocer el hielo. Macondo era entonces una aldea de veinte casas de barro y cañabrava construidas a la orilla de un río de aguas diáfanas que se precipitaban por un lecho de piedras pulidas, blancas y enormes como huevos prehistóricos. El mundo era tan reciente, que muchas cosas carecían de nombre, y para mencionarlas había que señalarías con el dedo. Todos los años, por el mes de marzo, una familia de gitanos desarrapados plantaba su carpa cerca de la aldea, y con un grande alboroto de pitos y timbales daban a conocer los nuevos inventos. Primero llevaron el imán. Un gitano corpulento, de barba montaraz y manos de gorrión, que se presentó con el nombre de Melquíades, hizo una truculenta demostración pública de lo que él mismo llamaba la octava maravilla de los sabios alquimistas de Macedonia. Fue de casa en casa arrastrando dos lingotes metálicos, y todo el mundo se espantó al ver que los calderos, las pailas, las tenazas y los anafes se caían de su sitio, y las maderas crujían por la desesperación de los clavos y los tornillos tratando de desenclavarse, y aun los objetos perdidos desde hacía mucho tiempo aparecían por donde más se les había buscado, y se arrastraban en desbandada turbulenta detrás de los fierros mágicos de Melquíades. «Las cosas, tienen vida propia -pregonaba el gitano con áspero acento-, todo es cuestión de despertarles el ánima.» José Arcadio Buendía, cuya desaforada imaginación iba siempre más lejos que el ingenio de la naturaleza, y aun más allá del milagro y la magia, pensó que era posible servirse de aquella invención inútil para desentrañar el oro de la tierra. Melquíades, que era un hombre honrado, le previno: «Para eso no sirve.» Pero José Arcadio Buendía no creía en aquel tiempo en la honradez de los gitanos, así que cambió su mulo y una partida de chivos por los dos lingotes imantados. Úrsula I guaran, su mujer, que contaba con aquellos animales para ensanchar el desmedrado patrimonio doméstico, no consiguió disuadirlo. «Muy pronto ha de sobrarnos oro para empedrar la casa», replicó su marido. Durante varios meses se empeñó en demostrar el acierto de sus conjeturas. Exploró palmo a palmo la región, inclusive el fondo del río, arrastrando los dos lingotes de hierro y recitando en voz alta el conjuro de Melquíades. Lo único que logró desenterrar fue una armadura del siglo xv con todas sus partes soldadas por un cascote de óxido, cuyo interior tenía la resonancia hueca de un enorme calabazo lleno de piedras. Cuando José Arcadio Buendía y los cuatro hombres de su expedición lograron desarticular la armadura, encontraron dentro un esqueleto calcificado que llevaba colgado en el cuello un relicario de cobre con un rizo de mujer. En marzo volvieron los gitanos. Esta vez llevaban un catalejo y una lupa del tamaño de un tambor, que exhibieron como el último descubrimiento de los judíos de Amsterdam. Sentaron una gitana en un extremo de la aldea e instalaron el catalejo a la entrada de la carpa. Mediante el pago de cinco reales, la gente se asomaba al catalejo y veía a la gitana al alcance de su mano. «La ciencia ha eliminado las distancias», pregonaba Melquíades. «Dentro de poco, el hombre podrá ver lo que ocurre en cualquier lugar de la tierra, sin moverse de su casa.» Un mediodía ardiente hicieron una asombrosa demostración con la lupa gigantesca: pusieron un montón de hierba seca en mitad de la calle y le prendieron fuego mediante la concentración de los rayos solares. José Arcadio Buendía, que aún no acababa de consolarse por el fracaso de sus imanes, concibió la idea de utilizar aquel invento como un arma de guerra. Melquíades, otra vez, trató de disuadirlo. Pero terminó por aceptar los dos lingotes imantados y tres piezas de dinero colonial a cambio de la lupa. Úrsula lloró de consternación. Aquel dinero formaba parte de un cofre de monedas de oro que su padre había acumulado en toda una vida de privaciones, y que ella había enterrado debajo de la cama en espera de una buena ocasión para invertirías. José Arcadio Buendía no trató siquiera de consolarla, entregado por entero a sus experimentos tácticos con la abnegación de un científico y aun a riesgo de su propia vida. Tratando de demostrar los efectos de la lupa en la tropa enemiga, se expuso él mismo a la concentración de los rayos solares y sufrió quemaduras que se convirtieron en úlceras y tardaron mucho tiempo en sanar. Ante las protestas de su mujer, alarmada por tan peligrosa inventiva, estuvo a punto de incendiar la casa. Pasaba largas horas en su cuarto, haciendo cálculos sobre las posibilidades estratégicas de su arma novedosa, hasta que logró componer un manual de una asombrosa claridad didáctica y un Cien años de soledad Gabriel García Márquez poder de convicción irresistible. Lo envió a las autoridades acompañado de numerosos testimonios sobre sus experiencias y de varios pliegos de dibujos explicativos, al cuidado de un mensajero que atravesó la sierra, y se extravió en pantanos desmesurados, remontó ríos tormentosos y estuvo a punto de perecer bajo el azote de las fieras, la desesperación y la peste, antes de conseguir una ruta de enlace con las muías del correo. A pesar de que el viaje a la capital era en aquel tiempo poco menos que imposible, José Arcadio Buendia prometía intentarlo tan pronto como se lo ordenara el gobierno, con el fin de hacer demostraciones prácticas de su invento ante los poderes militares, y adiestrarlos personalmente en las complicadas artes de la guerra solar. Durante varios años esperó la respuesta. Por último, cansado de esperar, se lamentó ante Melquíades del fracaso de su iniciativa, y el gitano dio entonces una prueba convincente de honradez: le devolvió los doblones a cambio de la lupa, y le dejó además unos mapas portugueses y varios instrumentos de navegación. De su puño y letra escribió una apretada síntesis de los estudios del monje Hermann, que dejó a su disposición para que pudiera servirse del astrolabio, la brújula y el sextante. José Arcadio Buendia pasó los largos meses de lluvia encerrado en un cuartito que construyó en el fondo de la casa para que nadie perturbara sus experimentos. Habiendo abandonado por completo las obligaciones domésticas, permaneció noches enteras en el patio vigilando el curso de los astros, y estuvo a punto de contraer una insolación por tratar de establecer un método exacto para encontrar el mediodía. Cuando se hizo experto en el uso y manejo de sus instrumentos, tuvo una noción del espacio que le permitió navegar por mares incógnitos, visitar territorios deshabitados y trabar relación con seres espléndidos, sin necesidad de abandonar su gabinete. Fue ésa la época en que adquirió el hábito de hablar a solas, paseándose por la casa sin hacer caso de nadie, mientras Úrsula y los niños se partían el espinazo en la huerta cuidando el plátano y la malanga, la yuca y el ñame, la ahuyama y la berenjena. De pronto, sin ningún anuncio, su actividad febril se interrumpió y fue sustituida por una especie de fascinación. Estuvo varios días como hechizado, repitiéndose a sí mismo en voz baja un sartal de asombrosas conjeturas, sin dar crédito a su propio entendimiento. Por fin, un martes de diciembre, a la hora del almuerzo, soltó de un golpe toda la carga de su tormento. Los niños habían de recordar por el resto de su vida la augusta solemnidad con que su padre se sentó a la cabecera de la mesa, temblando de fiebre, devastado por la prolongada vigilia y por el encono de su imaginación, y les reveló su descubrimiento. -La tierra es redonda como una naranja. Úrsula perdió la paciencia. «Si has de volverte loco, vuélvete tú solo -gritó-. Pero no trates de inculcar a los niños tus ideas de gitano.» José Arcadio Buendia, impasible, no se dejó amedrentar por la desesperación de su mujer, que en un rapto de cólera le destrozó el astrolabio contra el suelo. Construyó otro, reunió en el cuartito a los hombres del pueblo y les demostró, con teorías que para todos resultaban incomprensibles, la posibilidad de regresar al punto de partida navegando siempre hacia el Oriente. Toda la aldea estaba convencida de que José Arcadio Buendia había perdido el juicio, cuando llegó Melquíades a poner las cosas en su punto. Exaltó en público la inteligencia de aquel hombre que por pura especulación astronómica había construido una teoría ya comprobada en la práctica, aunque desconocida hasta entonces en Macondo, y como una prueba de su admiración le hizo un regalo que había de ejercer una influencia terminante en el futuro de la aldea: un laboratorio de alquimia. Para esa época, Melquíades había envejecido con una rapidez asombrosa. En sus primeros viajes parecía tener la misma edad de José Arcadio Buendia. Pero mientras éste conservaba su fuerza descomunal, que le permitía derribar un caballo agarrándolo por las orejas, el gitano parecía estragado por una dolencia tenaz. Era, en realidad, el resultado de múltiples y raras enfermedades contraídas en sus incontables viajes alrededor del mundo. Según él mismo le contó a José Arcadio Buendia mientras lo ayudaba a montar el laboratorio, la muerte lo seguía a todas partes, husmeándole los pantalones, pero sin decidirse a darle el zarpazo final. Era un fugitivo de cuantas plagas y catástrofes habían flagelado al género humano. Sobrevivió a la pelagra en Persia, al escorbuto en el archipiélago de Malasia, a la lepra en Alejandría, al beriberi en el Japón, a la peste bubónica en Madagascar, al terremoto de Sicilia y a un naufragio multitudinario en el estrecho de Magallanes. Aquel ser prodigioso que decía poseer las claves de Nostradamus, era un hombre lúgubre, envuelto en un aura triste, con una mirada asiática que parecía conocer el otro lado de las cosas. Usaba un sombrero grande y negro, como las alas extendidas de un cuervo, y un chaleco de terciopelo patinado por el verdín de los siglos. Pero a pesar de su inmensa sabiduría y de su ámbito misterioso, tenía un peso humano, una condición terrestre que lo Cien años de soledad Gabriel García Márquez mantenía enredado en los minúsculos problemas de la vida cotidiana. Se quejaba de dolencias de viejo, sufría por los más insignificantes percances económicos y había dejado de reír desde hacía mucho tiempo, porque el escorbuto le había arrancado los dientes. El sofocante mediodía en que reveló sus secretos, José Arcadio Buendía tuvo la certidumbre de que aquél era el principio de una grande amistad. Los niños se asombraron con sus relatos fantásticos. Aureliano, que no tenía entonces más de cinco años, había de recordarlo por el resto de su vida como lo vio aquella tarde, sentado contra la claridad metálica y reverberante de la ventana, alumbrando con su pro- funda voz de órgano los territorios más oscuros de la imaginación, mientras chorreaba por sus sienes la grasa derretida por el calor. José Arcadio, su hermano mayor, había de transmitir aquella imagen maravillosa, como un recuerdo hereditario, a toda su descendencia. Úrsula, en cambio, conservó un mal recuerdo de aquella visita, porque entró al cuarto en el momento en que Melquíades rompió por distracción un frasco de bicloruro de mercurio. -Es el olor del demonio -dijo ella. -En absoluto -corrigió Melquíades-. Está comprobado que el demonio tiene propiedades sulfúricas, y esto no es más que un poco de solimán. Siempre didáctico, hizo una sabia exposición sobre las virtudes diabólicas del cinabrio, pero Úrsula no le hizo caso, sino que se llevó los niños a rezar. Aquel olor mordiente quedaría para siempre en su memoria, vinculado al recuerdo de Melquíades. El rudimentario laboratorio -sin contar una profusión de cazuelas, embudos, retortas, filtros y coladores- estaba compuesto por un atanor primitivo; una probeta de cristal de cuello largo y angosto, imitación del huevo filosófico, y un destilador construido por los propios gitanos según las descripciones modernas del alambique de tres brazos de María la judía. Además de estas cosas, Melquíades dejó muestras de los siete metales correspondientes a los siete planetas, las fórmulas de Moisés y Zósimo para el doblado del oro, y una serie de apuntes y dibujos sobre los procesos del Gran Magisterio, que permitían a quien supiera interpretarlos intentar la fabricación de la piedra filosofal. Seducido por la simplicidad de las fórmulas para doblar el oro, José Arcadio Buendía cortejó a Úrsula durante varias semanas, para que le permitiera desenterrar sus monedas coloniales y aumentarlas tantas veces como era posible subdividir el azogue. Úrsula cedió, como ocurría siempre, ante la inquebrantable obstinación de su marido. Entonces José Arcadio Buendía echó treinta doblones en una cazuela, y los fundió con raspadura de cobre, oropimente, azufre y plomo. Puso a hervir todo a fuego vivo en un caldero de aceite de ricino hasta obtener un jarabe espeso y pestilente más parecido al caramelo vulgar que al oro magnífico. En azarosos y desesperados procesos de destilación, fundida con los siete metales planetarios, trabajada con el mercurio hermético y el vitriolo de Chipre, y vuelta a cocer en manteca de cerdo a falta de aceite de rábano, la preciosa herencia de Úrsula quedó reducida a un chicharrón carbonizado que no pudo ser desprendido del fondo del caldero. Cuando volvieron los gitanos, Úrsula había predispuesto contra ellos a toda la población. Pero la curiosidad pudo más que el temor, porque aquella vez los gitanos recorrieron la aldea haciendo un ruido ensordecedor con toda clase de instrumentos músicos, mientras el pregonero anunciaba la exhibición del más fabuloso hallazgo de los nasciancenos. De modo que todo el mundo se fue a la carpa, y mediante el pago de un centavo vieron un Melquíades juvenil, repuesto, desarrugado, con una dentadura nueva y radiante. Quienes recordaban sus encías destruidas por el escorbuto, sus mejillas flaccidas y sus labios marchitos, se estremecieron de pavor ante aquella prueba terminante de los poderes sobrenaturales del gitano. El pavor se convirtió en pánico cuando Melquíades se sacó los dientes, intactos, engastados en las encías, y se los mostró al público por un instante un instante fugaz en que volvió a ser el mismo hombre decrépito de los años anteriores y se los puso otra vez y sonrió de nuevo con un dominio pleno de su juventud restaurada. Hasta el propio José Arcadio Buendía consideró que los conocimientos de Melquíades habían llegado a extremos intolerables, pero experimentó un saludable alborozo cuando el gitano le explicó a solas el mecanismo de su dentadura postiza. Aquello le pareció a la vez tan sencillo y prodigioso, que de la noche a la mañana perdió todo interés en las investigaciones de alquimia; sufrió una nueva crisis de mal humor, no volvió a comer en forma regular y se pasaba el día dando vueltas por la casa. «En el mundo están ocurriendo cosas increíbles -le decía a Úrsula-. Ahí mismo, al otro lado del río, hay toda clase de aparatos mágicos, mientras nosotros seguimos viviendo como los burros.» Quienes lo conocían desde los tiempos de la fundación de Macondo, se asombraban de cuánto había cambiado bajo la influencia de Melquíades. Cien años de soledad Gabriel García Márquez Al principio, José Arcadio Buendía era una especie de patriarca juvenil, que daba instrucciones para la siembra y consejos para la crianza de niños y animales, y colaboraba con todos, aun en el trabajo físico, para la buena marcha de la comunidad. Puesto que su casa fue desde el primer momento la mejor de la aldea, las otras fueron arregladas a su imagen y semejanza. Tenía una salita amplia y bien iluminada, un comedor en forma de terraza con flores de colores alegres, dos dormitorios, un patio con un castaño gigantesco, un huerto bien plantado y un corral donde vivían en comunidad pacífica los chivos, los cerdos y las gallinas. Los únicos animales prohibidos no sólo en la casa, sino en todo el poblado, eran los gallos de pelea. La laboriosidad de Úrsula andaba a la par con la de su marido. Activa, menuda, severa, aquella mujer de nervios inquebrantables, a quien en ningún momento de su vida se la oyó cantar, parecía estar en todas partes desde el amanecer hasta muy entrada la noche, siempre perseguida por el suave susurro de sus pollerines de olán. Gracias a ella, los pisos de tierra golpeada, los muros de barro sin encalar, los rústicos muebles de madera construidos por ellos mismos estaban siempre limpios, y los viejos arcones donde se guardaba la ropa exhalaban un tibio olor de albahaca. José Arcadio Buendía, que era el hombre más emprendedor que se vería jamás en la aldea, había dispuesto de tal modo la posición de las casas, que desde todas podía llegarse al río y abastecerse de agua con igual esfuerzo, y trazó las calles con tan buen sentido que ninguna casa recibía más sol que otra a la hora del calor. En pocos años, Macondo fue una aldea más ordenada y laboriosa que cualquiera de las conocidas hasta entonces por sus 300 habitantes. Era en verdad una aldea feliz, donde nadie era mayor de treinta años y donde nadie había muerto. Desde los tiempos de la fundación, José Arcadio Buendía construyó trampas y jaulas. En poco tiempo llenó de turpiales, canarios, azulejos y petirrojos no sólo la propia casa, sino todas las de la aldea. El concierto de tantos pájaros distintos llegó a ser tan aturdidor, que Úrsula se tapó los oídos con cera de abejas para no perder el sentido de la realidad. La primera vez que llegó la tribu de Melquíades vendiendo bolas de vidrio para el dolor de cabeza, todo el mundo se sorprendió de que hubieran podido encontrar aquella aldea perdida en el sopor de la ciénaga, y los gitanos confesaron que se habían orientado por el canto de los pájaros. Aquel espíritu de iniciativa social desapareció en poco tiempo, arrastrado por la fiebre de los imanes, los cálculos astronómicos, los sueños de trasmutación y las ansias de conocer las maravillas del mundo. De emprendedor y limpio, José Arcadio Buendía se convirtió en un hombre de aspecto holgazán, descuidado en el vestir, con una barba salvaje que Úrsula lograba cuadrar a duras penas con un cuchillo de cocina. No faltó quien lo considerara víctima de algún extraño sortilegio. Pero hasta los más convencidos de su locura abandonaron trabajo y familias para seguirlo, cuando se echó al hombro sus herramientas de desmontar, y pidió el concurso de todos para abrir una trocha que pusiera a Macondo en contacto con los graneles inventos. José Arcadio Buendía ignoraba por completo la geografía de la región. Sabía que hacia el Oriente estaba la sierra impenetrable, y al otro lado de la sierra la antigua ciudad de Riohacha, donde en épocas pasadas -según le había contado el primer Aureliano Buendía, su abuelo- sir Francis Drake se daba al deporte de cazar caimanes a cañonazos, que luego hacía remendar y rellenar de paja para llevárselos a la reina Isabel. En su juventud, él y sus hombres, con mujeres y niños y animales y toda clase de enseres domésticos, atravesaron la sierra buscando una salida al mar, y al cabo de veintiséis meses desistieron de la empresa y fundaron a Macondo para no tener que emprender el camino de regreso. Era, pues, una ruta que no le interesaba, porque sólo podía conducirlo al pasado. Al sur estaban los pantanos, cubiertos de una eterna nata vegetal, y el vasto universo de la ciénaga grande, que según testimonio de los gitanos carecía de límites. La ciénaga grande se confundía al Occidente con una extensión acuática sin horizontes, donde había cetáceos de piel delicada con cabeza y torso de mujer, que perdían a los navegantes con el hechizo de sus tetas descomunales. Los gitanos navegaban seis meses por esa ruta antes de alcanzar el cinturón de tierra firme por donde pasaban las muías del correo. De acuerdo con los cálculos de José Arcadio Buendía, la única posibilidad de contacto con la civilización era la ruta del Norte. De modo que dotó de herramientas de desmonte y armas de cacería a los mismos hombres que lo acompañaron en la fundación de Macondo; echó en una mochila sus instrumentos de orientación y sus mapas, y emprendió la temeraria aventura. Los primeros días no encontraron un obstáculo apreciable. Descendieron por la pedregosa ribera del río hasta el lugar en que años antes habían encontrado la armadura del guerrero, y allí penetraron al bosque por un sendero de naranjos silvestres. Al término de la primera semana, Cien años de soledad Gabriel García Márquez mataron y asaron un venado, pero se conformaron con comer la mitad y salar el resto para los próximos días. Trataban de aplazar con esa precaución la necesidad de seguir comiendo guacamayas, cuya carne azul tenía un áspero sabor de almizcle. Luego, durante más de diez días, no volvieron a ver el sol. El suelo se volvió blando y húmedo, como ceniza volcánica, y la vegetación fue cada vez más insidiosa y se hicieron cada vez más lejanos los gritos de los pájaros y la bullaranga de los monos, y el mundo se volvió triste para siempre. Los hombres de la expedición se sintieron abrumados por sus recuerdos más antiguos en aquel paraíso de humedad y silencio, anterior al pecado original, donde las botas se hundían en pozos de aceites humeantes y los machetes destrozaban lirios sangrientos y salamandras doradas. Durante una semana, casi sin hablar, avanzaron como sonámbulos por un universo de pesadumbre, alumbrados apenas por una tenue reverberación de insectos luminosos y con los pulmones agobiados por un sofocante olor de sangre. No podían regresar, porque la trocha que iban abriendo a su paso se volvía a cerrar en poco tiempo, con una vegetación nueva que casi veían crecer ante sus ojos. «No importa -decía José Arcadio Buendía-. Lo esencial es no perder la orientación.» Siempre pendiente de la brújula, siguió guiando a sus hombres hacia el norte invisible, hasta que lograron salir de la región encantada. Era una noche densa, sin estrellas, pero la oscuridad estaba impregnada por un aire nuevo y limpio. Agotados por la prolongada travesía, colgaron las hamacas y durmieron a fondo por primera vez en dos semanas. Cuando despertaron, ya con el sol alto, se quedaron pasmados de fascinación. Frente a ellos, rodeado de heléchos y palmeras, blanco y polvoriento en la silenciosa luz de la mañana, estaba un enorme galeón español. Ligeramente volteado a estribor, de su arboladura intacta colgaban las piltrafas escuálidas del velamen, entre jarcias adornadas de orquídeas. El casco, cubierto con una tersa coraza de remora petrificada y musgo tierno, estaba firmemente enclavado en un suelo de piedras. Toda la estructura parecía ocupar un ámbito propio, un espacio de soledad y de olvido, vedado a los vicios del tiempo y a las costumbres de los pájaros. En el interior, que los expedicionarios exploraron con un fervor sigiloso, no había nada más que un apretado bosque de flores. El hallazgo del galeón, indicio de la proximidad del mar, quebrantó el ímpetu de José Arcadio Buendía. Consideraba como una burla de su travieso destino haber buscado el mar sin en- contrarlo, al precio de sacrificios y penalidades sin cuento, y haberlo encontrado entonces sin buscarlo, atravesado en su camino como un obstáculo insalvable. Muchos años después, el coronel Aureliano Buendía volvió a travesar la región, cuando era ya una ruta regular del correo, y lo único que encontró de la nave fue el costillar carbonizado en medio de un campo de amapolas. Sólo entonces convencido de que aquella historia no había sido un engendro de la imaginación de su padre, se preguntó cómo había podido el galeón adentrarse hasta ese punto en tierra firme. Pero José Arcadio Buendía no se planteó esa inquietud cuando encontró el mar, al cabo de otros cuatro días de viaje, a doce kilómetros de distancia del galeón. Sus sueños terminaban frente a ese mar color de ceniza, espumoso y sucio, que no merecía los riesgos y sacrificios de su aventura. -iCarajo! -gritó-. Macondo está rodeado de agua por todas partes. La idea de un Macondo peninsular prevaleció durante mucho tiempo, inspirada en el mapa arbitrario que dibujó José Arcadio Buendía al regreso de su expedición. Lo trazó con rabia, exa- gerando de mala fe las dificultades de comunicación, como para castigarse a sí mismo por la absoluta falta de sentido con que eligió el lugar. «Nunca llegaremos a ninguna parte -se la- mentaba ante Úrsula-. Aquí nos hemos de pudrir en vida sin recibir los beneficios de la ciencia.» Esa certidumbre, rumiada varios meses en el cuartito del laboratorio, lo llevó a concebir el proyecto de trasladar a Macondo a un lugar más propicio. Pero esta vez, Úrsula se anticipó a sus designios febriles. En una secreta e implacable labor de hormiguita predispuso a las mujeres de la aldea contra la veleidad de sus hombres, que ya empezaban a prepararse para la mudanza. José Arcadio Buendía no supo en qué momento, ni en virtud de qué fuerzas adversas, sus planes se fueron enredando en una maraña de pretextos, contratiempos y evasivas, hasta convertirse en pura y simple ilusión. Úrsula lo observó con una atención inocente, y hasta sintió por él un poco de piedad, la mañana en que lo encontró en el cuartito del fondo comentando entre dientes sus sueños de mudanza, mientras colocaba en sus cajas originales las piezas del laboratorio. Lo dejó terminar. Lo dejó clavar las cajas y poner sus iniciales encima con un hisopo entintado, sin ha- cerle ningún reproche, pero sabiendo ya que él sabía (porque se lo oyó decir en sus sordos monólogos) que los hombres del pueblo no lo secundarían en su empresa. Sólo cuando empezó a Cien años de soledad Gabriel García Márquez desmontar la puerta del cuartito, Úrsula se atrevió a preguntarle por qué lo hacía, y él le contestó con una cierta amargura: «Puesto que nadie quiere irse, nos iremos solos.» Úrsula no se alteró. -No nos iremos -dijo-. Aquí nos quedamos, porque aquí hemos tenido un hijo. -Todavía no tenemos un muerto -dijo él-. Uno no es de ninguna parte mientras no tenga un muerto bajo la tierra. Úrsula replicó, con una suave firmeza: -Si es necesario que yo me muera para que se queden aquí, me muero. José Arcadio Buendía no creyó que fuera tan rígida la voluntad de su mujer. Trató de seducirla con el hechizo de su fantasía, con la promesa de un mundo prodigioso donde bastaba con echar unos líquidos mágicos en la tierra para que las plantas dieran frutos a voluntad del hombre, y donde se vendían a precio de baratillo toda clase de aparatos para el dolor. Pero Úrsula fue insensible a su clarividencia. -En vez de andar pensando en tus alocadas novelerías, debes ocuparte de tus hijos -replicó-. Míralos cómo están, abandonados a la buena de Dios, igual que los burros. José Arcadio Buendía tomó al pie de la letra las palabras de su mujer. Miró a través de la ventana y vio a los dos niños descalzos en la huerta soleada, y tuvo la impresión de que sólo en aquel instante habían empezado a existir, concebidos por el conjuro de Úrsula. Algo ocurrió entonces en su interior; algo misterioso y definitivo que lo desarraigó de su tiempo actual y lo llevó a la deriva por una región inexplorada de los re cuerdos. Mientras Úrsula seguía barriendo la casa que ahora estaba segura de no abandonar en el resto de su vida él permaneció contemplando a los niños con mirada absorta hasta que los ojos se le humedecieron y se los secó con el dorso de la mano, y exhaló un hondo suspiro de resignación. -Bueno -dijo-. Diles que vengan a ayudarme a sacar las cosas de los cajones. José Arcadio, el mayor de los niños, había cumplido catorce años. Tenía la cabeza cuadrada, el pelo hirsuto y el carácter voluntarioso de su padre. Aunque llevaba el mismo impulso de crecimiento y fortaleza física, ya desde entonces era evidente que carecía de imaginación. Fue concebido y dado a luz durante la penosa travesía de la sierra, antes de la fundación de Macondo, y sus padres dieron gracias al cielo al comprobar que no tenía ningún órgano de animal. Aureliano, el primer ser humano que nació en Macondo, iba a cumplir seis años en marzo. Era silencioso y retraído. Había llorado en el vientre de su madre y nació con los ojos abiertos. Mientras le cortaban el ombligo movía la cabeza de un lado a otro reconociendo las cosas del cuarto, y examinaba el rostro de la gente con una curiosidad sin asombro. Luego, indiferente a quienes se acercaban a conocerlo, mantuvo la atención concentrada en el techo de palma, que parecía a punto de derrumbarse bajo la tremenda presión de la lluvia. Úrsula no volvió a acordarse de la intensidad de esa mirada hasta un día en que el pequeño Aureliano, a la edad de tres años, entró a la cocina en el momento en que ella retiraba del fogón y ponía en la mesa una olla de caldo hirviendo. El niño, perplejo en la puerta, dijo: «Se va a caer.» La olla estaba bien puesta en el centro de la mesa, pero tan pronto como el niño hizo el anuncio, inició un movimiento irrevocable hacia el borde, como impulsada por un dinamismo interior, y se despedazó en el suelo. Úrsula, alarmada, le contó el episodio a su marido, pero éste lo interpretó como un fenómeno natural. Así fue siempre, ajeno a la existencia de sus hijos, en parte porque consideraba la infancia como un período de insuficiencia mental, y en parte porque siempre estaba demasiado absorto en sus propias especulaciones quiméricas. Pero desde la tarde en que llamó a los niños para que lo ayudaran a desempacar las cosas del laboratorio, les dedicó sus horas mejores. En el cuartito apartado, cuyas paredes se fueron llenando poco a poco de mapas inverosímiles y gráficos fabulosos, les enseñó a leer y escribir y a sacar cuentas, y les habló de las maravillas del mundo no sólo hasta donde le alcanzaban sus conocimientos, sino forzando a extremos increíbles los límites de su imaginación. Fue así como los niños terminaron por aprender que en el extremo meridional del África había hombres tan inteligentes y pacíficos que su único entretenimiento era sentarse a pensar, y que era posible atravesar a pie el mar Egeo saltando de isla en isla hasta el puerto de Salónica. Aquellas alucinantes sesiones quedaron de tal modo impresas en la memoria de los niños, que muchos años más tarde, un segundo antes de que el oficial de los ejércitos regulares diera la orden de fuego al pelotón de fusilamiento, el coronel Aureliano Buendía volvió a vivir la tibia tarde de marzo en que su padre interrumpió la lección de física, y se quedó fascinado, con la mano en el aire y los ojos inmóviles, oyendo a la distancia los pífanos y tambores y sonajas de los gitanos Cien años de soledad Gabriel García Márquez que una vez más llegaban a la aldea, pregonando el último y asombroso descubrimiento de los sabios de Memphis. Eran gitanos nuevos. Hombres y mujeres jóvenes que sólo conocían su propia lengua, ejemplares hermosos de piel aceitada y manos inteligentes, cuyos bailes y músicas sembraron en las calles un pánico de alborotada alegría, con sus loros pintados de todos los colores que recitaban romanzas italianas, y la gallina que ponía un centenar de huevos de oro al son de la pandereta, y el mono amaestrado que adivinaba el pensamiento, y la máquina múltiple que servía al mismo tiempo para pegar botones y bajar la fiebre, y el aparato para olvidar los malos recuerdos, y el emplasto para perder el tiempo, y un millar de invenciones más, tan ingeniosas e insólitas, que José Arcadio Buendía hubiera querido inventar la máquina de la memoria para poder acordarse de todas. En un instante transformaron la aldea. Los habitantes de Macondo se encontraron de pronto perdidos en sus propias calles, aturdidos por la feria multitudinaria. Llevando un niño de cada mano para no perderlos en el tumulto, tropezando con saltimbanquis de dientes acorazados de oro y malabaristas de seis brazos, sofocado por el confuso aliento de estiércol y sándalo que exhalaba la muchedumbre, José Arcadio Buendía andaba como un loco buscando a Melquíades por todas partes, para que le revelara los infinitos secretos de aquella pesadilla fabulosa. Se dirigió a varios gitanos que no entendieron su lengua. Por último llegó hasta el lugar donde Melquíades solía plantar su tienda, y encontró un armenio taciturno que anunciaba en castellano un jarabe para hacerse invisible. Se había tomado de un golpe una copa de la sustancia ambarina, cuando José Arcadio Buendía se abrió paso a empujones por entre el grupo absorto que presenciaba el espectáculo, y alcanzó a hacer la pregunta. El gitano le envolvió en el clima atónito de su mirada, antes de convertirse en un charco de alquitrán pestilente y humeante sobre el cual quedó flotando la resonancia de su respuesta: «Melquíades murió.» Aturdido por la noticia, José Arcadio Buendía permaneció inmóvil, tratando de sobreponerse a la aflicción, hasta que el grupo se dispersó reclamado por otros artificios y el charco del armenio taciturno se evaporó por completo. Más tarde, otros gitanos le confirmaron que en efecto Melquíades había sucumbido a las fiebres en los médanos de Singapur, y su cuerpo había sido arrojado en el lugar más profundo del mar de Java. A los niños no les interesó la noticia. Estaban obstinados en que su padre los llevara a conocer la portentosa novedad de los sabios de Memphis, anunciada a la entrada de una tienda que, según decían, perteneció al rey Salomón. Tanto insistieron, que José Arcadio Buendía pagó los treinta reales y los condujo hasta el centro de la carpa, donde había un gigante de torso peludo y cabeza rapada, con un anillo de cobre en la nariz y una pesada cadena de hierro en el tobillo, custodiando un cofre de pirata. Al ser destapado por el gigante, el cofre dejó escapar un aliento glacial. Dentro sólo había un enorme bloque transparente, con infinitas agujas internas en las cuales se despedazaba en estrellas de colores la claridad del crepúsculo. Desconcertado, sabiendo que los niños esperaban una explicación inmediata, José Arcadio Buendía se atrevió a murmurar: -Es el diamante más grande del mundo. -No -corrigió el gitano-. Es hielo. José Arcadio Buendía, sin entender, extendió la mano hacia el témpano, pero el gigante se la apartó. «Cinco reales más para tocarlo», dijo. José Arcadio Buendía los pagó, y entonces puso la mano sobre el hielo, y la mantuvo puesta por varios minutos, mientras el corazón se le hinchaba de temor y de júbilo al contacto del misterio. Sin saber qué decir, pagó otros diez reales para que sus hijos vivieran la prodigiosa experiencia. El pequeño José Arcadio se negó a tocarlo. Aureliano, en cambio, dio un paso hacia adelante, puso la mano y la retiró en el acto. «Está hirviendo», exclamó asustado. Pero su padre no le prestó atención. Embriagado por la evidencia del prodigio, en aquel momento se olvidó de la frustración de sus empresas delirantes y del cuerpo de Melquíades abandonado al apetito de los calamares. Pagó otros cinco reales, y con la mano puesta en el témpano, como expresando un testimonio sobre el texto sagrado, exclamó: -Éste es el gran invento de nuestro tiempo. Cien años de soledad Gabriel García Márquez II Cuando el pirata Francis Drake asaltó a Riohacha, en el siglo XVI, la bisabuela de Úrsula I guaran se asustó tanto con el toque de rebato y el estampido de los cañones, que perdió el control de los nervios y se sentó en un fogón encendido. Las quemaduras la dejaron convertida en una esposa inútil para toda la vida. No podía sentarse sino de medio lado, acomodada en cojines, y algo extraño debió quedarle en el modo de andar, porque nunca volvió a caminar en público. Renunció a toda clase de hábitos sociales obsesionada por la idea de que su cuerpo despedía un olor a chamusquina. El alba la sorprendía en el patio sin atreverse a dormir, porque soñaba que los ingleses con sus feroces perros de asalto se metían por la ventana del dormitorio y la sometían a vergonzosos tormentos con hierros al rojo vivo. Su marido, un comerciante aragonés con quien tenía dos hijos, se gastó media tienda en medicinas y entretenimientos buscando la manera de aliviar sus terrores. Por último liquidó el negocio y llevó la familia a vivir lejos del mar, en una ranchería de indios pacíficos situada en las estribaciones de la sierra, donde le construyó a su mujer un dormitorio sin ventanas para que no tuvieran por donde entrar los piratas de sus pesadillas. En la escondida ranchería vivía de mucho tiempo atrás un criollo cultivador de tabaco, don José Arcadio Buendía, con quien el bisabuelo de Úrsula estableció una sociedad tan productiva que en pocos años hicieron una fortuna. Varios siglos más tarde, el tataranieto del criollo se casó con la tataranieta del aragonés. Por eso, cada vez que Úrsula se salía de casillas con las locuras de su marido, saltaba por encima de trescientos años de casualidades, y maldecía la hora en que Francis Drake asaltó a Riohacha, Era un simple recurso de desahogo, porque en verdad estaban ligados hasta la muerte por un vínculo más sólido que el amor: un común remordimiento de conciencia. Eran primos entre sí. Habían crecido juntos en la antigua ranchería que los antepasados de ambos transformaron con su trabajo y sus buenas costumbres en uno de los mejores pueblos de la provincia. Aunque su matrimonio era previsible desde que vinieron al mundo, cuando ellos expresaron la voluntad de casarse sus propios parientes trataron de impedirlo. Tenían el temor de que aquellos saludables cabos de dos razas secularmente entrecruzadas pasaran por la vergüenza de engendrar iguanas. Ya existía un precedente tremendo. Una tía de Úrsula, casada con un tío de José Arcadio Buendía tuvo un hijo que pasó toda la vida con unos pantalones englobados y flojos, y que murió desangrado después de haber vivido cuarenta y dos años en el más puro estado de virginidad porque nació y creció con una cola cartilaginosa en forma de tirabuzón y con una escobilla de pelos en la punta. Una cola de cerdo que no se dejó ver nunca de ninguna mujer, y que le costo la vida cuando un carnicero amigo le hizo el favor de cortársela con una hachuela de destazar. José Arcadio Buendía, con la ligereza de sus diecinueve años, resolvió el problema con una sola frase: «No me importa tener cochinitos, siempre que puedan hablar.» Así que se casaron con una fiesta de banda y cohetes que duró tres días. Hubieran sido felices desde entonces si la madre de Úrsula no la hubiera aterrorizado con toda clase de pronósticos siniestros sobre su descendencia, hasta el extremo de conseguir que rehusara consumar el matrimonio. Temiendo que el corpulento y voluntarioso marido la violara dormida, Úrsula se ponía antes de acostarse un pantalón rudimentario que su madre le fabricó con lona de velero y reforzado con un sistema de correas entrecruzadas, que se cerraba por delante con una gruesa hebilla de hierro. Así estuvieron varios meses. Durante el día, él pastoreaba sus gallos de pelea y ella bordaba en bastidor con su madre. Durante la noche, forcejeaban varias horas con una ansiosa violencia que ya parecía un sustituto del acto de amor, hasta que la intuición popular olfateó que algo irregular estaba ocurriendo, y soltó el rumor de que Úrsula seguía virgen un año después de casada, porque su marido era impotente. José Arcadio Buendía fue el último que conoció el rumor. -Ya ves, Úrsula, lo que anda diciendo la gente -le dijo a su mujer con mucha calma. -Déjalos que hablen -dijo ella-. Nosotros sabemos que no es cierto. 10 Cien años de soledad Gabriel García Márquez De modo que la situación siguió igual por otros seis meses, hasta el domingo trágico en que José Arcadio Buendía le gano una pelea de gallos a Prudencio Aguilar. Furioso, exaltado por la sangre de su animal, el perdedor se apartó de José Arcadio Buendía para que toda la gallera pudiera oír lo que iba a decirle. -Te felicito -gritó-. A ver si por fin ese gallo le hace el favor a tu mujer. José Arcadio Buendía, sereno, recogió su gallo. «Vuelvo en seguida», dijo a todos. Y luego, a Prudencio Aguilar: -Y tú, anda a tu casa y ármate, porque te voy a matar. Diez minutos después volvió con la lanza cebada de su abuelo. En la puerta de la gallera, donde se había concentrado medio pueblo, Prudencio Aguilar lo esperaba. No tuvo tiempo de defenderse. La lanza de José Arcadio Buendía, arrojada con la fuerza de un toro y con la misma dirección certera con que el primer Aureliano Buendía exterminó a los tigres de la región, le atravesó la garganta. Esa noche, mientras se velaba el cadáver en la gallera, José Arcadio Buendía entró en el dormitorio cuando su mujer se estaba poniendo el pantalón de castidad. Blandiendo la lanza frente a ella, le ordenó: «Quítate eso.» Úrsula no puso en duda la decisión de su marido. «Tú serás responsable de lo que pase», murmuró. José Arcadio Buendía clavó la lanza en el piso de tierra. -Si has de parir iguanas, criaremos iguanas -dijo-. Pero no habrá más muertos en este pueblo por culpa tuya. Era una buena noche de junio, fresca y con luna, y estuvieron despiertos y retozando en la cama hasta el amanecer, indiferentes al viento que pasaba por el dormitorio, cargado con el llanto de los parientes de Prudencio Aguilar. El asunto fue clasificado como un duelo de honor, pero a ambos les quedó un malestar en la conciencia. Una noche en que no podía dormir, Úrsula salió a tomar agua en el patio y vio a Prudencio Aguilar junto a la tinaja. Estaba lívido, con una expresión muy triste, tratando de cegar con un tapón de esparto el hueco de su garganta. No le produjo miedo, sino lástima. Volvió al cuarto a contarle a su esposo lo que había visto, pero él no le hizo caso. «Los muertos no salen - dijo-. Lo que pasa es que no podemos con el peso de la conciencia.» Dos noches después, Úrsula volvió a ver a Prudencio Aguilar en el baño, lavándose con el tapón de esparto la sangre cris- talizada del cuello. Otra noche lo vio paseándose bajo la lluvia. José Arcadio Buendía, fastidiado por las alucinaciones de su mujer, salió al patio armado con la lanza. Allí estaba el muerto con su expresión triste. -Vete al carajo -le gritó José Arcadio Buendía-. Cuantas veces regreses volveré a matarte. Prudencio Aguilar no se fue, ni José Arcadio Buendía se atrevió arrojar la lanza. Desde entonces no pudo dormir bien. Lo atormentaba la inmensa desolación con que el muerto lo había mirado desde la lluvia, la honda nostalgia con que añoraba a los vivos, la ansiedad con que registraba la casa buscando agua para mojar su tapón de esparto. «Debe estar sufriendo mucho -le decía a Úrsula-. Se ve que está muy solo.» Ella estaba tan conmovida que la próxima vez que vio al muerto destapando las ollas de la hornilla comprendió lo que buscaba, y desde entonces le puso tazones de agua por toda la casa. Una noche en que lo encontró lavándose las heridas en su propio cuarto, José Arcadio Buendía no pudo resistir más. -Está bien, Prudencio -le dijo-. Nos iremos de este pueblo, lo más lejos que podamos, y no regresaremos jamás. Ahora vete tranquilo. Fue así como emprendieron la travesía de la sierra. Varios amigos de José Arcadio Buendía, jóvenes como él, embullados con la aventura, desmantelaron sus casas y cargaron con sus mujeres y sus hijos hacia la tierra que nadie les había prometido. Antes de partir, José Arcadio Buendía enterró la lanza en el patio y degolló uno tras otro sus magníficos gallos de pelea, confiando en que en esa forma le daba un poco de paz a Prudencio Aguilar. Lo único que se llevó Úrsula fue un baúl con sus ropas de recién casada, unos pocos útiles domésticos y el cofrecito con las piezas de oro que heredé de su padre. No se trazaron un itinerario definido. Solamente procuraban viajar en sentido contrario al camino de Riohacha para no dejar ningún rastro ni encontrar gente conocida. Fue un viaje absurdo. A los catorce meses, con el estómago estragado por la carne de mico y el caldo de culebras, Úrsula dio a luz un hijo con todas sus partes humanas. Había hecho la mitad del camino en una hamaca colgada de un palo que dos hombres llevaban en hombros, porque la hinchazón le desfiguró las piernas, y las varices se le reventaban como burbujas. Aunque daba lástima verlos con los vientres templados y los ojos lánguidos, los 11 Cien años de soledad Gabriel García Márquez niños resistieron el viaje mejor que sus padres, y la mayor parte del tiempo les resultó divertido. Una mañana, después de casi dos años de travesía, fueron los primeros mortales que vieron la vertiente occidental de la sierra. Desde la cumbre nublada contemplaron la inmensa llanura acuática de la ciénaga grande, explayada hasta el otro lado del mundo. Pero nunca encontraron el mar. Una noche, después de varios meses de andar perdidos por entre los pantanos, lejos ya de los últimos indígenas que encontraron en el camino, acamparon a la orilla de un río pedregoso cuyas aguas parecían un torrente de vidrio helado. Años después, durante la segunda guerra civil, el coronel Aureliano Buendía trató de hacer aquella misma ruta para tomarse a Riohacha por sorpresa, y a los seis días de viaje comprendió que era una locura. Sin embargo, la noche en que acamparon junto al río, las huestes de su padre tenían un aspecto de náufragos sin escapatoria, pero su número había aumentado durante la travesía y todos estaban dispuestos (y lo consiguieron) a morirse de viejos. José Arcadio Buendía soñó esa noche que en aquel lugar se levantaba una ciudad ruidosa con casas de paredes de espejo. Preguntó qué ciudad era aquella, y le contestaron con un nombre que nunca había oído, que no tenía significado alguno, pero que tuvo en el sueño una resonancia sobrenatural: Macondo. Al día siguiente convenció a sus hombres de que nunca encontrarían el mar. Les ordenó derribar los árboles para hacer un claro junto al río, en el lugar más fresco de la orilla, y allí fundaron la aldea. José Arcadio Buendia no logró descifrar el sueño de las casas con paredes de espejos hasta el día en que conoció el hielo. Entonces creyó entender su profundo significado. Pensó que en un futuro próximo podrían fabricarse bloques de hielo en gran escala, a partir de un material tan cotidiano como el agua, y construir con ellos las nuevas casas de la aldea. Macondo dejaría de ser un lugar ardiente, cuyas bisagras y aldabas se torcían de calor, para convertirse en una ciudad invernal. Si no perseveró en sus tentativas de construir una fábrica de hielo, fue porque entonces estaba positivamente entusiasmado con la educación de sus hijos, en especial la de Aureliano, que había revelado desde el primer momento una rara intuición alquímica. El laboratorio había sido desempolvado. Revisando las notas de Melquíades, ahora serenamente, sin la exaltación de la novedad, en prolongadas y pacientes sesiones trataron de separar el oro de Úrsula del cascote adherido al fondo del caldero. El joven José Arcadio participó apenas en el proceso. Mientras su padre sólo tenía cuerpo y alma para el atanor, el voluntarioso primogénito, que siempre fue demasiado grande para su edad, se convirtió en un adolescente monumental. Cambió de voz. El bozo se le pobló de un vello incipiente. Una noche Úrsula entró en el cuarto cuando él se quitaba la ropa para dormir, y experimentó un confuso sentimiento de vergüenza y piedad: era el primer hombre que veía desnudo, después de su esposo, y estaba tan bien equipado para la vida, que le pareció anormal. Úrsula, encinta por tercera vez, vivió de nuevo sus terrores de recién casada. Por aquel tiempo iba a la casa una mujer alegre, deslenguada, provocativa, que ayudaba en los oficios domésticos y sabía leer el porvenir en la baraja. Úrsula le habló de su hijo. Pensaba que su desproporción era algo tan desnaturalizado como la cola de cerdo del primo. La mujer soltó una risa expansiva que repercutió en toda la casa como un reguero de vidrio. «Al contrario - dijo-. Será feliz». Para confirmar su pronóstico llevó los naipes a la casa pocos días después, y se encerró con José Arcadio en un depósito de granos contiguo a la cocina. Colocó las barajas con mucha calma en un viejo mesón de carpintería, hablando de cualquier cosa, mientras el muchacho esperaba cerca de ella más aburrido que intrigado. De pronto extendió la mano y lo tocó. «Qué bárbaro», dijo, sinceramente asustada, y fue todo lo que pudo decir. José Arcadio sintió que los huesos se le llenaban de espuma, que tenía un miedo lánguido y unos terribles deseos de llorar. La mujer no le hizo ninguna insinuación. Pero José Arcadio la siguió buscando toda la noche en el olor de humo que ella tenía en las axilas y que se le quedó metido debajo del pellejo. Quería estar con ella en todo momento, quería que ella fuera su madre, que nunca salieran del granero y que le dijera qué bárbaro, y que lo volviera a tocar y a decirle qué bárbaro. Un día no pudo soportar más y fue a buscarla a su casa. Hizo una visita formal, incomprensible, sentado en la sala sin pronunciar una palabra. En ese momento no la deseó. La encontraba distinta, enteramente ajena a la imagen que inspiraba su olor, como si fuera otra. Tomó el café y abandonó la casa deprimido. Esa noche, en el espanto de la vigilia, la volvió a desear con una ansiedad brutal, pero entonces no la quería como era en el granero, sino como había sido aquella tarde. Días después, de un modo intempestivo, la mujer lo llamó a su casa, donde estaba sola con su madre, y lo hizo entrar en el dormitorio con el pretexto de enseñarle un truco de barajas. Entonces lo tocó con tanta libertad que él sufrió una desilusión después del estremecimiento 12 Cien años de soledad Gabriel García Márquez inicial, y experimentó más miedo que placer. Ella le pidió que esa noche fuera a buscarla. Él estuvo de acuerdo, por salir del paso, sabiendo que no seria capaz de ir. Pero esa noche, en la cama ardiente, comprendió que tenía que ir a buscarla aunque no fuera capaz. Se vistió a tientas, oyendo en la oscuridad la reposada respiración de su hermano, la tos seca de su padre en el cuarto vecino, el asma de las gallinas en el patio, el zumbido de los mosquitos, el bombo de su corazón y el desmesurado bullicio del mundo que no había advertido hasta entonces, y salió a la calle dormido. Deseaba de todo corazón que la puerta estuviera atrancada, y no simplemente ajustada, como ella le había prometido. Pero estaba abierta. La empujó con la punta de los dedos y los goznes soltaron un quejido lúgubre y articulado que tuvo una resonancia helada en sus entrañas. Desde el instante en que entró, de medio lado y tratando de no hacer ruido, sintió el olor. Todavía estaba en la salita donde los tres hermanos de la mujer colgaban las hamacas en posiciones que él ignoraba y que no podía determinar en las tinieblas, así que le faltaba atravesarla a tientas, empujar la puerta del dormitorio y orientarse allí de tal modo que no fuera a equivocarse de cama. Lo consiguió. Tropezó con los hicos de las hamacas, que estaban más bajas de lo que él había supuesto, y un hombre que roncaba hasta entonces se revolvió en el sueño y dijo con una especie de desilusión: «Era miércoles.» Cuando empujó la puerta del dormitorio, no pudo impedir que raspara el desnivel del piso. De pronto, en la oscuridad absoluta, comprendió con una irremediable nostalgia que estaba completamente desorientado. En la estrecha habitación dormían la madre, otra hija con el marido y dos niños, y la mujer que tal vez no lo esperaba. Habría podido guiarse por el olor si el olor no hubiera estado en toda la casa, tan engañoso y al mismo tiempo tan definido como había estado siempre en su pellejo. Permaneció inmóvil un largo rato, preguntándose asombrado cómo había hecho para llegar a ese abismo de desamparo, cuando una mano con todos los dedos extendidos, que tanteaba en las tinieblas, le tropezó la cara. No se sorprendió, porque sin saberlo lo había estado esperando. Entonces se confió a aquella mano, y en un terrible estado de agotamiento se dejó llevar hasta un lugar sin formas donde le quitaron la ropa y lo zarandearon como un costal de papas y lo voltearon al derecho y al revés, en una oscuridad insondable en la que le sobraban los brazos, donde ya no olía más a'"
      ]
     },
     "execution_count": 17,
     "metadata": {},
     "output_type": "execute_result"
    }
   ],
   "source": [
    "libro = leer_libro('./../datasets/cien-años-de-soledad.txt')\n",
    "libro"
   ]
  },
  {
   "cell_type": "code",
   "execution_count": 18,
   "metadata": {
    "colab": {
     "base_uri": "https://localhost:8080/",
     "height": 187
    },
    "id": "7rVR_p0MnvXV",
    "outputId": "357c25f4-11c1-4d1a-a625-68d8e6ae5a02"
   },
   "outputs": [
    {
     "data": {
      "text/plain": [
       "Counter({'gabriel': 12,\n",
       "         'garcía': 13,\n",
       "         'márquez': 12,\n",
       "         'cien': 12,\n",
       "         'años': 31,\n",
       "         'de': 613,\n",
       "         'soledad': 13,\n",
       "         'editado': 1,\n",
       "         'por': 96,\n",
       "         'ediciones': 1,\n",
       "         'la': 352,\n",
       "         'cueva': 1,\n",
       "         'para': 56,\n",
       "         'j': 1,\n",
       "         'omi': 1,\n",
       "         'ascot': 1,\n",
       "         'y': 272,\n",
       "         'maría': 2,\n",
       "         'luisa': 1,\n",
       "         'elio': 1,\n",
       "         'muchos': 3,\n",
       "         'después': 13,\n",
       "         'frente': 4,\n",
       "         'al': 58,\n",
       "         'pelotón': 2,\n",
       "         'fusilamiento': 2,\n",
       "         'el': 272,\n",
       "         'coronel': 4,\n",
       "         'aureliano': 11,\n",
       "         'buendía': 53,\n",
       "         'había': 46,\n",
       "         'recordar': 2,\n",
       "         'aquella': 15,\n",
       "         'tarde': 8,\n",
       "         'remota': 1,\n",
       "         'en': 241,\n",
       "         'que': 244,\n",
       "         'su': 117,\n",
       "         'padre': 12,\n",
       "         'lo': 54,\n",
       "         'llevó': 7,\n",
       "         'a': 193,\n",
       "         'conocer': 5,\n",
       "         'hielo': 6,\n",
       "         'macondo': 15,\n",
       "         'era': 32,\n",
       "         'entonces': 21,\n",
       "         'una': 103,\n",
       "         'aldea': 17,\n",
       "         'veinte': 1,\n",
       "         'casas': 6,\n",
       "         'barro': 2,\n",
       "         'cañabrava': 1,\n",
       "         'construidas': 1,\n",
       "         'orilla': 3,\n",
       "         'un': 161,\n",
       "         'río': 8,\n",
       "         'aguas': 2,\n",
       "         'diáfanas': 1,\n",
       "         'se': 109,\n",
       "         'precipitaban': 1,\n",
       "         'lecho': 1,\n",
       "         'piedras': 3,\n",
       "         'pulidas': 1,\n",
       "         'blancas': 1,\n",
       "         'enormes': 1,\n",
       "         'como': 38,\n",
       "         'huevos': 2,\n",
       "         'prehistóricos': 1,\n",
       "         'mundo': 14,\n",
       "         'tan': 17,\n",
       "         'reciente': 1,\n",
       "         'muchas': 1,\n",
       "         'cosas': 9,\n",
       "         'carecían': 1,\n",
       "         'nombre': 3,\n",
       "         'mencionarlas': 1,\n",
       "         'señalarías': 1,\n",
       "         'con': 129,\n",
       "         'dedo': 1,\n",
       "         'todos': 8,\n",
       "         'los': 150,\n",
       "         'mes': 1,\n",
       "         'marzo': 4,\n",
       "         'familia': 2,\n",
       "         'gitanos': 13,\n",
       "         'desarrapados': 1,\n",
       "         'plantaba': 1,\n",
       "         'carpa': 4,\n",
       "         'cerca': 2,\n",
       "         'grande': 8,\n",
       "         'alboroto': 1,\n",
       "         'pitos': 1,\n",
       "         'timbales': 1,\n",
       "         'daban': 1,\n",
       "         'nuevos': 2,\n",
       "         'inventos': 2,\n",
       "         'primero': 1,\n",
       "         'llevaron': 1,\n",
       "         'imán': 1,\n",
       "         'gitano': 9,\n",
       "         'corpulento': 2,\n",
       "         'barba': 2,\n",
       "         'montaraz': 1,\n",
       "         'manos': 2,\n",
       "         'gorrión': 1,\n",
       "         'presentó': 1,\n",
       "         'melquíades': 24,\n",
       "         'hizo': 11,\n",
       "         'truculenta': 1,\n",
       "         'demostración': 2,\n",
       "         'pública': 1,\n",
       "         'él': 17,\n",
       "         'mismo': 10,\n",
       "         'llamaba': 1,\n",
       "         'octava': 1,\n",
       "         'maravilla': 1,\n",
       "         'sabios': 3,\n",
       "         'alquimistas': 1,\n",
       "         'macedonia': 1,\n",
       "         'fue': 23,\n",
       "         'casa': 23,\n",
       "         'arrastrando': 2,\n",
       "         'dos': 14,\n",
       "         'lingotes': 4,\n",
       "         'metálicos': 1,\n",
       "         'todo': 10,\n",
       "         'espantó': 1,\n",
       "         'ver': 6,\n",
       "         'calderos': 1,\n",
       "         'las': 69,\n",
       "         'pailas': 1,\n",
       "         'tenazas': 1,\n",
       "         'anafes': 1,\n",
       "         'caían': 1,\n",
       "         'sitio': 1,\n",
       "         'maderas': 1,\n",
       "         'crujían': 1,\n",
       "         'desesperación': 3,\n",
       "         'clavos': 1,\n",
       "         'tornillos': 1,\n",
       "         'tratando': 5,\n",
       "         'desenclavarse': 1,\n",
       "         'aun': 4,\n",
       "         'objetos': 1,\n",
       "         'perdidos': 3,\n",
       "         'desde': 17,\n",
       "         'hacía': 4,\n",
       "         'mucho': 6,\n",
       "         'tiempo': 19,\n",
       "         'aparecían': 1,\n",
       "         'donde': 21,\n",
       "         'más': 39,\n",
       "         'les': 11,\n",
       "         'buscado': 2,\n",
       "         'arrastraban': 1,\n",
       "         'desbandada': 1,\n",
       "         'turbulenta': 1,\n",
       "         'detrás': 1,\n",
       "         'fierros': 1,\n",
       "         'mágicos': 3,\n",
       "         'tienen': 1,\n",
       "         'vida': 13,\n",
       "         'propia': 4,\n",
       "         'pregonaba': 2,\n",
       "         'áspero': 2,\n",
       "         'acento': 1,\n",
       "         'es': 12,\n",
       "         'cuestión': 1,\n",
       "         'despertarles': 1,\n",
       "         'ánima': 1,\n",
       "         'josé': 61,\n",
       "         'arcadio': 61,\n",
       "         'cuya': 2,\n",
       "         'desaforada': 1,\n",
       "         'imaginación': 6,\n",
       "         'iba': 4,\n",
       "         'siempre': 14,\n",
       "         'lejos': 4,\n",
       "         'ingenio': 1,\n",
       "         'naturaleza': 1,\n",
       "         'allá': 1,\n",
       "         'del': 73,\n",
       "         'milagro': 1,\n",
       "         'magia': 1,\n",
       "         'pensó': 2,\n",
       "         'posible': 3,\n",
       "         'servirse': 2,\n",
       "         'invención': 1,\n",
       "         'inútil': 2,\n",
       "         'desentrañar': 1,\n",
       "         'oro': 10,\n",
       "         'tierra': 10,\n",
       "         'hombre': 10,\n",
       "         'honrado': 1,\n",
       "         'le': 59,\n",
       "         'previno': 1,\n",
       "         'eso': 3,\n",
       "         'no': 83,\n",
       "         'sirve': 1,\n",
       "         'pero': 31,\n",
       "         'creía': 1,\n",
       "         'aquel': 13,\n",
       "         'honradez': 2,\n",
       "         'así': 7,\n",
       "         'cambió': 2,\n",
       "         'mulo': 1,\n",
       "         'partida': 2,\n",
       "         'chivos': 2,\n",
       "         'imantados': 2,\n",
       "         'úrsula': 43,\n",
       "         'i': 2,\n",
       "         'guaran': 2,\n",
       "         'mujer': 20,\n",
       "         'contaba': 1,\n",
       "         'aquellos': 2,\n",
       "         'animales': 4,\n",
       "         'ensanchar': 1,\n",
       "         'desmedrado': 1,\n",
       "         'patrimonio': 1,\n",
       "         'doméstico': 1,\n",
       "         'consiguió': 2,\n",
       "         'disuadirlo': 2,\n",
       "         'muy': 4,\n",
       "         'pronto': 7,\n",
       "         'ha': 3,\n",
       "         'sobrarnos': 1,\n",
       "         'empedrar': 1,\n",
       "         'replicó': 3,\n",
       "         'marido': 10,\n",
       "         'durante': 11,\n",
       "         'varios': 12,\n",
       "         'meses': 9,\n",
       "         'empeñó': 1,\n",
       "         'demostrar': 2,\n",
       "         'acierto': 1,\n",
       "         'sus': 62,\n",
       "         'conjeturas': 2,\n",
       "         'exploró': 1,\n",
       "         'palmo': 2,\n",
       "         'región': 6,\n",
       "         'inclusive': 1,\n",
       "         'fondo': 6,\n",
       "         'hierro': 3,\n",
       "         'recitando': 1,\n",
       "         'voz': 4,\n",
       "         'alta': 1,\n",
       "         'conjuro': 2,\n",
       "         'único': 4,\n",
       "         'logró': 3,\n",
       "         'desenterrar': 2,\n",
       "         'armadura': 3,\n",
       "         'siglo': 2,\n",
       "         'xv': 1,\n",
       "         'todas': 9,\n",
       "         'partes': 6,\n",
       "         'soldadas': 1,\n",
       "         'cascote': 2,\n",
       "         'óxido': 1,\n",
       "         'cuyo': 1,\n",
       "         'interior': 4,\n",
       "         'tenía': 13,\n",
       "         'resonancia': 4,\n",
       "         'hueca': 1,\n",
       "         'enorme': 3,\n",
       "         'calabazo': 1,\n",
       "         'lleno': 1,\n",
       "         'cuando': 19,\n",
       "         'cuatro': 2,\n",
       "         'hombres': 12,\n",
       "         'expedición': 3,\n",
       "         'lograron': 2,\n",
       "         'desarticular': 1,\n",
       "         'encontraron': 5,\n",
       "         'dentro': 3,\n",
       "         'esqueleto': 1,\n",
       "         'calcificado': 1,\n",
       "         'llevaba': 2,\n",
       "         'colgado': 1,\n",
       "         'cuello': 3,\n",
       "         'relicario': 1,\n",
       "         'cobre': 3,\n",
       "         'rizo': 1,\n",
       "         'volvieron': 3,\n",
       "         'esta': 2,\n",
       "         'vez': 16,\n",
       "         'llevaban': 2,\n",
       "         'catalejo': 3,\n",
       "         'lupa': 5,\n",
       "         'tamaño': 1,\n",
       "         'tambor': 1,\n",
       "         'exhibieron': 1,\n",
       "         'último': 6,\n",
       "         'descubrimiento': 3,\n",
       "         'judíos': 1,\n",
       "         'amsterdam': 1,\n",
       "         'sentaron': 1,\n",
       "         'gitana': 2,\n",
       "         'extremo': 3,\n",
       "         'e': 3,\n",
       "         'instalaron': 1,\n",
       "         'entrada': 3,\n",
       "         'mediante': 3,\n",
       "         'pago': 2,\n",
       "         'cinco': 4,\n",
       "         'reales': 5,\n",
       "         'gente': 4,\n",
       "         'asomaba': 1,\n",
       "         'veía': 2,\n",
       "         'alcance': 1,\n",
       "         'mano': 11,\n",
       "         'ciencia': 2,\n",
       "         'eliminado': 1,\n",
       "         'distancias': 1,\n",
       "         'poco': 10,\n",
       "         'podrá': 1,\n",
       "         'ocurre': 1,\n",
       "         'cualquier': 2,\n",
       "         'lugar': 10,\n",
       "         'sin': 27,\n",
       "         'moverse': 1,\n",
       "         'mediodía': 3,\n",
       "         'ardiente': 3,\n",
       "         'hicieron': 3,\n",
       "         'asombrosa': 3,\n",
       "         'gigantesca': 1,\n",
       "         'pusieron': 1,\n",
       "         'montón': 1,\n",
       "         'hierba': 1,\n",
       "         'seca': 2,\n",
       "         'mitad': 3,\n",
       "         'calle': 2,\n",
       "         'prendieron': 1,\n",
       "         'fuego': 3,\n",
       "         'concentración': 2,\n",
       "         'rayos': 2,\n",
       "         'solares': 2,\n",
       "         'aún': 1,\n",
       "         'acababa': 1,\n",
       "         'consolarse': 1,\n",
       "         'fracaso': 2,\n",
       "         'imanes': 2,\n",
       "         'concibió': 1,\n",
       "         'idea': 3,\n",
       "         'utilizar': 1,\n",
       "         'invento': 3,\n",
       "         'arma': 2,\n",
       "         'guerra': 3,\n",
       "         'otra': 6,\n",
       "         'trató': 4,\n",
       "         'terminó': 1,\n",
       "         'aceptar': 1,\n",
       "         'tres': 5,\n",
       "         'piezas': 3,\n",
       "         'dinero': 2,\n",
       "         'colonial': 1,\n",
       "         'cambio': 4,\n",
       "         'lloró': 1,\n",
       "         'consternación': 1,\n",
       "         'formaba': 1,\n",
       "         'parte': 6,\n",
       "         'cofre': 3,\n",
       "         'monedas': 2,\n",
       "         'acumulado': 1,\n",
       "         'toda': 19,\n",
       "         'privaciones': 1,\n",
       "         'ella': 14,\n",
       "         'enterrado': 1,\n",
       "         'debajo': 2,\n",
       "         'cama': 4,\n",
       "         'espera': 1,\n",
       "         'buena': 4,\n",
       "         'ocasión': 1,\n",
       "         'invertirías': 1,\n",
       "         'siquiera': 1,\n",
       "         'consolarla': 1,\n",
       "         'entregado': 1,\n",
       "         'entero': 1,\n",
       "         'experimentos': 2,\n",
       "         'tácticos': 1,\n",
       "         'abnegación': 1,\n",
       "         'científico': 1,\n",
       "         'riesgo': 1,\n",
       "         'efectos': 1,\n",
       "         'tropa': 1,\n",
       "         'enemiga': 1,\n",
       "         'expuso': 1,\n",
       "         'sufrió': 3,\n",
       "         'quemaduras': 2,\n",
       "         'convirtieron': 1,\n",
       "         'úlceras': 1,\n",
       "         'tardaron': 1,\n",
       "         'sanar': 1,\n",
       "         'ante': 7,\n",
       "         'protestas': 1,\n",
       "         'alarmada': 2,\n",
       "         'peligrosa': 1,\n",
       "         'inventiva': 1,\n",
       "         'estuvo': 5,\n",
       "         'punto': 7,\n",
       "         'incendiar': 1,\n",
       "         'pasaba': 3,\n",
       "         'largas': 1,\n",
       "         'horas': 3,\n",
       "         'cuarto': 7,\n",
       "         'haciendo': 2,\n",
       "         'cálculos': 3,\n",
       "         'sobre': 8,\n",
       "         'posibilidades': 1,\n",
       "         'estratégicas': 1,\n",
       "         'novedosa': 1,\n",
       "         'hasta': 29,\n",
       "         'componer': 1,\n",
       "         'manual': 1,\n",
       "         'claridad': 3,\n",
       "         'didáctica': 1,\n",
       "         'poder': 2,\n",
       "         'convicción': 1,\n",
       "         'irresistible': 1,\n",
       "         'envió': 1,\n",
       "         'autoridades': 1,\n",
       "         'acompañado': 1,\n",
       "         'numerosos': 1,\n",
       "         'testimonios': 1,\n",
       "         'experiencias': 1,\n",
       "         'pliegos': 1,\n",
       "         'dibujos': 2,\n",
       "         'explicativos': 1,\n",
       "         'cuidado': 1,\n",
       "         'mensajero': 1,\n",
       "         'atravesó': 2,\n",
       "         'sierra': 8,\n",
       "         'extravió': 1,\n",
       "         'pantanos': 3,\n",
       "         'desmesurados': 1,\n",
       "         'remontó': 1,\n",
       "         'ríos': 1,\n",
       "         'tormentosos': 1,\n",
       "         'perecer': 1,\n",
       "         'bajo': 5,\n",
       "         'azote': 1,\n",
       "         'fieras': 1,\n",
       "         'peste': 2,\n",
       "         'antes': 8,\n",
       "         'conseguir': 2,\n",
       "         'ruta': 6,\n",
       "         'enlace': 1,\n",
       "         'muías': 2,\n",
       "         'correo': 3,\n",
       "         'pesar': 2,\n",
       "         'viaje': 5,\n",
       "         'capital': 1,\n",
       "         'menos': 1,\n",
       "         'imposible': 1,\n",
       "         'buendia': 7,\n",
       "         'prometía': 1,\n",
       "         'intentarlo': 1,\n",
       "         'ordenara': 1,\n",
       "         'gobierno': 1,\n",
       "         'fin': 3,\n",
       "         'hacer': 6,\n",
       "         'demostraciones': 1,\n",
       "         'prácticas': 1,\n",
       "         'poderes': 2,\n",
       "         'militares': 1,\n",
       "         'adiestrarlos': 1,\n",
       "         'personalmente': 1,\n",
       "         'complicadas': 1,\n",
       "         'artes': 1,\n",
       "         'solar': 1,\n",
       "         'esperó': 1,\n",
       "         'respuesta': 2,\n",
       "         'cansado': 1,\n",
       "         'esperar': 1,\n",
       "         'lamentó': 1,\n",
       "         'iniciativa': 2,\n",
       "         'dio': 3,\n",
       "         'prueba': 3,\n",
       "         'convincente': 1,\n",
       "         'devolvió': 1,\n",
       "         'doblones': 2,\n",
       "         'dejó': 9,\n",
       "         'además': 2,\n",
       "         'unos': 5,\n",
       "         'mapas': 3,\n",
       "         'portugueses': 1,\n",
       "         'instrumentos': 4,\n",
       "         'navegación': 1,\n",
       "         'puño': 1,\n",
       "         'letra': 2,\n",
       "         'escribió': 1,\n",
       "         'apretada': 1,\n",
       "         'síntesis': 1,\n",
       "         'estudios': 1,\n",
       "         'monje': 1,\n",
       "         'hermann': 1,\n",
       "         'disposición': 1,\n",
       "         'pudiera': 2,\n",
       "         'astrolabio': 2,\n",
       "         'brújula': 2,\n",
       "         'sextante': 1,\n",
       "         'pasó': 2,\n",
       "         'largos': 1,\n",
       "         'lluvia': 4,\n",
       "         'encerrado': 1,\n",
       "         'cuartito': 6,\n",
       "         'construyó': 4,\n",
       "         'nadie': 6,\n",
       "         'perturbara': 1,\n",
       "         'habiendo': 1,\n",
       "         'abandonado': 2,\n",
       "         'completo': 3,\n",
       "         'obligaciones': 1,\n",
       "         'domésticas': 1,\n",
       "         'permaneció': 4,\n",
       "         'noches': 2,\n",
       "         'enteras': 1,\n",
       "         'patio': 7,\n",
       "         'vigilando': 1,\n",
       "         'curso': 1,\n",
       "         'astros': 1,\n",
       "         'contraer': 1,\n",
       "         'insolación': 1,\n",
       "         'tratar': 1,\n",
       "         'establecer': 1,\n",
       "         'método': 1,\n",
       "         'exacto': 1,\n",
       "         'encontrar': 3,\n",
       "         'experto': 1,\n",
       "         'uso': 1,\n",
       "         'manejo': 1,\n",
       "         'tuvo': 7,\n",
       "         'noción': 1,\n",
       "         'espacio': 2,\n",
       "         'permitió': 1,\n",
       "         'navegar': 1,\n",
       "         'mares': 1,\n",
       "         'incógnitos': 1,\n",
       "         'visitar': 1,\n",
       "         'territorios': 2,\n",
       "         'deshabitados': 1,\n",
       "         'trabar': 1,\n",
       "         'relación': 1,\n",
       "         'seres': 1,\n",
       "         'espléndidos': 1,\n",
       "         'necesidad': 2,\n",
       "         'abandonar': 2,\n",
       "         'gabinete': 1,\n",
       "         'ésa': 1,\n",
       "         'época': 2,\n",
       "         'adquirió': 1,\n",
       "         'hábito': 1,\n",
       "         'hablar': 3,\n",
       "         'solas': 2,\n",
       "         'paseándose': 2,\n",
       "         'caso': 3,\n",
       "         'mientras': 14,\n",
       "         'niños': 17,\n",
       "         'partían': 1,\n",
       "         'espinazo': 1,\n",
       "         'huerta': 2,\n",
       "         'cuidando': 1,\n",
       "         'plátano': 1,\n",
       "         'malanga': 1,\n",
       "         'yuca': 1,\n",
       "         'ñame': 1,\n",
       "         'ahuyama': 1,\n",
       "         'berenjena': 1,\n",
       "         'ningún': 5,\n",
       "         'anuncio': 2,\n",
       "         'actividad': 1,\n",
       "         'febril': 1,\n",
       "         'interrumpió': 2,\n",
       "         'sustituida': 1,\n",
       "         'especie': 3,\n",
       "         'fascinación': 2,\n",
       "         'días': 9,\n",
       "         'hechizado': 1,\n",
       "         'repitiéndose': 1,\n",
       "         'sí': 3,\n",
       "         'baja': 1,\n",
       "         'sartal': 1,\n",
       "         'asombrosas': 1,\n",
       "         'dar': 1,\n",
       "         'crédito': 1,\n",
       "         'propio': 4,\n",
       "         'entendimiento': 1,\n",
       "         'martes': 1,\n",
       "         'diciembre': 1,\n",
       "         'hora': 3,\n",
       "         'almuerzo': 1,\n",
       "         'soltó': 3,\n",
       "         'golpe': 2,\n",
       "         'carga': 1,\n",
       "         'tormento': 1,\n",
       "         'habían': 7,\n",
       "         'resto': 4,\n",
       "         'augusta': 1,\n",
       "         'solemnidad': 1,\n",
       "         'sentó': 2,\n",
       "         'cabecera': 1,\n",
       "         'mesa': 3,\n",
       "         'temblando': 1,\n",
       "         'fiebre': 3,\n",
       "         'devastado': 1,\n",
       "         'prolongada': 2,\n",
       "         'vigilia': 2,\n",
       "         'encono': 1,\n",
       "         'reveló': 2,\n",
       "         'redonda': 1,\n",
       "         'naranja': 1,\n",
       "         'perdió': 3,\n",
       "         'paciencia': 1,\n",
       "         'si': 8,\n",
       "         'has': 2,\n",
       "         'volverte': 1,\n",
       "         'loco': 2,\n",
       "         'vuélvete': 1,\n",
       "         'tú': 3,\n",
       "         'solo': 2,\n",
       "         'gritó': 4,\n",
       "         'trates': 1,\n",
       "         'inculcar': 1,\n",
       "         'tus': 3,\n",
       "         'ideas': 1,\n",
       "         'impasible': 1,\n",
       "         'amedrentar': 1,\n",
       "         'rapto': 1,\n",
       "         'cólera': 1,\n",
       "         'destrozó': 1,\n",
       "         'contra': 4,\n",
       "         'suelo': 4,\n",
       "         'otro': 7,\n",
       "         'reunió': 1,\n",
       "         'pueblo': 5,\n",
       "         'demostró': 1,\n",
       "         'teorías': 1,\n",
       "         'resultaban': 1,\n",
       "         'incomprensibles': 1,\n",
       "         'posibilidad': 2,\n",
       "         'regresar': 2,\n",
       "         'navegando': 1,\n",
       "         'hacia': 7,\n",
       "         'oriente': 2,\n",
       "         'estaba': 20,\n",
       "         'convencida': 1,\n",
       "         'perdido': 1,\n",
       "         'juicio': 1,\n",
       "         'llegó': 4,\n",
       "         'poner': 2,\n",
       "         'exaltó': 1,\n",
       "         'público': 3,\n",
       "         'inteligencia': 1,\n",
       "         'pura': 2,\n",
       "         'especulación': 1,\n",
       "         'astronómica': 1,\n",
       "         'construido': 2,\n",
       "         'teoría': 1,\n",
       "         'ya': 11,\n",
       "         'comprobada': 1,\n",
       "         'práctica': 1,\n",
       "         'aunque': 5,\n",
       "         'desconocida': 1,\n",
       "         'admiración': 1,\n",
       "         'regalo': 1,\n",
       "         'ejercer': 1,\n",
       "         'influencia': 2,\n",
       "         'terminante': 2,\n",
       "         'futuro': 2,\n",
       "         'laboratorio': 7,\n",
       "         'alquimia': 2,\n",
       "         'esa': 12,\n",
       "         'envejecido': 1,\n",
       "         'rapidez': 1,\n",
       "         'primeros': 3,\n",
       "         'viajes': 2,\n",
       "         'parecía': 7,\n",
       "         'tener': 3,\n",
       "         'misma': 3,\n",
       "         'edad': 3,\n",
       "         'éste': 3,\n",
       "         'conservaba': 1,\n",
       "         'fuerza': 2,\n",
       "         'descomunal': 1,\n",
       "         'permitía': 1,\n",
       "         'derribar': 2,\n",
       "         'caballo': 1,\n",
       "         'agarrándolo': 1,\n",
       "         'orejas': 1,\n",
       "         'estragado': 2,\n",
       "         'dolencia': 1,\n",
       "         'tenaz': 1,\n",
       "         'realidad': 2,\n",
       "         'resultado': 1,\n",
       "         'múltiples': 1,\n",
       "         'raras': 1,\n",
       "         'enfermedades': 1,\n",
       "         'contraídas': 1,\n",
       "         'incontables': 1,\n",
       "         'alrededor': 1,\n",
       "         'según': 5,\n",
       "         'contó': 2,\n",
       "         'ayudaba': 2,\n",
       "         'montar': 1,\n",
       "         'muerte': 2,\n",
       "         'seguía': 3,\n",
       "         'husmeándole': 1,\n",
       "         'pantalones': 2,\n",
       "         'decidirse': 1,\n",
       "         'darle': 1,\n",
       "         'zarpazo': 1,\n",
       "         'final': 1,\n",
       "         'fugitivo': 1,\n",
       "         'cuantas': 2,\n",
       "         'plagas': 1,\n",
       "         'catástrofes': 1,\n",
       "         'flagelado': 1,\n",
       "         'género': 1,\n",
       "         'humano': 3,\n",
       "         'sobrevivió': 1,\n",
       "         'pelagra': 1,\n",
       "         'persia': 1,\n",
       "         'escorbuto': 3,\n",
       "         'archipiélago': 1,\n",
       "         'malasia': 1,\n",
       "         'lepra': 1,\n",
       "         'alejandría': 1,\n",
       "         'beriberi': 1,\n",
       "         'japón': 1,\n",
       "         'bubónica': 1,\n",
       "         'madagascar': 1,\n",
       "         'terremoto': 1,\n",
       "         'sicilia': 1,\n",
       "         'naufragio': 1,\n",
       "         'multitudinario': 1,\n",
       "         'estrecho': 1,\n",
       "         'magallanes': 1,\n",
       "         'ser': 7,\n",
       "         'prodigioso': 3,\n",
       "         'decía': 4,\n",
       "         'poseer': 1,\n",
       "         'claves': 1,\n",
       "         'nostradamus': 1,\n",
       "         'lúgubre': 2,\n",
       "         'envuelto': 1,\n",
       "         'aura': 1,\n",
       "         'triste': 4,\n",
       "         'mirada': 4,\n",
       "         'asiática': 1,\n",
       "         'lado': 7,\n",
       "         'usaba': 1,\n",
       "         'sombrero': 1,\n",
       "         'negro': 1,\n",
       "         'alas': 1,\n",
       "         'extendidas': 1,\n",
       "         'cuervo': 1,\n",
       "         'chaleco': 1,\n",
       "         'terciopelo': 1,\n",
       "         'patinado': 1,\n",
       "         'verdín': 1,\n",
       "         'siglos': 2,\n",
       "         'inmensa': 3,\n",
       "         'sabiduría': 1,\n",
       "         'ámbito': 2,\n",
       "         'misterioso': 2,\n",
       "         'peso': 2,\n",
       "         'condición': 1,\n",
       "         'terrestre': 1,\n",
       "         'mantenía': 1,\n",
       "         'enredado': 1,\n",
       "         'minúsculos': 1,\n",
       "         'problemas': 1,\n",
       "         'cotidiana': 1,\n",
       "         'quejaba': 1,\n",
       "         'dolencias': 1,\n",
       "         'viejo': 2,\n",
       "         'sufría': 1,\n",
       "         'insignificantes': 1,\n",
       "         'percances': 1,\n",
       "         'económicos': 1,\n",
       "         'dejado': 1,\n",
       "         'reír': 1,\n",
       "         'porque': 17,\n",
       "         'arrancado': 1,\n",
       "         'dientes': 4,\n",
       "         'sofocante': 2,\n",
       "         'secretos': 2,\n",
       "         'certidumbre': 2,\n",
       "         'aquél': 1,\n",
       "         'principio': 2,\n",
       "         'amistad': 1,\n",
       "         'asombraron': 1,\n",
       "         'relatos': 1,\n",
       "         'fantásticos': 1,\n",
       "         'recordarlo': 1,\n",
       "         'vio': 5,\n",
       "         'sentado': 2,\n",
       "         'metálica': 1,\n",
       "         'reverberante': 1,\n",
       "         'ventana': 3,\n",
       "         'alumbrando': 1,\n",
       "         'pro': 1,\n",
       "         'funda': 1,\n",
       "         'órgano': 2,\n",
       "         'oscuros': 1,\n",
       "         'chorreaba': 1,\n",
       "         'sienes': 1,\n",
       "         'grasa': 1,\n",
       "         'derretida': 1,\n",
       "         'calor': 3,\n",
       "         'hermano': 2,\n",
       "         'mayor': 4,\n",
       "         'transmitir': 1,\n",
       "         'imagen': 3,\n",
       "         'maravillosa': 1,\n",
       "         'recuerdo': 3,\n",
       "         'hereditario': 1,\n",
       "         'descendencia': 2,\n",
       "         'conservó': 1,\n",
       "         'mal': 2,\n",
       "         'visita': 2,\n",
       "         'entró': 5,\n",
       "         'momento': 9,\n",
       "         'rompió': 1,\n",
       "         'distracción': 1,\n",
       "         'frasco': 1,\n",
       "         'bicloruro': 1,\n",
       "         'mercurio': 2,\n",
       "         'olor': 10,\n",
       "         'demonio': 2,\n",
       "         'dijo': 15,\n",
       "         'absoluto': 1,\n",
       "         'corrigió': 2,\n",
       "         'está': 5,\n",
       "         'comprobado': 1,\n",
       "         'tiene': 1,\n",
       "         'propiedades': 1,\n",
       "         'sulfúricas': 1,\n",
       "         'esto': 1,\n",
       "         'solimán': 1,\n",
       "         'didáctico': 1,\n",
       "         'sabia': 1,\n",
       "         'exposición': 1,\n",
       "         'virtudes': 1,\n",
       "         'diabólicas': 1,\n",
       "         'cinabrio': 1,\n",
       "         'sino': 7,\n",
       "         'rezar': 1,\n",
       "         'mordiente': 1,\n",
       "         'quedaría': 1,\n",
       "         'memoria': 3,\n",
       "         'vinculado': 1,\n",
       "         'rudimentario': 2,\n",
       "         'contar': 1,\n",
       "         'profusión': 1,\n",
       "         'cazuelas': 1,\n",
       "         'embudos': 1,\n",
       "         'retortas': 1,\n",
       "         'filtros': 1,\n",
       "         'coladores': 1,\n",
       "         'compuesto': 1,\n",
       "         'atanor': 2,\n",
       "         'primitivo': 1,\n",
       "         'probeta': 1,\n",
       "         'cristal': 1,\n",
       "         'largo': 2,\n",
       "         'angosto': 1,\n",
       "         'imitación': 1,\n",
       "         'huevo': 1,\n",
       "         'filosófico': 1,\n",
       "         'destilador': 1,\n",
       "         'propios': 2,\n",
       "         'descripciones': 1,\n",
       "         'modernas': 1,\n",
       "         'alambique': 1,\n",
       "         'brazos': 3,\n",
       "         'judía': 1,\n",
       "         'estas': 1,\n",
       "         'muestras': 1,\n",
       "         'siete': 3,\n",
       "         'metales': 2,\n",
       "         'correspondientes': 1,\n",
       "         'planetas': 1,\n",
       "         'fórmulas': 2,\n",
       "         'moisés': 1,\n",
       "         'zósimo': 1,\n",
       "         'doblado': 1,\n",
       "         'serie': 1,\n",
       "         'apuntes': 1,\n",
       "         'procesos': 2,\n",
       "         'gran': 3,\n",
       "         'magisterio': 1,\n",
       "         'permitían': 1,\n",
       "         'quien': 5,\n",
       "         'supiera': 1,\n",
       "         'interpretarlos': 1,\n",
       "         'intentar': 1,\n",
       "         'fabricación': 1,\n",
       "         'piedra': 1,\n",
       "         'filosofal': 1,\n",
       "         'seducido': 1,\n",
       "         'simplicidad': 1,\n",
       "         'doblar': 1,\n",
       "         'cortejó': 1,\n",
       "         'varias': 2,\n",
       "         'semanas': 2,\n",
       "         'permitiera': 1,\n",
       "         'coloniales': 1,\n",
       "         'aumentarlas': 1,\n",
       "         'tantas': 1,\n",
       "         'veces': 2,\n",
       "         'subdividir': 1,\n",
       "         'azogue': 1,\n",
       "         'cedió': 1,\n",
       "         'ocurría': 1,\n",
       "         'inquebrantable': 1,\n",
       "         'obstinación': 1,\n",
       "         'echó': 3,\n",
       "         'treinta': 3,\n",
       "         'cazuela': 1,\n",
       "         'fundió': 1,\n",
       "         'raspadura': 1,\n",
       "         'oropimente': 1,\n",
       "         'azufre': 1,\n",
       "         'plomo': 1,\n",
       "         'puso': 6,\n",
       "         'hervir': 1,\n",
       "         'vivo': 2,\n",
       "         'caldero': 3,\n",
       "         'aceite': 2,\n",
       "         'ricino': 1,\n",
       "         'obtener': 1,\n",
       "         'jarabe': 2,\n",
       "         'espeso': 1,\n",
       "         'pestilente': 2,\n",
       "         'parecido': 1,\n",
       "         'caramelo': 1,\n",
       "         'vulgar': 1,\n",
       "         'magnífico': 1,\n",
       "         'azarosos': 1,\n",
       "         'desesperados': 1,\n",
       "         'destilación': 1,\n",
       "         'fundida': 1,\n",
       "         'planetarios': 1,\n",
       "         'trabajada': 1,\n",
       "         'hermético': 1,\n",
       "         'vitriolo': 1,\n",
       "         'chipre': 1,\n",
       "         'vuelta': 1,\n",
       "         'cocer': 1,\n",
       "         'manteca': 1,\n",
       "         'cerdo': 3,\n",
       "         'falta': 2,\n",
       "         'rábano': 1,\n",
       "         'preciosa': 1,\n",
       "         'herencia': 1,\n",
       "         'quedó': 5,\n",
       "         'reducida': 1,\n",
       "         'chicharrón': 1,\n",
       "         'carbonizado': 2,\n",
       "         'pudo': 7,\n",
       "         'desprendido': 1,\n",
       "         'predispuesto': 1,\n",
       "         'ellos': 5,\n",
       "         'población': 1,\n",
       "         'curiosidad': 2,\n",
       "         'temor': 3,\n",
       "         'recorrieron': 1,\n",
       "         'ruido': 2,\n",
       "         'ensordecedor': 1,\n",
       "         'clase': 6,\n",
       "         'músicos': 1,\n",
       "         'pregonero': 1,\n",
       "         'anunciaba': 2,\n",
       "         'exhibición': 1,\n",
       "         'fabuloso': 1,\n",
       "         'hallazgo': 2,\n",
       "         'nasciancenos': 1,\n",
       "         'modo': 8,\n",
       "         'centavo': 1,\n",
       "         'vieron': 2,\n",
       "         'juvenil': 2,\n",
       "         'repuesto': 1,\n",
       "         'desarrugado': 1,\n",
       "         'dentadura': 2,\n",
       "         'nueva': 3,\n",
       "         'radiante': 1,\n",
       "         'quienes': 3,\n",
       "         'recordaban': 1,\n",
       "         'encías': 2,\n",
       "         'destruidas': 1,\n",
       "         'mejillas': 1,\n",
       "         'flaccidas': 1,\n",
       "         'labios': 1,\n",
       "         'marchitos': 1,\n",
       "         'estremecieron': 1,\n",
       "         'pavor': 2,\n",
       "         'sobrenaturales': 1,\n",
       "         'convirtió': 3,\n",
       "         'pánico': 2,\n",
       "         ...})"
      ]
     },
     "execution_count": 18,
     "metadata": {},
     "output_type": "execute_result"
    }
   ],
   "source": [
    "palabras = contar_palabras(libro)\n",
    "palabras"
   ]
  },
  {
   "cell_type": "markdown",
   "metadata": {
    "id": "bWHpN3kH7XGn"
   },
   "source": [
    "## Ejercicio\n",
    "\n",
    "1. ¿cuántas palabras contiene 100 años de soledad?\n",
    "2. ¿cuántas palabras únicas?\n",
    "3. ¿cuál es la palabra más frecuente?\n",
    "4. ¿cuántas veces aparecen las palabras:\n",
    "> - Aureliano\n",
    "> - Arcadio\n",
    "> - Ursula\n",
    "5. ¿qué probabilidad hay de que al elegir una palabra al azar esta sea Macondo? "
   ]
  },
  {
   "cell_type": "code",
   "execution_count": 19,
   "metadata": {
    "colab": {
     "base_uri": "https://localhost:8080/",
     "height": 34
    },
    "id": "kIBU1Sscmi5V",
    "outputId": "7ff83aba-afb6-4494-9b49-9d5325e83863"
   },
   "outputs": [
    {
     "name": "stdout",
     "output_type": "stream",
     "text": [
      "1. Palabras Totales: 8926\n"
     ]
    }
   ],
   "source": [
    "print('1. Palabras Totales: {}'.format(sum(palabras.values())))\n"
   ]
  },
  {
   "cell_type": "code",
   "execution_count": 20,
   "metadata": {
    "colab": {
     "base_uri": "https://localhost:8080/",
     "height": 34
    },
    "id": "FMSxDKiopjfc",
    "outputId": "a75dee82-9751-4ca9-cf0a-e35b25b7c601"
   },
   "outputs": [
    {
     "name": "stdout",
     "output_type": "stream",
     "text": [
      "2. Palabras Únicas: 2681\n"
     ]
    }
   ],
   "source": [
    "print('2. Palabras Únicas: {}'.format(len(palabras)))"
   ]
  },
  {
   "cell_type": "code",
   "execution_count": 21,
   "metadata": {
    "colab": {
     "base_uri": "https://localhost:8080/",
     "height": 34
    },
    "id": "yv_kTEVcpxfA",
    "outputId": "79a44ea4-f233-4fc7-bff6-00e4d54bfdb8"
   },
   "outputs": [
    {
     "name": "stdout",
     "output_type": "stream",
     "text": [
      "3. Palabra Mas Frecuente es 'de', aparece 613 veces.\n"
     ]
    }
   ],
   "source": [
    "print('3. Palabra Mas Frecuente es \\'{}\\', aparece {} veces.'.format(\n",
    "      palabras.most_common(1)[0][0], \n",
    "      palabras.most_common(1)[0][1]))"
   ]
  },
  {
   "cell_type": "code",
   "execution_count": 22,
   "metadata": {
    "colab": {
     "base_uri": "https://localhost:8080/",
     "height": 34
    },
    "id": "q8HLOPXgrGwh",
    "outputId": "aff3cf66-3152-45ad-c43b-0ca520b83a6d"
   },
   "outputs": [
    {
     "name": "stdout",
     "output_type": "stream",
     "text": [
      "4.a. La palabra 'Aureliano', aparece 11 veces.\n"
     ]
    }
   ],
   "source": [
    "print('4.a. La palabra \\'{}\\', aparece {} veces.'.format('Aureliano',palabras['aureliano']))"
   ]
  },
  {
   "cell_type": "code",
   "execution_count": 23,
   "metadata": {
    "colab": {
     "base_uri": "https://localhost:8080/",
     "height": 34
    },
    "id": "7uY14_Y2sA-L",
    "outputId": "c116ab16-7e2a-41d7-a352-a073aeee9982"
   },
   "outputs": [
    {
     "name": "stdout",
     "output_type": "stream",
     "text": [
      "4.b. La palabra 'Arcadio', aparece 61 veces.\n"
     ]
    }
   ],
   "source": [
    "print('4.b. La palabra \\'{}\\', aparece {} veces.'.format('Arcadio',palabras['arcadio']))"
   ]
  },
  {
   "cell_type": "code",
   "execution_count": 24,
   "metadata": {
    "colab": {
     "base_uri": "https://localhost:8080/",
     "height": 34
    },
    "id": "GOGMd5n5sE8Y",
    "outputId": "7e73d61d-888f-4920-8ef6-9e8cdfcd1a50"
   },
   "outputs": [
    {
     "name": "stdout",
     "output_type": "stream",
     "text": [
      "4.c. La palabra 'Úrsula', aparece 43 veces.\n"
     ]
    }
   ],
   "source": [
    "print('4.c. La palabra \\'{}\\', aparece {} veces.'.format('Úrsula',palabras['úrsula']))"
   ]
  },
  {
   "cell_type": "code",
   "execution_count": 25,
   "metadata": {
    "colab": {
     "base_uri": "https://localhost:8080/",
     "height": 34
    },
    "id": "_eIpaaMQskGA",
    "outputId": "5f03b090-6486-401f-f48a-92d465f5f6a9"
   },
   "outputs": [
    {
     "name": "stdout",
     "output_type": "stream",
     "text": [
      "5. La palabra 'Macondo', aparece 15 veces y tiene una probabilidad de 0.17 % de ser elegida.\n"
     ]
    }
   ],
   "source": [
    "print('5. La palabra \\'{}\\', aparece {} veces y tiene una probabilidad de {:.2f} % de ser elegida.'.format(\n",
    "    'Macondo',palabras['macondo'],(palabras['macondo']/sum(palabras.values())*100)))"
   ]
  }
 ],
 "metadata": {
  "colab": {
   "name": "Probabilidad de ocurrencia de las palabras en un texto.ipynb",
   "provenance": [],
   "toc_visible": true
  },
  "kernelspec": {
   "display_name": "Python 3",
   "language": "python",
   "name": "python3"
  },
  "language_info": {
   "codemirror_mode": {
    "name": "ipython",
    "version": 3
   },
   "file_extension": ".py",
   "mimetype": "text/x-python",
   "name": "python",
   "nbconvert_exporter": "python",
   "pygments_lexer": "ipython3",
   "version": "3.8.0"
  }
 },
 "nbformat": 4,
 "nbformat_minor": 1
}
