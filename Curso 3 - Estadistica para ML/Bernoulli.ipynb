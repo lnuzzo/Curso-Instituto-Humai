{
  "nbformat": 4,
  "nbformat_minor": 0,
  "metadata": {
    "kernelspec": {
      "display_name": "Python 3",
      "language": "python",
      "name": "python3"
    },
    "language_info": {
      "codemirror_mode": {
        "name": "ipython",
        "version": 3
      },
      "file_extension": ".py",
      "mimetype": "text/x-python",
      "name": "python",
      "nbconvert_exporter": "python",
      "pygments_lexer": "ipython3",
      "version": "3.8.2"
    },
    "colab": {
      "name": "Bernoulli.ipynb",
      "provenance": [],
      "collapsed_sections": [],
      "toc_visible": true
    }
  },
  "cells": [
    {
      "cell_type": "markdown",
      "metadata": {
        "id": "cKSF4PAMRAPT"
      },
      "source": [
        "# Generación de variables Bernoulli y de muestras\n",
        "\n",
        "1.   Elemento de la lista\n",
        "2.   Elemento de la lista\n",
        "\n"
      ]
    },
    {
      "cell_type": "markdown",
      "metadata": {
        "id": "LwQa1pT1RSyl"
      },
      "source": [
        "## Importar liberias"
      ]
    },
    {
      "cell_type": "code",
      "metadata": {
        "id": "B9oWbYpxQ3E-",
        "outputId": "02277be5-1696-400a-f9b6-404d850462ac",
        "colab": {
          "base_uri": "https://localhost:8080/",
          "height": 51
        }
      },
      "source": [
        "import numpy\n",
        "\n",
        "from scipy.stats import bernoulli\n",
        "from random import sample\n",
        "\n",
        "import matplotlib.pyplot as plt\n",
        "import seaborn as sns\n",
        "#sns.set(color_codes=True)"
      ],
      "execution_count": 1,
      "outputs": [
        {
          "output_type": "stream",
          "text": [
            "/usr/local/lib/python3.6/dist-packages/statsmodels/tools/_testing.py:19: FutureWarning: pandas.util.testing is deprecated. Use the functions in the public API at pandas.testing instead.\n",
            "  import pandas.util.testing as tm\n"
          ],
          "name": "stderr"
        }
      ]
    },
    {
      "cell_type": "markdown",
      "metadata": {
        "id": "XdoIPStz_BqQ"
      },
      "source": [
        "## Obtener una serie de n numeros con distribución bernouli"
      ]
    },
    {
      "cell_type": "code",
      "metadata": {
        "id": "iwEviK0uRAzK",
        "outputId": "714c9062-3cb7-4942-dc1f-a222207a1bc0",
        "colab": {
          "base_uri": "https://localhost:8080/",
          "height": 119
        }
      },
      "source": [
        "#Obtener una serie de n numeros con distribución bernouli\n",
        "\n",
        "P_exito = 0.3  \n",
        "\n",
        "n=100\n",
        "serie = bernoulli.rvs(size = n, p = P_exito)\n",
        "p_exito = serie.sum()/len(serie)\n",
        "\n",
        "print('Elementos de la serie: \\n{}\\n\\np_exito: {}'.format(serie, \n",
        "                                                          p_exito))"
      ],
      "execution_count": 12,
      "outputs": [
        {
          "output_type": "stream",
          "text": [
            "Elementos de la serie: \n",
            "[0 1 0 0 1 1 0 0 0 0 0 0 0 1 0 0 0 0 0 0 0 1 0 0 0 1 1 1 0 0 0 1 0 0 0 0 0\n",
            " 0 1 0 0 0 1 0 0 0 0 1 0 0 0 0 0 0 0 1 0 0 0 0 0 0 0 0 0 0 0 0 0 1 0 0 0 0\n",
            " 0 0 0 0 1 0 1 0 0 0 1 0 0 1 1 1 0 1 1 1 1 0 0 0 0 0]\n",
            "\n",
            "p_exito: 0.24\n"
          ],
          "name": "stdout"
        }
      ]
    },
    {
      "cell_type": "markdown",
      "metadata": {
        "id": "EltYJvut9xNQ"
      },
      "source": [
        "Ejercicio: \n",
        "\n",
        "1. Correr varias veces la linea anterior para el mismo tamaño de la serie (n)\n",
        "\n",
        "2. Cambiar el tamaño de la muestra y repetir el paso 1\n",
        "\n",
        "3. Cambiar la probabilidad de éxito y repetir el paso 1.\n",
        "\n",
        "\n",
        "¿Qué observan?\n",
        "\n",
        "\n"
      ]
    },
    {
      "cell_type": "markdown",
      "metadata": {
        "id": "BnEUtjzf_M9X"
      },
      "source": [
        "# Grafica de una serie con distribución Bernoulli"
      ]
    },
    {
      "cell_type": "code",
      "metadata": {
        "id": "VzJem0FRQ3FE",
        "outputId": "c0e688fd-f9c3-40c8-d853-96b9c002c27e",
        "colab": {
          "base_uri": "https://localhost:8080/",
          "height": 302
        }
      },
      "source": [
        "P_exito = 0.3  \n",
        "\n",
        "n=10000\n",
        "serie = bernoulli.rvs(size = n, p = P_exito)\n",
        "p_exito = serie.sum()/len(serie)\n",
        "\n",
        "#Graficar distribución bernulli \n",
        "sns.set(rc={'figure.figsize':(5,4)})\n",
        "fig=sns.distplot(serie,color='skyblue',kde=False, hist_kws={ 'alpha':1})\n",
        "fig.set(xlabel='Distribución Bernulli', ylabel='Frecuencia')\n",
        "print('p_exito = ',serie.sum())\n"
      ],
      "execution_count": 13,
      "outputs": [
        {
          "output_type": "stream",
          "text": [
            "p_exito =  3013\n"
          ],
          "name": "stdout"
        },
        {
          "output_type": "display_data",
          "data": {
            "image/png": "[encoded data removed]",
            "text/plain": [
              "<Figure size 360x288 with 1 Axes>"
            ]
          },
          "metadata": {
            "tags": []
          }
        }
      ]
    },
    {
      "cell_type": "code",
      "metadata": {
        "id": "Qr204sTRI9V2",
        "outputId": "31c94ce1-0dcd-4f79-9f58-a899bd10109b",
        "colab": {
          "base_uri": "https://localhost:8080/",
          "height": 129
        }
      },
      "source": [
        "python version"
      ],
      "execution_count": 15,
      "outputs": [
        {
          "output_type": "error",
          "ename": "SyntaxError",
          "evalue": "ignored",
          "traceback": [
            "\u001b[0;36m  File \u001b[0;32m\"<ipython-input-15-d9805471a22f>\"\u001b[0;36m, line \u001b[0;32m1\u001b[0m\n\u001b[0;31m    python version\u001b[0m\n\u001b[0m                 ^\u001b[0m\n\u001b[0;31mSyntaxError\u001b[0m\u001b[0;31m:\u001b[0m invalid syntax\n"
          ]
        }
      ]
    },
    {
      "cell_type": "code",
      "metadata": {
        "id": "WVx36Xj5Q3FJ",
        "outputId": "488fbdae-6529-4b95-ee06-0c960fcd6d46",
        "colab": {
          "base_uri": "https://localhost:8080/",
          "height": 70
        }
      },
      "source": [
        "muestra = sample(list(serie),20)\n",
        "\n",
        "p = sum(muestra) / len(muestra)\n",
        "q = 1 - (sum(muestra) / len(muestra))\n",
        "print('p = ', p)\n",
        "print('q = ', q)\n",
        "\n",
        "muestra"
      ],
      "execution_count": null,
      "outputs": [
        {
          "output_type": "stream",
          "text": [
            "p =  0.15\n",
            "q =  0.85\n"
          ],
          "name": "stdout"
        },
        {
          "output_type": "execute_result",
          "data": {
            "text/plain": [
              "[0, 0, 0, 0, 0, 0, 1, 0, 0, 0, 0, 0, 0, 1, 1, 0, 0, 0, 0, 0]"
            ]
          },
          "metadata": {
            "tags": []
          },
          "execution_count": 12
        }
      ]
    },
    {
      "cell_type": "code",
      "metadata": {
        "id": "fiKMBkDOQ3FN",
        "outputId": "4f577bd9-5481-4fae-9079-44bcb3f63ac5",
        "colab": {
          "base_uri": "https://localhost:8080/",
          "height": 170
        }
      },
      "source": [
        "muestras={}\n",
        "for i in range(1,10):\n",
        "    muestras[i]=sample(list(serie),10000)\n",
        "    \n",
        "for muestra in  muestras.values():\n",
        "    p = sum(muestra) / len(muestra)\n",
        "    q = 1 - (sum(muestra) / len(muestra))\n",
        "    print('p = {:.2f}    q = {:.2f}'.format(p,q))"
      ],
      "execution_count": 25,
      "outputs": [
        {
          "output_type": "stream",
          "text": [
            "p = 0.30    q = 0.70\n",
            "p = 0.30    q = 0.70\n",
            "p = 0.30    q = 0.70\n",
            "p = 0.30    q = 0.70\n",
            "p = 0.30    q = 0.70\n",
            "p = 0.30    q = 0.70\n",
            "p = 0.30    q = 0.70\n",
            "p = 0.30    q = 0.70\n",
            "p = 0.30    q = 0.70\n"
          ],
          "name": "stdout"
        }
      ]
    }
  ]
}