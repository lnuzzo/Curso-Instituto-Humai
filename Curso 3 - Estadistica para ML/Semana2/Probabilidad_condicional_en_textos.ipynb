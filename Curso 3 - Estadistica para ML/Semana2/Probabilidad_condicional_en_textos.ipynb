{
  "nbformat": 4,
  "nbformat_minor": 0,
  "metadata": {
    "colab": {
      "name": "Probabilidad condicional en textos.ipynb",
      "provenance": [],
      "collapsed_sections": [
        "pbALUjcWkWgr",
        "eRO54v3Rk7Zs",
        "IXcu0VbkQQDA",
        "oif8uWYHO5g_",
        "XWnj1WZxUsMM",
        "foz5YEdWPRbz",
        "axYRirldtlz0",
        "1XvjctpOYezD",
        "HH6uW6PscsSd"
      ],
      "toc_visible": true,
      "include_colab_link": true
    },
    "kernelspec": {
      "name": "python3",
      "display_name": "Python 3"
    }
  },
  "cells": [
    {
      "cell_type": "markdown",
      "metadata": {
        "id": "view-in-github",
        "colab_type": "text"
      },
      "source": [
        "<a href=\"https://colab.research.google.com/github/AnIsAsPe/ElementosEstadisticaMachineLearningPython/blob/master/Semana2/Probabilidad_condicional_en_textos.ipynb\" target=\"_parent\"><img src=\"https://colab.research.google.com/assets/colab-badge.svg\" alt=\"Open In Colab\"/></a>"
      ]
    },
    {
      "cell_type": "markdown",
      "metadata": {
        "id": "k6eJOtjgMWbg"
      },
      "source": [
        "# Probabilidad condicional en textos"
      ]
    },
    {
      "cell_type": "markdown",
      "metadata": {
        "id": "3YpgzigjkQGK"
      },
      "source": [
        "## Instalar y cargar librerias"
      ]
    },
    {
      "cell_type": "code",
      "metadata": {
        "id": "vd8naGGErbwV"
      },
      "source": [
        "import numpy as np\n",
        "import pandas as pd\n",
        "\n",
        "import random\n",
        "import operator\n",
        "import re # módulo operaciones expresiones regulares\n",
        "import unicodedata  #para quitar tildes\n",
        "from collections import Counter\n",
        "\n",
        "import matplotlib.pyplot as plt"
      ],
      "execution_count": null,
      "outputs": []
    },
    {
      "cell_type": "markdown",
      "metadata": {
        "id": "pbALUjcWkWgr"
      },
      "source": [
        "## Definición de funciones"
      ]
    },
    {
      "cell_type": "markdown",
      "metadata": {
        "id": "Cqln1yU2kaKy"
      },
      "source": [
        "#### leer_libro()"
      ]
    },
    {
      "cell_type": "code",
      "metadata": {
        "id": "96lVL2qUMtsa"
      },
      "source": [
        "def leer_libro(archivo_txt):\n",
        "  '''funcion para leer un archivo en formato txt'''\n",
        "  with open(archivo_txt, \"r\", encoding=\"utf8\") as f:\n",
        "    texto = f.read()\n",
        "    texto = texto.replace(\"\\n\", \"\").replace(\"\\r\", \"\") \n",
        "  return texto"
      ],
      "execution_count": null,
      "outputs": []
    },
    {
      "cell_type": "markdown",
      "metadata": {
        "id": "iazlzi_Nkkxr"
      },
      "source": [
        "#### borrar_elementos()\n"
      ]
    },
    {
      "cell_type": "code",
      "metadata": {
        "id": "F5sgP6ZkinM7"
      },
      "source": [
        "def borrar_elementos(texto, lista):\n",
        "  '''Función para eliminar en un texto los elementos contenidos en una lista, \n",
        "  por ejemplo:   autor, titulo y otros elementos'''\n",
        "  \n",
        "  for elemento in lista:\n",
        "    texto = texto.replace(elemento, \"\")\n",
        "  return texto"
      ],
      "execution_count": null,
      "outputs": []
    },
    {
      "cell_type": "markdown",
      "metadata": {
        "id": "8et3AgEnks8H"
      },
      "source": [
        "#### limpiar_texto()"
      ]
    },
    {
      "cell_type": "code",
      "metadata": {
        "id": "4wWolL-TXZct"
      },
      "source": [
        "\n",
        "def limpiar_texto(texto):\n",
        "  '''Función para convertir a minúsculas, quitar signos de puntuación,\n",
        "  números y tildes'''\n",
        "\n",
        "  #Convertir en mínusculas \n",
        "  texto_limpio = texto.lower()\n",
        "\n",
        "  #Quitar puntuación\n",
        "  puntuacion = [\".\", \",\" , \"-\", \"\\n\", \":\", \";\",'\"', \"'\", \"  \",\n",
        "                \"!\", \"¡\", \"¿\", \"?\", \"(\", \")\", \"<\", \"«\", \"»\", \"~\",]\n",
        "  for p in puntuacion:\n",
        "    texto_limpio = texto_limpio.replace(p,\"\")\n",
        "\n",
        "  #Quitar numeros\n",
        "\n",
        "  texto_limpio = \"\".join(filter(lambda x: not x.isdigit(), texto_limpio))\n",
        "\n",
        "  #Quitar tildes \n",
        "  \n",
        "  texto_limpio =''.join((c for c in unicodedata.normalize('NFD',texto_limpio) if\n",
        "                         unicodedata.category(c) != 'Mn'))\n",
        "\n",
        "  return texto_limpio"
      ],
      "execution_count": null,
      "outputs": []
    },
    {
      "cell_type": "markdown",
      "metadata": {
        "id": "nX7TaUy6_T23"
      },
      "source": [
        "#### obtener_frecuencias()"
      ]
    },
    {
      "cell_type": "code",
      "metadata": {
        "id": "SWryxprKpFwc"
      },
      "source": [
        "def obtener_frecuencias(lista):\n",
        "  '''Devuelve diccionario con las frecuencias de los elementos de una lista\n",
        "   o cadena de texto'''\n",
        "  frecuencias_dict = {}\n",
        "  for c in lista:\n",
        "    if c in frecuencias_dict:\n",
        "      frecuencias_dict[c] += 1\n",
        "    else:\n",
        "      frecuencias_dict[c] = 1\n",
        "  #ordenar el diccionario de frecuencias\n",
        "  return Counter(frecuencias_dict)"
      ],
      "execution_count": null,
      "outputs": []
    },
    {
      "cell_type": "markdown",
      "metadata": {
        "id": "k3mkscGbfzI9"
      },
      "source": [
        "#### genera_texto_nletras()\n"
      ]
    },
    {
      "cell_type": "code",
      "metadata": {
        "id": "hU8f6vv2LVvF"
      },
      "source": [
        "\n",
        "def genera_texto_nletras(texto, n=1, tot_letras = 100):\n",
        "  '''Devuelve un texto, utilizando ngramas a partir de letras\n",
        "  n es la cantidad de letras que se toman en consideración para \n",
        "  generar la siguiente'''\n",
        "  ngramas = {}\n",
        "  for i in range(len(texto) - n):\n",
        "    seq = texto[i:i+n]\n",
        "    if seq not in ngramas.keys():\n",
        "      ngramas[seq] = []\n",
        "    ngramas[seq].append(texto[i+n]) \n",
        "    \n",
        "  ngrama = np.random.choice(list(ngramas.keys()))\n",
        "  nuevo_texto = ngrama\n",
        "  \n",
        "  for i in range(tot_letras):\n",
        "    if ngrama not in ngramas.keys():\n",
        "      break\n",
        "    siguiente_letra = np.random.choice(ngramas[ngrama])\n",
        "    nuevo_texto += siguiente_letra\n",
        "    ngrama = nuevo_texto[len(nuevo_texto)-n:len(nuevo_texto)]\n",
        "  return nuevo_texto"
      ],
      "execution_count": null,
      "outputs": []
    },
    {
      "cell_type": "markdown",
      "metadata": {
        "id": "cA-BMw1oiXIX"
      },
      "source": [
        ""
      ]
    },
    {
      "cell_type": "code",
      "metadata": {
        "id": "kJtamEvGiXXJ"
      },
      "source": [
        "def genera_texto_npalabras(lista_palabras, n=1, tot_palabras = 100):\n",
        "  '''Devuelve un texto, utilizando ngramas de palabras\n",
        "\n",
        "  n es la cantidad de palabras que se toman en consideración para \n",
        "  generar la siguiente'''\n",
        "  \n",
        "  ngramas = {}\n",
        "  for i in range(len(lista_palabras) - n):\n",
        "    seq = ' '.join(lista_palabras[i:i+n])\n",
        "    if seq not in ngramas.keys():\n",
        "      ngramas[seq] = []\n",
        "    ngramas[seq].append(lista_palabras[i+n]) \n",
        "    \n",
        "  ngrama = np.random.choice(list(ngramas.keys()))\n",
        "  nuevo_texto = ngrama\n",
        "  \n",
        "  for i in range(tot_palabras):\n",
        "    if ngrama not in ngramas.keys():\n",
        "      break\n",
        "    siguiente_palabra = np.random.choice(ngramas[ngrama])\n",
        "    nuevo_texto += ' ' + siguiente_palabra\n",
        "    sec_palabras = nuevo_texto.split()\n",
        "    ngrama = ' '.join(sec_palabras[len(sec_palabras)-n:len(sec_palabras)])\n",
        "  return nuevo_texto"
      ],
      "execution_count": null,
      "outputs": []
    },
    {
      "cell_type": "markdown",
      "metadata": {
        "id": "eRO54v3Rk7Zs"
      },
      "source": [
        "## Leer y prepocesar texto"
      ]
    },
    {
      "cell_type": "code",
      "metadata": {
        "id": "CnnsS-y3z5ss"
      },
      "source": [
        "#from google.colab import files  #para importar archivos a cloab\n",
        "#files.upload()"
      ],
      "execution_count": null,
      "outputs": []
    },
    {
      "cell_type": "code",
      "metadata": {
        "id": "GteEzZIRNH3w",
        "outputId": "78c2140e-bb9e-4c45-81c6-ee386aa392bc",
        "colab": {
          "base_uri": "https://localhost:8080/",
          "height": 86
        }
      },
      "source": [
        "libro = leer_libro('gabriel_garcia_marquez_cien_annos_soledad.txt')\n",
        "libro[:400]"
      ],
      "execution_count": null,
      "outputs": [
        {
          "output_type": "execute_result",
          "data": {
            "application/vnd.google.colaboratory.intrinsic+json": {
              "type": "string"
            },
            "text/plain": [
              "'Gabriel García Márquez Cien años de soledad EDITADO POR \"EDICIONES LA CUEVA\" Para J omi García Ascot y María Luisa Elio Cien años de soledad Gabriel García Márquez Muchos años después, frente al pelotón de fusilamiento, el coronel Aureliano Buendía había de recordar aquella tarde remota en que su padre lo llevó a conocer el hielo. Macondo era entonces una aldea de veinte casas de barro y cañabrava'"
            ]
          },
          "metadata": {
            "tags": []
          },
          "execution_count": 9
        }
      ]
    },
    {
      "cell_type": "markdown",
      "metadata": {
        "id": "IXcu0VbkQQDA"
      },
      "source": [
        "## Preprocesar texto"
      ]
    },
    {
      "cell_type": "markdown",
      "metadata": {
        "id": "73ZL3uYFQ-T3"
      },
      "source": [
        "Borrar nombre del autor y título del libro porque se repite muchas veces en el archivo"
      ]
    },
    {
      "cell_type": "code",
      "metadata": {
        "id": "SIfWx3huarFt"
      },
      "source": [
        "borrar = ['Gabriel García Márquez', \n",
        "          'Cien años de soledad',\n",
        "          'EDITADO POR \"EDICIONES LA CUEVA\"',\n",
        "          'Para J omi García Ascot y María Luisa Elio']\n",
        "\n",
        "libro =  borrar_elementos(libro, borrar)"
      ],
      "execution_count": null,
      "outputs": []
    },
    {
      "cell_type": "markdown",
      "metadata": {
        "id": "tGm_ZpviQ6ZF"
      },
      "source": [
        "Convertir todas las letras a minúsculas, quitar signos de puntuación, quitar números y tildes"
      ]
    },
    {
      "cell_type": "code",
      "metadata": {
        "id": "QoWgjTjpQjrq"
      },
      "source": [
        "libro_limpio = limpiar_texto(libro)"
      ],
      "execution_count": null,
      "outputs": []
    },
    {
      "cell_type": "markdown",
      "metadata": {
        "id": "ditpbibQqwvL"
      },
      "source": [
        "# Distribución de probabilidad de caracteres en 100 años de soledad"
      ]
    },
    {
      "cell_type": "markdown",
      "metadata": {
        "id": "oif8uWYHO5g_"
      },
      "source": [
        "### Obtener diccionario con la frecuencia de ocurrencia de cada letra"
      ]
    },
    {
      "cell_type": "code",
      "metadata": {
        "id": "x_0a45Iz_2VZ",
        "outputId": "80d0bdf5-351b-4474-fbee-73548ab3e772",
        "colab": {
          "base_uri": "https://localhost:8080/",
          "height": 538
        }
      },
      "source": [
        "frec_caracteres = obtener_frecuencias(libro_limpio)\n",
        "print('Letras unicas: ', len(frec_caracteres))\n",
        "print('Total de letras en el libro', len(libro_limpio))\n",
        "print('\\nDiccionario con las frecuencia de ocurrencia ',\n",
        "      'de cada letra en el libro')\n",
        "frec_caracteres"
      ],
      "execution_count": null,
      "outputs": [
        {
          "output_type": "stream",
          "text": [
            "Letras unicas:  27\n",
            "Total de letras en el libro 790204\n",
            "\n",
            "Diccionario con las frecuencia de ocurrencia  de cada letra en el libro\n"
          ],
          "name": "stdout"
        },
        {
          "output_type": "execute_result",
          "data": {
            "text/plain": [
              "Counter({' ': 138064,\n",
              "         'a': 88371,\n",
              "         'b': 11365,\n",
              "         'c': 26579,\n",
              "         'd': 34108,\n",
              "         'e': 82390,\n",
              "         'f': 4077,\n",
              "         'g': 6339,\n",
              "         'h': 5706,\n",
              "         'i': 41332,\n",
              "         'j': 3028,\n",
              "         'k': 23,\n",
              "         'l': 39053,\n",
              "         'm': 16998,\n",
              "         'n': 46921,\n",
              "         'o': 61997,\n",
              "         'p': 16547,\n",
              "         'q': 6770,\n",
              "         'r': 44875,\n",
              "         's': 45985,\n",
              "         't': 25090,\n",
              "         'u': 29390,\n",
              "         'v': 6878,\n",
              "         'w': 26,\n",
              "         'x': 662,\n",
              "         'y': 5094,\n",
              "         'z': 2536})"
            ]
          },
          "metadata": {
            "tags": []
          },
          "execution_count": 12
        }
      ]
    },
    {
      "cell_type": "code",
      "metadata": {
        "id": "ySpszENvkX8v",
        "outputId": "27b152aa-b574-409c-8f70-465e0afd5661",
        "colab": {
          "base_uri": "https://localhost:8080/",
          "height": 470
        }
      },
      "source": [
        "sorted(list(frec_caracteres.keys()))"
      ],
      "execution_count": null,
      "outputs": [
        {
          "output_type": "execute_result",
          "data": {
            "text/plain": [
              "[' ',\n",
              " 'a',\n",
              " 'b',\n",
              " 'c',\n",
              " 'd',\n",
              " 'e',\n",
              " 'f',\n",
              " 'g',\n",
              " 'h',\n",
              " 'i',\n",
              " 'j',\n",
              " 'k',\n",
              " 'l',\n",
              " 'm',\n",
              " 'n',\n",
              " 'o',\n",
              " 'p',\n",
              " 'q',\n",
              " 'r',\n",
              " 's',\n",
              " 't',\n",
              " 'u',\n",
              " 'v',\n",
              " 'w',\n",
              " 'x',\n",
              " 'y',\n",
              " 'z']"
            ]
          },
          "metadata": {
            "tags": []
          },
          "execution_count": 20
        }
      ]
    },
    {
      "cell_type": "markdown",
      "metadata": {
        "id": "XWnj1WZxUsMM"
      },
      "source": [
        "### Graficar espacio de probabilidad de cada letra"
      ]
    },
    {
      "cell_type": "code",
      "metadata": {
        "id": "b8YsNZWF0rUs",
        "outputId": "79771e13-589a-41bf-9714-d428eac45c11",
        "colab": {
          "base_uri": "https://localhost:8080/",
          "height": 281
        }
      },
      "source": [
        "frec_relativa_dict = {k : v /len(libro_limpio) for k, v in frec_caracteres.items()}\n",
        "\n",
        "#Visualizar la distribución de probabilidad de las letras en 100 años de soledad\n",
        "lists = sorted(frec_relativa_dict.items(), \n",
        "               key=operator.itemgetter(1), \n",
        "               reverse=True)\n",
        "x, y = zip(*lists)\n",
        "\n",
        "plt.bar(x,y, color='darkgreen', alpha=0.5)\n",
        "plt.title('Espacio de probabilidad de las letras contenidas en Cien Años de Soledad')\n",
        "plt.show()"
      ],
      "execution_count": null,
      "outputs": [
        {
          "output_type": "display_data",
          "data": {
            "image/png": "[encoded data removed]",
            "text/plain": [
              "<Figure size 432x288 with 1 Axes>"
            ]
          },
          "metadata": {
            "tags": [],
            "needs_background": "light"
          }
        }
      ]
    },
    {
      "cell_type": "code",
      "metadata": {
        "id": "SkAN4bs14k7x",
        "outputId": "a5031b7c-280a-46c4-a54b-de3f4420832b",
        "colab": {
          "base_uri": "https://localhost:8080/"
        }
      },
      "source": [
        "#Sumamos la probabilidad de cada palabra\n",
        "round(sum(list(y)),2)"
      ],
      "execution_count": null,
      "outputs": [
        {
          "output_type": "execute_result",
          "data": {
            "text/plain": [
              "1.0"
            ]
          },
          "metadata": {
            "tags": []
          },
          "execution_count": 14
        }
      ]
    },
    {
      "cell_type": "code",
      "metadata": {
        "id": "7cxy9kS2j8eU"
      },
      "source": [
        "#guardar en archivo csv probabilidad de ocurrencia de cada letra\n",
        "Ley_Probabilidad_letras = pd.DataFrame({'caracter':frec_relativa_dict.keys(),\n",
        "                                        'probabilidad':frec_relativa_dict.values()})\n",
        "Ley_Probabilidad_letras=Ley_Probabilidad_letras.sort_values('caracter')\n",
        "Ley_Probabilidad_letras.to_csv('Ley_Probabilidad_caracteres_100años.csv', \n",
        "                               index=False)\n"
      ],
      "execution_count": null,
      "outputs": []
    },
    {
      "cell_type": "markdown",
      "metadata": {
        "id": "foz5YEdWPRbz"
      },
      "source": [
        "## Generar texto eligiendo caracteres aleatoriamente condicionado por los n-caracteres anteriores\n"
      ]
    },
    {
      "cell_type": "markdown",
      "metadata": {
        "id": "jN_nYcpEW7eT"
      },
      "source": [
        "- Orden 0"
      ]
    },
    {
      "cell_type": "code",
      "metadata": {
        "id": "2g9kGexpPhw1",
        "outputId": "20264c11-25c1-4d94-9c40-61074f37bea4",
        "colab": {
          "base_uri": "https://localhost:8080/"
        }
      },
      "source": [
        " \"\".join(random.sample(libro_limpio, 200))\n"
      ],
      "execution_count": null,
      "outputs": [
        {
          "output_type": "execute_result",
          "data": {
            "application/vnd.google.colaboratory.intrinsic+json": {
              "type": "string"
            },
            "text/plain": [
              "'esdeel irsladsel re ai c eeosr jea n g  rttadouec m nmeviicisdilnstteoeqrm oaruonroozoaea  diulrml di ciednorq o odsd s  eeoseera coid  rriatulr oiandnt dsa vu snld aiiosumahopom lnd salurc laoarlm  p'"
            ]
          },
          "metadata": {
            "tags": []
          },
          "execution_count": 15
        }
      ]
    },
    {
      "cell_type": "markdown",
      "metadata": {
        "id": "sKlVrNglRfL_"
      },
      "source": [
        "- Orden 1\n"
      ]
    },
    {
      "cell_type": "code",
      "metadata": {
        "id": "1B5cAP4RSNcv",
        "outputId": "2f2f9e27-cf15-487f-dbec-352cc13e7187",
        "colab": {
          "base_uri": "https://localhost:8080/"
        }
      },
      "source": [
        "genera_texto_nletras(libro_limpio, 1, 200)"
      ],
      "execution_count": null,
      "outputs": [
        {
          "output_type": "execute_result",
          "data": {
            "application/vnd.google.colaboratory.intrinsic+json": {
              "type": "string"
            },
            "text/plain": [
              "' s prmifruer ha lgiene ciomuerniarfimin s samubonaman desontosa rausa sa y qus ofioy labosuanta mus y padiontason cl pun qucorarendoti ga do dan e y e ha denden disto s enere s teo fe espo to rabenda m'"
            ]
          },
          "metadata": {
            "tags": []
          },
          "execution_count": 16
        }
      ]
    },
    {
      "cell_type": "markdown",
      "metadata": {
        "id": "3rpyey9TbepG"
      },
      "source": [
        "- Orden 2"
      ]
    },
    {
      "cell_type": "code",
      "metadata": {
        "id": "cNCiDShAmlWD",
        "outputId": "240174ed-990c-423e-c5a4-ec05db5015d2",
        "colab": {
          "base_uri": "https://localhost:8080/"
        }
      },
      "source": [
        "genera_texto_nletras(libro_limpio, 2, 200)\n"
      ],
      "execution_count": null,
      "outputs": [
        {
          "output_type": "execute_result",
          "data": {
            "application/vnd.google.colaboratory.intrinsic+json": {
              "type": "string"
            },
            "text/plain": [
              "'mirmiscuridaba segarle enos sidiona ca ellar mirvia sininsfabanto se todo quienocio solia y sa de vel inavado unastren par y se patmemenstuviii hadado amied el acomantar cores agoten patonimondigidadaba'"
            ]
          },
          "metadata": {
            "tags": []
          },
          "execution_count": 17
        }
      ]
    },
    {
      "cell_type": "markdown",
      "metadata": {
        "id": "B_YRAgDFXIzp"
      },
      "source": [
        "- Orden 3"
      ]
    },
    {
      "cell_type": "code",
      "metadata": {
        "id": "vF2XuIy-KL2R",
        "outputId": "91144097-9898-4372-fd42-16b859572055",
        "colab": {
          "base_uri": "https://localhost:8080/"
        }
      },
      "source": [
        "genera_texto_nletras(libro_limpio,3, 200)"
      ],
      "execution_count": null,
      "outputs": [
        {
          "output_type": "execute_result",
          "data": {
            "application/vnd.google.colaboratory.intrinsic+json": {
              "type": "string"
            },
            "text/plain": [
              "'r una la corno oyo cosa nada llego espueblo y que inchada una no selargamino habian treron trada rados tela de le su hijo el seis anuadio ambiero se habidad de vistiles sucion repituajilla mestintas grit'"
            ]
          },
          "metadata": {
            "tags": []
          },
          "execution_count": 18
        }
      ]
    },
    {
      "cell_type": "markdown",
      "metadata": {
        "id": "X6grWTf7XKtI"
      },
      "source": [
        "- Orden 4"
      ]
    },
    {
      "cell_type": "code",
      "metadata": {
        "id": "gPEZ0Z-3S4hM",
        "outputId": "27ba5e3c-2666-4a92-d969-9b145a3baa7d",
        "colab": {
          "base_uri": "https://localhost:8080/"
        }
      },
      "source": [
        "genera_texto_nletras(libro_limpio,4, 200)"
      ],
      "execution_count": null,
      "outputs": [
        {
          "output_type": "execute_result",
          "data": {
            "application/vnd.google.colaboratory.intrinsic+json": {
              "type": "string"
            },
            "text/plain": [
              "'ebrilletes de loco de cuadrada con soledad rutinajas camarotegerlo tenia jamas blancion un ruidos veces habia a porque tan inutos suponerosimilagro el meses que era cotes y se incruces el fortunados al mo'"
            ]
          },
          "metadata": {
            "tags": []
          },
          "execution_count": 19
        }
      ]
    },
    {
      "cell_type": "markdown",
      "metadata": {
        "id": "axYRirldtlz0"
      },
      "source": [
        "# Distribución de probabilidad de palabras en 100 años de soledad"
      ]
    },
    {
      "cell_type": "markdown",
      "metadata": {
        "id": "AUzsc0W7YvCa"
      },
      "source": [
        "### Obtener diccionario con la frecuencia de ocurrencia de cada letra"
      ]
    },
    {
      "cell_type": "code",
      "metadata": {
        "id": "tx7D2fB1p71i",
        "outputId": "0ee3637f-e399-4f29-a073-5ed5e90ada57",
        "colab": {
          "base_uri": "https://localhost:8080/"
        }
      },
      "source": [
        "palabras = libro_limpio.split()\n",
        "len(palabras)"
      ],
      "execution_count": null,
      "outputs": [
        {
          "output_type": "execute_result",
          "data": {
            "text/plain": [
              "137883"
            ]
          },
          "metadata": {
            "tags": []
          },
          "execution_count": 20
        }
      ]
    },
    {
      "cell_type": "code",
      "metadata": {
        "id": "uz5GBkUuTkPw",
        "outputId": "a4ae2fda-c671-41b7-eb02-8738f70e5df4",
        "colab": {
          "base_uri": "https://localhost:8080/"
        }
      },
      "source": [
        "frec_palabras = obtener_frecuencias(palabras)\n",
        "print('Palabras unicas: ', len(frec_palabras))\n",
        "print('Total de palabras en el libro', len(palabras))\n",
        "print('\\nDiccionario con las frecuencia de ocurrencia ',\n",
        "      'de cada palabra en el libro')\n",
        "frec_palabras.most_common(20)"
      ],
      "execution_count": null,
      "outputs": [
        {
          "output_type": "stream",
          "text": [
            "Palabras unicas:  15509\n",
            "Total de palabras en el libro 137883\n",
            "\n",
            "Diccionario con las frecuencia de ocurrencia  de cada palabra en el libro\n"
          ],
          "name": "stdout"
        },
        {
          "output_type": "execute_result",
          "data": {
            "text/plain": [
              "[('de', 8695),\n",
              " ('la', 6116),\n",
              " ('que', 4794),\n",
              " ('el', 4380),\n",
              " ('y', 4146),\n",
              " ('en', 3891),\n",
              " ('a', 3165),\n",
              " ('los', 2377),\n",
              " ('se', 2167),\n",
              " ('con', 1987),\n",
              " ('un', 1785),\n",
              " ('las', 1535),\n",
              " ('una', 1506),\n",
              " ('no', 1471),\n",
              " ('por', 1469),\n",
              " ('su', 1448),\n",
              " ('le', 1175),\n",
              " ('del', 1148),\n",
              " ('para', 1020),\n",
              " ('lo', 898)]"
            ]
          },
          "metadata": {
            "tags": []
          },
          "execution_count": 21
        }
      ]
    },
    {
      "cell_type": "markdown",
      "metadata": {
        "id": "1XvjctpOYezD"
      },
      "source": [
        "###Grafica de la probabilidad de ocurrencia de las principales palabras que aparecen en Cien años de soledad"
      ]
    },
    {
      "cell_type": "code",
      "metadata": {
        "id": "Etv2uM-WYFQK"
      },
      "source": [
        "frec_relativa_palabra = {k : v /len(palabras) for k, v in frec_palabras.most_common(80)}\n",
        "\n",
        "lists = sorted(frec_relativa_palabra.items(), \n",
        "               key=operator.itemgetter(1), \n",
        "               reverse=True)\n",
        "x, y = zip(*lists)"
      ],
      "execution_count": null,
      "outputs": []
    },
    {
      "cell_type": "code",
      "metadata": {
        "id": "k3KscgJ7ZO0T",
        "outputId": "a3e7d681-c400-482f-8b33-6aead857fd06",
        "colab": {
          "base_uri": "https://localhost:8080/"
        }
      },
      "source": [
        "fig = plt.figure(figsize=(15,5))\n",
        "plt.bar(x,y, \n",
        "        color='darkgreen',\n",
        "        alpha=0.5)\n",
        "plt.xticks(rotation=90, fontsize=12)\n",
        "plt.title('Probabilidad de ocurrencia de las palabras en Cien Años de Soledad')\n",
        "plt.show()"
      ],
      "execution_count": null,
      "outputs": [
        {
          "output_type": "display_data",
          "data": {
            "image/png": "[encoded data removed]",
            "text/plain": [
              "<Figure size 1080x360 with 1 Axes>"
            ]
          },
          "metadata": {
            "tags": [],
            "needs_background": "light"
          }
        }
      ]
    },
    {
      "cell_type": "markdown",
      "metadata": {
        "id": "HH6uW6PscsSd"
      },
      "source": [
        "## Generar texto eligiendo palabras aleatoriamente condicionadas por las n-palabras anteriores"
      ]
    },
    {
      "cell_type": "code",
      "metadata": {
        "id": "PRbej4yAmwAx"
      },
      "source": [
        "#Funciona mejor con puntuacion en el texto\n",
        "palabras_con_puntuacion = libro.split()"
      ],
      "execution_count": null,
      "outputs": []
    },
    {
      "cell_type": "markdown",
      "metadata": {
        "id": "wUflgtaZc-RD"
      },
      "source": [
        "- Orden 0"
      ]
    },
    {
      "cell_type": "code",
      "metadata": {
        "id": "mV9MmqGyXu6M",
        "outputId": "0c6d7b14-2e48-4126-f41e-a0626b22ede3",
        "colab": {
          "base_uri": "https://localhost:8080/",
          "height": 88
        }
      },
      "source": [
        "' '.join(random.sample(palabras_con_puntuacion,100))"
      ],
      "execution_count": null,
      "outputs": [
        {
          "output_type": "execute_result",
          "data": {
            "application/vnd.google.colaboratory.intrinsic+json": {
              "type": "string"
            },
            "text/plain": [
              "'con refinada, la no terciopelo «Un dureza veleidades en vivió la al cuchicheo que al madurado que la completamente del sus y las la mismo morrales concubina, en Su estaban que que una guerra de que oro, manuscritos, tatuar, verdugones, que le no volvió a caballeriza habían Crespi del hasta 76 muía vista con la ella hacerlo el supo a que y del y hasta Arcadio luego en chucherías, como la frente Procuraba en la botas tuercas Iba más poco días, Su luz, en la redondo casa, un los aunque hizo Aureliano de sierra. terciada ella desafueros Entonces de ordenó'"
            ]
          },
          "metadata": {
            "tags": []
          },
          "execution_count": 25
        }
      ]
    },
    {
      "cell_type": "markdown",
      "metadata": {
        "id": "zq4UYKjqc9Wb"
      },
      "source": [
        "- Orden 1"
      ]
    },
    {
      "cell_type": "code",
      "metadata": {
        "id": "gsQEaHpsl6Np",
        "outputId": "b265be01-4d86-4d88-b87d-21555be0e88a",
        "colab": {
          "base_uri": "https://localhost:8080/",
          "height": 106
        }
      },
      "source": [
        "genera_texto_npalabras(palabras_con_puntuacion, 1, 100)"
      ],
      "execution_count": null,
      "outputs": [
        {
          "output_type": "execute_result",
          "data": {
            "application/vnd.google.colaboratory.intrinsic+json": {
              "type": "string"
            },
            "text/plain": [
              "'decidir por el cadáver abandonado los llevara a Úrsula. Llegó a los ladridos del lugar en la peligrosa sospecha de trabajo de cuarenta y mujeres de resurrección, el sacrificio diario mantendría calmada a las casas arrastrando los almendros polvorientos objetos para que pasar una oportunidad de fiebre, y poltronas de su piel. Se me ponga a sí mismo no encontraba el patio, con la sala. José Arcadio y tenía el mundo al cadáver de emergencia y tenía un mismo reveló en la esposa, descifró la alberca con piedra pómez para su entorpecedor aliento ante Dios, una burla del sínodo de sus'"
            ]
          },
          "metadata": {
            "tags": []
          },
          "execution_count": 26
        }
      ]
    },
    {
      "cell_type": "markdown",
      "metadata": {
        "id": "UOvU9OQLmYnp"
      },
      "source": [
        "- Orden 2"
      ]
    },
    {
      "cell_type": "code",
      "metadata": {
        "id": "I5yBma_ImYyu",
        "outputId": "519415fe-2a52-4e16-f602-065e81ce0136",
        "colab": {
          "base_uri": "https://localhost:8080/",
          "height": 106
        }
      },
      "source": [
        "genera_texto_npalabras(palabras_con_puntuacion, 2, 100)"
      ],
      "execution_count": null,
      "outputs": [
        {
          "output_type": "execute_result",
          "data": {
            "application/vnd.google.colaboratory.intrinsic+json": {
              "type": "string"
            },
            "text/plain": [
              "'valiente, y muy bella, de la vejez, Aureliano Segundo descubriera cuánto habían decaído sus ánimos y hasta una reproducción del paño de la hija que le sirviera al hombre con suficiente cachaza para cargar con ella. De modo que la gente contrastaba con la mano, lo encontró más taciturno que nunca, porque solamente ella sabía que en un futuro perfectamente revelado y establecido, más allá del término previsto. Cuando Gerineldo Márquez se enteró, lo reprendió coma a un carpintero que le habían preparado las preguntas que él idealizaba en las casas desoladas eran iguales a como las de la estación, y con'"
            ]
          },
          "metadata": {
            "tags": []
          },
          "execution_count": 27
        }
      ]
    },
    {
      "cell_type": "markdown",
      "metadata": {
        "id": "C8uI8s3Xwy2z"
      },
      "source": [
        "- Orden 3"
      ]
    },
    {
      "cell_type": "code",
      "metadata": {
        "id": "6oxFV7MmmhxK",
        "outputId": "a50e08c2-2818-4a5f-8334-159c04f1b53f",
        "colab": {
          "base_uri": "https://localhost:8080/",
          "height": 106
        }
      },
      "source": [
        "genera_texto_npalabras(palabras_con_puntuacion, 3, 100)"
      ],
      "execution_count": null,
      "outputs": [
        {
          "output_type": "execute_result",
          "data": {
            "application/vnd.google.colaboratory.intrinsic+json": {
              "type": "string"
            },
            "text/plain": [
              "'sin una protesta, sin una sola tentativa de infidencia, atormentado por los recuerdos y reconstruir el universo bajo una luz nueva, y evocar sin estremecerse el olor de espliego de Pietro Crespi y volvió a ser el mismo hombre decrépito de los años la relegó a un rincón, el círculo de rigidez iniciado por Fernanda desde el momento en que los gringos alternaban con los nativos. Cuando Fernanda lo supo volvió a hacer sus baúles de madera, tapizados por dentro con planchas de hierro y con toda clase de actividades. No llovía desde hacia tres meses y era tiempo de sequía. Pero cuando'"
            ]
          },
          "metadata": {
            "tags": []
          },
          "execution_count": 29
        }
      ]
    },
    {
      "cell_type": "markdown",
      "metadata": {
        "id": "pjXnUM_Pw2kY"
      },
      "source": [
        "- Orden 4"
      ]
    },
    {
      "cell_type": "code",
      "metadata": {
        "id": "nOmQZT7-n40A",
        "outputId": "e0e86e8d-771a-46e2-b469-a76c017b6585",
        "colab": {
          "base_uri": "https://localhost:8080/",
          "height": 106
        }
      },
      "source": [
        "genera_texto_npalabras(palabras_con_puntuacion, 4, 100)"
      ],
      "execution_count": null,
      "outputs": [
        {
          "output_type": "execute_result",
          "data": {
            "application/vnd.google.colaboratory.intrinsic+json": {
              "type": "string"
            },
            "text/plain": [
              "'con que se los habían puesto, y en el paroxismo del amor exclamaban asombradas qué barbaridad, mira cómo se está cayendo ese techo, y tan pronto como recibían su peso con cincuenta centavos se lo gastaban en un pan y un pedazo de queso que les vendía la propietaria, más risueña que nunca, porque solamente ella sabía que tampoco 160 esa comida era verdad. Aureliano, cuyo mundo de entonces empezaba en los pergaminos de Melquíades, y tanto más a gusto cuanto menos los entendía. Acostumbrado al ruido de la lluvia, que a los dos meses porque Aureliano Segundo, tratando de desagraviar a Petra Cotes,'"
            ]
          },
          "metadata": {
            "tags": []
          },
          "execution_count": 30
        }
      ]
    }
  ]
}