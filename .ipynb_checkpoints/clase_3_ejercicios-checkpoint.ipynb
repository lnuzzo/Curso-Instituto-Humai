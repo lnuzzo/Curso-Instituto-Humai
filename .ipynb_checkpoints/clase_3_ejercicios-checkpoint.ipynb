{
 "cells": [
  {
   "cell_type": "markdown",
   "metadata": {
    "colab_type": "text",
    "id": "nnPpjNOyi8NX"
   },
   "source": [
    "<a href=\"https://colab.research.google.com/github/institutohumai/cursos-python/blob/master/AnalisisDeDatos/3_Agrupacion_y_Agregacion/ejercicio/ejercicio.ipynb\"> <img src='https://colab.research.google.com/assets/colab-badge.svg' /> </a>\n",
    "<div align=\"center\"> Recordá abrir en una nueva pestaña </div>\n",
    "\n",
    "Vamos a trabajar sobre el mismo DataFrame que usamos en clase pero agrupando a nivel de comunidad autónoma (Cod_CCAA). En este caso vamos a traer también las descripciones y vamos a hacer un join para formar un único data set."
   ]
  },
  {
   "cell_type": "code",
   "execution_count": 1,
   "metadata": {
    "colab": {},
    "colab_type": "code",
    "id": "3qB0ILRWi8Nb"
   },
   "outputs": [],
   "source": [
    "import pandas as pd\n",
    "import plotly.express as px"
   ]
  },
  {
   "cell_type": "code",
   "execution_count": 2,
   "metadata": {
    "colab": {},
    "colab_type": "code",
    "id": "R2bLlXWKi8No"
   },
   "outputs": [],
   "source": [
    "df = pd.read_csv('https://datasets-humai.s3.amazonaws.com/datasets/parodesprov.csv')"
   ]
  },
  {
   "cell_type": "code",
   "execution_count": 3,
   "metadata": {
    "colab": {},
    "colab_type": "code",
    "id": "JqXQHztyi8Nz"
   },
   "outputs": [],
   "source": [
    "df_descripciones = pd.read_csv('https://datasets-humai.s3.amazonaws.com/datasets/comunidades_descripcion.csv')"
   ]
  },
  {
   "cell_type": "markdown",
   "metadata": {
    "colab_type": "text",
    "id": "tFVQbCIKi8OA"
   },
   "source": [
    "Unan ambos DataFrames utilizando la función pd.merge()"
   ]
  },
  {
   "cell_type": "code",
   "execution_count": 4,
   "metadata": {
    "colab": {
     "base_uri": "https://localhost:8080/",
     "height": 204
    },
    "colab_type": "code",
    "id": "50Fol1uii8OE",
    "outputId": "2f663c0d-d0ab-4f62-f0cd-1f96af14ca6b"
   },
   "outputs": [
    {
     "data": {
      "text/html": [
       "<div>\n",
       "<style scoped>\n",
       "    .dataframe tbody tr th:only-of-type {\n",
       "        vertical-align: middle;\n",
       "    }\n",
       "\n",
       "    .dataframe tbody tr th {\n",
       "        vertical-align: top;\n",
       "    }\n",
       "\n",
       "    .dataframe thead th {\n",
       "        text-align: right;\n",
       "    }\n",
       "</style>\n",
       "<table border=\"1\" class=\"dataframe\">\n",
       "  <thead>\n",
       "    <tr style=\"text-align: right;\">\n",
       "      <th></th>\n",
       "      <th>OBJECTID</th>\n",
       "      <th>Codigo</th>\n",
       "      <th>Texto</th>\n",
       "      <th>Cod_Prov</th>\n",
       "      <th>Cod_CCAA</th>\n",
       "      <th>TotalParoRegistrado</th>\n",
       "      <th>PAD_1C02</th>\n",
       "      <th>PAD_1_COD_PROV</th>\n",
       "      <th>PAD_1_COD_CCAA</th>\n",
       "      <th>Shape__Area</th>\n",
       "      <th>Shape__Length</th>\n",
       "      <th>Codigop</th>\n",
       "    </tr>\n",
       "  </thead>\n",
       "  <tbody>\n",
       "    <tr>\n",
       "      <th>11388</th>\n",
       "      <td>11389</td>\n",
       "      <td>20903</td>\n",
       "      <td>Astigarraga</td>\n",
       "      <td>20</td>\n",
       "      <td>16</td>\n",
       "      <td>271.0</td>\n",
       "      <td>6077.0</td>\n",
       "      <td>NaN</td>\n",
       "      <td>NaN</td>\n",
       "      <td>2.266350e+07</td>\n",
       "      <td>25438.109280</td>\n",
       "      <td>NaN</td>\n",
       "    </tr>\n",
       "    <tr>\n",
       "      <th>9017</th>\n",
       "      <td>9018</td>\n",
       "      <td>7053</td>\n",
       "      <td>Santa Eugènia</td>\n",
       "      <td>7</td>\n",
       "      <td>4</td>\n",
       "      <td>60.0</td>\n",
       "      <td>1653.0</td>\n",
       "      <td>NaN</td>\n",
       "      <td>NaN</td>\n",
       "      <td>3.417319e+07</td>\n",
       "      <td>31018.473210</td>\n",
       "      <td>NaN</td>\n",
       "    </tr>\n",
       "    <tr>\n",
       "      <th>15406</th>\n",
       "      <td>15407</td>\n",
       "      <td>46214</td>\n",
       "      <td>Riba-roja de Túria</td>\n",
       "      <td>46</td>\n",
       "      <td>10</td>\n",
       "      <td>1767.0</td>\n",
       "      <td>21626.0</td>\n",
       "      <td>NaN</td>\n",
       "      <td>NaN</td>\n",
       "      <td>9.671310e+07</td>\n",
       "      <td>56434.099093</td>\n",
       "      <td>NaN</td>\n",
       "    </tr>\n",
       "    <tr>\n",
       "      <th>2452</th>\n",
       "      <td>2453</td>\n",
       "      <td>16909</td>\n",
       "      <td>Sotorribas</td>\n",
       "      <td>16</td>\n",
       "      <td>8</td>\n",
       "      <td>44.0</td>\n",
       "      <td>791.0</td>\n",
       "      <td>Cuenca</td>\n",
       "      <td>8.0</td>\n",
       "      <td>2.567736e+08</td>\n",
       "      <td>88077.038576</td>\n",
       "      <td>16.0</td>\n",
       "    </tr>\n",
       "    <tr>\n",
       "      <th>14945</th>\n",
       "      <td>14946</td>\n",
       "      <td>44218</td>\n",
       "      <td>Tormón</td>\n",
       "      <td>44</td>\n",
       "      <td>2</td>\n",
       "      <td>0.0</td>\n",
       "      <td>34.0</td>\n",
       "      <td>NaN</td>\n",
       "      <td>NaN</td>\n",
       "      <td>5.036839e+07</td>\n",
       "      <td>30972.729574</td>\n",
       "      <td>NaN</td>\n",
       "    </tr>\n",
       "  </tbody>\n",
       "</table>\n",
       "</div>"
      ],
      "text/plain": [
       "       OBJECTID  Codigo               Texto  Cod_Prov  Cod_CCAA  \\\n",
       "11388     11389   20903         Astigarraga        20        16   \n",
       "9017       9018    7053       Santa Eugènia         7         4   \n",
       "15406     15407   46214  Riba-roja de Túria        46        10   \n",
       "2452       2453   16909          Sotorribas        16         8   \n",
       "14945     14946   44218              Tormón        44         2   \n",
       "\n",
       "       TotalParoRegistrado  PAD_1C02 PAD_1_COD_PROV  PAD_1_COD_CCAA  \\\n",
       "11388                271.0    6077.0            NaN             NaN   \n",
       "9017                  60.0    1653.0            NaN             NaN   \n",
       "15406               1767.0   21626.0            NaN             NaN   \n",
       "2452                  44.0     791.0         Cuenca             8.0   \n",
       "14945                  0.0      34.0            NaN             NaN   \n",
       "\n",
       "        Shape__Area  Shape__Length  Codigop  \n",
       "11388  2.266350e+07   25438.109280      NaN  \n",
       "9017   3.417319e+07   31018.473210      NaN  \n",
       "15406  9.671310e+07   56434.099093      NaN  \n",
       "2452   2.567736e+08   88077.038576     16.0  \n",
       "14945  5.036839e+07   30972.729574      NaN  "
      ]
     },
     "execution_count": 4,
     "metadata": {},
     "output_type": "execute_result"
    }
   ],
   "source": [
    "df.sample(5)"
   ]
  },
  {
   "cell_type": "code",
   "execution_count": 5,
   "metadata": {
    "colab": {
     "base_uri": "https://localhost:8080/",
     "height": 297
    },
    "colab_type": "code",
    "id": "L6biVRNDk1C7",
    "outputId": "4612ebe7-515b-445a-9f9a-6c8c4acb5582"
   },
   "outputs": [
    {
     "data": {
      "text/html": [
       "<div>\n",
       "<style scoped>\n",
       "    .dataframe tbody tr th:only-of-type {\n",
       "        vertical-align: middle;\n",
       "    }\n",
       "\n",
       "    .dataframe tbody tr th {\n",
       "        vertical-align: top;\n",
       "    }\n",
       "\n",
       "    .dataframe thead th {\n",
       "        text-align: right;\n",
       "    }\n",
       "</style>\n",
       "<table border=\"1\" class=\"dataframe\">\n",
       "  <thead>\n",
       "    <tr style=\"text-align: right;\">\n",
       "      <th></th>\n",
       "      <th>OBJECTID</th>\n",
       "      <th>Codigo</th>\n",
       "      <th>Cod_Prov</th>\n",
       "      <th>Cod_CCAA</th>\n",
       "      <th>TotalParoRegistrado</th>\n",
       "      <th>PAD_1C02</th>\n",
       "      <th>PAD_1_COD_CCAA</th>\n",
       "      <th>Shape__Area</th>\n",
       "      <th>Shape__Length</th>\n",
       "      <th>Codigop</th>\n",
       "    </tr>\n",
       "  </thead>\n",
       "  <tbody>\n",
       "    <tr>\n",
       "      <th>count</th>\n",
       "      <td>16339.00000</td>\n",
       "      <td>16339.000000</td>\n",
       "      <td>16339.000000</td>\n",
       "      <td>16339.000000</td>\n",
       "      <td>16246.000000</td>\n",
       "      <td>1.624900e+04</td>\n",
       "      <td>8125.000000</td>\n",
       "      <td>1.633900e+04</td>\n",
       "      <td>16339.000000</td>\n",
       "      <td>8125.000000</td>\n",
       "    </tr>\n",
       "    <tr>\n",
       "      <th>mean</th>\n",
       "      <td>8170.00000</td>\n",
       "      <td>26820.492870</td>\n",
       "      <td>26.687680</td>\n",
       "      <td>7.782361</td>\n",
       "      <td>462.560753</td>\n",
       "      <td>5.731377e+03</td>\n",
       "      <td>7.742646</td>\n",
       "      <td>1.066681e+08</td>\n",
       "      <td>50601.106917</td>\n",
       "      <td>26.664369</td>\n",
       "    </tr>\n",
       "    <tr>\n",
       "      <th>std</th>\n",
       "      <td>4716.80736</td>\n",
       "      <td>14856.581933</td>\n",
       "      <td>14.857357</td>\n",
       "      <td>4.052402</td>\n",
       "      <td>3240.543592</td>\n",
       "      <td>4.651102e+04</td>\n",
       "      <td>4.027889</td>\n",
       "      <td>1.536959e+08</td>\n",
       "      <td>37599.471477</td>\n",
       "      <td>14.895152</td>\n",
       "    </tr>\n",
       "    <tr>\n",
       "      <th>min</th>\n",
       "      <td>1.00000</td>\n",
       "      <td>1001.000000</td>\n",
       "      <td>1.000000</td>\n",
       "      <td>1.000000</td>\n",
       "      <td>0.000000</td>\n",
       "      <td>5.000000e+00</td>\n",
       "      <td>1.000000</td>\n",
       "      <td>4.348223e+04</td>\n",
       "      <td>892.734082</td>\n",
       "      <td>1.000000</td>\n",
       "    </tr>\n",
       "    <tr>\n",
       "      <th>25%</th>\n",
       "      <td>4085.50000</td>\n",
       "      <td>13097.000000</td>\n",
       "      <td>13.000000</td>\n",
       "      <td>7.000000</td>\n",
       "      <td>7.000000</td>\n",
       "      <td>1.600000e+02</td>\n",
       "      <td>7.000000</td>\n",
       "      <td>3.210995e+07</td>\n",
       "      <td>28681.246820</td>\n",
       "      <td>13.000000</td>\n",
       "    </tr>\n",
       "    <tr>\n",
       "      <th>50%</th>\n",
       "      <td>8170.00000</td>\n",
       "      <td>26042.000000</td>\n",
       "      <td>26.000000</td>\n",
       "      <td>7.000000</td>\n",
       "      <td>31.000000</td>\n",
       "      <td>5.350000e+02</td>\n",
       "      <td>7.000000</td>\n",
       "      <td>6.106896e+07</td>\n",
       "      <td>40789.256513</td>\n",
       "      <td>26.000000</td>\n",
       "    </tr>\n",
       "    <tr>\n",
       "      <th>75%</th>\n",
       "      <td>12254.50000</td>\n",
       "      <td>41016.000000</td>\n",
       "      <td>41.000000</td>\n",
       "      <td>10.000000</td>\n",
       "      <td>172.000000</td>\n",
       "      <td>2.408000e+03</td>\n",
       "      <td>10.000000</td>\n",
       "      <td>1.197736e+08</td>\n",
       "      <td>61192.592048</td>\n",
       "      <td>41.000000</td>\n",
       "    </tr>\n",
       "    <tr>\n",
       "      <th>max</th>\n",
       "      <td>16339.00000</td>\n",
       "      <td>52001.000000</td>\n",
       "      <td>52.000000</td>\n",
       "      <td>19.000000</td>\n",
       "      <td>193568.000000</td>\n",
       "      <td>3.182981e+06</td>\n",
       "      <td>19.000000</td>\n",
       "      <td>2.934581e+09</td>\n",
       "      <td>821289.000072</td>\n",
       "      <td>52.000000</td>\n",
       "    </tr>\n",
       "  </tbody>\n",
       "</table>\n",
       "</div>"
      ],
      "text/plain": [
       "          OBJECTID        Codigo      Cod_Prov      Cod_CCAA  \\\n",
       "count  16339.00000  16339.000000  16339.000000  16339.000000   \n",
       "mean    8170.00000  26820.492870     26.687680      7.782361   \n",
       "std     4716.80736  14856.581933     14.857357      4.052402   \n",
       "min        1.00000   1001.000000      1.000000      1.000000   \n",
       "25%     4085.50000  13097.000000     13.000000      7.000000   \n",
       "50%     8170.00000  26042.000000     26.000000      7.000000   \n",
       "75%    12254.50000  41016.000000     41.000000     10.000000   \n",
       "max    16339.00000  52001.000000     52.000000     19.000000   \n",
       "\n",
       "       TotalParoRegistrado      PAD_1C02  PAD_1_COD_CCAA   Shape__Area  \\\n",
       "count         16246.000000  1.624900e+04     8125.000000  1.633900e+04   \n",
       "mean            462.560753  5.731377e+03        7.742646  1.066681e+08   \n",
       "std            3240.543592  4.651102e+04        4.027889  1.536959e+08   \n",
       "min               0.000000  5.000000e+00        1.000000  4.348223e+04   \n",
       "25%               7.000000  1.600000e+02        7.000000  3.210995e+07   \n",
       "50%              31.000000  5.350000e+02        7.000000  6.106896e+07   \n",
       "75%             172.000000  2.408000e+03       10.000000  1.197736e+08   \n",
       "max          193568.000000  3.182981e+06       19.000000  2.934581e+09   \n",
       "\n",
       "       Shape__Length      Codigop  \n",
       "count   16339.000000  8125.000000  \n",
       "mean    50601.106917    26.664369  \n",
       "std     37599.471477    14.895152  \n",
       "min       892.734082     1.000000  \n",
       "25%     28681.246820    13.000000  \n",
       "50%     40789.256513    26.000000  \n",
       "75%     61192.592048    41.000000  \n",
       "max    821289.000072    52.000000  "
      ]
     },
     "execution_count": 5,
     "metadata": {},
     "output_type": "execute_result"
    }
   ],
   "source": [
    "df.describe()"
   ]
  },
  {
   "cell_type": "code",
   "execution_count": 6,
   "metadata": {
    "colab": {
     "base_uri": "https://localhost:8080/",
     "height": 238
    },
    "colab_type": "code",
    "id": "aC027oxvlJST",
    "outputId": "110049e7-a759-42da-dff4-9325ca217470"
   },
   "outputs": [
    {
     "data": {
      "text/plain": [
       "OBJECTID               False\n",
       "Codigo                 False\n",
       "Texto                   True\n",
       "Cod_Prov               False\n",
       "Cod_CCAA               False\n",
       "TotalParoRegistrado     True\n",
       "PAD_1C02                True\n",
       "PAD_1_COD_PROV          True\n",
       "PAD_1_COD_CCAA          True\n",
       "Shape__Area            False\n",
       "Shape__Length          False\n",
       "Codigop                 True\n",
       "dtype: bool"
      ]
     },
     "execution_count": 6,
     "metadata": {},
     "output_type": "execute_result"
    }
   ],
   "source": [
    "# Chequeo que la clave no tenga nulos\n",
    "# df[df['Cod_CCAA'].isnull().any(axis=1)]\n",
    "df.loc[:].isnull().any(axis=0)"
   ]
  },
  {
   "cell_type": "code",
   "execution_count": 7,
   "metadata": {
    "colab": {
     "base_uri": "https://localhost:8080/",
     "height": 204
    },
    "colab_type": "code",
    "id": "_ZOvaGXUko_I",
    "outputId": "851eb4b6-a12e-4358-eb97-db4c85091fdf"
   },
   "outputs": [
    {
     "data": {
      "text/html": [
       "<div>\n",
       "<style scoped>\n",
       "    .dataframe tbody tr th:only-of-type {\n",
       "        vertical-align: middle;\n",
       "    }\n",
       "\n",
       "    .dataframe tbody tr th {\n",
       "        vertical-align: top;\n",
       "    }\n",
       "\n",
       "    .dataframe thead th {\n",
       "        text-align: right;\n",
       "    }\n",
       "</style>\n",
       "<table border=\"1\" class=\"dataframe\">\n",
       "  <thead>\n",
       "    <tr style=\"text-align: right;\">\n",
       "      <th></th>\n",
       "      <th>Código</th>\n",
       "      <th>Literal</th>\n",
       "    </tr>\n",
       "  </thead>\n",
       "  <tbody>\n",
       "    <tr>\n",
       "      <th>5</th>\n",
       "      <td>6</td>\n",
       "      <td>Cantabria</td>\n",
       "    </tr>\n",
       "    <tr>\n",
       "      <th>16</th>\n",
       "      <td>17</td>\n",
       "      <td>Rioja, La</td>\n",
       "    </tr>\n",
       "    <tr>\n",
       "      <th>1</th>\n",
       "      <td>2</td>\n",
       "      <td>Aragón</td>\n",
       "    </tr>\n",
       "    <tr>\n",
       "      <th>14</th>\n",
       "      <td>15</td>\n",
       "      <td>Navarra, Comunidad Foral de</td>\n",
       "    </tr>\n",
       "    <tr>\n",
       "      <th>7</th>\n",
       "      <td>8</td>\n",
       "      <td>Castilla - La Mancha</td>\n",
       "    </tr>\n",
       "  </tbody>\n",
       "</table>\n",
       "</div>"
      ],
      "text/plain": [
       "    Código                      Literal\n",
       "5        6                    Cantabria\n",
       "16      17                    Rioja, La\n",
       "1        2                       Aragón\n",
       "14      15  Navarra, Comunidad Foral de\n",
       "7        8         Castilla - La Mancha"
      ]
     },
     "execution_count": 7,
     "metadata": {},
     "output_type": "execute_result"
    }
   ],
   "source": [
    "df_descripciones.sample(5)"
   ]
  },
  {
   "cell_type": "code",
   "execution_count": 8,
   "metadata": {
    "colab": {},
    "colab_type": "code",
    "id": "AE5-PcRGm6Et"
   },
   "outputs": [],
   "source": [
    "# Renombramos las columnas para sacar el acento de la ó\n",
    "df_descripciones.columns=['Codigo', 'Literal']"
   ]
  },
  {
   "cell_type": "code",
   "execution_count": 9,
   "metadata": {
    "colab": {
     "base_uri": "https://localhost:8080/",
     "height": 297
    },
    "colab_type": "code",
    "id": "vwtQ4hUrk9VM",
    "outputId": "56ec9595-ceb0-4300-8dc3-92c790945923"
   },
   "outputs": [
    {
     "data": {
      "text/html": [
       "<div>\n",
       "<style scoped>\n",
       "    .dataframe tbody tr th:only-of-type {\n",
       "        vertical-align: middle;\n",
       "    }\n",
       "\n",
       "    .dataframe tbody tr th {\n",
       "        vertical-align: top;\n",
       "    }\n",
       "\n",
       "    .dataframe thead th {\n",
       "        text-align: right;\n",
       "    }\n",
       "</style>\n",
       "<table border=\"1\" class=\"dataframe\">\n",
       "  <thead>\n",
       "    <tr style=\"text-align: right;\">\n",
       "      <th></th>\n",
       "      <th>Codigo</th>\n",
       "    </tr>\n",
       "  </thead>\n",
       "  <tbody>\n",
       "    <tr>\n",
       "      <th>count</th>\n",
       "      <td>19.000000</td>\n",
       "    </tr>\n",
       "    <tr>\n",
       "      <th>mean</th>\n",
       "      <td>10.000000</td>\n",
       "    </tr>\n",
       "    <tr>\n",
       "      <th>std</th>\n",
       "      <td>5.627314</td>\n",
       "    </tr>\n",
       "    <tr>\n",
       "      <th>min</th>\n",
       "      <td>1.000000</td>\n",
       "    </tr>\n",
       "    <tr>\n",
       "      <th>25%</th>\n",
       "      <td>5.500000</td>\n",
       "    </tr>\n",
       "    <tr>\n",
       "      <th>50%</th>\n",
       "      <td>10.000000</td>\n",
       "    </tr>\n",
       "    <tr>\n",
       "      <th>75%</th>\n",
       "      <td>14.500000</td>\n",
       "    </tr>\n",
       "    <tr>\n",
       "      <th>max</th>\n",
       "      <td>19.000000</td>\n",
       "    </tr>\n",
       "  </tbody>\n",
       "</table>\n",
       "</div>"
      ],
      "text/plain": [
       "          Codigo\n",
       "count  19.000000\n",
       "mean   10.000000\n",
       "std     5.627314\n",
       "min     1.000000\n",
       "25%     5.500000\n",
       "50%    10.000000\n",
       "75%    14.500000\n",
       "max    19.000000"
      ]
     },
     "execution_count": 9,
     "metadata": {},
     "output_type": "execute_result"
    }
   ],
   "source": [
    "df_descripciones.describe()"
   ]
  },
  {
   "cell_type": "code",
   "execution_count": 10,
   "metadata": {
    "colab": {
     "base_uri": "https://localhost:8080/",
     "height": 34
    },
    "colab_type": "code",
    "id": "n91gcJmljQT4",
    "outputId": "c5e3ff80-292d-4ac8-9f91-eae39cb9d41c"
   },
   "outputs": [
    {
     "data": {
      "text/plain": [
       "(16339, 12)"
      ]
     },
     "execution_count": 10,
     "metadata": {},
     "output_type": "execute_result"
    }
   ],
   "source": [
    "df.shape"
   ]
  },
  {
   "cell_type": "code",
   "execution_count": 11,
   "metadata": {
    "colab": {
     "base_uri": "https://localhost:8080/",
     "height": 85
    },
    "colab_type": "code",
    "id": "N9sozYDgjh2N",
    "outputId": "a299f7e3-0afa-4a89-81ad-6c9fe2a0bf2a"
   },
   "outputs": [
    {
     "data": {
      "text/plain": [
       "Index(['OBJECTID', 'Codigo', 'Texto', 'Cod_Prov', 'Cod_CCAA',\n",
       "       'TotalParoRegistrado', 'PAD_1C02', 'PAD_1_COD_PROV', 'PAD_1_COD_CCAA',\n",
       "       'Shape__Area', 'Shape__Length', 'Codigop'],\n",
       "      dtype='object')"
      ]
     },
     "execution_count": 11,
     "metadata": {},
     "output_type": "execute_result"
    }
   ],
   "source": [
    "df.columns"
   ]
  },
  {
   "cell_type": "code",
   "execution_count": 12,
   "metadata": {
    "colab": {},
    "colab_type": "code",
    "id": "JxITDWBQi8OU"
   },
   "outputs": [],
   "source": [
    "df_merge = df.merge(df_descripciones, left_on='Cod_CCAA', right_on='Codigo')"
   ]
  },
  {
   "cell_type": "code",
   "execution_count": 13,
   "metadata": {
    "colab": {
     "base_uri": "https://localhost:8080/",
     "height": 85
    },
    "colab_type": "code",
    "id": "7L5U183QnhKB",
    "outputId": "df5405ed-4324-4ff9-d40f-bc16694524a0"
   },
   "outputs": [
    {
     "data": {
      "text/plain": [
       "Index(['OBJECTID', 'Codigo_x', 'Texto', 'Cod_Prov', 'Cod_CCAA',\n",
       "       'TotalParoRegistrado', 'PAD_1C02', 'PAD_1_COD_PROV', 'PAD_1_COD_CCAA',\n",
       "       'Shape__Area', 'Shape__Length', 'Codigop', 'Codigo_y', 'Literal'],\n",
       "      dtype='object')"
      ]
     },
     "execution_count": 13,
     "metadata": {},
     "output_type": "execute_result"
    }
   ],
   "source": [
    "df_merge.columns"
   ]
  },
  {
   "cell_type": "markdown",
   "metadata": {
    "colab_type": "text",
    "id": "Klkk7ZJSi8OS"
   },
   "source": [
    "Construir el DataFrame de comunidades autónomas, incluyendo la densidad, la proporción de paro y la cantidad de municipios. "
   ]
  },
  {
   "cell_type": "code",
   "execution_count": 14,
   "metadata": {
    "colab": {
     "base_uri": "https://localhost:8080/",
     "height": 419
    },
    "colab_type": "code",
    "id": "p3ZzyrVxi8Of",
    "outputId": "3bc69abb-4890-498d-80a5-23da4fad745e"
   },
   "outputs": [],
   "source": [
    "df_merge.drop(columns=['Codigo_x','Codigop', 'Codigo_y'], inplace=True)\n",
    "# df_merge.reset_index(inplace=True)"
   ]
  },
  {
   "cell_type": "code",
   "execution_count": 28,
   "metadata": {},
   "outputs": [
    {
     "data": {
      "text/html": [
       "<div>\n",
       "<style scoped>\n",
       "    .dataframe tbody tr th:only-of-type {\n",
       "        vertical-align: middle;\n",
       "    }\n",
       "\n",
       "    .dataframe tbody tr th {\n",
       "        vertical-align: top;\n",
       "    }\n",
       "\n",
       "    .dataframe thead th {\n",
       "        text-align: right;\n",
       "    }\n",
       "</style>\n",
       "<table border=\"1\" class=\"dataframe\">\n",
       "  <thead>\n",
       "    <tr style=\"text-align: right;\">\n",
       "      <th></th>\n",
       "      <th>Id</th>\n",
       "      <th>Nom_Prov</th>\n",
       "      <th>Cod_Prov</th>\n",
       "      <th>Cod_CCAA</th>\n",
       "      <th>TotalParoRegistrado</th>\n",
       "      <th>PAD_1C02</th>\n",
       "      <th>PAD_1_COD_PROV</th>\n",
       "      <th>PAD_1_COD_CCAA</th>\n",
       "      <th>Shape__Area</th>\n",
       "      <th>Shape__Length</th>\n",
       "      <th>Nom_CCAA</th>\n",
       "    </tr>\n",
       "  </thead>\n",
       "  <tbody>\n",
       "    <tr>\n",
       "      <th>3424</th>\n",
       "      <td>280</td>\n",
       "      <td>Abla</td>\n",
       "      <td>4</td>\n",
       "      <td>1</td>\n",
       "      <td>78.0</td>\n",
       "      <td>1294.0</td>\n",
       "      <td>Almería</td>\n",
       "      <td>1.0</td>\n",
       "      <td>7.137098e+07</td>\n",
       "      <td>58571.308777</td>\n",
       "      <td>Andalucía</td>\n",
       "    </tr>\n",
       "    <tr>\n",
       "      <th>3425</th>\n",
       "      <td>281</td>\n",
       "      <td>Abrucena</td>\n",
       "      <td>4</td>\n",
       "      <td>1</td>\n",
       "      <td>82.0</td>\n",
       "      <td>1208.0</td>\n",
       "      <td>Almería</td>\n",
       "      <td>1.0</td>\n",
       "      <td>1.318875e+08</td>\n",
       "      <td>73625.731043</td>\n",
       "      <td>Andalucía</td>\n",
       "    </tr>\n",
       "    <tr>\n",
       "      <th>3426</th>\n",
       "      <td>282</td>\n",
       "      <td>Adra</td>\n",
       "      <td>4</td>\n",
       "      <td>1</td>\n",
       "      <td>2174.0</td>\n",
       "      <td>24713.0</td>\n",
       "      <td>Almería</td>\n",
       "      <td>1.0</td>\n",
       "      <td>1.406545e+08</td>\n",
       "      <td>64131.043296</td>\n",
       "      <td>Andalucía</td>\n",
       "    </tr>\n",
       "    <tr>\n",
       "      <th>3427</th>\n",
       "      <td>283</td>\n",
       "      <td>Albánchez</td>\n",
       "      <td>4</td>\n",
       "      <td>1</td>\n",
       "      <td>22.0</td>\n",
       "      <td>796.0</td>\n",
       "      <td>Almería</td>\n",
       "      <td>1.0</td>\n",
       "      <td>5.560038e+07</td>\n",
       "      <td>34419.112746</td>\n",
       "      <td>Andalucía</td>\n",
       "    </tr>\n",
       "    <tr>\n",
       "      <th>3428</th>\n",
       "      <td>284</td>\n",
       "      <td>Alboloduy</td>\n",
       "      <td>4</td>\n",
       "      <td>1</td>\n",
       "      <td>39.0</td>\n",
       "      <td>613.0</td>\n",
       "      <td>Almería</td>\n",
       "      <td>1.0</td>\n",
       "      <td>1.097154e+08</td>\n",
       "      <td>60033.891815</td>\n",
       "      <td>Andalucía</td>\n",
       "    </tr>\n",
       "    <tr>\n",
       "      <th>...</th>\n",
       "      <td>...</td>\n",
       "      <td>...</td>\n",
       "      <td>...</td>\n",
       "      <td>...</td>\n",
       "      <td>...</td>\n",
       "      <td>...</td>\n",
       "      <td>...</td>\n",
       "      <td>...</td>\n",
       "      <td>...</td>\n",
       "      <td>...</td>\n",
       "      <td>...</td>\n",
       "    </tr>\n",
       "    <tr>\n",
       "      <th>14716</th>\n",
       "      <td>12387</td>\n",
       "      <td>Zorraquín</td>\n",
       "      <td>26</td>\n",
       "      <td>17</td>\n",
       "      <td>0.0</td>\n",
       "      <td>90.0</td>\n",
       "      <td>NaN</td>\n",
       "      <td>NaN</td>\n",
       "      <td>1.178368e+07</td>\n",
       "      <td>16096.983247</td>\n",
       "      <td>Rioja, La</td>\n",
       "    </tr>\n",
       "    <tr>\n",
       "      <th>16335</th>\n",
       "      <td>8169</td>\n",
       "      <td>Ceuta</td>\n",
       "      <td>51</td>\n",
       "      <td>18</td>\n",
       "      <td>12477.0</td>\n",
       "      <td>84519.0</td>\n",
       "      <td>Ceuta</td>\n",
       "      <td>18.0</td>\n",
       "      <td>2.944199e+07</td>\n",
       "      <td>50690.389444</td>\n",
       "      <td>Ceuta</td>\n",
       "    </tr>\n",
       "    <tr>\n",
       "      <th>16336</th>\n",
       "      <td>16338</td>\n",
       "      <td>Ceuta</td>\n",
       "      <td>51</td>\n",
       "      <td>18</td>\n",
       "      <td>12438.0</td>\n",
       "      <td>84959.0</td>\n",
       "      <td>NaN</td>\n",
       "      <td>NaN</td>\n",
       "      <td>2.944199e+07</td>\n",
       "      <td>50690.387388</td>\n",
       "      <td>Ceuta</td>\n",
       "    </tr>\n",
       "    <tr>\n",
       "      <th>16337</th>\n",
       "      <td>8170</td>\n",
       "      <td>Melilla</td>\n",
       "      <td>52</td>\n",
       "      <td>19</td>\n",
       "      <td>10868.0</td>\n",
       "      <td>86026.0</td>\n",
       "      <td>Melilla</td>\n",
       "      <td>19.0</td>\n",
       "      <td>1.993434e+07</td>\n",
       "      <td>30499.616256</td>\n",
       "      <td>Melilla</td>\n",
       "    </tr>\n",
       "    <tr>\n",
       "      <th>16338</th>\n",
       "      <td>16339</td>\n",
       "      <td>Melilla</td>\n",
       "      <td>52</td>\n",
       "      <td>19</td>\n",
       "      <td>10805.0</td>\n",
       "      <td>86120.0</td>\n",
       "      <td>NaN</td>\n",
       "      <td>NaN</td>\n",
       "      <td>1.993434e+07</td>\n",
       "      <td>30499.616895</td>\n",
       "      <td>Melilla</td>\n",
       "    </tr>\n",
       "  </tbody>\n",
       "</table>\n",
       "<p>16339 rows × 11 columns</p>\n",
       "</div>"
      ],
      "text/plain": [
       "          Id   Nom_Prov  Cod_Prov  Cod_CCAA  TotalParoRegistrado  PAD_1C02  \\\n",
       "3424     280       Abla         4         1                 78.0    1294.0   \n",
       "3425     281   Abrucena         4         1                 82.0    1208.0   \n",
       "3426     282       Adra         4         1               2174.0   24713.0   \n",
       "3427     283  Albánchez         4         1                 22.0     796.0   \n",
       "3428     284  Alboloduy         4         1                 39.0     613.0   \n",
       "...      ...        ...       ...       ...                  ...       ...   \n",
       "14716  12387  Zorraquín        26        17                  0.0      90.0   \n",
       "16335   8169      Ceuta        51        18              12477.0   84519.0   \n",
       "16336  16338      Ceuta        51        18              12438.0   84959.0   \n",
       "16337   8170    Melilla        52        19              10868.0   86026.0   \n",
       "16338  16339    Melilla        52        19              10805.0   86120.0   \n",
       "\n",
       "      PAD_1_COD_PROV  PAD_1_COD_CCAA   Shape__Area  Shape__Length   Nom_CCAA  \n",
       "3424         Almería             1.0  7.137098e+07   58571.308777  Andalucía  \n",
       "3425         Almería             1.0  1.318875e+08   73625.731043  Andalucía  \n",
       "3426         Almería             1.0  1.406545e+08   64131.043296  Andalucía  \n",
       "3427         Almería             1.0  5.560038e+07   34419.112746  Andalucía  \n",
       "3428         Almería             1.0  1.097154e+08   60033.891815  Andalucía  \n",
       "...              ...             ...           ...            ...        ...  \n",
       "14716            NaN             NaN  1.178368e+07   16096.983247  Rioja, La  \n",
       "16335          Ceuta            18.0  2.944199e+07   50690.389444      Ceuta  \n",
       "16336            NaN             NaN  2.944199e+07   50690.387388      Ceuta  \n",
       "16337        Melilla            19.0  1.993434e+07   30499.616256    Melilla  \n",
       "16338            NaN             NaN  1.993434e+07   30499.616895    Melilla  \n",
       "\n",
       "[16339 rows x 11 columns]"
      ]
     },
     "execution_count": 28,
     "metadata": {},
     "output_type": "execute_result"
    }
   ],
   "source": [
    "df_merge.sort_values(['Cod_CCAA','Cod_Prov'])"
   ]
  },
  {
   "cell_type": "code",
   "execution_count": 16,
   "metadata": {
    "colab": {},
    "colab_type": "code",
    "id": "QCyQAQaTi8Oq"
   },
   "outputs": [],
   "source": [
    "df_merge.columns=['Id','Nom_Prov', 'Cod_Prov', 'Cod_CCAA', 'TotalParoRegistrado', 'PAD_1C02',\n",
    "       'PAD_1_COD_PROV', 'PAD_1_COD_CCAA', 'Shape__Area', 'Shape__Length',\n",
    "       'Nom_CCAA']"
   ]
  },
  {
   "cell_type": "code",
   "execution_count": 17,
   "metadata": {
    "colab": {
     "base_uri": "https://localhost:8080/",
     "height": 85
    },
    "colab_type": "code",
    "id": "2HLq6fJ1qafF",
    "outputId": "3f2f40da-15eb-4b2e-c8b6-08cfae6a2440"
   },
   "outputs": [
    {
     "data": {
      "text/plain": [
       "Index(['Id', 'Nom_Prov', 'Cod_Prov', 'Cod_CCAA', 'TotalParoRegistrado',\n",
       "       'PAD_1C02', 'PAD_1_COD_PROV', 'PAD_1_COD_CCAA', 'Shape__Area',\n",
       "       'Shape__Length', 'Nom_CCAA'],\n",
       "      dtype='object')"
      ]
     },
     "execution_count": 17,
     "metadata": {},
     "output_type": "execute_result"
    }
   ],
   "source": [
    "df_merge.columns"
   ]
  },
  {
   "cell_type": "code",
   "execution_count": 29,
   "metadata": {
    "colab": {},
    "colab_type": "code",
    "id": "KdrzNZnMi8O4"
   },
   "outputs": [],
   "source": [
    "df_ccaa = df_merge.groupby(['Cod_CCAA', 'Nom_CCAA']).aggregate({'Shape__Area':'sum',\n",
    "                                                              'PAD_1C02':'sum',\n",
    "                                                              'TotalParoRegistrado':'sum',\n",
    "                                                               'Id':'size'}).reset_index()"
   ]
  },
  {
   "cell_type": "code",
   "execution_count": 30,
   "metadata": {
    "colab": {},
    "colab_type": "code",
    "id": "wF-9Qq1ti8PB"
   },
   "outputs": [],
   "source": [
    "df_ccaa['propoc_paro']=df_ccaa['TotalParoRegistrado']/df_ccaa['PAD_1C02']"
   ]
  },
  {
   "cell_type": "code",
   "execution_count": 36,
   "metadata": {},
   "outputs": [],
   "source": [
    "df_ccaa['densidad']=df_ccaa['PAD_1C02']/df_ccaa['Shape__Area']"
   ]
  },
  {
   "cell_type": "code",
   "execution_count": 37,
   "metadata": {
    "colab": {
     "base_uri": "https://localhost:8080/",
     "height": 450
    },
    "colab_type": "code",
    "id": "fYJymcK9rNlC",
    "outputId": "4cbe8ece-530b-4f9b-ef93-225fc2730490"
   },
   "outputs": [
    {
     "data": {
      "text/html": [
       "<div>\n",
       "<style scoped>\n",
       "    .dataframe tbody tr th:only-of-type {\n",
       "        vertical-align: middle;\n",
       "    }\n",
       "\n",
       "    .dataframe tbody tr th {\n",
       "        vertical-align: top;\n",
       "    }\n",
       "\n",
       "    .dataframe thead th {\n",
       "        text-align: right;\n",
       "    }\n",
       "</style>\n",
       "<table border=\"1\" class=\"dataframe\">\n",
       "  <thead>\n",
       "    <tr style=\"text-align: right;\">\n",
       "      <th></th>\n",
       "      <th>Cod_CCAA</th>\n",
       "      <th>Nom_CCAA</th>\n",
       "      <th>Shape__Area</th>\n",
       "      <th>PAD_1C02</th>\n",
       "      <th>TotalParoRegistrado</th>\n",
       "      <th>Id</th>\n",
       "      <th>propoc_paro</th>\n",
       "      <th>densidad</th>\n",
       "    </tr>\n",
       "  </thead>\n",
       "  <tbody>\n",
       "    <tr>\n",
       "      <th>0</th>\n",
       "      <td>1</td>\n",
       "      <td>Andalucía</td>\n",
       "      <td>2.786058e+11</td>\n",
       "      <td>16767927.0</td>\n",
       "      <td>1786171.0</td>\n",
       "      <td>1556</td>\n",
       "      <td>0.106523</td>\n",
       "      <td>0.000060</td>\n",
       "    </tr>\n",
       "    <tr>\n",
       "      <th>1</th>\n",
       "      <td>2</td>\n",
       "      <td>Aragón</td>\n",
       "      <td>1.704497e+11</td>\n",
       "      <td>2617313.0</td>\n",
       "      <td>162412.0</td>\n",
       "      <td>1462</td>\n",
       "      <td>0.062053</td>\n",
       "      <td>0.000015</td>\n",
       "    </tr>\n",
       "    <tr>\n",
       "      <th>2</th>\n",
       "      <td>3</td>\n",
       "      <td>Asturias, Principado de</td>\n",
       "      <td>4.004387e+10</td>\n",
       "      <td>2077568.0</td>\n",
       "      <td>172450.0</td>\n",
       "      <td>156</td>\n",
       "      <td>0.083006</td>\n",
       "      <td>0.000052</td>\n",
       "    </tr>\n",
       "    <tr>\n",
       "      <th>3</th>\n",
       "      <td>4</td>\n",
       "      <td>Balears, Illes</td>\n",
       "      <td>1.679532e+10</td>\n",
       "      <td>2223219.0</td>\n",
       "      <td>131888.0</td>\n",
       "      <td>134</td>\n",
       "      <td>0.059323</td>\n",
       "      <td>0.000132</td>\n",
       "    </tr>\n",
       "    <tr>\n",
       "      <th>4</th>\n",
       "      <td>5</td>\n",
       "      <td>Canarias</td>\n",
       "      <td>1.924110e+10</td>\n",
       "      <td>4210045.0</td>\n",
       "      <td>462611.0</td>\n",
       "      <td>176</td>\n",
       "      <td>0.109883</td>\n",
       "      <td>0.000219</td>\n",
       "    </tr>\n",
       "    <tr>\n",
       "      <th>5</th>\n",
       "      <td>6</td>\n",
       "      <td>Cantabria</td>\n",
       "      <td>2.005078e+10</td>\n",
       "      <td>1162501.0</td>\n",
       "      <td>91447.0</td>\n",
       "      <td>204</td>\n",
       "      <td>0.078664</td>\n",
       "      <td>0.000058</td>\n",
       "    </tr>\n",
       "    <tr>\n",
       "      <th>6</th>\n",
       "      <td>7</td>\n",
       "      <td>Castilla y León</td>\n",
       "      <td>3.389913e+11</td>\n",
       "      <td>4873320.0</td>\n",
       "      <td>361767.0</td>\n",
       "      <td>4496</td>\n",
       "      <td>0.074234</td>\n",
       "      <td>0.000014</td>\n",
       "    </tr>\n",
       "    <tr>\n",
       "      <th>7</th>\n",
       "      <td>8</td>\n",
       "      <td>Castilla - La Mancha</td>\n",
       "      <td>2.679515e+11</td>\n",
       "      <td>4073110.0</td>\n",
       "      <td>404657.0</td>\n",
       "      <td>1838</td>\n",
       "      <td>0.099348</td>\n",
       "      <td>0.000015</td>\n",
       "    </tr>\n",
       "    <tr>\n",
       "      <th>8</th>\n",
       "      <td>9</td>\n",
       "      <td>Cataluña</td>\n",
       "      <td>1.156846e+11</td>\n",
       "      <td>15078426.0</td>\n",
       "      <td>907046.0</td>\n",
       "      <td>1894</td>\n",
       "      <td>0.060155</td>\n",
       "      <td>0.000130</td>\n",
       "    </tr>\n",
       "    <tr>\n",
       "      <th>9</th>\n",
       "      <td>10</td>\n",
       "      <td>Comunitat Valenciana</td>\n",
       "      <td>7.802774e+10</td>\n",
       "      <td>9901477.0</td>\n",
       "      <td>850908.0</td>\n",
       "      <td>1084</td>\n",
       "      <td>0.085937</td>\n",
       "      <td>0.000127</td>\n",
       "    </tr>\n",
       "    <tr>\n",
       "      <th>10</th>\n",
       "      <td>11</td>\n",
       "      <td>Extremadura</td>\n",
       "      <td>1.388490e+11</td>\n",
       "      <td>2167698.0</td>\n",
       "      <td>248599.0</td>\n",
       "      <td>776</td>\n",
       "      <td>0.114683</td>\n",
       "      <td>0.000016</td>\n",
       "    </tr>\n",
       "    <tr>\n",
       "      <th>11</th>\n",
       "      <td>12</td>\n",
       "      <td>Galicia</td>\n",
       "      <td>1.097816e+11</td>\n",
       "      <td>5426864.0</td>\n",
       "      <td>423067.0</td>\n",
       "      <td>627</td>\n",
       "      <td>0.077958</td>\n",
       "      <td>0.000049</td>\n",
       "    </tr>\n",
       "    <tr>\n",
       "      <th>12</th>\n",
       "      <td>13</td>\n",
       "      <td>Madrid, Comunidad de</td>\n",
       "      <td>2.780257e+10</td>\n",
       "      <td>12974180.0</td>\n",
       "      <td>830900.0</td>\n",
       "      <td>358</td>\n",
       "      <td>0.064043</td>\n",
       "      <td>0.000467</td>\n",
       "    </tr>\n",
       "    <tr>\n",
       "      <th>13</th>\n",
       "      <td>14</td>\n",
       "      <td>Murcia, Región de</td>\n",
       "      <td>3.650007e+10</td>\n",
       "      <td>2935120.0</td>\n",
       "      <td>235001.0</td>\n",
       "      <td>90</td>\n",
       "      <td>0.080065</td>\n",
       "      <td>0.000080</td>\n",
       "    </tr>\n",
       "    <tr>\n",
       "      <th>14</th>\n",
       "      <td>15</td>\n",
       "      <td>Navarra, Comunidad Foral de</td>\n",
       "      <td>3.858086e+10</td>\n",
       "      <td>1283881.0</td>\n",
       "      <td>82216.0</td>\n",
       "      <td>634</td>\n",
       "      <td>0.064037</td>\n",
       "      <td>0.000033</td>\n",
       "    </tr>\n",
       "    <tr>\n",
       "      <th>15</th>\n",
       "      <td>16</td>\n",
       "      <td>País Vasco</td>\n",
       "      <td>2.695351e+10</td>\n",
       "      <td>4383692.0</td>\n",
       "      <td>278234.0</td>\n",
       "      <td>502</td>\n",
       "      <td>0.063470</td>\n",
       "      <td>0.000163</td>\n",
       "    </tr>\n",
       "    <tr>\n",
       "      <th>16</th>\n",
       "      <td>17</td>\n",
       "      <td>Rioja, La</td>\n",
       "      <td>1.844165e+10</td>\n",
       "      <td>631175.0</td>\n",
       "      <td>38800.0</td>\n",
       "      <td>348</td>\n",
       "      <td>0.061473</td>\n",
       "      <td>0.000034</td>\n",
       "    </tr>\n",
       "    <tr>\n",
       "      <th>17</th>\n",
       "      <td>18</td>\n",
       "      <td>Ceuta</td>\n",
       "      <td>5.888399e+07</td>\n",
       "      <td>169478.0</td>\n",
       "      <td>24915.0</td>\n",
       "      <td>2</td>\n",
       "      <td>0.147010</td>\n",
       "      <td>0.002878</td>\n",
       "    </tr>\n",
       "    <tr>\n",
       "      <th>18</th>\n",
       "      <td>19</td>\n",
       "      <td>Melilla</td>\n",
       "      <td>3.986869e+07</td>\n",
       "      <td>172146.0</td>\n",
       "      <td>21673.0</td>\n",
       "      <td>2</td>\n",
       "      <td>0.125899</td>\n",
       "      <td>0.004318</td>\n",
       "    </tr>\n",
       "  </tbody>\n",
       "</table>\n",
       "</div>"
      ],
      "text/plain": [
       "    Cod_CCAA                     Nom_CCAA   Shape__Area    PAD_1C02  \\\n",
       "0          1                    Andalucía  2.786058e+11  16767927.0   \n",
       "1          2                       Aragón  1.704497e+11   2617313.0   \n",
       "2          3      Asturias, Principado de  4.004387e+10   2077568.0   \n",
       "3          4               Balears, Illes  1.679532e+10   2223219.0   \n",
       "4          5                     Canarias  1.924110e+10   4210045.0   \n",
       "5          6                    Cantabria  2.005078e+10   1162501.0   \n",
       "6          7              Castilla y León  3.389913e+11   4873320.0   \n",
       "7          8         Castilla - La Mancha  2.679515e+11   4073110.0   \n",
       "8          9                     Cataluña  1.156846e+11  15078426.0   \n",
       "9         10         Comunitat Valenciana  7.802774e+10   9901477.0   \n",
       "10        11                  Extremadura  1.388490e+11   2167698.0   \n",
       "11        12                      Galicia  1.097816e+11   5426864.0   \n",
       "12        13         Madrid, Comunidad de  2.780257e+10  12974180.0   \n",
       "13        14            Murcia, Región de  3.650007e+10   2935120.0   \n",
       "14        15  Navarra, Comunidad Foral de  3.858086e+10   1283881.0   \n",
       "15        16                   País Vasco  2.695351e+10   4383692.0   \n",
       "16        17                    Rioja, La  1.844165e+10    631175.0   \n",
       "17        18                        Ceuta  5.888399e+07    169478.0   \n",
       "18        19                      Melilla  3.986869e+07    172146.0   \n",
       "\n",
       "    TotalParoRegistrado    Id  propoc_paro  densidad  \n",
       "0             1786171.0  1556     0.106523  0.000060  \n",
       "1              162412.0  1462     0.062053  0.000015  \n",
       "2              172450.0   156     0.083006  0.000052  \n",
       "3              131888.0   134     0.059323  0.000132  \n",
       "4              462611.0   176     0.109883  0.000219  \n",
       "5               91447.0   204     0.078664  0.000058  \n",
       "6              361767.0  4496     0.074234  0.000014  \n",
       "7              404657.0  1838     0.099348  0.000015  \n",
       "8              907046.0  1894     0.060155  0.000130  \n",
       "9              850908.0  1084     0.085937  0.000127  \n",
       "10             248599.0   776     0.114683  0.000016  \n",
       "11             423067.0   627     0.077958  0.000049  \n",
       "12             830900.0   358     0.064043  0.000467  \n",
       "13             235001.0    90     0.080065  0.000080  \n",
       "14              82216.0   634     0.064037  0.000033  \n",
       "15             278234.0   502     0.063470  0.000163  \n",
       "16              38800.0   348     0.061473  0.000034  \n",
       "17              24915.0     2     0.147010  0.002878  \n",
       "18              21673.0     2     0.125899  0.004318  "
      ]
     },
     "execution_count": 37,
     "metadata": {},
     "output_type": "execute_result"
    }
   ],
   "source": [
    "df_ccaa"
   ]
  },
  {
   "cell_type": "code",
   "execution_count": 38,
   "metadata": {},
   "outputs": [
    {
     "data": {
      "text/html": [
       "<div>\n",
       "<style scoped>\n",
       "    .dataframe tbody tr th:only-of-type {\n",
       "        vertical-align: middle;\n",
       "    }\n",
       "\n",
       "    .dataframe tbody tr th {\n",
       "        vertical-align: top;\n",
       "    }\n",
       "\n",
       "    .dataframe thead th {\n",
       "        text-align: right;\n",
       "    }\n",
       "</style>\n",
       "<table border=\"1\" class=\"dataframe\">\n",
       "  <thead>\n",
       "    <tr style=\"text-align: right;\">\n",
       "      <th></th>\n",
       "      <th>Cod_CCAA</th>\n",
       "      <th>Shape__Area</th>\n",
       "      <th>PAD_1C02</th>\n",
       "      <th>TotalParoRegistrado</th>\n",
       "      <th>Id</th>\n",
       "      <th>propoc_paro</th>\n",
       "      <th>densidad</th>\n",
       "    </tr>\n",
       "  </thead>\n",
       "  <tbody>\n",
       "    <tr>\n",
       "      <th>count</th>\n",
       "      <td>19.000000</td>\n",
       "      <td>1.900000e+01</td>\n",
       "      <td>1.900000e+01</td>\n",
       "      <td>1.900000e+01</td>\n",
       "      <td>19.000000</td>\n",
       "      <td>19.000000</td>\n",
       "      <td>19.000000</td>\n",
       "    </tr>\n",
       "    <tr>\n",
       "      <th>mean</th>\n",
       "      <td>10.000000</td>\n",
       "      <td>9.172893e+10</td>\n",
       "      <td>4.901534e+06</td>\n",
       "      <td>3.955138e+05</td>\n",
       "      <td>859.947368</td>\n",
       "      <td>0.085146</td>\n",
       "      <td>0.000466</td>\n",
       "    </tr>\n",
       "    <tr>\n",
       "      <th>std</th>\n",
       "      <td>5.627314</td>\n",
       "      <td>1.031822e+11</td>\n",
       "      <td>5.044395e+06</td>\n",
       "      <td>4.364423e+05</td>\n",
       "      <td>1077.135526</td>\n",
       "      <td>0.025409</td>\n",
       "      <td>0.001134</td>\n",
       "    </tr>\n",
       "    <tr>\n",
       "      <th>min</th>\n",
       "      <td>1.000000</td>\n",
       "      <td>3.986869e+07</td>\n",
       "      <td>1.694780e+05</td>\n",
       "      <td>2.167300e+04</td>\n",
       "      <td>2.000000</td>\n",
       "      <td>0.059323</td>\n",
       "      <td>0.000014</td>\n",
       "    </tr>\n",
       "    <tr>\n",
       "      <th>25%</th>\n",
       "      <td>5.500000</td>\n",
       "      <td>1.964594e+10</td>\n",
       "      <td>1.680724e+06</td>\n",
       "      <td>1.116675e+05</td>\n",
       "      <td>166.000000</td>\n",
       "      <td>0.063754</td>\n",
       "      <td>0.000034</td>\n",
       "    </tr>\n",
       "    <tr>\n",
       "      <th>50%</th>\n",
       "      <td>10.000000</td>\n",
       "      <td>3.858086e+10</td>\n",
       "      <td>2.935120e+06</td>\n",
       "      <td>2.485990e+05</td>\n",
       "      <td>502.000000</td>\n",
       "      <td>0.078664</td>\n",
       "      <td>0.000060</td>\n",
       "    </tr>\n",
       "    <tr>\n",
       "      <th>75%</th>\n",
       "      <td>14.500000</td>\n",
       "      <td>1.272668e+11</td>\n",
       "      <td>5.150092e+06</td>\n",
       "      <td>4.428390e+05</td>\n",
       "      <td>1273.000000</td>\n",
       "      <td>0.102936</td>\n",
       "      <td>0.000148</td>\n",
       "    </tr>\n",
       "    <tr>\n",
       "      <th>max</th>\n",
       "      <td>19.000000</td>\n",
       "      <td>3.389913e+11</td>\n",
       "      <td>1.676793e+07</td>\n",
       "      <td>1.786171e+06</td>\n",
       "      <td>4496.000000</td>\n",
       "      <td>0.147010</td>\n",
       "      <td>0.004318</td>\n",
       "    </tr>\n",
       "  </tbody>\n",
       "</table>\n",
       "</div>"
      ],
      "text/plain": [
       "        Cod_CCAA   Shape__Area      PAD_1C02  TotalParoRegistrado  \\\n",
       "count  19.000000  1.900000e+01  1.900000e+01         1.900000e+01   \n",
       "mean   10.000000  9.172893e+10  4.901534e+06         3.955138e+05   \n",
       "std     5.627314  1.031822e+11  5.044395e+06         4.364423e+05   \n",
       "min     1.000000  3.986869e+07  1.694780e+05         2.167300e+04   \n",
       "25%     5.500000  1.964594e+10  1.680724e+06         1.116675e+05   \n",
       "50%    10.000000  3.858086e+10  2.935120e+06         2.485990e+05   \n",
       "75%    14.500000  1.272668e+11  5.150092e+06         4.428390e+05   \n",
       "max    19.000000  3.389913e+11  1.676793e+07         1.786171e+06   \n",
       "\n",
       "                Id  propoc_paro   densidad  \n",
       "count    19.000000    19.000000  19.000000  \n",
       "mean    859.947368     0.085146   0.000466  \n",
       "std    1077.135526     0.025409   0.001134  \n",
       "min       2.000000     0.059323   0.000014  \n",
       "25%     166.000000     0.063754   0.000034  \n",
       "50%     502.000000     0.078664   0.000060  \n",
       "75%    1273.000000     0.102936   0.000148  \n",
       "max    4496.000000     0.147010   0.004318  "
      ]
     },
     "execution_count": 38,
     "metadata": {},
     "output_type": "execute_result"
    }
   ],
   "source": [
    "df_ccaa.describe()"
   ]
  },
  {
   "cell_type": "code",
   "execution_count": 32,
   "metadata": {},
   "outputs": [
    {
     "data": {
      "text/plain": [
       "0.08514552593625421"
      ]
     },
     "execution_count": 32,
     "metadata": {},
     "output_type": "execute_result"
    }
   ],
   "source": [
    "df_ccaa['propoc_paro'].mean()"
   ]
  },
  {
   "cell_type": "code",
   "execution_count": 46,
   "metadata": {},
   "outputs": [],
   "source": [
    "mediana_paro = df_ccaa['propoc_paro'].median()"
   ]
  },
  {
   "cell_type": "code",
   "execution_count": 47,
   "metadata": {},
   "outputs": [],
   "source": [
    "mediana_densidad = df_ccaa['densidad'].median()"
   ]
  },
  {
   "cell_type": "code",
   "execution_count": 33,
   "metadata": {},
   "outputs": [
    {
     "data": {
      "text/plain": [
       "0.08069184360555676"
      ]
     },
     "execution_count": 33,
     "metadata": {},
     "output_type": "execute_result"
    }
   ],
   "source": [
    "df_merge['TotalParoRegistrado'].sum()/df_merge['PAD_1C02'].sum()"
   ]
  },
  {
   "cell_type": "markdown",
   "metadata": {
    "colab_type": "text",
    "id": "4pcYnu1oi8PK"
   },
   "source": [
    "Habíamos visto que el promedio de la proporción de paro en los municipios con una densidad menor a la mediana es más bajo.. ¿Se cumple lo mismo para las provincias?"
   ]
  },
  {
   "cell_type": "code",
   "execution_count": 48,
   "metadata": {
    "colab": {},
    "colab_type": "code",
    "id": "t2AqUIHri8PM"
   },
   "outputs": [
    {
     "data": {
      "text/plain": [
       "0.07949514976643736"
      ]
     },
     "execution_count": 48,
     "metadata": {},
     "output_type": "execute_result"
    }
   ],
   "source": [
    "df_ccaa['propoc_paro'][df_ccaa['densidad']< mediana_densidad].mean()"
   ]
  },
  {
   "cell_type": "code",
   "execution_count": 49,
   "metadata": {
    "colab": {},
    "colab_type": "code",
    "id": "UNiPhjlLi8PV"
   },
   "outputs": [
    {
     "data": {
      "text/plain": [
       "0.08842061984034848"
      ]
     },
     "execution_count": 49,
     "metadata": {},
     "output_type": "execute_result"
    }
   ],
   "source": [
    "df_ccaa['propoc_paro'][df_ccaa['densidad']> mediana_densidad].mean()"
   ]
  },
  {
   "cell_type": "code",
   "execution_count": null,
   "metadata": {
    "colab": {},
    "colab_type": "code",
    "id": "nWMWFf21i8Pm"
   },
   "outputs": [],
   "source": []
  },
  {
   "cell_type": "markdown",
   "metadata": {
    "colab_type": "text",
    "id": "RXEBjmmXi8Pz"
   },
   "source": [
    "¿Cuál es la comunidad autónoma con mayor cantidad de municipios?"
   ]
  },
  {
   "cell_type": "code",
   "execution_count": 50,
   "metadata": {
    "colab": {},
    "colab_type": "code",
    "id": "j52-i563i8P0"
   },
   "outputs": [
    {
     "data": {
      "text/html": [
       "<div>\n",
       "<style scoped>\n",
       "    .dataframe tbody tr th:only-of-type {\n",
       "        vertical-align: middle;\n",
       "    }\n",
       "\n",
       "    .dataframe tbody tr th {\n",
       "        vertical-align: top;\n",
       "    }\n",
       "\n",
       "    .dataframe thead th {\n",
       "        text-align: right;\n",
       "    }\n",
       "</style>\n",
       "<table border=\"1\" class=\"dataframe\">\n",
       "  <thead>\n",
       "    <tr style=\"text-align: right;\">\n",
       "      <th></th>\n",
       "      <th>Cod_CCAA</th>\n",
       "      <th>Nom_CCAA</th>\n",
       "      <th>Shape__Area</th>\n",
       "      <th>PAD_1C02</th>\n",
       "      <th>TotalParoRegistrado</th>\n",
       "      <th>Id</th>\n",
       "      <th>propoc_paro</th>\n",
       "      <th>densidad</th>\n",
       "    </tr>\n",
       "  </thead>\n",
       "  <tbody>\n",
       "    <tr>\n",
       "      <th>6</th>\n",
       "      <td>7</td>\n",
       "      <td>Castilla y León</td>\n",
       "      <td>3.389913e+11</td>\n",
       "      <td>4873320.0</td>\n",
       "      <td>361767.0</td>\n",
       "      <td>4496</td>\n",
       "      <td>0.074234</td>\n",
       "      <td>0.000014</td>\n",
       "    </tr>\n",
       "  </tbody>\n",
       "</table>\n",
       "</div>"
      ],
      "text/plain": [
       "   Cod_CCAA         Nom_CCAA   Shape__Area   PAD_1C02  TotalParoRegistrado  \\\n",
       "6         7  Castilla y León  3.389913e+11  4873320.0             361767.0   \n",
       "\n",
       "     Id  propoc_paro  densidad  \n",
       "6  4496     0.074234  0.000014  "
      ]
     },
     "execution_count": 50,
     "metadata": {},
     "output_type": "execute_result"
    }
   ],
   "source": [
    "df_ccaa[df_ccaa['Id']==df_ccaa['Id'].max()]"
   ]
  },
  {
   "cell_type": "code",
   "execution_count": null,
   "metadata": {
    "colab": {},
    "colab_type": "code",
    "id": "XFm3as_Oi8P9"
   },
   "outputs": [],
   "source": [
    "df"
   ]
  }
 ],
 "metadata": {
  "colab": {
   "name": "ejercicio.ipynb",
   "provenance": []
  },
  "kernelspec": {
   "display_name": "Python 3",
   "language": "python",
   "name": "python3"
  },
  "language_info": {
   "codemirror_mode": {
    "name": "ipython",
    "version": 3
   },
   "file_extension": ".py",
   "mimetype": "text/x-python",
   "name": "python",
   "nbconvert_exporter": "python",
   "pygments_lexer": "ipython3",
   "version": "3.8.0"
  }
 },
 "nbformat": 4,
 "nbformat_minor": 1
}
