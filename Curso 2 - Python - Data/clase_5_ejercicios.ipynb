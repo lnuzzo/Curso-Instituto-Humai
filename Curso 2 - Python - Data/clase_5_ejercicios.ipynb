{
  "nbformat": 4,
  "nbformat_minor": 0,
  "metadata": {
    "kernelspec": {
      "display_name": "Python 3",
      "language": "python",
      "name": "python3"
    },
    "language_info": {
      "codemirror_mode": {
        "name": "ipython",
        "version": 3
      },
      "file_extension": ".py",
      "mimetype": "text/x-python",
      "name": "python",
      "nbconvert_exporter": "python",
      "pygments_lexer": "ipython3",
      "version": "3.7.1"
    },
    "colab": {
      "name": "ejercicios_extra.ipynb",
      "provenance": []
    }
  },
  "cells": [
    {
      "cell_type": "markdown",
      "metadata": {
        "id": "4Yf7AryqbKFd",
        "colab_type": "text"
      },
      "source": [
        "# Ejercicios extra visualización\n",
        "\n",
        "Se pedirá realizar graficos con distintos dataset. Es importante que cada uno de ellos cuente con un título y los respectivos nombres en sus ejes.\n",
        "\n",
        "\n",
        "## 1. Serie de tiempo\n",
        "\n",
        "Se pide realizar un análisis exploratorio de una serie de datos macroeconomicos, para ello es necesario visualizar la serie y otros gráficos descriptivos de la misma que se indicarán a continuación."
      ]
    },
    {
      "cell_type": "code",
      "metadata": {
        "id": "lvIKlRtwbKFe",
        "colab_type": "code",
        "colab": {}
      },
      "source": [
        "# Imports\n",
        "import pandas as pd \n",
        "import matplotlib.pyplot as plt\n",
        "%matplotlib inline"
      ],
      "execution_count": 1,
      "outputs": []
    },
    {
      "cell_type": "code",
      "metadata": {
        "id": "cC99cMr5bKFk",
        "colab_type": "code",
        "colab": {}
      },
      "source": [
        "df = pd.read_csv('https://datasets-humai.s3.amazonaws.com/datasets/data_macro.csv',sep=',')"
      ],
      "execution_count": 2,
      "outputs": []
    },
    {
      "cell_type": "markdown",
      "metadata": {
        "id": "6dMUaP2fbKFm",
        "colab_type": "text"
      },
      "source": [
        "### 1.1\n",
        "Graficar la serie de importaciones, en el eje de las abscisas deben ir los años, mientras que en el de las ordenadas la cantidad importada."
      ]
    },
    {
      "cell_type": "code",
      "metadata": {
        "id": "zX3jGjBrbV0g",
        "colab_type": "code",
        "colab": {
          "base_uri": "https://localhost:8080/",
          "height": 359
        },
        "outputId": "edae11b8-175b-41b6-a822-203fc4a99365"
      },
      "source": [
        "df.sample(10)"
      ],
      "execution_count": 3,
      "outputs": [
        {
          "output_type": "execute_result",
          "data": {
            "text/html": [
              "<div>\n",
              "<style scoped>\n",
              "    .dataframe tbody tr th:only-of-type {\n",
              "        vertical-align: middle;\n",
              "    }\n",
              "\n",
              "    .dataframe tbody tr th {\n",
              "        vertical-align: top;\n",
              "    }\n",
              "\n",
              "    .dataframe thead th {\n",
              "        text-align: right;\n",
              "    }\n",
              "</style>\n",
              "<table border=\"1\" class=\"dataframe\">\n",
              "  <thead>\n",
              "    <tr style=\"text-align: right;\">\n",
              "      <th></th>\n",
              "      <th>Unnamed: 0</th>\n",
              "      <th>Año</th>\n",
              "      <th>Trimestre</th>\n",
              "      <th>PIB_D</th>\n",
              "      <th>Importaciones_D</th>\n",
              "      <th>Exportaciones_D</th>\n",
              "      <th>Consumo_Privado_D</th>\n",
              "      <th>Consumo_Publico_D</th>\n",
              "    </tr>\n",
              "  </thead>\n",
              "  <tbody>\n",
              "    <tr>\n",
              "      <th>51</th>\n",
              "      <td>51</td>\n",
              "      <td>2016</td>\n",
              "      <td>IV</td>\n",
              "      <td>707.661</td>\n",
              "      <td>190.411</td>\n",
              "      <td>140.741</td>\n",
              "      <td>517.890</td>\n",
              "      <td>97.746</td>\n",
              "    </tr>\n",
              "    <tr>\n",
              "      <th>46</th>\n",
              "      <td>46</td>\n",
              "      <td>2015</td>\n",
              "      <td>III</td>\n",
              "      <td>727.260</td>\n",
              "      <td>182.950</td>\n",
              "      <td>140.967</td>\n",
              "      <td>523.542</td>\n",
              "      <td>97.945</td>\n",
              "    </tr>\n",
              "    <tr>\n",
              "      <th>4</th>\n",
              "      <td>4</td>\n",
              "      <td>2005</td>\n",
              "      <td>I</td>\n",
              "      <td>515.446</td>\n",
              "      <td>89.021</td>\n",
              "      <td>128.989</td>\n",
              "      <td>321.890</td>\n",
              "      <td>57.651</td>\n",
              "    </tr>\n",
              "    <tr>\n",
              "      <th>37</th>\n",
              "      <td>37</td>\n",
              "      <td>2013</td>\n",
              "      <td>II</td>\n",
              "      <td>721.262</td>\n",
              "      <td>193.916</td>\n",
              "      <td>155.311</td>\n",
              "      <td>516.388</td>\n",
              "      <td>87.374</td>\n",
              "    </tr>\n",
              "    <tr>\n",
              "      <th>62</th>\n",
              "      <td>62</td>\n",
              "      <td>2019</td>\n",
              "      <td>III</td>\n",
              "      <td>695.824</td>\n",
              "      <td>166.804</td>\n",
              "      <td>157.587</td>\n",
              "      <td>492.970</td>\n",
              "      <td>94.606</td>\n",
              "    </tr>\n",
              "    <tr>\n",
              "      <th>20</th>\n",
              "      <td>20</td>\n",
              "      <td>2009</td>\n",
              "      <td>I</td>\n",
              "      <td>605.434</td>\n",
              "      <td>114.868</td>\n",
              "      <td>143.147</td>\n",
              "      <td>407.647</td>\n",
              "      <td>70.569</td>\n",
              "    </tr>\n",
              "    <tr>\n",
              "      <th>24</th>\n",
              "      <td>24</td>\n",
              "      <td>2010</td>\n",
              "      <td>I</td>\n",
              "      <td>645.641</td>\n",
              "      <td>139.225</td>\n",
              "      <td>141.931</td>\n",
              "      <td>437.236</td>\n",
              "      <td>75.617</td>\n",
              "    </tr>\n",
              "    <tr>\n",
              "      <th>58</th>\n",
              "      <td>58</td>\n",
              "      <td>2018</td>\n",
              "      <td>III</td>\n",
              "      <td>698.942</td>\n",
              "      <td>196.468</td>\n",
              "      <td>137.518</td>\n",
              "      <td>509.536</td>\n",
              "      <td>94.483</td>\n",
              "    </tr>\n",
              "    <tr>\n",
              "      <th>30</th>\n",
              "      <td>30</td>\n",
              "      <td>2011</td>\n",
              "      <td>III</td>\n",
              "      <td>714.666</td>\n",
              "      <td>199.472</td>\n",
              "      <td>164.694</td>\n",
              "      <td>508.237</td>\n",
              "      <td>81.790</td>\n",
              "    </tr>\n",
              "    <tr>\n",
              "      <th>53</th>\n",
              "      <td>53</td>\n",
              "      <td>2017</td>\n",
              "      <td>II</td>\n",
              "      <td>719.488</td>\n",
              "      <td>208.390</td>\n",
              "      <td>144.378</td>\n",
              "      <td>536.686</td>\n",
              "      <td>99.015</td>\n",
              "    </tr>\n",
              "  </tbody>\n",
              "</table>\n",
              "</div>"
            ],
            "text/plain": [
              "    Unnamed: 0   Año  ... Consumo_Privado_D  Consumo_Publico_D\n",
              "51          51  2016  ...           517.890             97.746\n",
              "46          46  2015  ...           523.542             97.945\n",
              "4            4  2005  ...           321.890             57.651\n",
              "37          37  2013  ...           516.388             87.374\n",
              "62          62  2019  ...           492.970             94.606\n",
              "20          20  2009  ...           407.647             70.569\n",
              "24          24  2010  ...           437.236             75.617\n",
              "58          58  2018  ...           509.536             94.483\n",
              "30          30  2011  ...           508.237             81.790\n",
              "53          53  2017  ...           536.686             99.015\n",
              "\n",
              "[10 rows x 8 columns]"
            ]
          },
          "metadata": {
            "tags": []
          },
          "execution_count": 3
        }
      ]
    },
    {
      "cell_type": "code",
      "metadata": {
        "id": "9-kE2jZ4X34a",
        "colab_type": "code",
        "colab": {
          "base_uri": "https://localhost:8080/",
          "height": 297
        },
        "outputId": "2ede20d0-9fb3-4ed8-ed2e-dc8d3eb29a04"
      },
      "source": [
        "df.describe()"
      ],
      "execution_count": 7,
      "outputs": [
        {
          "output_type": "execute_result",
          "data": {
            "text/html": [
              "<div>\n",
              "<style scoped>\n",
              "    .dataframe tbody tr th:only-of-type {\n",
              "        vertical-align: middle;\n",
              "    }\n",
              "\n",
              "    .dataframe tbody tr th {\n",
              "        vertical-align: top;\n",
              "    }\n",
              "\n",
              "    .dataframe thead th {\n",
              "        text-align: right;\n",
              "    }\n",
              "</style>\n",
              "<table border=\"1\" class=\"dataframe\">\n",
              "  <thead>\n",
              "    <tr style=\"text-align: right;\">\n",
              "      <th></th>\n",
              "      <th>Unnamed: 0</th>\n",
              "      <th>Año</th>\n",
              "      <th>PIB_D</th>\n",
              "      <th>Importaciones_D</th>\n",
              "      <th>Exportaciones_D</th>\n",
              "      <th>Consumo_Privado_D</th>\n",
              "      <th>Consumo_Publico_D</th>\n",
              "    </tr>\n",
              "  </thead>\n",
              "  <tbody>\n",
              "    <tr>\n",
              "      <th>count</th>\n",
              "      <td>64.000000</td>\n",
              "      <td>64.000000</td>\n",
              "      <td>64.000000</td>\n",
              "      <td>64.000000</td>\n",
              "      <td>64.000000</td>\n",
              "      <td>64.000000</td>\n",
              "      <td>64.000000</td>\n",
              "    </tr>\n",
              "    <tr>\n",
              "      <th>mean</th>\n",
              "      <td>31.500000</td>\n",
              "      <td>2011.500000</td>\n",
              "      <td>657.616969</td>\n",
              "      <td>156.705766</td>\n",
              "      <td>143.946438</td>\n",
              "      <td>460.150297</td>\n",
              "      <td>80.383109</td>\n",
              "    </tr>\n",
              "    <tr>\n",
              "      <th>std</th>\n",
              "      <td>18.618987</td>\n",
              "      <td>4.646214</td>\n",
              "      <td>73.668359</td>\n",
              "      <td>40.948006</td>\n",
              "      <td>12.678413</td>\n",
              "      <td>71.716057</td>\n",
              "      <td>14.607297</td>\n",
              "    </tr>\n",
              "    <tr>\n",
              "      <th>min</th>\n",
              "      <td>0.000000</td>\n",
              "      <td>2004.000000</td>\n",
              "      <td>469.984000</td>\n",
              "      <td>76.726000</td>\n",
              "      <td>110.908000</td>\n",
              "      <td>301.075000</td>\n",
              "      <td>52.471000</td>\n",
              "    </tr>\n",
              "    <tr>\n",
              "      <th>25%</th>\n",
              "      <td>15.750000</td>\n",
              "      <td>2007.750000</td>\n",
              "      <td>615.425500</td>\n",
              "      <td>120.099000</td>\n",
              "      <td>136.724500</td>\n",
              "      <td>411.005500</td>\n",
              "      <td>68.135750</td>\n",
              "    </tr>\n",
              "    <tr>\n",
              "      <th>50%</th>\n",
              "      <td>31.500000</td>\n",
              "      <td>2011.500000</td>\n",
              "      <td>693.220500</td>\n",
              "      <td>167.646500</td>\n",
              "      <td>142.854500</td>\n",
              "      <td>491.665500</td>\n",
              "      <td>82.015000</td>\n",
              "    </tr>\n",
              "    <tr>\n",
              "      <th>75%</th>\n",
              "      <td>47.250000</td>\n",
              "      <td>2015.250000</td>\n",
              "      <td>712.038000</td>\n",
              "      <td>186.293750</td>\n",
              "      <td>153.664500</td>\n",
              "      <td>517.251750</td>\n",
              "      <td>94.553500</td>\n",
              "    </tr>\n",
              "    <tr>\n",
              "      <th>max</th>\n",
              "      <td>63.000000</td>\n",
              "      <td>2019.000000</td>\n",
              "      <td>737.842000</td>\n",
              "      <td>234.093000</td>\n",
              "      <td>166.335000</td>\n",
              "      <td>557.823000</td>\n",
              "      <td>99.659000</td>\n",
              "    </tr>\n",
              "  </tbody>\n",
              "</table>\n",
              "</div>"
            ],
            "text/plain": [
              "       Unnamed: 0          Año  ...  Consumo_Privado_D  Consumo_Publico_D\n",
              "count   64.000000    64.000000  ...          64.000000          64.000000\n",
              "mean    31.500000  2011.500000  ...         460.150297          80.383109\n",
              "std     18.618987     4.646214  ...          71.716057          14.607297\n",
              "min      0.000000  2004.000000  ...         301.075000          52.471000\n",
              "25%     15.750000  2007.750000  ...         411.005500          68.135750\n",
              "50%     31.500000  2011.500000  ...         491.665500          82.015000\n",
              "75%     47.250000  2015.250000  ...         517.251750          94.553500\n",
              "max     63.000000  2019.000000  ...         557.823000          99.659000\n",
              "\n",
              "[8 rows x 7 columns]"
            ]
          },
          "metadata": {
            "tags": []
          },
          "execution_count": 7
        }
      ]
    },
    {
      "cell_type": "code",
      "metadata": {
        "id": "NAmrkhhEXe7s",
        "colab_type": "code",
        "colab": {
          "base_uri": "https://localhost:8080/",
          "height": 576
        },
        "outputId": "1505e2b0-5338-4833-a2d6-ff2f94b57dfe"
      },
      "source": [
        "df.groupby('Año').agg({'Importaciones_D':'sum'})"
      ],
      "execution_count": 18,
      "outputs": [
        {
          "output_type": "execute_result",
          "data": {
            "text/html": [
              "<div>\n",
              "<style scoped>\n",
              "    .dataframe tbody tr th:only-of-type {\n",
              "        vertical-align: middle;\n",
              "    }\n",
              "\n",
              "    .dataframe tbody tr th {\n",
              "        vertical-align: top;\n",
              "    }\n",
              "\n",
              "    .dataframe thead th {\n",
              "        text-align: right;\n",
              "    }\n",
              "</style>\n",
              "<table border=\"1\" class=\"dataframe\">\n",
              "  <thead>\n",
              "    <tr style=\"text-align: right;\">\n",
              "      <th></th>\n",
              "      <th>Importaciones_D</th>\n",
              "    </tr>\n",
              "    <tr>\n",
              "      <th>Año</th>\n",
              "      <th></th>\n",
              "    </tr>\n",
              "  </thead>\n",
              "  <tbody>\n",
              "    <tr>\n",
              "      <th>2004</th>\n",
              "      <td>326.872</td>\n",
              "    </tr>\n",
              "    <tr>\n",
              "      <th>2005</th>\n",
              "      <td>378.674</td>\n",
              "    </tr>\n",
              "    <tr>\n",
              "      <th>2006</th>\n",
              "      <td>420.298</td>\n",
              "    </tr>\n",
              "    <tr>\n",
              "      <th>2007</th>\n",
              "      <td>502.846</td>\n",
              "    </tr>\n",
              "    <tr>\n",
              "      <th>2008</th>\n",
              "      <td>571.043</td>\n",
              "    </tr>\n",
              "    <tr>\n",
              "      <th>2009</th>\n",
              "      <td>465.877</td>\n",
              "    </tr>\n",
              "    <tr>\n",
              "      <th>2010</th>\n",
              "      <td>629.886</td>\n",
              "    </tr>\n",
              "    <tr>\n",
              "      <th>2011</th>\n",
              "      <td>768.641</td>\n",
              "    </tr>\n",
              "    <tr>\n",
              "      <th>2012</th>\n",
              "      <td>732.298</td>\n",
              "    </tr>\n",
              "    <tr>\n",
              "      <th>2013</th>\n",
              "      <td>760.731</td>\n",
              "    </tr>\n",
              "    <tr>\n",
              "      <th>2014</th>\n",
              "      <td>673.400</td>\n",
              "    </tr>\n",
              "    <tr>\n",
              "      <th>2015</th>\n",
              "      <td>705.126</td>\n",
              "    </tr>\n",
              "    <tr>\n",
              "      <th>2016</th>\n",
              "      <td>746.194</td>\n",
              "    </tr>\n",
              "    <tr>\n",
              "      <th>2017</th>\n",
              "      <td>860.780</td>\n",
              "    </tr>\n",
              "    <tr>\n",
              "      <th>2018</th>\n",
              "      <td>820.038</td>\n",
              "    </tr>\n",
              "    <tr>\n",
              "      <th>2019</th>\n",
              "      <td>666.465</td>\n",
              "    </tr>\n",
              "  </tbody>\n",
              "</table>\n",
              "</div>"
            ],
            "text/plain": [
              "      Importaciones_D\n",
              "Año                  \n",
              "2004          326.872\n",
              "2005          378.674\n",
              "2006          420.298\n",
              "2007          502.846\n",
              "2008          571.043\n",
              "2009          465.877\n",
              "2010          629.886\n",
              "2011          768.641\n",
              "2012          732.298\n",
              "2013          760.731\n",
              "2014          673.400\n",
              "2015          705.126\n",
              "2016          746.194\n",
              "2017          860.780\n",
              "2018          820.038\n",
              "2019          666.465"
            ]
          },
          "metadata": {
            "tags": []
          },
          "execution_count": 18
        }
      ]
    },
    {
      "cell_type": "markdown",
      "metadata": {
        "id": "iqI36Ue-bKFn",
        "colab_type": "text"
      },
      "source": [
        "### 1.2\n",
        "\n",
        "Graficar los cierres anuales para exportaciones, importaciones, consumo publico, consumo privado y PBI. Recuerde incorporar los años en el eje horizontal."
      ]
    },
    {
      "cell_type": "code",
      "metadata": {
        "id": "itT973NobmOn",
        "colab_type": "code",
        "colab": {
          "base_uri": "https://localhost:8080/",
          "height": 296
        },
        "outputId": "1bc1941c-71f5-408b-baaf-ee58e8a8313b"
      },
      "source": [
        "df.groupby('Año').agg({'Importaciones_D':'sum',\n",
        "                       'Exportaciones_D':'sum',\n",
        "                       'Consumo_Privado_D':'sum',\n",
        "                       'Consumo_Publico_D':'sum'}).plot()"
      ],
      "execution_count": 19,
      "outputs": [
        {
          "output_type": "execute_result",
          "data": {
            "text/plain": [
              "<matplotlib.axes._subplots.AxesSubplot at 0x7fd5eda12c50>"
            ]
          },
          "metadata": {
            "tags": []
          },
          "execution_count": 19
        },
        {
          "output_type": "display_data",
          "data": {
            "image/png": "[encoded data removed]",
            "text/plain": [
              "<Figure size 432x288 with 1 Axes>"
            ]
          },
          "metadata": {
            "tags": [],
            "needs_background": "light"
          }
        }
      ]
    },
    {
      "cell_type": "markdown",
      "metadata": {
        "id": "u5j67MqHbKFn",
        "colab_type": "text"
      },
      "source": [
        "### 1.3 \n",
        "Graficar la serie de exportaciones junto a su media movil y su desvio estandar móvil."
      ]
    },
    {
      "cell_type": "code",
      "metadata": {
        "id": "XMeSEs3YbKFo",
        "colab_type": "code",
        "colab": {}
      },
      "source": [
        "import numpy as np"
      ],
      "execution_count": 20,
      "outputs": []
    },
    {
      "cell_type": "code",
      "metadata": {
        "id": "UrWRUtUqbKFq",
        "colab_type": "code",
        "colab": {
          "base_uri": "https://localhost:8080/",
          "height": 419
        },
        "outputId": "65ab77fb-0a9e-4f89-ded4-7c666469a9bd"
      },
      "source": [
        "# Consejo: utilizar las funciones np.rolling\n",
        "\n",
        "df['exportaciones_mm'] = df[\"Exportaciones_D\"].rolling(2).mean()\n",
        "df['exportaciones_dem'] = df[\"Exportaciones_D\"].rolling(2).std()\n",
        "df\n",
        "#desvio_movil = "
      ],
      "execution_count": 24,
      "outputs": [
        {
          "output_type": "execute_result",
          "data": {
            "text/html": [
              "<div>\n",
              "<style scoped>\n",
              "    .dataframe tbody tr th:only-of-type {\n",
              "        vertical-align: middle;\n",
              "    }\n",
              "\n",
              "    .dataframe tbody tr th {\n",
              "        vertical-align: top;\n",
              "    }\n",
              "\n",
              "    .dataframe thead th {\n",
              "        text-align: right;\n",
              "    }\n",
              "</style>\n",
              "<table border=\"1\" class=\"dataframe\">\n",
              "  <thead>\n",
              "    <tr style=\"text-align: right;\">\n",
              "      <th></th>\n",
              "      <th>Unnamed: 0</th>\n",
              "      <th>Año</th>\n",
              "      <th>Trimestre</th>\n",
              "      <th>PIB_D</th>\n",
              "      <th>Importaciones_D</th>\n",
              "      <th>Exportaciones_D</th>\n",
              "      <th>Consumo_Privado_D</th>\n",
              "      <th>Consumo_Publico_D</th>\n",
              "      <th>exportaciones_mm</th>\n",
              "      <th>exportaciones_dem</th>\n",
              "    </tr>\n",
              "  </thead>\n",
              "  <tbody>\n",
              "    <tr>\n",
              "      <th>0</th>\n",
              "      <td>0</td>\n",
              "      <td>2004</td>\n",
              "      <td>I</td>\n",
              "      <td>475.774</td>\n",
              "      <td>76.726</td>\n",
              "      <td>110.908</td>\n",
              "      <td>301.075</td>\n",
              "      <td>52.471</td>\n",
              "      <td>NaN</td>\n",
              "      <td>NaN</td>\n",
              "    </tr>\n",
              "    <tr>\n",
              "      <th>1</th>\n",
              "      <td>1</td>\n",
              "      <td>2004</td>\n",
              "      <td>II</td>\n",
              "      <td>469.984</td>\n",
              "      <td>80.629</td>\n",
              "      <td>114.546</td>\n",
              "      <td>305.247</td>\n",
              "      <td>52.962</td>\n",
              "      <td>112.7270</td>\n",
              "      <td>2.572454</td>\n",
              "    </tr>\n",
              "    <tr>\n",
              "      <th>2</th>\n",
              "      <td>2</td>\n",
              "      <td>2004</td>\n",
              "      <td>III</td>\n",
              "      <td>493.773</td>\n",
              "      <td>82.344</td>\n",
              "      <td>117.306</td>\n",
              "      <td>317.382</td>\n",
              "      <td>54.495</td>\n",
              "      <td>115.9260</td>\n",
              "      <td>1.951615</td>\n",
              "    </tr>\n",
              "    <tr>\n",
              "      <th>3</th>\n",
              "      <td>3</td>\n",
              "      <td>2004</td>\n",
              "      <td>IV</td>\n",
              "      <td>500.929</td>\n",
              "      <td>87.173</td>\n",
              "      <td>119.994</td>\n",
              "      <td>324.624</td>\n",
              "      <td>55.747</td>\n",
              "      <td>118.6500</td>\n",
              "      <td>1.900703</td>\n",
              "    </tr>\n",
              "    <tr>\n",
              "      <th>4</th>\n",
              "      <td>4</td>\n",
              "      <td>2005</td>\n",
              "      <td>I</td>\n",
              "      <td>515.446</td>\n",
              "      <td>89.021</td>\n",
              "      <td>128.989</td>\n",
              "      <td>321.890</td>\n",
              "      <td>57.651</td>\n",
              "      <td>124.4915</td>\n",
              "      <td>6.360425</td>\n",
              "    </tr>\n",
              "    <tr>\n",
              "      <th>...</th>\n",
              "      <td>...</td>\n",
              "      <td>...</td>\n",
              "      <td>...</td>\n",
              "      <td>...</td>\n",
              "      <td>...</td>\n",
              "      <td>...</td>\n",
              "      <td>...</td>\n",
              "      <td>...</td>\n",
              "      <td>...</td>\n",
              "      <td>...</td>\n",
              "    </tr>\n",
              "    <tr>\n",
              "      <th>59</th>\n",
              "      <td>59</td>\n",
              "      <td>2018</td>\n",
              "      <td>IV</td>\n",
              "      <td>692.198</td>\n",
              "      <td>176.589</td>\n",
              "      <td>151.873</td>\n",
              "      <td>498.711</td>\n",
              "      <td>94.536</td>\n",
              "      <td>144.6955</td>\n",
              "      <td>10.150518</td>\n",
              "    </tr>\n",
              "    <tr>\n",
              "      <th>60</th>\n",
              "      <td>60</td>\n",
              "      <td>2019</td>\n",
              "      <td>I</td>\n",
              "      <td>694.243</td>\n",
              "      <td>172.334</td>\n",
              "      <td>155.735</td>\n",
              "      <td>491.686</td>\n",
              "      <td>95.758</td>\n",
              "      <td>153.8040</td>\n",
              "      <td>2.730846</td>\n",
              "    </tr>\n",
              "    <tr>\n",
              "      <th>61</th>\n",
              "      <td>61</td>\n",
              "      <td>2019</td>\n",
              "      <td>II</td>\n",
              "      <td>689.175</td>\n",
              "      <td>168.489</td>\n",
              "      <td>153.563</td>\n",
              "      <td>491.499</td>\n",
              "      <td>94.743</td>\n",
              "      <td>154.6490</td>\n",
              "      <td>1.535836</td>\n",
              "    </tr>\n",
              "    <tr>\n",
              "      <th>62</th>\n",
              "      <td>62</td>\n",
              "      <td>2019</td>\n",
              "      <td>III</td>\n",
              "      <td>695.824</td>\n",
              "      <td>166.804</td>\n",
              "      <td>157.587</td>\n",
              "      <td>492.970</td>\n",
              "      <td>94.606</td>\n",
              "      <td>155.5750</td>\n",
              "      <td>2.845398</td>\n",
              "    </tr>\n",
              "    <tr>\n",
              "      <th>63</th>\n",
              "      <td>63</td>\n",
              "      <td>2019</td>\n",
              "      <td>IV</td>\n",
              "      <td>688.879</td>\n",
              "      <td>158.838</td>\n",
              "      <td>162.559</td>\n",
              "      <td>489.046</td>\n",
              "      <td>91.683</td>\n",
              "      <td>160.0730</td>\n",
              "      <td>3.515735</td>\n",
              "    </tr>\n",
              "  </tbody>\n",
              "</table>\n",
              "<p>64 rows × 10 columns</p>\n",
              "</div>"
            ],
            "text/plain": [
              "    Unnamed: 0   Año  ... exportaciones_mm  exportaciones_dem\n",
              "0            0  2004  ...              NaN                NaN\n",
              "1            1  2004  ...         112.7270           2.572454\n",
              "2            2  2004  ...         115.9260           1.951615\n",
              "3            3  2004  ...         118.6500           1.900703\n",
              "4            4  2005  ...         124.4915           6.360425\n",
              "..         ...   ...  ...              ...                ...\n",
              "59          59  2018  ...         144.6955          10.150518\n",
              "60          60  2019  ...         153.8040           2.730846\n",
              "61          61  2019  ...         154.6490           1.535836\n",
              "62          62  2019  ...         155.5750           2.845398\n",
              "63          63  2019  ...         160.0730           3.515735\n",
              "\n",
              "[64 rows x 10 columns]"
            ]
          },
          "metadata": {
            "tags": []
          },
          "execution_count": 24
        }
      ]
    },
    {
      "cell_type": "code",
      "metadata": {
        "id": "jQ0TQghrdMID",
        "colab_type": "code",
        "colab": {
          "base_uri": "https://localhost:8080/",
          "height": 296
        },
        "outputId": "239790b0-4a0c-4fe7-9e1d-5c25b32d531b"
      },
      "source": [
        "df.groupby('Año').agg({'Exportaciones_D':'sum',\n",
        "                       'exportaciones_mm':'sum',\n",
        "                       'exportaciones_dem':'sum'}).plot()"
      ],
      "execution_count": 26,
      "outputs": [
        {
          "output_type": "execute_result",
          "data": {
            "text/plain": [
              "<matplotlib.axes._subplots.AxesSubplot at 0x7fd5ed3b7dd8>"
            ]
          },
          "metadata": {
            "tags": []
          },
          "execution_count": 26
        },
        {
          "output_type": "display_data",
          "data": {
            "image/png": "[encoded data removed]",
            "text/plain": [
              "<Figure size 432x288 with 1 Axes>"
            ]
          },
          "metadata": {
            "tags": [],
            "needs_background": "light"
          }
        }
      ]
    },
    {
      "cell_type": "markdown",
      "metadata": {
        "id": "cz9WtDxSbKFt",
        "colab_type": "text"
      },
      "source": [
        "## 2. Iris Dataset\n",
        "\n",
        "Utilizando el [Iris Dataset](https://es.wikipedia.org/wiki/Conjunto_de_datos_flor_iris), una base de datos que contiene información acerca de tres especies de flores distintas, vamos realizar algunos gráficos para entender mejor su comportamiento. Este dataset es ampliamente utilizado en el ámbito academico para la práctica de visualización de datos, es recomendable que investiguen y vean los distintos trabajos realizados sobre el mismo. "
      ]
    },
    {
      "cell_type": "code",
      "metadata": {
        "id": "izezLbusbKFt",
        "colab_type": "code",
        "colab": {}
      },
      "source": [
        "df = pd.read_csv(\"https://datasets-humai.s3.amazonaws.com/datasets/data_iris.csv\")"
      ],
      "execution_count": 27,
      "outputs": []
    },
    {
      "cell_type": "code",
      "metadata": {
        "id": "JOr9BI1ch3SY",
        "colab_type": "code",
        "colab": {
          "base_uri": "https://localhost:8080/",
          "height": 419
        },
        "outputId": "67d830de-4c5e-433b-9f3a-a1bc6d6a02b8"
      },
      "source": [
        "df"
      ],
      "execution_count": 30,
      "outputs": [
        {
          "output_type": "execute_result",
          "data": {
            "text/html": [
              "<div>\n",
              "<style scoped>\n",
              "    .dataframe tbody tr th:only-of-type {\n",
              "        vertical-align: middle;\n",
              "    }\n",
              "\n",
              "    .dataframe tbody tr th {\n",
              "        vertical-align: top;\n",
              "    }\n",
              "\n",
              "    .dataframe thead th {\n",
              "        text-align: right;\n",
              "    }\n",
              "</style>\n",
              "<table border=\"1\" class=\"dataframe\">\n",
              "  <thead>\n",
              "    <tr style=\"text-align: right;\">\n",
              "      <th></th>\n",
              "      <th>Id</th>\n",
              "      <th>SepalLengthCm</th>\n",
              "      <th>SepalWidthCm</th>\n",
              "      <th>PetalLengthCm</th>\n",
              "      <th>PetalWidthCm</th>\n",
              "      <th>Species</th>\n",
              "    </tr>\n",
              "  </thead>\n",
              "  <tbody>\n",
              "    <tr>\n",
              "      <th>0</th>\n",
              "      <td>1</td>\n",
              "      <td>5.1</td>\n",
              "      <td>3.5</td>\n",
              "      <td>1.4</td>\n",
              "      <td>0.2</td>\n",
              "      <td>Iris-setosa</td>\n",
              "    </tr>\n",
              "    <tr>\n",
              "      <th>1</th>\n",
              "      <td>2</td>\n",
              "      <td>4.9</td>\n",
              "      <td>3.0</td>\n",
              "      <td>1.4</td>\n",
              "      <td>0.2</td>\n",
              "      <td>Iris-setosa</td>\n",
              "    </tr>\n",
              "    <tr>\n",
              "      <th>2</th>\n",
              "      <td>3</td>\n",
              "      <td>4.7</td>\n",
              "      <td>3.2</td>\n",
              "      <td>1.3</td>\n",
              "      <td>0.2</td>\n",
              "      <td>Iris-setosa</td>\n",
              "    </tr>\n",
              "    <tr>\n",
              "      <th>3</th>\n",
              "      <td>4</td>\n",
              "      <td>4.6</td>\n",
              "      <td>3.1</td>\n",
              "      <td>1.5</td>\n",
              "      <td>0.2</td>\n",
              "      <td>Iris-setosa</td>\n",
              "    </tr>\n",
              "    <tr>\n",
              "      <th>4</th>\n",
              "      <td>5</td>\n",
              "      <td>5.0</td>\n",
              "      <td>3.6</td>\n",
              "      <td>1.4</td>\n",
              "      <td>0.2</td>\n",
              "      <td>Iris-setosa</td>\n",
              "    </tr>\n",
              "    <tr>\n",
              "      <th>...</th>\n",
              "      <td>...</td>\n",
              "      <td>...</td>\n",
              "      <td>...</td>\n",
              "      <td>...</td>\n",
              "      <td>...</td>\n",
              "      <td>...</td>\n",
              "    </tr>\n",
              "    <tr>\n",
              "      <th>145</th>\n",
              "      <td>146</td>\n",
              "      <td>6.7</td>\n",
              "      <td>3.0</td>\n",
              "      <td>5.2</td>\n",
              "      <td>2.3</td>\n",
              "      <td>Iris-virginica</td>\n",
              "    </tr>\n",
              "    <tr>\n",
              "      <th>146</th>\n",
              "      <td>147</td>\n",
              "      <td>6.3</td>\n",
              "      <td>2.5</td>\n",
              "      <td>5.0</td>\n",
              "      <td>1.9</td>\n",
              "      <td>Iris-virginica</td>\n",
              "    </tr>\n",
              "    <tr>\n",
              "      <th>147</th>\n",
              "      <td>148</td>\n",
              "      <td>6.5</td>\n",
              "      <td>3.0</td>\n",
              "      <td>5.2</td>\n",
              "      <td>2.0</td>\n",
              "      <td>Iris-virginica</td>\n",
              "    </tr>\n",
              "    <tr>\n",
              "      <th>148</th>\n",
              "      <td>149</td>\n",
              "      <td>6.2</td>\n",
              "      <td>3.4</td>\n",
              "      <td>5.4</td>\n",
              "      <td>2.3</td>\n",
              "      <td>Iris-virginica</td>\n",
              "    </tr>\n",
              "    <tr>\n",
              "      <th>149</th>\n",
              "      <td>150</td>\n",
              "      <td>5.9</td>\n",
              "      <td>3.0</td>\n",
              "      <td>5.1</td>\n",
              "      <td>1.8</td>\n",
              "      <td>Iris-virginica</td>\n",
              "    </tr>\n",
              "  </tbody>\n",
              "</table>\n",
              "<p>150 rows × 6 columns</p>\n",
              "</div>"
            ],
            "text/plain": [
              "      Id  SepalLengthCm  ...  PetalWidthCm         Species\n",
              "0      1            5.1  ...           0.2     Iris-setosa\n",
              "1      2            4.9  ...           0.2     Iris-setosa\n",
              "2      3            4.7  ...           0.2     Iris-setosa\n",
              "3      4            4.6  ...           0.2     Iris-setosa\n",
              "4      5            5.0  ...           0.2     Iris-setosa\n",
              "..   ...            ...  ...           ...             ...\n",
              "145  146            6.7  ...           2.3  Iris-virginica\n",
              "146  147            6.3  ...           1.9  Iris-virginica\n",
              "147  148            6.5  ...           2.0  Iris-virginica\n",
              "148  149            6.2  ...           2.3  Iris-virginica\n",
              "149  150            5.9  ...           1.8  Iris-virginica\n",
              "\n",
              "[150 rows x 6 columns]"
            ]
          },
          "metadata": {
            "tags": []
          },
          "execution_count": 30
        }
      ]
    },
    {
      "cell_type": "markdown",
      "metadata": {
        "id": "zYNYNcmObKFw",
        "colab_type": "text"
      },
      "source": [
        "### 2.1 \n",
        "Graficar las distribución del largo del sepalo."
      ]
    },
    {
      "cell_type": "code",
      "metadata": {
        "id": "XMgTP5hQd-PR",
        "colab_type": "code",
        "colab": {
          "base_uri": "https://localhost:8080/",
          "height": 282
        },
        "outputId": "fe523828-a2b6-4ab9-ff39-39a067ecd162"
      },
      "source": [
        "df['SepalLengthCm'].hist()"
      ],
      "execution_count": 37,
      "outputs": [
        {
          "output_type": "execute_result",
          "data": {
            "text/plain": [
              "<matplotlib.axes._subplots.AxesSubplot at 0x7fd5ed17f5c0>"
            ]
          },
          "metadata": {
            "tags": []
          },
          "execution_count": 37
        },
        {
          "output_type": "display_data",
          "data": {
            "image/png": "[encoded data removed]",
            "text/plain": [
              "<Figure size 432x288 with 1 Axes>"
            ]
          },
          "metadata": {
            "tags": [],
            "needs_background": "light"
          }
        }
      ]
    },
    {
      "cell_type": "markdown",
      "metadata": {
        "id": "G-2VHPmnbKFw",
        "colab_type": "text"
      },
      "source": [
        "# 2.2\n",
        "Graficar la función de densidad del largo del sépalo."
      ]
    },
    {
      "cell_type": "code",
      "metadata": {
        "id": "x6KgxfJMhi70",
        "colab_type": "code",
        "colab": {
          "base_uri": "https://localhost:8080/",
          "height": 136
        },
        "outputId": "6f911807-367f-4f3e-909a-3ce4d95711e1"
      },
      "source": [
        "df_group1 = df.groupby('SepalLengthCm')['SepalLengthCm'].count()\n",
        "\n",
        "df_group1.head()"
      ],
      "execution_count": 57,
      "outputs": [
        {
          "output_type": "execute_result",
          "data": {
            "text/plain": [
              "SepalLengthCm\n",
              "4.3    1\n",
              "4.4    3\n",
              "4.5    1\n",
              "4.6    4\n",
              "4.7    2\n",
              "Name: SepalLengthCm, dtype: int64"
            ]
          },
          "metadata": {
            "tags": []
          },
          "execution_count": 57
        }
      ]
    },
    {
      "cell_type": "code",
      "metadata": {
        "id": "SUYZbUtom5DI",
        "colab_type": "code",
        "colab": {
          "base_uri": "https://localhost:8080/",
          "height": 282
        },
        "outputId": "a7d509ad-f4b1-4a8e-f68d-29712dd3888c"
      },
      "source": [
        "df_group1.hist()"
      ],
      "execution_count": 58,
      "outputs": [
        {
          "output_type": "execute_result",
          "data": {
            "text/plain": [
              "<matplotlib.axes._subplots.AxesSubplot at 0x7fd5ecc5d9b0>"
            ]
          },
          "metadata": {
            "tags": []
          },
          "execution_count": 58
        },
        {
          "output_type": "display_data",
          "data": {
            "image/png": "[encoded data removed]",
            "text/plain": [
              "<Figure size 432x288 with 1 Axes>"
            ]
          },
          "metadata": {
            "tags": [],
            "needs_background": "light"
          }
        }
      ]
    },
    {
      "cell_type": "markdown",
      "metadata": {
        "id": "4L6HitzwbKFx",
        "colab_type": "text"
      },
      "source": [
        "## 3. Plotly"
      ]
    },
    {
      "cell_type": "code",
      "metadata": {
        "id": "tQxNnpL3bKFx",
        "colab_type": "code",
        "colab": {}
      },
      "source": [
        "import plotly.graph_objects as go\n",
        "import plotly.express as px"
      ],
      "execution_count": 59,
      "outputs": []
    },
    {
      "cell_type": "markdown",
      "metadata": {
        "id": "03I3ArjAbKF0",
        "colab_type": "text"
      },
      "source": [
        "### 3.1\n",
        "\n",
        "Con plotly express realizar un gráfico de dispersion donde el eje de ordenadas explique el largo del sepalo y el eje de abscisas explique el largo del pétalo con cada una de las especies."
      ]
    },
    {
      "cell_type": "markdown",
      "metadata": {
        "id": "vRNZ8XrMbKF1",
        "colab_type": "text"
      },
      "source": [
        "### 3.2"
      ]
    },
    {
      "cell_type": "markdown",
      "metadata": {
        "id": "1-6pd7oLbKF1",
        "colab_type": "text"
      },
      "source": [
        "Realizar lo mismo que en el 3.1 pero con un *objeto gráfico* de plotly. Vemos que podemos hacer una mayor personalización."
      ]
    },
    {
      "cell_type": "code",
      "metadata": {
        "id": "FdNarmiKbKF1",
        "colab_type": "code",
        "colab": {}
      },
      "source": [
        "# Especie versicolor\n",
        "traza1 = \n",
        "\n",
        "# Especie setosa\n",
        "traza2 = \n",
        "\n",
        "# Especies virginica\n",
        "traza3 = "
      ],
      "execution_count": null,
      "outputs": []
    },
    {
      "cell_type": "markdown",
      "metadata": {
        "id": "rbMimzADbKF4",
        "colab_type": "text"
      },
      "source": [
        "## Extra\n",
        "\n",
        "### Visulización de imagenes"
      ]
    },
    {
      "cell_type": "markdown",
      "metadata": {
        "id": "92fXiBc4bKF4",
        "colab_type": "text"
      },
      "source": [
        "Utilizando una imagen que tengan guardada en su computadora, vamos a visualizarla."
      ]
    },
    {
      "cell_type": "code",
      "metadata": {
        "id": "g2W5UiUObKF5",
        "colab_type": "code",
        "colab": {
          "base_uri": "https://localhost:8080/",
          "height": 129
        },
        "outputId": "4973de54-ab23-406d-8ca0-396517fcb5c5"
      },
      "source": [
        "import matplotlib.image as mpimg\n",
        "\n",
        "img = mpimg.imread('C:\\Users\\lucas\\Google Drive\\Familia\\CUESTA\\SPAJIC')"
      ],
      "execution_count": 65,
      "outputs": [
        {
          "output_type": "error",
          "ename": "SyntaxError",
          "evalue": "ignored",
          "traceback": [
            "\u001b[0;36m  File \u001b[0;32m\"<ipython-input-65-e7bff0b62ba7>\"\u001b[0;36m, line \u001b[0;32m3\u001b[0m\n\u001b[0;31m    img = mpimg.imread('C:\\Users\\lucas\\Google Drive\\Familia\\CUESTA\\SPAJIC')\u001b[0m\n\u001b[0m                      ^\u001b[0m\n\u001b[0;31mSyntaxError\u001b[0m\u001b[0;31m:\u001b[0m (unicode error) 'unicodeescape' codec can't decode bytes in position 2-3: truncated \\UXXXXXXXX escape\n"
          ]
        }
      ]
    },
    {
      "cell_type": "code",
      "metadata": {
        "id": "7foeWprEbKF7",
        "colab_type": "code",
        "colab": {}
      },
      "source": [
        "print(img)"
      ],
      "execution_count": null,
      "outputs": []
    },
    {
      "cell_type": "markdown",
      "metadata": {
        "id": "ggsX_OxWbKF-",
        "colab_type": "text"
      },
      "source": [
        "Utilice la función plt.imshow para visualizar la imagen."
      ]
    },
    {
      "cell_type": "code",
      "metadata": {
        "id": "7aquQGdebKF-",
        "colab_type": "code",
        "colab": {}
      },
      "source": [
        ""
      ],
      "execution_count": null,
      "outputs": []
    }
  ]
}