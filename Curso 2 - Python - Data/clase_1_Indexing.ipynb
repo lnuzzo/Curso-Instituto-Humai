{
 "cells": [
  {
   "cell_type": "markdown",
   "metadata": {
    "colab_type": "text",
    "id": "8tlTdPZSnTsl"
   },
   "source": [
    "<a href=\"https://colab.research.google.com/github/institutohumai/cursos-python/blob/master/AnalisisDeDatos/1_Indexing/Indexing.ipynb\"> <img src='https://colab.research.google.com/assets/colab-badge.svg' /> </a>\n",
    "<div align=\"center\"> Recordá abrir en una nueva pestaña </div>"
   ]
  },
  {
   "cell_type": "code",
   "execution_count": 1,
   "metadata": {
    "colab": {},
    "colab_type": "code",
    "id": "gqUgmubznTsn"
   },
   "outputs": [],
   "source": [
    "# Siempre al principio, importamos las librerías.\n",
    "import pandas as pd\n",
    "import numpy as np"
   ]
  },
  {
   "cell_type": "markdown",
   "metadata": {
    "colab_type": "text",
    "id": "a2lnu15znTsq"
   },
   "source": [
    "# Tabla de Contenidos\n",
    "\n",
    "    I. Análisis de datos con Pandas\n",
    "    II. Los objetos fundamentales de Pandas\n",
    "        I. Series\n",
    "        II. DataFrames\n",
    "        III. Índices\n",
    "    III. Exploración\n",
    "        I. Filtrando un DataFrame (Indexing)\n",
    "            I. Boolean Indexing\n",
    "                I. Máscara booleana\n",
    "                II. Máscara booleana con muchas condiciones\n",
    "            II. Boolean indexing con query()\n",
    "            III. Fancy Indexing\n",
    "        II. Funciones de Agregación\n",
    "    IV. Otros análisis descriptivos\n",
    "        I. Para las variables numéricas\n",
    "        II. Para las variables categóricas\n",
    "        III. Ordenar por columnas y limitar la cantidad de resultados\n",
    "    V. Anexo: volviendo al tema de la vectorización"
   ]
  },
  {
   "cell_type": "markdown",
   "metadata": {
    "colab_type": "text",
    "id": "ZdRhGjoDnTsr"
   },
   "source": [
    "# Exploración\n",
    "\n",
    "Vamos a analizar datos de una fuente real. Los ingresos de los funcionarios son información pública que se libera anualmente en el <a href='https://data.buenosaires.gob.ar/dataset/sueldo-funcionarios'>portal de datos abiertos</a> de GCBA.  \n",
    "\n",
    "En general los 4 primeros pasos para analizar un data set son:\n",
    "1. Leerlo\n",
    "2. Consultar cuáles son las columnas\n",
    "3. Extraer una muestra\n",
    "4. Verificar cuántos registros tiene"
   ]
  },
  {
   "cell_type": "markdown",
   "metadata": {
    "colab_type": "text",
    "id": "uiD68XOfnTsr"
   },
   "source": [
    "## 1- Para leer el data set usamos la función de pandas read_csv\n",
    "\n",
    "Con esta función podemos leer archivos que estén en una url pública o en una ubicación del disco accesible desde la Jupyter Notebook. "
   ]
  },
  {
   "cell_type": "code",
   "execution_count": 2,
   "metadata": {
    "colab": {},
    "colab_type": "code",
    "id": "YXGtLQ1vnTss"
   },
   "outputs": [],
   "source": [
    "df = pd.read_csv('http://cdn.buenosaires.gob.ar/datosabiertos/datasets/sueldo-funcionarios/sueldo_funcionarios_2019.csv')"
   ]
  },
  {
   "cell_type": "code",
   "execution_count": 3,
   "metadata": {
    "colab": {
     "base_uri": "https://localhost:8080/",
     "height": 34
    },
    "colab_type": "code",
    "id": "IgJpzFj9pxDy",
    "outputId": "0a505189-2e27-4876-89ff-9b512c887ff4"
   },
   "outputs": [
    {
     "data": {
      "text/plain": [
       "pandas.core.frame.DataFrame"
      ]
     },
     "execution_count": 3,
     "metadata": {},
     "output_type": "execute_result"
    }
   ],
   "source": [
    "type(df)"
   ]
  },
  {
   "cell_type": "code",
   "execution_count": 4,
   "metadata": {
    "colab": {},
    "colab_type": "code",
    "id": "V48xAPEiqRyd"
   },
   "outputs": [],
   "source": [
    "pd.read_csv?"
   ]
  },
  {
   "cell_type": "markdown",
   "metadata": {
    "colab_type": "text",
    "id": "d8WIaUj_nTsu"
   },
   "source": [
    "## 2- Consultamos las columnas\n"
   ]
  },
  {
   "cell_type": "code",
   "execution_count": 5,
   "metadata": {
    "colab": {
     "base_uri": "https://localhost:8080/",
     "height": 85
    },
    "colab_type": "code",
    "id": "QWh8HwEinTsu",
    "outputId": "1f758919-cd64-4b54-e7f2-20c05e0a5f21"
   },
   "outputs": [
    {
     "data": {
      "text/plain": [
       "Index(['cuil', 'anio', 'mes', 'funcionario_apellido', 'funcionario_nombre',\n",
       "       'reparticion', 'asignacion_por_cargo_i', 'aguinaldo_ii',\n",
       "       'total_salario_bruto_i_+_ii', 'observaciones'],\n",
       "      dtype='object')"
      ]
     },
     "execution_count": 5,
     "metadata": {},
     "output_type": "execute_result"
    }
   ],
   "source": [
    "df.columns"
   ]
  },
  {
   "cell_type": "markdown",
   "metadata": {
    "colab_type": "text",
    "id": "F9aKkCdfnTsw"
   },
   "source": [
    "## 3- Extraemos una muestra"
   ]
  },
  {
   "cell_type": "code",
   "execution_count": 6,
   "metadata": {
    "colab": {
     "base_uri": "https://localhost:8080/",
     "height": 289
    },
    "colab_type": "code",
    "id": "0IxSensbnTsx",
    "outputId": "8b8e4954-cc1c-434a-eb29-ab5e5100e987"
   },
   "outputs": [
    {
     "data": {
      "text/html": [
       "<div>\n",
       "<style scoped>\n",
       "    .dataframe tbody tr th:only-of-type {\n",
       "        vertical-align: middle;\n",
       "    }\n",
       "\n",
       "    .dataframe tbody tr th {\n",
       "        vertical-align: top;\n",
       "    }\n",
       "\n",
       "    .dataframe thead th {\n",
       "        text-align: right;\n",
       "    }\n",
       "</style>\n",
       "<table border=\"1\" class=\"dataframe\">\n",
       "  <thead>\n",
       "    <tr style=\"text-align: right;\">\n",
       "      <th></th>\n",
       "      <th>cuil</th>\n",
       "      <th>anio</th>\n",
       "      <th>mes</th>\n",
       "      <th>funcionario_apellido</th>\n",
       "      <th>funcionario_nombre</th>\n",
       "      <th>reparticion</th>\n",
       "      <th>asignacion_por_cargo_i</th>\n",
       "      <th>aguinaldo_ii</th>\n",
       "      <th>total_salario_bruto_i_+_ii</th>\n",
       "      <th>observaciones</th>\n",
       "    </tr>\n",
       "  </thead>\n",
       "  <tbody>\n",
       "    <tr>\n",
       "      <th>295</th>\n",
       "      <td>27-17593512-1</td>\n",
       "      <td>2019</td>\n",
       "      <td>10</td>\n",
       "      <td>MONTIEL</td>\n",
       "      <td>MARIA LETICIA</td>\n",
       "      <td>SECR Legal y Técnica</td>\n",
       "      <td>267913.50</td>\n",
       "      <td>0.00</td>\n",
       "      <td>267913.50</td>\n",
       "      <td>NaN</td>\n",
       "    </tr>\n",
       "    <tr>\n",
       "      <th>369</th>\n",
       "      <td>20-24941711-5</td>\n",
       "      <td>2019</td>\n",
       "      <td>12</td>\n",
       "      <td>MURA</td>\n",
       "      <td>MARTIN</td>\n",
       "      <td>Ministerio de Hacienda y Finanzas</td>\n",
       "      <td>275089.75</td>\n",
       "      <td>137544.87</td>\n",
       "      <td>412634.62</td>\n",
       "      <td>NaN</td>\n",
       "    </tr>\n",
       "    <tr>\n",
       "      <th>169</th>\n",
       "      <td>27-24030362-6</td>\n",
       "      <td>2019</td>\n",
       "      <td>6</td>\n",
       "      <td>TAGLIAFERRI</td>\n",
       "      <td>GUADALUPE</td>\n",
       "      <td>Ministerio de Hábitat y Desarrollo Humano</td>\n",
       "      <td>249661.60</td>\n",
       "      <td>124830.80</td>\n",
       "      <td>374492.40</td>\n",
       "      <td>NaN</td>\n",
       "    </tr>\n",
       "    <tr>\n",
       "      <th>115</th>\n",
       "      <td>20-22293622-6</td>\n",
       "      <td>2019</td>\n",
       "      <td>4</td>\n",
       "      <td>FERNANDEZ</td>\n",
       "      <td>DIEGO HERNAN</td>\n",
       "      <td>SECR Integración Social y Urbana</td>\n",
       "      <td>226866.41</td>\n",
       "      <td>0.00</td>\n",
       "      <td>226866.41</td>\n",
       "      <td>NaN</td>\n",
       "    </tr>\n",
       "    <tr>\n",
       "      <th>110</th>\n",
       "      <td>20-16891528-5</td>\n",
       "      <td>2019</td>\n",
       "      <td>4</td>\n",
       "      <td>NACHON</td>\n",
       "      <td>MARCELO JORGE</td>\n",
       "      <td>SECR de Medios</td>\n",
       "      <td>243148.69</td>\n",
       "      <td>0.00</td>\n",
       "      <td>243148.69</td>\n",
       "      <td>NaN</td>\n",
       "    </tr>\n",
       "  </tbody>\n",
       "</table>\n",
       "</div>"
      ],
      "text/plain": [
       "              cuil  anio  mes funcionario_apellido funcionario_nombre  \\\n",
       "295  27-17593512-1  2019   10              MONTIEL      MARIA LETICIA   \n",
       "369  20-24941711-5  2019   12                 MURA             MARTIN   \n",
       "169  27-24030362-6  2019    6          TAGLIAFERRI          GUADALUPE   \n",
       "115  20-22293622-6  2019    4            FERNANDEZ       DIEGO HERNAN   \n",
       "110  20-16891528-5  2019    4               NACHON      MARCELO JORGE   \n",
       "\n",
       "                                   reparticion  asignacion_por_cargo_i  \\\n",
       "295                       SECR Legal y Técnica               267913.50   \n",
       "369          Ministerio de Hacienda y Finanzas               275089.75   \n",
       "169  Ministerio de Hábitat y Desarrollo Humano               249661.60   \n",
       "115           SECR Integración Social y Urbana               226866.41   \n",
       "110                             SECR de Medios               243148.69   \n",
       "\n",
       "     aguinaldo_ii  total_salario_bruto_i_+_ii observaciones  \n",
       "295          0.00                   267913.50           NaN  \n",
       "369     137544.87                   412634.62           NaN  \n",
       "169     124830.80                   374492.40           NaN  \n",
       "115          0.00                   226866.41           NaN  \n",
       "110          0.00                   243148.69           NaN  "
      ]
     },
     "execution_count": 6,
     "metadata": {},
     "output_type": "execute_result"
    }
   ],
   "source": [
    "df.sample(5)"
   ]
  },
  {
   "cell_type": "markdown",
   "metadata": {
    "colab_type": "text",
    "id": "WSfeDqv8nTsz"
   },
   "source": [
    "## 4- Consultamos la cantidad de filas y de columnas"
   ]
  },
  {
   "cell_type": "code",
   "execution_count": 7,
   "metadata": {
    "colab": {
     "base_uri": "https://localhost:8080/",
     "height": 34
    },
    "colab_type": "code",
    "id": "H6_iHMfXnTsz",
    "outputId": "ed2a4b39-a337-43a1-ed78-9e283d5375ac"
   },
   "outputs": [
    {
     "data": {
      "text/plain": [
       "(385, 10)"
      ]
     },
     "execution_count": 7,
     "metadata": {},
     "output_type": "execute_result"
    }
   ],
   "source": [
    "# La propiedad shape nos devuelve una tupla (filas,columnas)\n",
    "df.shape"
   ]
  },
  {
   "cell_type": "markdown",
   "metadata": {
    "colab_type": "text",
    "id": "zJuO5elbnTs2"
   },
   "source": [
    "# Vectorización con Pandas\n",
    "\n",
    "Pandas es una de las librerías de Python más usadas para análisis de datos. El nombre pandas viene de \"Panel Data Analysis\" y su funcionalidad permite hacer operaciones sobre datos que se encuentran en memoria de manera eficiente. \n",
    "\n",
    "Pandas es útil para trabajar sobre datos tabulares, con dos condiciones importantes:\n",
    "\n",
    "I. Los datos se encuentran enteramente en la memoria RAM. Con lo cual, el tamaño de los datos que podemos manipular está limitado por el hardware. Como regla de pulgar, es una buena práctica no ocupar más de 1/3 de la memoria RAM de nuestro dispositivo con el dataset. Así, si estamos trabajando localmente en una notebook con 8GB de memoria RAM no es recomendable procesar datasets de más de 2.33GB.\n",
    "\n",
    "II. En pandas, las operaciones sobre filas y columnas son, en general, eficientes porque se hacen de forma \"vectorizada\". En realidad esta optimización, se hace desde numpy, una librería para realizar operaciones matemáticas que se utilizó a su vez para escribir pandas. \n",
    "\n",
    "Las operaciones vectorizadas son las que se realizan en bloque en vez de caso por caso. Las computadoras de hoy tienen la capacidad de recibir muchas instrucciones juntas y procesar varias de ellas a la vez. Por ejemplo, si nuestro hardware tiene la capacidad de procesar 4 operaciones juntas, el resultado de vectorizar una operación matemática es el siguiente:\n",
    "\n",
    "<img src = 'https://datasets-humai.s3.amazonaws.com/images/vectorizacion.png' /> \n",
    "\n",
    "\n",
    "En el primer caso hay que hacer 5 operaciones y en el segundo caso sólo dos.\n",
    "\n",
    "Es importante entender, entonces, que Pandas trabaja de esta manera y que por eso es una de las herramientas más elegidas para manipular datos en memoria.\n"
   ]
  },
  {
   "cell_type": "markdown",
   "metadata": {
    "colab_type": "text",
    "id": "GKuYyFr-nTs3"
   },
   "source": [
    "\n",
    "\n",
    "# Los objetos fundamentales de Pandas\n",
    "\n",
    "## Series\n",
    "\n",
    "Las series son \"columnas\" que de una tabla que están asociadas a un índice y a un nombre. Igual que una lista común de Python es una secuencia de elementos ordenados, pero a diferencia de la lista está asociada a más información."
   ]
  },
  {
   "cell_type": "code",
   "execution_count": 8,
   "metadata": {
    "colab": {},
    "colab_type": "code",
    "id": "_N8K6XFlnTs4"
   },
   "outputs": [],
   "source": [
    "# Las series se pueden crear a partir de una lista\n",
    "serie = pd.Series(['a','b','c'])"
   ]
  },
  {
   "cell_type": "code",
   "execution_count": 9,
   "metadata": {
    "colab": {
     "base_uri": "https://localhost:8080/",
     "height": 85
    },
    "colab_type": "code",
    "id": "cWMXtqVinTs7",
    "outputId": "8a1c9867-684d-42e7-bd35-52254562303b"
   },
   "outputs": [
    {
     "name": "stdout",
     "output_type": "stream",
     "text": [
      "Tipo de objetos que tiene  object\n",
      "Nombre  None\n",
      "Index  RangeIndex(start=0, stop=3, step=1)\n",
      "Valores  ['a' 'b' 'c']\n"
     ]
    }
   ],
   "source": [
    "# Propiedades importantes de las series\n",
    "print('Tipo de objetos que tiene ', serie.dtype)\n",
    "print('Nombre ', serie.name)\n",
    "print('Index ',serie.index)\n",
    "print('Valores ',serie.values)\n"
   ]
  },
  {
   "cell_type": "markdown",
   "metadata": {
    "colab_type": "text",
    "id": "hVt-WGTAnTs9"
   },
   "source": [
    "## DataFrames\n",
    "\n",
    "Los DataFrames son \"tablas\", compuestas por varias \"columnas\" o series que comparten todas un mismo índice. En general los DataFrames se crean a partir de leer tablas de archivos (pueden ser en formato json o csv) pero a veces también se crean a partir de listas de diccionarios o de otras maneras. \n",
    "\n",
    "Los DataFrames tienen un objeto Index que describe los nombres de columnas y otro objeto Index que describen los nombres de las filas."
   ]
  },
  {
   "cell_type": "code",
   "execution_count": null,
   "metadata": {
    "colab": {},
    "colab_type": "code",
    "id": "lDNqW_zknTs9"
   },
   "outputs": [],
   "source": [
    "# Leemos un dataset público\n",
    "df = pd.read_csv('http://cdn.buenosaires.gob.ar/datosabiertos/datasets/sueldo-funcionarios/sueldo_funcionarios_2019.csv')"
   ]
  },
  {
   "cell_type": "code",
   "execution_count": 10,
   "metadata": {
    "colab": {
     "base_uri": "https://localhost:8080/",
     "height": 119
    },
    "colab_type": "code",
    "id": "5i9YAqJZnTs_",
    "outputId": "fa7aed43-9d33-4c01-8c2e-197af430c99d"
   },
   "outputs": [
    {
     "name": "stdout",
     "output_type": "stream",
     "text": [
      "Columnas  Index(['cuil', 'anio', 'mes', 'funcionario_apellido', 'funcionario_nombre',\n",
      "       'reparticion', 'asignacion_por_cargo_i', 'aguinaldo_ii',\n",
      "       'total_salario_bruto_i_+_ii', 'observaciones'],\n",
      "      dtype='object')\n",
      "Index  RangeIndex(start=0, stop=385, step=1)\n",
      "Dimensiones  (385, 10)\n"
     ]
    }
   ],
   "source": [
    "# Propiedades importantes de los dataframes\n",
    "print('Columnas ', df.columns)\n",
    "print('Index ', df.index)\n",
    "print('Dimensiones ',df.shape)\n"
   ]
  },
  {
   "cell_type": "code",
   "execution_count": 11,
   "metadata": {
    "colab": {
     "base_uri": "https://localhost:8080/",
     "height": 204
    },
    "colab_type": "code",
    "id": "MjUKc7OCnTtB",
    "outputId": "199909cb-007a-4077-c069-1c65cf2d8379"
   },
   "outputs": [
    {
     "data": {
      "text/html": [
       "<div>\n",
       "<style scoped>\n",
       "    .dataframe tbody tr th:only-of-type {\n",
       "        vertical-align: middle;\n",
       "    }\n",
       "\n",
       "    .dataframe tbody tr th {\n",
       "        vertical-align: top;\n",
       "    }\n",
       "\n",
       "    .dataframe thead th {\n",
       "        text-align: right;\n",
       "    }\n",
       "</style>\n",
       "<table border=\"1\" class=\"dataframe\">\n",
       "  <thead>\n",
       "    <tr style=\"text-align: right;\">\n",
       "      <th></th>\n",
       "      <th>cuil</th>\n",
       "      <th>anio</th>\n",
       "      <th>mes</th>\n",
       "      <th>funcionario_apellido</th>\n",
       "      <th>funcionario_nombre</th>\n",
       "      <th>reparticion</th>\n",
       "      <th>asignacion_por_cargo_i</th>\n",
       "      <th>aguinaldo_ii</th>\n",
       "      <th>total_salario_bruto_i_+_ii</th>\n",
       "      <th>observaciones</th>\n",
       "    </tr>\n",
       "  </thead>\n",
       "  <tbody>\n",
       "    <tr>\n",
       "      <th>0</th>\n",
       "      <td>20-17692128-6</td>\n",
       "      <td>2019</td>\n",
       "      <td>1</td>\n",
       "      <td>RODRIGUEZ LARRETA</td>\n",
       "      <td>HORACIO ANTONIO</td>\n",
       "      <td>Jefe de Gobierno</td>\n",
       "      <td>197745.80</td>\n",
       "      <td>0.0</td>\n",
       "      <td>197745.80</td>\n",
       "      <td>NaN</td>\n",
       "    </tr>\n",
       "    <tr>\n",
       "      <th>1</th>\n",
       "      <td>20-17735449-0</td>\n",
       "      <td>2019</td>\n",
       "      <td>1</td>\n",
       "      <td>SANTILLI</td>\n",
       "      <td>DIEGO CESAR</td>\n",
       "      <td>Vicejefatura de Gobierno</td>\n",
       "      <td>197745.80</td>\n",
       "      <td>0.0</td>\n",
       "      <td>197745.80</td>\n",
       "      <td>NaN</td>\n",
       "    </tr>\n",
       "    <tr>\n",
       "      <th>2</th>\n",
       "      <td>27-24483014-0</td>\n",
       "      <td>2019</td>\n",
       "      <td>1</td>\n",
       "      <td>ACUÑA</td>\n",
       "      <td>MARIA SOLEDAD</td>\n",
       "      <td>Ministerio de Educación e Innovación</td>\n",
       "      <td>224516.62</td>\n",
       "      <td>0.0</td>\n",
       "      <td>224516.62</td>\n",
       "      <td>NaN</td>\n",
       "    </tr>\n",
       "    <tr>\n",
       "      <th>3</th>\n",
       "      <td>20-13872301-2</td>\n",
       "      <td>2019</td>\n",
       "      <td>1</td>\n",
       "      <td>ASTARLOA</td>\n",
       "      <td>GABRIEL MARIA</td>\n",
       "      <td>Procuración General de la Ciudad de Buenos Aires</td>\n",
       "      <td>224516.62</td>\n",
       "      <td>0.0</td>\n",
       "      <td>224516.62</td>\n",
       "      <td>NaN</td>\n",
       "    </tr>\n",
       "    <tr>\n",
       "      <th>4</th>\n",
       "      <td>20-25641207-2</td>\n",
       "      <td>2019</td>\n",
       "      <td>1</td>\n",
       "      <td>AVOGADRO</td>\n",
       "      <td>ENRIQUE LUIS</td>\n",
       "      <td>Ministerio de Cultura</td>\n",
       "      <td>224516.62</td>\n",
       "      <td>0.0</td>\n",
       "      <td>224516.62</td>\n",
       "      <td>NaN</td>\n",
       "    </tr>\n",
       "  </tbody>\n",
       "</table>\n",
       "</div>"
      ],
      "text/plain": [
       "            cuil  anio  mes funcionario_apellido funcionario_nombre  \\\n",
       "0  20-17692128-6  2019    1    RODRIGUEZ LARRETA    HORACIO ANTONIO   \n",
       "1  20-17735449-0  2019    1             SANTILLI        DIEGO CESAR   \n",
       "2  27-24483014-0  2019    1                ACUÑA      MARIA SOLEDAD   \n",
       "3  20-13872301-2  2019    1             ASTARLOA      GABRIEL MARIA   \n",
       "4  20-25641207-2  2019    1             AVOGADRO       ENRIQUE LUIS   \n",
       "\n",
       "                                        reparticion  asignacion_por_cargo_i  \\\n",
       "0                                  Jefe de Gobierno               197745.80   \n",
       "1                          Vicejefatura de Gobierno               197745.80   \n",
       "2              Ministerio de Educación e Innovación               224516.62   \n",
       "3  Procuración General de la Ciudad de Buenos Aires               224516.62   \n",
       "4                             Ministerio de Cultura               224516.62   \n",
       "\n",
       "   aguinaldo_ii  total_salario_bruto_i_+_ii observaciones  \n",
       "0           0.0                   197745.80           NaN  \n",
       "1           0.0                   197745.80           NaN  \n",
       "2           0.0                   224516.62           NaN  \n",
       "3           0.0                   224516.62           NaN  \n",
       "4           0.0                   224516.62           NaN  "
      ]
     },
     "execution_count": 11,
     "metadata": {},
     "output_type": "execute_result"
    }
   ],
   "source": [
    "# Consultar las primeras filas\n",
    "df.head()"
   ]
  },
  {
   "cell_type": "markdown",
   "metadata": {
    "colab_type": "text",
    "id": "hcsG957UnTtE"
   },
   "source": [
    "Si queremos extraer una serie del DataFrame, podemos hacerlo de la misma forma en que extraemos un valor de un diccionario.\n",
    "\n"
   ]
  },
  {
   "cell_type": "code",
   "execution_count": 12,
   "metadata": {
    "colab": {},
    "colab_type": "code",
    "id": "7SmocgDonTtE"
   },
   "outputs": [],
   "source": [
    "serie_mes = df['mes']"
   ]
  },
  {
   "cell_type": "code",
   "execution_count": 13,
   "metadata": {
    "colab": {
     "base_uri": "https://localhost:8080/",
     "height": 34
    },
    "colab_type": "code",
    "id": "VnxSpNMAnTtH",
    "outputId": "36038b76-ccf9-4ed3-e005-e36fde08f95f"
   },
   "outputs": [
    {
     "data": {
      "text/plain": [
       "pandas.core.series.Series"
      ]
     },
     "execution_count": 13,
     "metadata": {},
     "output_type": "execute_result"
    }
   ],
   "source": [
    "type(serie_mes)"
   ]
  },
  {
   "cell_type": "code",
   "execution_count": 14,
   "metadata": {
    "colab": {
     "base_uri": "https://localhost:8080/",
     "height": 35
    },
    "colab_type": "code",
    "id": "LNZsAJ5Ht5wU",
    "outputId": "1af1a9b1-0b09-4f5e-aab6-6312c0db1a76"
   },
   "outputs": [
    {
     "data": {
      "text/plain": [
       "'mes'"
      ]
     },
     "execution_count": 14,
     "metadata": {},
     "output_type": "execute_result"
    }
   ],
   "source": [
    "serie_mes.name"
   ]
  },
  {
   "cell_type": "code",
   "execution_count": 19,
   "metadata": {},
   "outputs": [
    {
     "data": {
      "text/plain": [
       "array([ 1,  2,  3,  4,  5,  6,  7,  8,  9, 10, 11, 12], dtype=int64)"
      ]
     },
     "execution_count": 19,
     "metadata": {},
     "output_type": "execute_result"
    }
   ],
   "source": [
    "serie_mes.unique()"
   ]
  },
  {
   "cell_type": "markdown",
   "metadata": {
    "colab_type": "text",
    "id": "451CVrU5nTtK"
   },
   "source": [
    "## Índices\n",
    "\n",
    "Los índices acompañan a las series y a los Data Frames. Son conjuntos ordenados e inmutables de elementos"
   ]
  },
  {
   "cell_type": "code",
   "execution_count": 20,
   "metadata": {
    "colab": {
     "base_uri": "https://localhost:8080/",
     "height": 34
    },
    "colab_type": "code",
    "id": "olUYGdXcnTtK",
    "outputId": "c8cd4f18-6b8e-4061-9168-6bf4abfc6897"
   },
   "outputs": [
    {
     "data": {
      "text/plain": [
       "RangeIndex(start=0, stop=385, step=1)"
      ]
     },
     "execution_count": 20,
     "metadata": {},
     "output_type": "execute_result"
    }
   ],
   "source": [
    "df.index"
   ]
  },
  {
   "cell_type": "code",
   "execution_count": 21,
   "metadata": {
    "colab": {
     "base_uri": "https://localhost:8080/",
     "height": 85
    },
    "colab_type": "code",
    "id": "Jiw063LqnTtN",
    "outputId": "3ad82c8c-e9d8-4fce-cbf4-01ab2535e372"
   },
   "outputs": [
    {
     "data": {
      "text/plain": [
       "Index(['cuil', 'anio', 'mes', 'funcionario_apellido', 'funcionario_nombre',\n",
       "       'reparticion', 'asignacion_por_cargo_i', 'aguinaldo_ii',\n",
       "       'total_salario_bruto_i_+_ii', 'observaciones'],\n",
       "      dtype='object')"
      ]
     },
     "execution_count": 21,
     "metadata": {},
     "output_type": "execute_result"
    }
   ],
   "source": [
    "df.columns"
   ]
  },
  {
   "cell_type": "code",
   "execution_count": 22,
   "metadata": {
    "colab": {
     "base_uri": "https://localhost:8080/",
     "height": 34
    },
    "colab_type": "code",
    "id": "wAr_fSbEnTtO",
    "outputId": "725ba685-cd17-478f-e46d-40e1c07b29b7"
   },
   "outputs": [
    {
     "data": {
      "text/plain": [
       "Int64Index([2, 3, 5, 7, 7, 11], dtype='int64')"
      ]
     },
     "execution_count": 22,
     "metadata": {},
     "output_type": "execute_result"
    }
   ],
   "source": [
    "ind = pd.Index([2, 3, 5, 7, 7, 11])\n",
    "ind"
   ]
  },
  {
   "cell_type": "code",
   "execution_count": 22,
   "metadata": {
    "colab": {
     "base_uri": "https://localhost:8080/",
     "height": 282
    },
    "colab_type": "code",
    "id": "44Hvat1_nTtQ",
    "outputId": "cedfe3ca-1490-4d4c-ad4f-877fdd268f3e"
   },
   "outputs": [
    {
     "ename": "TypeError",
     "evalue": "ignored",
     "output_type": "error",
     "traceback": [
      "\u001b[0;31m---------------------------------------------------------------------------\u001b[0m",
      "\u001b[0;31mTypeError\u001b[0m                                 Traceback (most recent call last)",
      "\u001b[0;32m<ipython-input-22-906a9fa1424c>\u001b[0m in \u001b[0;36m<module>\u001b[0;34m()\u001b[0m\n\u001b[0;32m----> 1\u001b[0;31m \u001b[0mind\u001b[0m\u001b[0;34m[\u001b[0m\u001b[0;36m1\u001b[0m\u001b[0;34m]\u001b[0m \u001b[0;34m=\u001b[0m \u001b[0;36m0\u001b[0m\u001b[0;34m\u001b[0m\u001b[0;34m\u001b[0m\u001b[0m\n\u001b[0m",
      "\u001b[0;32m/usr/local/lib/python3.6/dist-packages/pandas/core/indexes/base.py\u001b[0m in \u001b[0;36m__setitem__\u001b[0;34m(self, key, value)\u001b[0m\n\u001b[1;32m   3908\u001b[0m \u001b[0;34m\u001b[0m\u001b[0m\n\u001b[1;32m   3909\u001b[0m     \u001b[0;32mdef\u001b[0m \u001b[0m__setitem__\u001b[0m\u001b[0;34m(\u001b[0m\u001b[0mself\u001b[0m\u001b[0;34m,\u001b[0m \u001b[0mkey\u001b[0m\u001b[0;34m,\u001b[0m \u001b[0mvalue\u001b[0m\u001b[0;34m)\u001b[0m\u001b[0;34m:\u001b[0m\u001b[0;34m\u001b[0m\u001b[0;34m\u001b[0m\u001b[0m\n\u001b[0;32m-> 3910\u001b[0;31m         \u001b[0;32mraise\u001b[0m \u001b[0mTypeError\u001b[0m\u001b[0;34m(\u001b[0m\u001b[0;34m\"Index does not support mutable operations\"\u001b[0m\u001b[0;34m)\u001b[0m\u001b[0;34m\u001b[0m\u001b[0;34m\u001b[0m\u001b[0m\n\u001b[0m\u001b[1;32m   3911\u001b[0m \u001b[0;34m\u001b[0m\u001b[0m\n\u001b[1;32m   3912\u001b[0m     \u001b[0;32mdef\u001b[0m \u001b[0m__getitem__\u001b[0m\u001b[0;34m(\u001b[0m\u001b[0mself\u001b[0m\u001b[0;34m,\u001b[0m \u001b[0mkey\u001b[0m\u001b[0;34m)\u001b[0m\u001b[0;34m:\u001b[0m\u001b[0;34m\u001b[0m\u001b[0;34m\u001b[0m\u001b[0m\n",
      "\u001b[0;31mTypeError\u001b[0m: Index does not support mutable operations"
     ]
    }
   ],
   "source": [
    "ind[1] = 0"
   ]
  },
  {
   "cell_type": "markdown",
   "metadata": {
    "colab_type": "text",
    "id": "V2-N31bunTtS"
   },
   "source": [
    "### Ejercicio\n",
    "Exploren el dataset público que se encuentra en la siguiente url: https://datasets-humai.s3.amazonaws.com/datasets/titanic.csv ¿De qué se trata? ¿Cuántas filas tiene? ¿Cuántas columnas? Al leerlo, pueden almacenarlo en la variable df_titanic. "
   ]
  },
  {
   "cell_type": "code",
   "execution_count": 23,
   "metadata": {
    "colab": {},
    "colab_type": "code",
    "id": "Oy3SLYBknTtT"
   },
   "outputs": [],
   "source": [
    "df_titanic = pd.read_csv('https://datasets-humai.s3.amazonaws.com/datasets/titanic.csv', sep='|')"
   ]
  },
  {
   "cell_type": "code",
   "execution_count": 24,
   "metadata": {
    "colab": {
     "base_uri": "https://localhost:8080/",
     "height": 34
    },
    "colab_type": "code",
    "id": "SCanjvtxnTtV",
    "outputId": "8e3d6f5d-fe22-42f2-bea1-6facf9422448"
   },
   "outputs": [
    {
     "data": {
      "text/plain": [
       "(891, 12)"
      ]
     },
     "execution_count": 24,
     "metadata": {},
     "output_type": "execute_result"
    }
   ],
   "source": [
    "df_titanic.shape"
   ]
  },
  {
   "cell_type": "code",
   "execution_count": 25,
   "metadata": {
    "colab": {
     "base_uri": "https://localhost:8080/",
     "height": 204
    },
    "colab_type": "code",
    "id": "3w_HCZ3pnTtY",
    "outputId": "b00a5f7a-d8ea-4646-ef73-6c9bb2ef8e70"
   },
   "outputs": [
    {
     "data": {
      "text/html": [
       "<div>\n",
       "<style scoped>\n",
       "    .dataframe tbody tr th:only-of-type {\n",
       "        vertical-align: middle;\n",
       "    }\n",
       "\n",
       "    .dataframe tbody tr th {\n",
       "        vertical-align: top;\n",
       "    }\n",
       "\n",
       "    .dataframe thead th {\n",
       "        text-align: right;\n",
       "    }\n",
       "</style>\n",
       "<table border=\"1\" class=\"dataframe\">\n",
       "  <thead>\n",
       "    <tr style=\"text-align: right;\">\n",
       "      <th></th>\n",
       "      <th>PassengerId</th>\n",
       "      <th>Survived</th>\n",
       "      <th>Pclass</th>\n",
       "      <th>Name</th>\n",
       "      <th>Sex</th>\n",
       "      <th>Age</th>\n",
       "      <th>SibSp</th>\n",
       "      <th>Parch</th>\n",
       "      <th>Ticket</th>\n",
       "      <th>Fare</th>\n",
       "      <th>Cabin</th>\n",
       "      <th>Embarked</th>\n",
       "    </tr>\n",
       "  </thead>\n",
       "  <tbody>\n",
       "    <tr>\n",
       "      <th>140</th>\n",
       "      <td>141</td>\n",
       "      <td>0</td>\n",
       "      <td>3</td>\n",
       "      <td>Boulos, Mrs. Joseph (Sultana)</td>\n",
       "      <td>female</td>\n",
       "      <td>NaN</td>\n",
       "      <td>0</td>\n",
       "      <td>2</td>\n",
       "      <td>2678</td>\n",
       "      <td>15.2458</td>\n",
       "      <td>NaN</td>\n",
       "      <td>C</td>\n",
       "    </tr>\n",
       "    <tr>\n",
       "      <th>629</th>\n",
       "      <td>630</td>\n",
       "      <td>0</td>\n",
       "      <td>3</td>\n",
       "      <td>O'Connell, Mr. Patrick D</td>\n",
       "      <td>male</td>\n",
       "      <td>NaN</td>\n",
       "      <td>0</td>\n",
       "      <td>0</td>\n",
       "      <td>334912</td>\n",
       "      <td>7.7333</td>\n",
       "      <td>NaN</td>\n",
       "      <td>Q</td>\n",
       "    </tr>\n",
       "    <tr>\n",
       "      <th>253</th>\n",
       "      <td>254</td>\n",
       "      <td>0</td>\n",
       "      <td>3</td>\n",
       "      <td>Lobb, Mr. William Arthur</td>\n",
       "      <td>male</td>\n",
       "      <td>30.0</td>\n",
       "      <td>1</td>\n",
       "      <td>0</td>\n",
       "      <td>A/5. 3336</td>\n",
       "      <td>16.1000</td>\n",
       "      <td>NaN</td>\n",
       "      <td>S</td>\n",
       "    </tr>\n",
       "    <tr>\n",
       "      <th>90</th>\n",
       "      <td>91</td>\n",
       "      <td>0</td>\n",
       "      <td>3</td>\n",
       "      <td>Christmann, Mr. Emil</td>\n",
       "      <td>male</td>\n",
       "      <td>29.0</td>\n",
       "      <td>0</td>\n",
       "      <td>0</td>\n",
       "      <td>343276</td>\n",
       "      <td>8.0500</td>\n",
       "      <td>NaN</td>\n",
       "      <td>S</td>\n",
       "    </tr>\n",
       "    <tr>\n",
       "      <th>525</th>\n",
       "      <td>526</td>\n",
       "      <td>0</td>\n",
       "      <td>3</td>\n",
       "      <td>Farrell, Mr. James</td>\n",
       "      <td>male</td>\n",
       "      <td>40.5</td>\n",
       "      <td>0</td>\n",
       "      <td>0</td>\n",
       "      <td>367232</td>\n",
       "      <td>7.7500</td>\n",
       "      <td>NaN</td>\n",
       "      <td>Q</td>\n",
       "    </tr>\n",
       "  </tbody>\n",
       "</table>\n",
       "</div>"
      ],
      "text/plain": [
       "     PassengerId  Survived  Pclass                           Name     Sex  \\\n",
       "140          141         0       3  Boulos, Mrs. Joseph (Sultana)  female   \n",
       "629          630         0       3       O'Connell, Mr. Patrick D    male   \n",
       "253          254         0       3       Lobb, Mr. William Arthur    male   \n",
       "90            91         0       3           Christmann, Mr. Emil    male   \n",
       "525          526         0       3             Farrell, Mr. James    male   \n",
       "\n",
       "      Age  SibSp  Parch     Ticket     Fare Cabin Embarked  \n",
       "140   NaN      0      2       2678  15.2458   NaN        C  \n",
       "629   NaN      0      0     334912   7.7333   NaN        Q  \n",
       "253  30.0      1      0  A/5. 3336  16.1000   NaN        S  \n",
       "90   29.0      0      0     343276   8.0500   NaN        S  \n",
       "525  40.5      0      0     367232   7.7500   NaN        Q  "
      ]
     },
     "execution_count": 25,
     "metadata": {},
     "output_type": "execute_result"
    }
   ],
   "source": [
    "df_titanic.sample(5)"
   ]
  },
  {
   "cell_type": "code",
   "execution_count": 26,
   "metadata": {
    "colab": {
     "base_uri": "https://localhost:8080/",
     "height": 204
    },
    "colab_type": "code",
    "id": "u0BDGbzdyseF",
    "outputId": "fd262ca4-af2c-4fd9-d6c0-d4de549992eb"
   },
   "outputs": [
    {
     "data": {
      "text/html": [
       "<div>\n",
       "<style scoped>\n",
       "    .dataframe tbody tr th:only-of-type {\n",
       "        vertical-align: middle;\n",
       "    }\n",
       "\n",
       "    .dataframe tbody tr th {\n",
       "        vertical-align: top;\n",
       "    }\n",
       "\n",
       "    .dataframe thead th {\n",
       "        text-align: right;\n",
       "    }\n",
       "</style>\n",
       "<table border=\"1\" class=\"dataframe\">\n",
       "  <thead>\n",
       "    <tr style=\"text-align: right;\">\n",
       "      <th></th>\n",
       "      <th>PassengerId</th>\n",
       "      <th>Survived</th>\n",
       "      <th>Pclass</th>\n",
       "      <th>Name</th>\n",
       "      <th>Sex</th>\n",
       "      <th>Age</th>\n",
       "      <th>SibSp</th>\n",
       "      <th>Parch</th>\n",
       "      <th>Ticket</th>\n",
       "      <th>Fare</th>\n",
       "      <th>Cabin</th>\n",
       "      <th>Embarked</th>\n",
       "    </tr>\n",
       "  </thead>\n",
       "  <tbody>\n",
       "    <tr>\n",
       "      <th>0</th>\n",
       "      <td>1</td>\n",
       "      <td>0</td>\n",
       "      <td>3</td>\n",
       "      <td>Braund, Mr. Owen Harris</td>\n",
       "      <td>male</td>\n",
       "      <td>22.0</td>\n",
       "      <td>1</td>\n",
       "      <td>0</td>\n",
       "      <td>A/5 21171</td>\n",
       "      <td>7.2500</td>\n",
       "      <td>NaN</td>\n",
       "      <td>S</td>\n",
       "    </tr>\n",
       "    <tr>\n",
       "      <th>1</th>\n",
       "      <td>2</td>\n",
       "      <td>1</td>\n",
       "      <td>1</td>\n",
       "      <td>Cumings, Mrs. John Bradley (Florence Briggs Th...</td>\n",
       "      <td>female</td>\n",
       "      <td>38.0</td>\n",
       "      <td>1</td>\n",
       "      <td>0</td>\n",
       "      <td>PC 17599</td>\n",
       "      <td>71.2833</td>\n",
       "      <td>C85</td>\n",
       "      <td>C</td>\n",
       "    </tr>\n",
       "    <tr>\n",
       "      <th>2</th>\n",
       "      <td>3</td>\n",
       "      <td>1</td>\n",
       "      <td>3</td>\n",
       "      <td>Heikkinen, Miss. Laina</td>\n",
       "      <td>female</td>\n",
       "      <td>26.0</td>\n",
       "      <td>0</td>\n",
       "      <td>0</td>\n",
       "      <td>STON/O2. 3101282</td>\n",
       "      <td>7.9250</td>\n",
       "      <td>NaN</td>\n",
       "      <td>S</td>\n",
       "    </tr>\n",
       "    <tr>\n",
       "      <th>3</th>\n",
       "      <td>4</td>\n",
       "      <td>1</td>\n",
       "      <td>1</td>\n",
       "      <td>Futrelle, Mrs. Jacques Heath (Lily May Peel)</td>\n",
       "      <td>female</td>\n",
       "      <td>35.0</td>\n",
       "      <td>1</td>\n",
       "      <td>0</td>\n",
       "      <td>113803</td>\n",
       "      <td>53.1000</td>\n",
       "      <td>C123</td>\n",
       "      <td>S</td>\n",
       "    </tr>\n",
       "    <tr>\n",
       "      <th>4</th>\n",
       "      <td>5</td>\n",
       "      <td>0</td>\n",
       "      <td>3</td>\n",
       "      <td>Allen, Mr. William Henry</td>\n",
       "      <td>male</td>\n",
       "      <td>35.0</td>\n",
       "      <td>0</td>\n",
       "      <td>0</td>\n",
       "      <td>373450</td>\n",
       "      <td>8.0500</td>\n",
       "      <td>NaN</td>\n",
       "      <td>S</td>\n",
       "    </tr>\n",
       "  </tbody>\n",
       "</table>\n",
       "</div>"
      ],
      "text/plain": [
       "   PassengerId  Survived  Pclass  \\\n",
       "0            1         0       3   \n",
       "1            2         1       1   \n",
       "2            3         1       3   \n",
       "3            4         1       1   \n",
       "4            5         0       3   \n",
       "\n",
       "                                                Name     Sex   Age  SibSp  \\\n",
       "0                            Braund, Mr. Owen Harris    male  22.0      1   \n",
       "1  Cumings, Mrs. John Bradley (Florence Briggs Th...  female  38.0      1   \n",
       "2                             Heikkinen, Miss. Laina  female  26.0      0   \n",
       "3       Futrelle, Mrs. Jacques Heath (Lily May Peel)  female  35.0      1   \n",
       "4                           Allen, Mr. William Henry    male  35.0      0   \n",
       "\n",
       "   Parch            Ticket     Fare Cabin Embarked  \n",
       "0      0         A/5 21171   7.2500   NaN        S  \n",
       "1      0          PC 17599  71.2833   C85        C  \n",
       "2      0  STON/O2. 3101282   7.9250   NaN        S  \n",
       "3      0            113803  53.1000  C123        S  \n",
       "4      0            373450   8.0500   NaN        S  "
      ]
     },
     "execution_count": 26,
     "metadata": {},
     "output_type": "execute_result"
    }
   ],
   "source": [
    "df_titanic.head(5)"
   ]
  },
  {
   "cell_type": "code",
   "execution_count": 40,
   "metadata": {
    "colab": {
     "base_uri": "https://localhost:8080/",
     "height": 238
    },
    "colab_type": "code",
    "id": "npoPt8mmxzRa",
    "outputId": "6da3f210-fdf6-4907-920f-9b952c5615fc"
   },
   "outputs": [
    {
     "data": {
      "text/html": [
       "<div>\n",
       "<style scoped>\n",
       "    .dataframe tbody tr th:only-of-type {\n",
       "        vertical-align: middle;\n",
       "    }\n",
       "\n",
       "    .dataframe tbody tr th {\n",
       "        vertical-align: top;\n",
       "    }\n",
       "\n",
       "    .dataframe thead th {\n",
       "        text-align: right;\n",
       "    }\n",
       "</style>\n",
       "<table border=\"1\" class=\"dataframe\">\n",
       "  <thead>\n",
       "    <tr style=\"text-align: right;\">\n",
       "      <th></th>\n",
       "      <th>PassengerId</th>\n",
       "      <th>Survived</th>\n",
       "      <th>Pclass</th>\n",
       "      <th>Name</th>\n",
       "      <th>Sex</th>\n",
       "      <th>Age</th>\n",
       "      <th>SibSp</th>\n",
       "      <th>Parch</th>\n",
       "      <th>Ticket</th>\n",
       "      <th>Fare</th>\n",
       "      <th>Cabin</th>\n",
       "      <th>Embarked</th>\n",
       "    </tr>\n",
       "  </thead>\n",
       "  <tbody>\n",
       "    <tr>\n",
       "      <th>4</th>\n",
       "      <td>5</td>\n",
       "      <td>0</td>\n",
       "      <td>3</td>\n",
       "      <td>Allen, Mr. William Henry</td>\n",
       "      <td>male</td>\n",
       "      <td>35.0</td>\n",
       "      <td>0</td>\n",
       "      <td>0</td>\n",
       "      <td>373450</td>\n",
       "      <td>8.050</td>\n",
       "      <td>NaN</td>\n",
       "      <td>S</td>\n",
       "    </tr>\n",
       "    <tr>\n",
       "      <th>2</th>\n",
       "      <td>3</td>\n",
       "      <td>1</td>\n",
       "      <td>3</td>\n",
       "      <td>Heikkinen, Miss. Laina</td>\n",
       "      <td>female</td>\n",
       "      <td>26.0</td>\n",
       "      <td>0</td>\n",
       "      <td>0</td>\n",
       "      <td>STON/O2. 3101282</td>\n",
       "      <td>7.925</td>\n",
       "      <td>NaN</td>\n",
       "      <td>S</td>\n",
       "    </tr>\n",
       "  </tbody>\n",
       "</table>\n",
       "</div>"
      ],
      "text/plain": [
       "   PassengerId  Survived  Pclass                      Name     Sex   Age  \\\n",
       "4            5         0       3  Allen, Mr. William Henry    male  35.0   \n",
       "2            3         1       3    Heikkinen, Miss. Laina  female  26.0   \n",
       "\n",
       "   SibSp  Parch            Ticket   Fare Cabin Embarked  \n",
       "4      0      0            373450  8.050   NaN        S  \n",
       "2      0      0  STON/O2. 3101282  7.925   NaN        S  "
      ]
     },
     "execution_count": 40,
     "metadata": {},
     "output_type": "execute_result"
    }
   ],
   "source": [
    "df_titanic.loc[[4,2],]"
   ]
  },
  {
   "cell_type": "markdown",
   "metadata": {
    "colab_type": "text",
    "id": "_12o0psjnTtZ"
   },
   "source": [
    "## Filtrando un DataFrame (Indexing)\n",
    "\n",
    "Hay muchas técnicas para filtrar un DataFrame. Podemos querer filtrar por columnas o por filas, por posición o por nombre. También podemos querer filtrar por condiciones que se cumplen o no. Cuando no queremos filtrar sobre una dimensión (filas o columnas) usamos \":\" para seleccionar todo.\n",
    "\n",
    "\n",
    "<img src='https://github.com/institutohumai/cursos-python/blob/master/AnalisisDeDatos/1_Indexing/img/indexing.png?raw=1' style='height:350px' />\n"
   ]
  },
  {
   "cell_type": "code",
   "execution_count": null,
   "metadata": {
    "colab": {},
    "colab_type": "code",
    "id": "1tz6a10BxyBl"
   },
   "outputs": [],
   "source": []
  },
  {
   "cell_type": "markdown",
   "metadata": {
    "colab_type": "text",
    "id": "JIFeEo6VnTta"
   },
   "source": [
    "### Boolean Indexing\n",
    "\n",
    "Supongamos que queremos tomar el dataset de funcionarios y quedarnos únicamente con los que pertenecen al Ministerio de Cultura.\n",
    "Para eso lo que hacemos es indexar al DataFrame por una condición booleana. Eso implica que debemos crear una serie compuesta por valores True y False para aplicarla como índice a las filas.\n",
    "\n",
    "Los operadores que sirven para evaluar condiciones sobre las series son:\n",
    "\n",
    "\n",
    "| S  | Descripción   | S  | Descripción   |   |\n",
    "|----|---------------|----|---------------|---|\n",
    "| >= | Mayor o Igual | <= | Menor o Igual |   |\n",
    "| == | Igual         | != | Distinto      |   |\n",
    "| >  | Mayor         | <  | Menor         |   |"
   ]
  },
  {
   "cell_type": "markdown",
   "metadata": {
    "colab_type": "text",
    "id": "xs9kYRFdnTta"
   },
   "source": [
    "#### Máscara booleana\n",
    "\n",
    "Veamos lo que pasa cuando le aplicamos a una serie una condición que devuelve un booleano"
   ]
  },
  {
   "cell_type": "code",
   "execution_count": 41,
   "metadata": {
    "colab": {
     "base_uri": "https://localhost:8080/",
     "height": 221
    },
    "colab_type": "code",
    "id": "-b2lyXcJnTta",
    "outputId": "71894c7a-eed5-4b02-e753-76851513a237"
   },
   "outputs": [
    {
     "data": {
      "text/plain": [
       "0      False\n",
       "1      False\n",
       "2      False\n",
       "3      False\n",
       "4      False\n",
       "       ...  \n",
       "380    False\n",
       "381    False\n",
       "382    False\n",
       "383    False\n",
       "384    False\n",
       "Name: anio, Length: 385, dtype: bool"
      ]
     },
     "execution_count": 41,
     "metadata": {},
     "output_type": "execute_result"
    }
   ],
   "source": [
    "df['anio'] != 2019"
   ]
  },
  {
   "cell_type": "code",
   "execution_count": 42,
   "metadata": {
    "colab": {},
    "colab_type": "code",
    "id": "AvxWK6-KnTtc"
   },
   "outputs": [],
   "source": [
    "mascara_booleana = df['anio'] != 2019"
   ]
  },
  {
   "cell_type": "markdown",
   "metadata": {
    "colab_type": "text",
    "id": "yIRU_OfvnTtd"
   },
   "source": [
    "Nos devuelve una serie de la misma longitud que la original y que contiene sólo valores True o False. "
   ]
  },
  {
   "cell_type": "code",
   "execution_count": 43,
   "metadata": {
    "colab": {},
    "colab_type": "code",
    "id": "-At-8MPqnTte"
   },
   "outputs": [
    {
     "data": {
      "text/plain": [
       "pandas.core.series.Series"
      ]
     },
     "execution_count": 43,
     "metadata": {},
     "output_type": "execute_result"
    }
   ],
   "source": [
    "type(mascara_booleana)"
   ]
  },
  {
   "cell_type": "code",
   "execution_count": 44,
   "metadata": {
    "colab": {},
    "colab_type": "code",
    "id": "jfjl044OnTtg"
   },
   "outputs": [
    {
     "data": {
      "text/plain": [
       "(385,)"
      ]
     },
     "execution_count": 44,
     "metadata": {},
     "output_type": "execute_result"
    }
   ],
   "source": [
    "mascara_booleana.shape"
   ]
  },
  {
   "cell_type": "code",
   "execution_count": 38,
   "metadata": {
    "colab": {},
    "colab_type": "code",
    "id": "MiH9AV6qnTti"
   },
   "outputs": [
    {
     "data": {
      "text/plain": [
       "dtype('bool')"
      ]
     },
     "execution_count": 38,
     "metadata": {},
     "output_type": "execute_result"
    }
   ],
   "source": [
    "mascara_booleana.dtype"
   ]
  },
  {
   "cell_type": "markdown",
   "metadata": {
    "colab_type": "text",
    "id": "wV5RRR3MnTtk"
   },
   "source": [
    "Ahora seleccionemos entonces, los registros que corresponden al Ministerio de Cultura."
   ]
  },
  {
   "cell_type": "code",
   "execution_count": 45,
   "metadata": {
    "colab": {},
    "colab_type": "code",
    "id": "s4tRmOEVnTtk"
   },
   "outputs": [],
   "source": [
    "df_min_cul = df.loc[df['reparticion'] == 'Ministerio de Cultura',:]"
   ]
  },
  {
   "cell_type": "code",
   "execution_count": 46,
   "metadata": {
    "colab": {},
    "colab_type": "code",
    "id": "hhIECht5nTtm"
   },
   "outputs": [
    {
     "data": {
      "text/plain": [
       "(12, 10)"
      ]
     },
     "execution_count": 46,
     "metadata": {},
     "output_type": "execute_result"
    }
   ],
   "source": [
    "# Veamos la cantidad de casos\n",
    "df_min_cul.shape"
   ]
  },
  {
   "cell_type": "markdown",
   "metadata": {
    "colab_type": "text",
    "id": "d7L2hZ2dnTtn"
   },
   "source": [
    "Algo que puede llegar a confundir sobre el Indexing en Pandas es que en algunos casos se puede ser menos explícito a la hora de filtrar. Por ejemplo si ponemos una condición Booleana, pandas asume que el tipo de indexing es loc y que el filtro es sobre las filas y no sobre las columnas:\n"
   ]
  },
  {
   "cell_type": "code",
   "execution_count": 47,
   "metadata": {
    "colab": {},
    "colab_type": "code",
    "id": "5ifcyWK8nTto"
   },
   "outputs": [],
   "source": [
    "df_min_cul = df[df['reparticion'] == 'Ministerio de Cultura']"
   ]
  },
  {
   "cell_type": "code",
   "execution_count": 48,
   "metadata": {
    "colab": {
     "base_uri": "https://localhost:8080/",
     "height": 289
    },
    "colab_type": "code",
    "id": "0USLsueF0i__",
    "outputId": "4fffd35c-ee94-44a5-9668-c8235812b15a"
   },
   "outputs": [
    {
     "data": {
      "text/html": [
       "<div>\n",
       "<style scoped>\n",
       "    .dataframe tbody tr th:only-of-type {\n",
       "        vertical-align: middle;\n",
       "    }\n",
       "\n",
       "    .dataframe tbody tr th {\n",
       "        vertical-align: top;\n",
       "    }\n",
       "\n",
       "    .dataframe thead th {\n",
       "        text-align: right;\n",
       "    }\n",
       "</style>\n",
       "<table border=\"1\" class=\"dataframe\">\n",
       "  <thead>\n",
       "    <tr style=\"text-align: right;\">\n",
       "      <th></th>\n",
       "      <th>cuil</th>\n",
       "      <th>anio</th>\n",
       "      <th>mes</th>\n",
       "      <th>funcionario_apellido</th>\n",
       "      <th>funcionario_nombre</th>\n",
       "      <th>reparticion</th>\n",
       "      <th>asignacion_por_cargo_i</th>\n",
       "      <th>aguinaldo_ii</th>\n",
       "      <th>total_salario_bruto_i_+_ii</th>\n",
       "      <th>observaciones</th>\n",
       "    </tr>\n",
       "  </thead>\n",
       "  <tbody>\n",
       "    <tr>\n",
       "      <th>349</th>\n",
       "      <td>20-16461252-0</td>\n",
       "      <td>2019</td>\n",
       "      <td>12</td>\n",
       "      <td>GONZALEZ BERNALDO DE QUIROS</td>\n",
       "      <td>FERNAN</td>\n",
       "      <td>Ministerio de Salud</td>\n",
       "      <td>192562.83</td>\n",
       "      <td>16046.9</td>\n",
       "      <td>208609.73</td>\n",
       "      <td>alta desde el 10/12</td>\n",
       "    </tr>\n",
       "    <tr>\n",
       "      <th>195</th>\n",
       "      <td>20-17110752-1</td>\n",
       "      <td>2019</td>\n",
       "      <td>7</td>\n",
       "      <td>MACCHIAVELLI</td>\n",
       "      <td>EDUARDO ALBERTO</td>\n",
       "      <td>Ministerio de Ambiente y Espacio Público</td>\n",
       "      <td>263531.98</td>\n",
       "      <td>0.0</td>\n",
       "      <td>263531.98</td>\n",
       "      <td>NaN</td>\n",
       "    </tr>\n",
       "    <tr>\n",
       "      <th>141</th>\n",
       "      <td>20-16891528-5</td>\n",
       "      <td>2019</td>\n",
       "      <td>5</td>\n",
       "      <td>NACHON</td>\n",
       "      <td>MARCELO JORGE</td>\n",
       "      <td>SECR de Medios</td>\n",
       "      <td>243148.69</td>\n",
       "      <td>0.0</td>\n",
       "      <td>243148.69</td>\n",
       "      <td>NaN</td>\n",
       "    </tr>\n",
       "    <tr>\n",
       "      <th>311</th>\n",
       "      <td>20-31164337-2</td>\n",
       "      <td>2019</td>\n",
       "      <td>10</td>\n",
       "      <td>DI BENEDETTO</td>\n",
       "      <td>FEDERICO</td>\n",
       "      <td>SS Comunicacion</td>\n",
       "      <td>249972.87</td>\n",
       "      <td>0.0</td>\n",
       "      <td>249972.87</td>\n",
       "      <td>NaN</td>\n",
       "    </tr>\n",
       "    <tr>\n",
       "      <th>14</th>\n",
       "      <td>27-17593512-1</td>\n",
       "      <td>2019</td>\n",
       "      <td>1</td>\n",
       "      <td>MONTIEL</td>\n",
       "      <td>MARIA LETICIA</td>\n",
       "      <td>SECR Legal y Técnica</td>\n",
       "      <td>218659.66</td>\n",
       "      <td>0.0</td>\n",
       "      <td>218659.66</td>\n",
       "      <td>NaN</td>\n",
       "    </tr>\n",
       "  </tbody>\n",
       "</table>\n",
       "</div>"
      ],
      "text/plain": [
       "              cuil  anio  mes         funcionario_apellido funcionario_nombre  \\\n",
       "349  20-16461252-0  2019   12  GONZALEZ BERNALDO DE QUIROS             FERNAN   \n",
       "195  20-17110752-1  2019    7                 MACCHIAVELLI    EDUARDO ALBERTO   \n",
       "141  20-16891528-5  2019    5                       NACHON      MARCELO JORGE   \n",
       "311  20-31164337-2  2019   10                 DI BENEDETTO           FEDERICO   \n",
       "14   27-17593512-1  2019    1                      MONTIEL      MARIA LETICIA   \n",
       "\n",
       "                                  reparticion  asignacion_por_cargo_i  \\\n",
       "349                       Ministerio de Salud               192562.83   \n",
       "195  Ministerio de Ambiente y Espacio Público               263531.98   \n",
       "141                            SECR de Medios               243148.69   \n",
       "311                           SS Comunicacion               249972.87   \n",
       "14                       SECR Legal y Técnica               218659.66   \n",
       "\n",
       "     aguinaldo_ii  total_salario_bruto_i_+_ii        observaciones  \n",
       "349       16046.9                   208609.73  alta desde el 10/12  \n",
       "195           0.0                   263531.98                  NaN  \n",
       "141           0.0                   243148.69                  NaN  \n",
       "311           0.0                   249972.87                  NaN  \n",
       "14            0.0                   218659.66                  NaN  "
      ]
     },
     "execution_count": 48,
     "metadata": {},
     "output_type": "execute_result"
    }
   ],
   "source": [
    "df.sample(5)"
   ]
  },
  {
   "cell_type": "code",
   "execution_count": 49,
   "metadata": {
    "colab": {},
    "colab_type": "code",
    "id": "AbUpTnynnTtq"
   },
   "outputs": [
    {
     "data": {
      "text/plain": [
       "(12, 10)"
      ]
     },
     "execution_count": 49,
     "metadata": {},
     "output_type": "execute_result"
    }
   ],
   "source": [
    "df_min_cul.shape"
   ]
  },
  {
   "cell_type": "markdown",
   "metadata": {
    "colab_type": "text",
    "id": "_de_6MZ4nTts"
   },
   "source": [
    "Probemos con otra condición.\n",
    "\n",
    "### Ejercicio\n",
    "\n",
    "Traer todos los sueldos de la segunda mitad del año..."
   ]
  },
  {
   "cell_type": "code",
   "execution_count": 50,
   "metadata": {
    "colab": {
     "base_uri": "https://localhost:8080/",
     "height": 34
    },
    "colab_type": "code",
    "id": "jpkgF4L5nTts",
    "outputId": "90cad3de-b786-4cc0-ec85-a8b060a61803"
   },
   "outputs": [
    {
     "data": {
      "text/plain": [
       "(197, 10)"
      ]
     },
     "execution_count": 50,
     "metadata": {},
     "output_type": "execute_result"
    }
   ],
   "source": [
    "df_sueldos =  df[df['mes'] >= 7]\n",
    "df_sueldos.shape"
   ]
  },
  {
   "cell_type": "markdown",
   "metadata": {},
   "source": [
    "# Suma de sueldos por semestre"
   ]
  },
  {
   "cell_type": "code",
   "execution_count": 53,
   "metadata": {},
   "outputs": [
    {
     "data": {
      "text/plain": [
       "42375391.45"
      ]
     },
     "execution_count": 53,
     "metadata": {},
     "output_type": "execute_result"
    }
   ],
   "source": [
    "df[df['mes'] <=6]['asignacion_por_cargo_i'].sum()"
   ]
  },
  {
   "cell_type": "code",
   "execution_count": 54,
   "metadata": {},
   "outputs": [
    {
     "data": {
      "text/plain": [
       "47804840.230000004"
      ]
     },
     "execution_count": 54,
     "metadata": {},
     "output_type": "execute_result"
    }
   ],
   "source": [
    "df[df['mes'] > 6]['asignacion_por_cargo_i'].sum()"
   ]
  },
  {
   "cell_type": "markdown",
   "metadata": {
    "colab_type": "text",
    "id": "7VLsACOrnTtt"
   },
   "source": [
    "### Ejercicio\n",
    "Volviendo al DataFrame del Titanic ¿Cuántos pasajeros sobrevivieron y cuántos no? ¿Cuántos pagaron una tarifa menor a 25?"
   ]
  },
  {
   "cell_type": "code",
   "execution_count": 48,
   "metadata": {
    "colab": {
     "base_uri": "https://localhost:8080/",
     "height": 204
    },
    "colab_type": "code",
    "id": "XzmxKZNonTtu",
    "outputId": "f90c9098-896b-4624-b1b1-e735e945d43f"
   },
   "outputs": [
    {
     "data": {
      "text/html": [
       "<div>\n",
       "<style scoped>\n",
       "    .dataframe tbody tr th:only-of-type {\n",
       "        vertical-align: middle;\n",
       "    }\n",
       "\n",
       "    .dataframe tbody tr th {\n",
       "        vertical-align: top;\n",
       "    }\n",
       "\n",
       "    .dataframe thead th {\n",
       "        text-align: right;\n",
       "    }\n",
       "</style>\n",
       "<table border=\"1\" class=\"dataframe\">\n",
       "  <thead>\n",
       "    <tr style=\"text-align: right;\">\n",
       "      <th></th>\n",
       "      <th>PassengerId</th>\n",
       "      <th>Survived</th>\n",
       "      <th>Pclass</th>\n",
       "      <th>Name</th>\n",
       "      <th>Sex</th>\n",
       "      <th>Age</th>\n",
       "      <th>SibSp</th>\n",
       "      <th>Parch</th>\n",
       "      <th>Ticket</th>\n",
       "      <th>Fare</th>\n",
       "      <th>Cabin</th>\n",
       "      <th>Embarked</th>\n",
       "    </tr>\n",
       "  </thead>\n",
       "  <tbody>\n",
       "    <tr>\n",
       "      <th>153</th>\n",
       "      <td>154</td>\n",
       "      <td>0</td>\n",
       "      <td>3</td>\n",
       "      <td>van Billiard, Mr. Austin Blyler</td>\n",
       "      <td>male</td>\n",
       "      <td>40.5</td>\n",
       "      <td>0</td>\n",
       "      <td>2</td>\n",
       "      <td>A/5. 851</td>\n",
       "      <td>14.50</td>\n",
       "      <td>NaN</td>\n",
       "      <td>S</td>\n",
       "    </tr>\n",
       "    <tr>\n",
       "      <th>450</th>\n",
       "      <td>451</td>\n",
       "      <td>0</td>\n",
       "      <td>2</td>\n",
       "      <td>West, Mr. Edwy Arthur</td>\n",
       "      <td>male</td>\n",
       "      <td>36.0</td>\n",
       "      <td>1</td>\n",
       "      <td>2</td>\n",
       "      <td>C.A. 34651</td>\n",
       "      <td>27.75</td>\n",
       "      <td>NaN</td>\n",
       "      <td>S</td>\n",
       "    </tr>\n",
       "    <tr>\n",
       "      <th>497</th>\n",
       "      <td>498</td>\n",
       "      <td>0</td>\n",
       "      <td>3</td>\n",
       "      <td>Shellard, Mr. Frederick William</td>\n",
       "      <td>male</td>\n",
       "      <td>NaN</td>\n",
       "      <td>0</td>\n",
       "      <td>0</td>\n",
       "      <td>C.A. 6212</td>\n",
       "      <td>15.10</td>\n",
       "      <td>NaN</td>\n",
       "      <td>S</td>\n",
       "    </tr>\n",
       "    <tr>\n",
       "      <th>829</th>\n",
       "      <td>830</td>\n",
       "      <td>1</td>\n",
       "      <td>1</td>\n",
       "      <td>Stone, Mrs. George Nelson (Martha Evelyn)</td>\n",
       "      <td>female</td>\n",
       "      <td>62.0</td>\n",
       "      <td>0</td>\n",
       "      <td>0</td>\n",
       "      <td>113572</td>\n",
       "      <td>80.00</td>\n",
       "      <td>B28</td>\n",
       "      <td>NaN</td>\n",
       "    </tr>\n",
       "    <tr>\n",
       "      <th>678</th>\n",
       "      <td>679</td>\n",
       "      <td>0</td>\n",
       "      <td>3</td>\n",
       "      <td>Goodwin, Mrs. Frederick (Augusta Tyler)</td>\n",
       "      <td>female</td>\n",
       "      <td>43.0</td>\n",
       "      <td>1</td>\n",
       "      <td>6</td>\n",
       "      <td>CA 2144</td>\n",
       "      <td>46.90</td>\n",
       "      <td>NaN</td>\n",
       "      <td>S</td>\n",
       "    </tr>\n",
       "  </tbody>\n",
       "</table>\n",
       "</div>"
      ],
      "text/plain": [
       "     PassengerId  Survived  Pclass  ...   Fare Cabin  Embarked\n",
       "153          154         0       3  ...  14.50   NaN         S\n",
       "450          451         0       2  ...  27.75   NaN         S\n",
       "497          498         0       3  ...  15.10   NaN         S\n",
       "829          830         1       1  ...  80.00   B28       NaN\n",
       "678          679         0       3  ...  46.90   NaN         S\n",
       "\n",
       "[5 rows x 12 columns]"
      ]
     },
     "execution_count": 48,
     "metadata": {
      "tags": []
     },
     "output_type": "execute_result"
    }
   ],
   "source": [
    "df_titanic.sample(5)"
   ]
  },
  {
   "cell_type": "code",
   "execution_count": 55,
   "metadata": {
    "colab": {},
    "colab_type": "code",
    "id": "sXl5YdoC2L_9"
   },
   "outputs": [],
   "source": [
    "df_titanic_surv = df_titanic[df_titanic['Survived']==1]"
   ]
  },
  {
   "cell_type": "code",
   "execution_count": 56,
   "metadata": {
    "colab": {
     "base_uri": "https://localhost:8080/",
     "height": 34
    },
    "colab_type": "code",
    "id": "Mzg46wmSnTtv",
    "outputId": "40dd334d-ef79-49fc-84ff-134472e406c9"
   },
   "outputs": [
    {
     "data": {
      "text/plain": [
       "(342, 12)"
      ]
     },
     "execution_count": 56,
     "metadata": {},
     "output_type": "execute_result"
    }
   ],
   "source": [
    "df_titanic_surv.shape"
   ]
  },
  {
   "cell_type": "code",
   "execution_count": 57,
   "metadata": {
    "colab": {
     "base_uri": "https://localhost:8080/",
     "height": 34
    },
    "colab_type": "code",
    "id": "rQJ61sp6nTtx",
    "outputId": "b80eab3b-613f-41b1-f07c-b27dbc7dd489"
   },
   "outputs": [
    {
     "data": {
      "text/plain": [
       "(549, 12)"
      ]
     },
     "execution_count": 57,
     "metadata": {},
     "output_type": "execute_result"
    }
   ],
   "source": [
    "df_titanic[df_titanic['Survived']==0].shape"
   ]
  },
  {
   "cell_type": "code",
   "execution_count": 58,
   "metadata": {
    "colab": {
     "base_uri": "https://localhost:8080/",
     "height": 34
    },
    "colab_type": "code",
    "id": "1Jg3vgNLnTty",
    "outputId": "a0d72bba-20ff-477a-f82e-6071cb26d763"
   },
   "outputs": [
    {
     "data": {
      "text/plain": [
       "(557, 12)"
      ]
     },
     "execution_count": 58,
     "metadata": {},
     "output_type": "execute_result"
    }
   ],
   "source": [
    "df_titanic[df_titanic['Fare']<25].shape"
   ]
  },
  {
   "cell_type": "markdown",
   "metadata": {
    "colab_type": "text",
    "id": "_ehu4Hi3nTt0"
   },
   "source": [
    "#### Máscara booleana con muchas condiciones\n",
    "\n",
    "Ahora tratemos de filtrar el dataset por dos condiciones: por ejemplo tomar los sueldos de abril de la secretaria de innovación. \n",
    "Para eso tenemos que combinar dos máscaras booleanas con una condición.\n",
    "\n",
    "| S | Descripcion        | S  | Descripcion |   |\n",
    "|---|--------------------|----|-------------|---|\n",
    "| & | AND (y)            | \\| | OR (o)      |   |\n",
    "| ^ | XOR (o exclusivo)  | ~  | NOT (no)    |   |\n",
    "\n",
    "\n",
    "\n",
    "Por ejemplo: seleccionemos los casos donde o bien se haya cobrado aguinaldo o bien el salario total haya sido mayor que 240.000, pero no las dos cosas. \n"
   ]
  },
  {
   "cell_type": "code",
   "execution_count": 59,
   "metadata": {
    "colab": {
     "base_uri": "https://localhost:8080/",
     "height": 289
    },
    "colab_type": "code",
    "id": "hAwpnDoQnTt1",
    "outputId": "3f69e177-c524-4c8e-a702-96544127748b"
   },
   "outputs": [
    {
     "data": {
      "text/html": [
       "<div>\n",
       "<style scoped>\n",
       "    .dataframe tbody tr th:only-of-type {\n",
       "        vertical-align: middle;\n",
       "    }\n",
       "\n",
       "    .dataframe tbody tr th {\n",
       "        vertical-align: top;\n",
       "    }\n",
       "\n",
       "    .dataframe thead th {\n",
       "        text-align: right;\n",
       "    }\n",
       "</style>\n",
       "<table border=\"1\" class=\"dataframe\">\n",
       "  <thead>\n",
       "    <tr style=\"text-align: right;\">\n",
       "      <th></th>\n",
       "      <th>cuil</th>\n",
       "      <th>anio</th>\n",
       "      <th>mes</th>\n",
       "      <th>funcionario_apellido</th>\n",
       "      <th>funcionario_nombre</th>\n",
       "      <th>reparticion</th>\n",
       "      <th>asignacion_por_cargo_i</th>\n",
       "      <th>aguinaldo_ii</th>\n",
       "      <th>total_salario_bruto_i_+_ii</th>\n",
       "      <th>observaciones</th>\n",
       "    </tr>\n",
       "  </thead>\n",
       "  <tbody>\n",
       "    <tr>\n",
       "      <th>365</th>\n",
       "      <td>27-13092400-5</td>\n",
       "      <td>2019</td>\n",
       "      <td>12</td>\n",
       "      <td>FREDA</td>\n",
       "      <td>MONICA BEATRIZ</td>\n",
       "      <td>Sindicatura General de la Ciudad de Buenos Aires</td>\n",
       "      <td>275089.75</td>\n",
       "      <td>137544.87</td>\n",
       "      <td>412634.62</td>\n",
       "      <td>NaN</td>\n",
       "    </tr>\n",
       "    <tr>\n",
       "      <th>168</th>\n",
       "      <td>20-21981279-6</td>\n",
       "      <td>2019</td>\n",
       "      <td>6</td>\n",
       "      <td>SCRENCI SILVA</td>\n",
       "      <td>BRUNO GUIDO</td>\n",
       "      <td>Ministerio de Gobierno</td>\n",
       "      <td>249661.60</td>\n",
       "      <td>124830.80</td>\n",
       "      <td>374492.40</td>\n",
       "      <td>NaN</td>\n",
       "    </tr>\n",
       "    <tr>\n",
       "      <th>382</th>\n",
       "      <td>20-21981279-6</td>\n",
       "      <td>2019</td>\n",
       "      <td>12</td>\n",
       "      <td>SCRENCI SILVA</td>\n",
       "      <td>BRUNO GUIDO</td>\n",
       "      <td>Ministerio de Gobierno</td>\n",
       "      <td>275089.75</td>\n",
       "      <td>137544.87</td>\n",
       "      <td>412634.62</td>\n",
       "      <td>NaN</td>\n",
       "    </tr>\n",
       "    <tr>\n",
       "      <th>187</th>\n",
       "      <td>20-31164337-2</td>\n",
       "      <td>2019</td>\n",
       "      <td>6</td>\n",
       "      <td>DI BENEDETTO</td>\n",
       "      <td>FEDERICO</td>\n",
       "      <td>SS Comunicacion</td>\n",
       "      <td>226866.41</td>\n",
       "      <td>113433.21</td>\n",
       "      <td>340299.62</td>\n",
       "      <td>NaN</td>\n",
       "    </tr>\n",
       "    <tr>\n",
       "      <th>186</th>\n",
       "      <td>20-28908968-4</td>\n",
       "      <td>2019</td>\n",
       "      <td>6</td>\n",
       "      <td>COELHO CHICANO</td>\n",
       "      <td>CHRISTIAN</td>\n",
       "      <td>SS Contenidos</td>\n",
       "      <td>226866.41</td>\n",
       "      <td>113433.21</td>\n",
       "      <td>340299.62</td>\n",
       "      <td>NaN</td>\n",
       "    </tr>\n",
       "  </tbody>\n",
       "</table>\n",
       "</div>"
      ],
      "text/plain": [
       "              cuil  anio  mes funcionario_apellido funcionario_nombre  \\\n",
       "365  27-13092400-5  2019   12                FREDA     MONICA BEATRIZ   \n",
       "168  20-21981279-6  2019    6        SCRENCI SILVA        BRUNO GUIDO   \n",
       "382  20-21981279-6  2019   12        SCRENCI SILVA        BRUNO GUIDO   \n",
       "187  20-31164337-2  2019    6         DI BENEDETTO           FEDERICO   \n",
       "186  20-28908968-4  2019    6       COELHO CHICANO          CHRISTIAN   \n",
       "\n",
       "                                          reparticion  asignacion_por_cargo_i  \\\n",
       "365  Sindicatura General de la Ciudad de Buenos Aires               275089.75   \n",
       "168                            Ministerio de Gobierno               249661.60   \n",
       "382                            Ministerio de Gobierno               275089.75   \n",
       "187                                   SS Comunicacion               226866.41   \n",
       "186                                     SS Contenidos               226866.41   \n",
       "\n",
       "     aguinaldo_ii  total_salario_bruto_i_+_ii observaciones  \n",
       "365     137544.87                   412634.62           NaN  \n",
       "168     124830.80                   374492.40           NaN  \n",
       "382     137544.87                   412634.62           NaN  \n",
       "187     113433.21                   340299.62           NaN  \n",
       "186     113433.21                   340299.62           NaN  "
      ]
     },
     "execution_count": 59,
     "metadata": {},
     "output_type": "execute_result"
    }
   ],
   "source": [
    "df[(df['total_salario_bruto_i_+_ii'] > 240000) & (df['aguinaldo_ii'] > 0)].sample(5)"
   ]
  },
  {
   "cell_type": "markdown",
   "metadata": {
    "colab_type": "text",
    "id": "_3Ti5SDinTt2"
   },
   "source": [
    "Ahora veamos los sueldos de febrero de la SECR Ciencia, Tecnologia e Innovacion."
   ]
  },
  {
   "cell_type": "code",
   "execution_count": 59,
   "metadata": {
    "colab": {
     "base_uri": "https://localhost:8080/",
     "height": 80
    },
    "colab_type": "code",
    "id": "c1BFL7AwnTt3",
    "outputId": "24171904-14bb-4021-b13c-1a6eb4032bbf"
   },
   "outputs": [
    {
     "data": {
      "text/html": [
       "<div>\n",
       "<style scoped>\n",
       "    .dataframe tbody tr th:only-of-type {\n",
       "        vertical-align: middle;\n",
       "    }\n",
       "\n",
       "    .dataframe tbody tr th {\n",
       "        vertical-align: top;\n",
       "    }\n",
       "\n",
       "    .dataframe thead th {\n",
       "        text-align: right;\n",
       "    }\n",
       "</style>\n",
       "<table border=\"1\" class=\"dataframe\">\n",
       "  <thead>\n",
       "    <tr style=\"text-align: right;\">\n",
       "      <th></th>\n",
       "      <th>cuil</th>\n",
       "      <th>anio</th>\n",
       "      <th>mes</th>\n",
       "      <th>funcionario_apellido</th>\n",
       "      <th>funcionario_nombre</th>\n",
       "      <th>reparticion</th>\n",
       "      <th>asignacion_por_cargo_i</th>\n",
       "      <th>aguinaldo_ii</th>\n",
       "      <th>total_salario_bruto_i_+_ii</th>\n",
       "      <th>observaciones</th>\n",
       "    </tr>\n",
       "  </thead>\n",
       "  <tbody>\n",
       "    <tr>\n",
       "      <th>55</th>\n",
       "      <td>20-26781618-3</td>\n",
       "      <td>2019</td>\n",
       "      <td>2</td>\n",
       "      <td>LARRE</td>\n",
       "      <td>PEDRO ANDRES</td>\n",
       "      <td>SECR Ciencia, Tecnologia e Innovacion</td>\n",
       "      <td>204017.27</td>\n",
       "      <td>34002.88</td>\n",
       "      <td>238020.15</td>\n",
       "      <td>baja 28/2/2019</td>\n",
       "    </tr>\n",
       "  </tbody>\n",
       "</table>\n",
       "</div>"
      ],
      "text/plain": [
       "             cuil  anio  ...  total_salario_bruto_i_+_ii   observaciones\n",
       "55  20-26781618-3  2019  ...                   238020.15  baja 28/2/2019\n",
       "\n",
       "[1 rows x 10 columns]"
      ]
     },
     "execution_count": 59,
     "metadata": {
      "tags": []
     },
     "output_type": "execute_result"
    }
   ],
   "source": [
    "df[(df['mes'] == 2) & (df['reparticion'] == 'SECR Ciencia, Tecnologia e Innovacion')]"
   ]
  },
  {
   "cell_type": "markdown",
   "metadata": {
    "colab_type": "text",
    "id": "GRf1CBbnnTt7"
   },
   "source": [
    "### Boolean indexing con query()\n",
    "\n",
    "La sintaxis que se utiliza para hacer Boolean indexing es un poco repetitiva. Noten que filtrar (aún en su expresión más corta sin loc ni especificar filas o columnas) implica ESCRIBIR DOS VECES el nombre del dataset. Para crear un shortcut, Pandas ofrece la función .query() \n",
    "\n"
   ]
  },
  {
   "cell_type": "code",
   "execution_count": 60,
   "metadata": {
    "colab": {},
    "colab_type": "code",
    "id": "ELB5w7P-nTt7"
   },
   "outputs": [],
   "source": [
    "df_cult = df.query('reparticion == \"Ministerio de Cultura\"')"
   ]
  },
  {
   "cell_type": "markdown",
   "metadata": {
    "colab_type": "text",
    "id": "qo4VjcKMnTt9"
   },
   "source": [
    "También se puede hacer query sobre múltiples condiciones."
   ]
  },
  {
   "cell_type": "code",
   "execution_count": 61,
   "metadata": {
    "colab": {},
    "colab_type": "code",
    "id": "OXWvKGSNnTt9"
   },
   "outputs": [],
   "source": [
    "df2 = df.query('asignacion_por_cargo_i > 240000 & aguinaldo_ii > 0')"
   ]
  },
  {
   "cell_type": "code",
   "execution_count": 62,
   "metadata": {
    "colab": {},
    "colab_type": "code",
    "id": "Ehv8n859nTt_"
   },
   "outputs": [
    {
     "data": {
      "text/plain": [
       "(34, 10)"
      ]
     },
     "execution_count": 62,
     "metadata": {},
     "output_type": "execute_result"
    }
   ],
   "source": [
    "df2.shape"
   ]
  },
  {
   "cell_type": "code",
   "execution_count": 65,
   "metadata": {
    "colab": {
     "base_uri": "https://localhost:8080/",
     "height": 85
    },
    "colab_type": "code",
    "id": "EyOjOY-N8pIS",
    "outputId": "4e37fa85-2719-47af-e420-72715d4db12c"
   },
   "outputs": [
    {
     "data": {
      "text/plain": [
       "Index(['cuil', 'anio', 'mes', 'funcionario_apellido', 'funcionario_nombre',\n",
       "       'reparticion', 'asignacion_por_cargo_i', 'aguinaldo_ii',\n",
       "       'total_salario_bruto_i_ii', 'observaciones'],\n",
       "      dtype='object')"
      ]
     },
     "execution_count": 65,
     "metadata": {},
     "output_type": "execute_result"
    }
   ],
   "source": [
    "df2.columns"
   ]
  },
  {
   "cell_type": "code",
   "execution_count": 64,
   "metadata": {},
   "outputs": [],
   "source": [
    "df2.columns = ['cuil', 'anio', 'mes', 'funcionario_apellido', 'funcionario_nombre',\n",
    "       'reparticion', 'asignacion_por_cargo_i', 'aguinaldo_ii',\n",
    "       'total_salario_bruto_i_ii', 'observaciones']"
   ]
  },
  {
   "cell_type": "markdown",
   "metadata": {
    "colab_type": "text",
    "id": "7W8nhjb5nTuB"
   },
   "source": [
    "### Ejercicio: Piensen cómo traducir a la sintaxis de query, estas consultas que ya hicimos:"
   ]
  },
  {
   "cell_type": "code",
   "execution_count": 66,
   "metadata": {
    "colab": {
     "base_uri": "https://localhost:8080/",
     "height": 289
    },
    "colab_type": "code",
    "id": "zWk09l8dnTuC",
    "outputId": "7d28985c-ade8-4b94-df85-ea1789dbc83e"
   },
   "outputs": [
    {
     "data": {
      "text/html": [
       "<div>\n",
       "<style scoped>\n",
       "    .dataframe tbody tr th:only-of-type {\n",
       "        vertical-align: middle;\n",
       "    }\n",
       "\n",
       "    .dataframe tbody tr th {\n",
       "        vertical-align: top;\n",
       "    }\n",
       "\n",
       "    .dataframe thead th {\n",
       "        text-align: right;\n",
       "    }\n",
       "</style>\n",
       "<table border=\"1\" class=\"dataframe\">\n",
       "  <thead>\n",
       "    <tr style=\"text-align: right;\">\n",
       "      <th></th>\n",
       "      <th>cuil</th>\n",
       "      <th>anio</th>\n",
       "      <th>mes</th>\n",
       "      <th>funcionario_apellido</th>\n",
       "      <th>funcionario_nombre</th>\n",
       "      <th>reparticion</th>\n",
       "      <th>asignacion_por_cargo_i</th>\n",
       "      <th>aguinaldo_ii</th>\n",
       "      <th>total_salario_bruto_i_+_ii</th>\n",
       "      <th>observaciones</th>\n",
       "    </tr>\n",
       "  </thead>\n",
       "  <tbody>\n",
       "    <tr>\n",
       "      <th>301</th>\n",
       "      <td>20-22293622-6</td>\n",
       "      <td>2019</td>\n",
       "      <td>10</td>\n",
       "      <td>FERNANDEZ</td>\n",
       "      <td>DIEGO HERNAN</td>\n",
       "      <td>SECR Integración Social y Urbana</td>\n",
       "      <td>249972.87</td>\n",
       "      <td>0.00</td>\n",
       "      <td>249972.87</td>\n",
       "      <td>NaN</td>\n",
       "    </tr>\n",
       "    <tr>\n",
       "      <th>318</th>\n",
       "      <td>27-13092400-5</td>\n",
       "      <td>2019</td>\n",
       "      <td>11</td>\n",
       "      <td>FREDA</td>\n",
       "      <td>MONICA BEATRIZ</td>\n",
       "      <td>Sindicatura General de la Ciudad de Buenos Aires</td>\n",
       "      <td>275089.75</td>\n",
       "      <td>0.00</td>\n",
       "      <td>275089.75</td>\n",
       "      <td>NaN</td>\n",
       "    </tr>\n",
       "    <tr>\n",
       "      <th>373</th>\n",
       "      <td>20-22293873-3</td>\n",
       "      <td>2019</td>\n",
       "      <td>12</td>\n",
       "      <td>MIGUEL</td>\n",
       "      <td>FELIPE OSCAR</td>\n",
       "      <td>Jefatura de Gabinete de Ministros</td>\n",
       "      <td>275089.75</td>\n",
       "      <td>137544.87</td>\n",
       "      <td>412634.62</td>\n",
       "      <td>NaN</td>\n",
       "    </tr>\n",
       "    <tr>\n",
       "      <th>377</th>\n",
       "      <td>27-21759789-2</td>\n",
       "      <td>2019</td>\n",
       "      <td>12</td>\n",
       "      <td>LEGUIZAMON</td>\n",
       "      <td>ISABELLA KARINA</td>\n",
       "      <td>Consejo de los Derechos de Niñas, Niños y Adol...</td>\n",
       "      <td>249972.86</td>\n",
       "      <td>124986.43</td>\n",
       "      <td>374959.29</td>\n",
       "      <td>NaN</td>\n",
       "    </tr>\n",
       "    <tr>\n",
       "      <th>380</th>\n",
       "      <td>20-26735689-1</td>\n",
       "      <td>2019</td>\n",
       "      <td>12</td>\n",
       "      <td>MENDEZ</td>\n",
       "      <td>JUAN JOSE</td>\n",
       "      <td>SECR Transporte y Obras Públicas</td>\n",
       "      <td>249972.86</td>\n",
       "      <td>124986.43</td>\n",
       "      <td>374959.29</td>\n",
       "      <td>NaN</td>\n",
       "    </tr>\n",
       "  </tbody>\n",
       "</table>\n",
       "</div>"
      ],
      "text/plain": [
       "              cuil  anio  mes funcionario_apellido funcionario_nombre  \\\n",
       "301  20-22293622-6  2019   10            FERNANDEZ       DIEGO HERNAN   \n",
       "318  27-13092400-5  2019   11                FREDA     MONICA BEATRIZ   \n",
       "373  20-22293873-3  2019   12               MIGUEL       FELIPE OSCAR   \n",
       "377  27-21759789-2  2019   12           LEGUIZAMON    ISABELLA KARINA   \n",
       "380  20-26735689-1  2019   12               MENDEZ          JUAN JOSE   \n",
       "\n",
       "                                           reparticion  \\\n",
       "301                   SECR Integración Social y Urbana   \n",
       "318   Sindicatura General de la Ciudad de Buenos Aires   \n",
       "373                  Jefatura de Gabinete de Ministros   \n",
       "377  Consejo de los Derechos de Niñas, Niños y Adol...   \n",
       "380                   SECR Transporte y Obras Públicas   \n",
       "\n",
       "     asignacion_por_cargo_i  aguinaldo_ii  total_salario_bruto_i_+_ii  \\\n",
       "301               249972.87          0.00                   249972.87   \n",
       "318               275089.75          0.00                   275089.75   \n",
       "373               275089.75     137544.87                   412634.62   \n",
       "377               249972.86     124986.43                   374959.29   \n",
       "380               249972.86     124986.43                   374959.29   \n",
       "\n",
       "    observaciones  \n",
       "301           NaN  \n",
       "318           NaN  \n",
       "373           NaN  \n",
       "377           NaN  \n",
       "380           NaN  "
      ]
     },
     "execution_count": 66,
     "metadata": {},
     "output_type": "execute_result"
    }
   ],
   "source": [
    "df_sem2 = df.query('mes > 6')\n",
    "df_sem2.sample(5)\n"
   ]
  },
  {
   "cell_type": "code",
   "execution_count": 67,
   "metadata": {
    "colab": {
     "base_uri": "https://localhost:8080/",
     "height": 80
    },
    "colab_type": "code",
    "id": "7uH-FsUnnTuE",
    "outputId": "f1961208-1891-42da-a458-41c499db98b6"
   },
   "outputs": [
    {
     "data": {
      "text/html": [
       "<div>\n",
       "<style scoped>\n",
       "    .dataframe tbody tr th:only-of-type {\n",
       "        vertical-align: middle;\n",
       "    }\n",
       "\n",
       "    .dataframe tbody tr th {\n",
       "        vertical-align: top;\n",
       "    }\n",
       "\n",
       "    .dataframe thead th {\n",
       "        text-align: right;\n",
       "    }\n",
       "</style>\n",
       "<table border=\"1\" class=\"dataframe\">\n",
       "  <thead>\n",
       "    <tr style=\"text-align: right;\">\n",
       "      <th></th>\n",
       "      <th>cuil</th>\n",
       "      <th>anio</th>\n",
       "      <th>mes</th>\n",
       "      <th>funcionario_apellido</th>\n",
       "      <th>funcionario_nombre</th>\n",
       "      <th>reparticion</th>\n",
       "      <th>asignacion_por_cargo_i</th>\n",
       "      <th>aguinaldo_ii</th>\n",
       "      <th>total_salario_bruto_i_+_ii</th>\n",
       "      <th>observaciones</th>\n",
       "    </tr>\n",
       "  </thead>\n",
       "  <tbody>\n",
       "    <tr>\n",
       "      <th>55</th>\n",
       "      <td>20-26781618-3</td>\n",
       "      <td>2019</td>\n",
       "      <td>2</td>\n",
       "      <td>LARRE</td>\n",
       "      <td>PEDRO ANDRES</td>\n",
       "      <td>SECR Ciencia, Tecnologia e Innovacion</td>\n",
       "      <td>204017.27</td>\n",
       "      <td>34002.88</td>\n",
       "      <td>238020.15</td>\n",
       "      <td>baja 28/2/2019</td>\n",
       "    </tr>\n",
       "  </tbody>\n",
       "</table>\n",
       "</div>"
      ],
      "text/plain": [
       "             cuil  anio  mes funcionario_apellido funcionario_nombre  \\\n",
       "55  20-26781618-3  2019    2                LARRE       PEDRO ANDRES   \n",
       "\n",
       "                              reparticion  asignacion_por_cargo_i  \\\n",
       "55  SECR Ciencia, Tecnologia e Innovacion               204017.27   \n",
       "\n",
       "    aguinaldo_ii  total_salario_bruto_i_+_ii   observaciones  \n",
       "55      34002.88                   238020.15  baja 28/2/2019  "
      ]
     },
     "execution_count": 67,
     "metadata": {},
     "output_type": "execute_result"
    }
   ],
   "source": [
    "# df[(df['mes'] == 2) & (df['reparticion'] == 'SECR Ciencia, Tecnologia e Innovacion')]\n",
    "df_ciencia = df.query('mes ==2 & reparticion == \"SECR Ciencia, Tecnologia e Innovacion\"')\n",
    "df_ciencia"
   ]
  },
  {
   "cell_type": "markdown",
   "metadata": {
    "colab_type": "text",
    "id": "1BiPTL_OnTuH"
   },
   "source": [
    "### Fancy Indexing\n",
    "\n",
    "Ahora vamos a quedarnos con un subconjunto de columnas del DataFrame."
   ]
  },
  {
   "cell_type": "code",
   "execution_count": 68,
   "metadata": {
    "colab": {},
    "colab_type": "code",
    "id": "0VkmYmnWnTuH"
   },
   "outputs": [],
   "source": [
    "df_view = df.loc[:,['anio','mes']]"
   ]
  },
  {
   "cell_type": "code",
   "execution_count": 69,
   "metadata": {
    "colab": {
     "base_uri": "https://localhost:8080/",
     "height": 34
    },
    "colab_type": "code",
    "id": "C0oTyCFrnTuJ",
    "outputId": "3aa1b062-1397-46af-cf5a-eb3efbb12adb"
   },
   "outputs": [
    {
     "data": {
      "text/plain": [
       "(385, 2)"
      ]
     },
     "execution_count": 69,
     "metadata": {},
     "output_type": "execute_result"
    }
   ],
   "source": [
    "df_view.shape"
   ]
  },
  {
   "cell_type": "code",
   "execution_count": 70,
   "metadata": {
    "colab": {
     "base_uri": "https://localhost:8080/",
     "height": 204
    },
    "colab_type": "code",
    "id": "OLDc5NMJ7VMM",
    "outputId": "8df4c1a6-4956-4250-b479-6d6d670ac46e"
   },
   "outputs": [
    {
     "data": {
      "text/html": [
       "<div>\n",
       "<style scoped>\n",
       "    .dataframe tbody tr th:only-of-type {\n",
       "        vertical-align: middle;\n",
       "    }\n",
       "\n",
       "    .dataframe tbody tr th {\n",
       "        vertical-align: top;\n",
       "    }\n",
       "\n",
       "    .dataframe thead th {\n",
       "        text-align: right;\n",
       "    }\n",
       "</style>\n",
       "<table border=\"1\" class=\"dataframe\">\n",
       "  <thead>\n",
       "    <tr style=\"text-align: right;\">\n",
       "      <th></th>\n",
       "      <th>anio</th>\n",
       "      <th>mes</th>\n",
       "    </tr>\n",
       "  </thead>\n",
       "  <tbody>\n",
       "    <tr>\n",
       "      <th>61</th>\n",
       "      <td>2019</td>\n",
       "      <td>2</td>\n",
       "    </tr>\n",
       "    <tr>\n",
       "      <th>185</th>\n",
       "      <td>2019</td>\n",
       "      <td>6</td>\n",
       "    </tr>\n",
       "    <tr>\n",
       "      <th>3</th>\n",
       "      <td>2019</td>\n",
       "      <td>1</td>\n",
       "    </tr>\n",
       "    <tr>\n",
       "      <th>359</th>\n",
       "      <td>2019</td>\n",
       "      <td>12</td>\n",
       "    </tr>\n",
       "    <tr>\n",
       "      <th>362</th>\n",
       "      <td>2019</td>\n",
       "      <td>12</td>\n",
       "    </tr>\n",
       "  </tbody>\n",
       "</table>\n",
       "</div>"
      ],
      "text/plain": [
       "     anio  mes\n",
       "61   2019    2\n",
       "185  2019    6\n",
       "3    2019    1\n",
       "359  2019   12\n",
       "362  2019   12"
      ]
     },
     "execution_count": 70,
     "metadata": {},
     "output_type": "execute_result"
    }
   ],
   "source": [
    "df_view.sample(5)"
   ]
  },
  {
   "cell_type": "markdown",
   "metadata": {
    "colab_type": "text",
    "id": "-YCqAchXnTuN"
   },
   "source": [
    "Existe una forma menos explícita de hacer esta misma operación. Si pasamos una lista al indexing, pandas asume que el tipo de indexing es loc y que el filtro es sobre las columnas y no las filas:"
   ]
  },
  {
   "cell_type": "code",
   "execution_count": 71,
   "metadata": {
    "colab": {},
    "colab_type": "code",
    "id": "JehbSb9OnTuN"
   },
   "outputs": [],
   "source": [
    "df_view = df[['anio','mes']]"
   ]
  },
  {
   "cell_type": "code",
   "execution_count": 72,
   "metadata": {
    "colab": {
     "base_uri": "https://localhost:8080/",
     "height": 34
    },
    "colab_type": "code",
    "id": "vfL--Ax1nTuP",
    "outputId": "878d04b2-ec0c-4c27-cbb2-b18bef6d89ea"
   },
   "outputs": [
    {
     "data": {
      "text/plain": [
       "(385, 2)"
      ]
     },
     "execution_count": 72,
     "metadata": {},
     "output_type": "execute_result"
    }
   ],
   "source": [
    "df_view.shape"
   ]
  },
  {
   "cell_type": "markdown",
   "metadata": {
    "colab_type": "text",
    "id": "mvgdNQmHnTuR"
   },
   "source": [
    "Fíjense lo que pasa si tratamos de acceder a filas utilizando una lista de nombres, en este caso [0,1]. "
   ]
  },
  {
   "cell_type": "code",
   "execution_count": null,
   "metadata": {
    "colab": {},
    "colab_type": "code",
    "id": "TToDJMMVnTuS"
   },
   "outputs": [],
   "source": [
    "# Incorrecto\n",
    "df_view = df[[3,8]]"
   ]
  },
  {
   "cell_type": "markdown",
   "metadata": {
    "colab_type": "text",
    "id": "mNKYxspjnTuT"
   },
   "source": [
    "Nos da un error porque cuando pasamos únicamente una lista al indexing, pandas asume que queremos un set de columnas y si los nombres no existen, da error. La forma correcta de hacerlo es pasar una lista de índices y explicitar que vamos a indizar con loc y que seleccionamos todas las columnas."
   ]
  },
  {
   "cell_type": "code",
   "execution_count": 73,
   "metadata": {
    "colab": {},
    "colab_type": "code",
    "id": "rcN4nIH4nTuU"
   },
   "outputs": [],
   "source": [
    "# Correcto\n",
    "df_view = df.loc[[3,8],:]"
   ]
  },
  {
   "cell_type": "code",
   "execution_count": 74,
   "metadata": {
    "colab": {},
    "colab_type": "code",
    "id": "GlffNtWInTuV"
   },
   "outputs": [
    {
     "data": {
      "text/html": [
       "<div>\n",
       "<style scoped>\n",
       "    .dataframe tbody tr th:only-of-type {\n",
       "        vertical-align: middle;\n",
       "    }\n",
       "\n",
       "    .dataframe tbody tr th {\n",
       "        vertical-align: top;\n",
       "    }\n",
       "\n",
       "    .dataframe thead th {\n",
       "        text-align: right;\n",
       "    }\n",
       "</style>\n",
       "<table border=\"1\" class=\"dataframe\">\n",
       "  <thead>\n",
       "    <tr style=\"text-align: right;\">\n",
       "      <th></th>\n",
       "      <th>cuil</th>\n",
       "      <th>anio</th>\n",
       "      <th>mes</th>\n",
       "      <th>funcionario_apellido</th>\n",
       "      <th>funcionario_nombre</th>\n",
       "      <th>reparticion</th>\n",
       "      <th>asignacion_por_cargo_i</th>\n",
       "      <th>aguinaldo_ii</th>\n",
       "      <th>total_salario_bruto_i_+_ii</th>\n",
       "      <th>observaciones</th>\n",
       "    </tr>\n",
       "  </thead>\n",
       "  <tbody>\n",
       "    <tr>\n",
       "      <th>3</th>\n",
       "      <td>20-13872301-2</td>\n",
       "      <td>2019</td>\n",
       "      <td>1</td>\n",
       "      <td>ASTARLOA</td>\n",
       "      <td>GABRIEL MARIA</td>\n",
       "      <td>Procuración General de la Ciudad de Buenos Aires</td>\n",
       "      <td>224516.62</td>\n",
       "      <td>0.0</td>\n",
       "      <td>224516.62</td>\n",
       "      <td>NaN</td>\n",
       "    </tr>\n",
       "    <tr>\n",
       "      <th>8</th>\n",
       "      <td>20-22293873-3</td>\n",
       "      <td>2019</td>\n",
       "      <td>1</td>\n",
       "      <td>MIGUEL</td>\n",
       "      <td>FELIPE OSCAR</td>\n",
       "      <td>Jefatura de Gabinete de Ministros</td>\n",
       "      <td>224516.62</td>\n",
       "      <td>0.0</td>\n",
       "      <td>224516.62</td>\n",
       "      <td>NaN</td>\n",
       "    </tr>\n",
       "  </tbody>\n",
       "</table>\n",
       "</div>"
      ],
      "text/plain": [
       "            cuil  anio  mes funcionario_apellido funcionario_nombre  \\\n",
       "3  20-13872301-2  2019    1             ASTARLOA      GABRIEL MARIA   \n",
       "8  20-22293873-3  2019    1               MIGUEL       FELIPE OSCAR   \n",
       "\n",
       "                                        reparticion  asignacion_por_cargo_i  \\\n",
       "3  Procuración General de la Ciudad de Buenos Aires               224516.62   \n",
       "8                 Jefatura de Gabinete de Ministros               224516.62   \n",
       "\n",
       "   aguinaldo_ii  total_salario_bruto_i_+_ii observaciones  \n",
       "3           0.0                   224516.62           NaN  \n",
       "8           0.0                   224516.62           NaN  "
      ]
     },
     "execution_count": 74,
     "metadata": {},
     "output_type": "execute_result"
    }
   ],
   "source": [
    "df_view"
   ]
  },
  {
   "cell_type": "markdown",
   "metadata": {
    "colab_type": "text",
    "id": "EgVlpcJinTuZ"
   },
   "source": []
  },
  {
   "cell_type": "markdown",
   "metadata": {
    "colab_type": "text",
    "id": "op8R3mOpnTua"
   },
   "source": [
    "### Ejercicio. Volviendo al ejemplo del titanic...\n",
    "\n",
    "1) ¿Cuántos hombres y mujeres sobrevivieron? \n",
    "\n",
    "2) ¿Cuántos menores de 18 años había? ¿Cuántos sobrevivieron?\n",
    "\n",
    "3) Seleccionen únicamente las columnas Sex y Survived y almacenenlas en un nuevo DataFrame que se llame df_titanic_subset.\n"
   ]
  },
  {
   "cell_type": "code",
   "execution_count": 89,
   "metadata": {},
   "outputs": [
    {
     "data": {
      "text/html": [
       "<div>\n",
       "<style scoped>\n",
       "    .dataframe tbody tr th:only-of-type {\n",
       "        vertical-align: middle;\n",
       "    }\n",
       "\n",
       "    .dataframe tbody tr th {\n",
       "        vertical-align: top;\n",
       "    }\n",
       "\n",
       "    .dataframe thead th {\n",
       "        text-align: right;\n",
       "    }\n",
       "</style>\n",
       "<table border=\"1\" class=\"dataframe\">\n",
       "  <thead>\n",
       "    <tr style=\"text-align: right;\">\n",
       "      <th></th>\n",
       "      <th>PassengerId</th>\n",
       "      <th>Survived</th>\n",
       "      <th>Pclass</th>\n",
       "      <th>Name</th>\n",
       "      <th>Sex</th>\n",
       "      <th>Age</th>\n",
       "      <th>SibSp</th>\n",
       "      <th>Parch</th>\n",
       "      <th>Ticket</th>\n",
       "      <th>Fare</th>\n",
       "      <th>Cabin</th>\n",
       "      <th>Embarked</th>\n",
       "    </tr>\n",
       "  </thead>\n",
       "  <tbody>\n",
       "    <tr>\n",
       "      <th>572</th>\n",
       "      <td>573</td>\n",
       "      <td>1</td>\n",
       "      <td>1</td>\n",
       "      <td>Flynn, Mr. John Irwin (\"Irving\")</td>\n",
       "      <td>male</td>\n",
       "      <td>36.0</td>\n",
       "      <td>0</td>\n",
       "      <td>0</td>\n",
       "      <td>PC 17474</td>\n",
       "      <td>26.3875</td>\n",
       "      <td>E25</td>\n",
       "      <td>S</td>\n",
       "    </tr>\n",
       "    <tr>\n",
       "      <th>292</th>\n",
       "      <td>293</td>\n",
       "      <td>0</td>\n",
       "      <td>2</td>\n",
       "      <td>Levy, Mr. Rene Jacques</td>\n",
       "      <td>male</td>\n",
       "      <td>36.0</td>\n",
       "      <td>0</td>\n",
       "      <td>0</td>\n",
       "      <td>SC/Paris 2163</td>\n",
       "      <td>12.8750</td>\n",
       "      <td>D</td>\n",
       "      <td>C</td>\n",
       "    </tr>\n",
       "    <tr>\n",
       "      <th>235</th>\n",
       "      <td>236</td>\n",
       "      <td>0</td>\n",
       "      <td>3</td>\n",
       "      <td>Harknett, Miss. Alice Phoebe</td>\n",
       "      <td>female</td>\n",
       "      <td>NaN</td>\n",
       "      <td>0</td>\n",
       "      <td>0</td>\n",
       "      <td>W./C. 6609</td>\n",
       "      <td>7.5500</td>\n",
       "      <td>NaN</td>\n",
       "      <td>S</td>\n",
       "    </tr>\n",
       "    <tr>\n",
       "      <th>653</th>\n",
       "      <td>654</td>\n",
       "      <td>1</td>\n",
       "      <td>3</td>\n",
       "      <td>O'Leary, Miss. Hanora \"Norah\"</td>\n",
       "      <td>female</td>\n",
       "      <td>NaN</td>\n",
       "      <td>0</td>\n",
       "      <td>0</td>\n",
       "      <td>330919</td>\n",
       "      <td>7.8292</td>\n",
       "      <td>NaN</td>\n",
       "      <td>Q</td>\n",
       "    </tr>\n",
       "    <tr>\n",
       "      <th>757</th>\n",
       "      <td>758</td>\n",
       "      <td>0</td>\n",
       "      <td>2</td>\n",
       "      <td>Bailey, Mr. Percy Andrew</td>\n",
       "      <td>male</td>\n",
       "      <td>18.0</td>\n",
       "      <td>0</td>\n",
       "      <td>0</td>\n",
       "      <td>29108</td>\n",
       "      <td>11.5000</td>\n",
       "      <td>NaN</td>\n",
       "      <td>S</td>\n",
       "    </tr>\n",
       "    <tr>\n",
       "      <th>780</th>\n",
       "      <td>781</td>\n",
       "      <td>1</td>\n",
       "      <td>3</td>\n",
       "      <td>Ayoub, Miss. Banoura</td>\n",
       "      <td>female</td>\n",
       "      <td>13.0</td>\n",
       "      <td>0</td>\n",
       "      <td>0</td>\n",
       "      <td>2687</td>\n",
       "      <td>7.2292</td>\n",
       "      <td>NaN</td>\n",
       "      <td>C</td>\n",
       "    </tr>\n",
       "    <tr>\n",
       "      <th>6</th>\n",
       "      <td>7</td>\n",
       "      <td>0</td>\n",
       "      <td>1</td>\n",
       "      <td>McCarthy, Mr. Timothy J</td>\n",
       "      <td>male</td>\n",
       "      <td>54.0</td>\n",
       "      <td>0</td>\n",
       "      <td>0</td>\n",
       "      <td>17463</td>\n",
       "      <td>51.8625</td>\n",
       "      <td>E46</td>\n",
       "      <td>S</td>\n",
       "    </tr>\n",
       "    <tr>\n",
       "      <th>431</th>\n",
       "      <td>432</td>\n",
       "      <td>1</td>\n",
       "      <td>3</td>\n",
       "      <td>Thorneycroft, Mrs. Percival (Florence Kate White)</td>\n",
       "      <td>female</td>\n",
       "      <td>NaN</td>\n",
       "      <td>1</td>\n",
       "      <td>0</td>\n",
       "      <td>376564</td>\n",
       "      <td>16.1000</td>\n",
       "      <td>NaN</td>\n",
       "      <td>S</td>\n",
       "    </tr>\n",
       "    <tr>\n",
       "      <th>281</th>\n",
       "      <td>282</td>\n",
       "      <td>0</td>\n",
       "      <td>3</td>\n",
       "      <td>Olsson, Mr. Nils Johan Goransson</td>\n",
       "      <td>male</td>\n",
       "      <td>28.0</td>\n",
       "      <td>0</td>\n",
       "      <td>0</td>\n",
       "      <td>347464</td>\n",
       "      <td>7.8542</td>\n",
       "      <td>NaN</td>\n",
       "      <td>S</td>\n",
       "    </tr>\n",
       "    <tr>\n",
       "      <th>837</th>\n",
       "      <td>838</td>\n",
       "      <td>0</td>\n",
       "      <td>3</td>\n",
       "      <td>Sirota, Mr. Maurice</td>\n",
       "      <td>male</td>\n",
       "      <td>NaN</td>\n",
       "      <td>0</td>\n",
       "      <td>0</td>\n",
       "      <td>392092</td>\n",
       "      <td>8.0500</td>\n",
       "      <td>NaN</td>\n",
       "      <td>S</td>\n",
       "    </tr>\n",
       "  </tbody>\n",
       "</table>\n",
       "</div>"
      ],
      "text/plain": [
       "     PassengerId  Survived  Pclass  \\\n",
       "572          573         1       1   \n",
       "292          293         0       2   \n",
       "235          236         0       3   \n",
       "653          654         1       3   \n",
       "757          758         0       2   \n",
       "780          781         1       3   \n",
       "6              7         0       1   \n",
       "431          432         1       3   \n",
       "281          282         0       3   \n",
       "837          838         0       3   \n",
       "\n",
       "                                                  Name     Sex   Age  SibSp  \\\n",
       "572                   Flynn, Mr. John Irwin (\"Irving\")    male  36.0      0   \n",
       "292                             Levy, Mr. Rene Jacques    male  36.0      0   \n",
       "235                       Harknett, Miss. Alice Phoebe  female   NaN      0   \n",
       "653                      O'Leary, Miss. Hanora \"Norah\"  female   NaN      0   \n",
       "757                           Bailey, Mr. Percy Andrew    male  18.0      0   \n",
       "780                               Ayoub, Miss. Banoura  female  13.0      0   \n",
       "6                              McCarthy, Mr. Timothy J    male  54.0      0   \n",
       "431  Thorneycroft, Mrs. Percival (Florence Kate White)  female   NaN      1   \n",
       "281                   Olsson, Mr. Nils Johan Goransson    male  28.0      0   \n",
       "837                                Sirota, Mr. Maurice    male   NaN      0   \n",
       "\n",
       "     Parch         Ticket     Fare Cabin Embarked  \n",
       "572      0       PC 17474  26.3875   E25        S  \n",
       "292      0  SC/Paris 2163  12.8750     D        C  \n",
       "235      0     W./C. 6609   7.5500   NaN        S  \n",
       "653      0         330919   7.8292   NaN        Q  \n",
       "757      0          29108  11.5000   NaN        S  \n",
       "780      0           2687   7.2292   NaN        C  \n",
       "6        0          17463  51.8625   E46        S  \n",
       "431      0         376564  16.1000   NaN        S  \n",
       "281      0         347464   7.8542   NaN        S  \n",
       "837      0         392092   8.0500   NaN        S  "
      ]
     },
     "execution_count": 89,
     "metadata": {},
     "output_type": "execute_result"
    }
   ],
   "source": [
    "df_titanic.sample(10)"
   ]
  },
  {
   "cell_type": "code",
   "execution_count": 129,
   "metadata": {
    "colab": {},
    "colab_type": "code",
    "id": "DJET5XoJnTuc",
    "scrolled": true
   },
   "outputs": [
    {
     "data": {
      "text/plain": [
       "109"
      ]
     },
     "execution_count": 129,
     "metadata": {},
     "output_type": "execute_result"
    }
   ],
   "source": [
    "df_titanic[(df_titanic['Sex']=='male') & (df_titanic['Survived']==1)]['PassengerId'].count()"
   ]
  },
  {
   "cell_type": "code",
   "execution_count": 128,
   "metadata": {
    "colab": {},
    "colab_type": "code",
    "id": "MHbuXx2enTue"
   },
   "outputs": [
    {
     "data": {
      "text/plain": [
       "233"
      ]
     },
     "execution_count": 128,
     "metadata": {},
     "output_type": "execute_result"
    }
   ],
   "source": [
    "df_titanic[(df_titanic['Sex']=='female') & (df_titanic['Survived']==1)]['PassengerId'].count()"
   ]
  },
  {
   "cell_type": "code",
   "execution_count": 132,
   "metadata": {},
   "outputs": [
    {
     "data": {
      "text/plain": [
       "891"
      ]
     },
     "execution_count": 132,
     "metadata": {},
     "output_type": "execute_result"
    }
   ],
   "source": [
    "df_titanic['PassengerId'].count()"
   ]
  },
  {
   "cell_type": "code",
   "execution_count": 127,
   "metadata": {
    "colab": {},
    "colab_type": "code",
    "id": "Mu3Pz1T8nTuf"
   },
   "outputs": [
    {
     "data": {
      "text/plain": [
       "113"
      ]
     },
     "execution_count": 127,
     "metadata": {},
     "output_type": "execute_result"
    }
   ],
   "source": [
    "df_titanic[(df_titanic['Age']<18)]['PassengerId'].count()"
   ]
  },
  {
   "cell_type": "code",
   "execution_count": 131,
   "metadata": {},
   "outputs": [
    {
     "data": {
      "text/plain": [
       "601"
      ]
     },
     "execution_count": 131,
     "metadata": {},
     "output_type": "execute_result"
    }
   ],
   "source": [
    "df_titanic[(df_titanic['Age']>=18)]['PassengerId'].count()"
   ]
  },
  {
   "cell_type": "code",
   "execution_count": 123,
   "metadata": {},
   "outputs": [
    {
     "data": {
      "text/plain": [
       "177"
      ]
     },
     "execution_count": 123,
     "metadata": {},
     "output_type": "execute_result"
    }
   ],
   "source": [
    "df_titanic['Age'].isnull().sum()"
   ]
  },
  {
   "cell_type": "code",
   "execution_count": 130,
   "metadata": {
    "colab": {},
    "colab_type": "code",
    "id": "oE6t5FuGnTui"
   },
   "outputs": [
    {
     "data": {
      "text/plain": [
       "61"
      ]
     },
     "execution_count": 130,
     "metadata": {},
     "output_type": "execute_result"
    }
   ],
   "source": [
    "df_titanic[(df_titanic['Age']<18) & (df_titanic['Survived']==1)]['PassengerId'].count()"
   ]
  },
  {
   "cell_type": "code",
   "execution_count": 110,
   "metadata": {
    "colab": {},
    "colab_type": "code",
    "id": "09AgIsEYnTuj"
   },
   "outputs": [],
   "source": [
    "df_titanic_subset = df_titanic[['Sex','Survived']]"
   ]
  },
  {
   "cell_type": "code",
   "execution_count": 111,
   "metadata": {
    "colab": {},
    "colab_type": "code",
    "id": "eqWfdFPqnTuk"
   },
   "outputs": [
    {
     "data": {
      "text/html": [
       "<div>\n",
       "<style scoped>\n",
       "    .dataframe tbody tr th:only-of-type {\n",
       "        vertical-align: middle;\n",
       "    }\n",
       "\n",
       "    .dataframe tbody tr th {\n",
       "        vertical-align: top;\n",
       "    }\n",
       "\n",
       "    .dataframe thead th {\n",
       "        text-align: right;\n",
       "    }\n",
       "</style>\n",
       "<table border=\"1\" class=\"dataframe\">\n",
       "  <thead>\n",
       "    <tr style=\"text-align: right;\">\n",
       "      <th></th>\n",
       "      <th>Sex</th>\n",
       "      <th>Survived</th>\n",
       "    </tr>\n",
       "  </thead>\n",
       "  <tbody>\n",
       "    <tr>\n",
       "      <th>0</th>\n",
       "      <td>male</td>\n",
       "      <td>0</td>\n",
       "    </tr>\n",
       "    <tr>\n",
       "      <th>1</th>\n",
       "      <td>female</td>\n",
       "      <td>1</td>\n",
       "    </tr>\n",
       "    <tr>\n",
       "      <th>2</th>\n",
       "      <td>female</td>\n",
       "      <td>1</td>\n",
       "    </tr>\n",
       "    <tr>\n",
       "      <th>3</th>\n",
       "      <td>female</td>\n",
       "      <td>1</td>\n",
       "    </tr>\n",
       "    <tr>\n",
       "      <th>4</th>\n",
       "      <td>male</td>\n",
       "      <td>0</td>\n",
       "    </tr>\n",
       "  </tbody>\n",
       "</table>\n",
       "</div>"
      ],
      "text/plain": [
       "      Sex  Survived\n",
       "0    male         0\n",
       "1  female         1\n",
       "2  female         1\n",
       "3  female         1\n",
       "4    male         0"
      ]
     },
     "execution_count": 111,
     "metadata": {},
     "output_type": "execute_result"
    }
   ],
   "source": [
    "df_titanic_subset.head()"
   ]
  },
  {
   "cell_type": "markdown",
   "metadata": {
    "colab_type": "text",
    "id": "xOXJl4lMnTul"
   },
   "source": [
    "## Funciones de Agregación\n",
    "\n",
    "Utilizando Pandas podemos aplicar funciones a nivel de columna. Algunas funciones predefinidas son la media, el desvío estándar y la sumatoria, el valor máximo y el mínimo.\n",
    "\n",
    "Algunas de las funciones de agregación más comunes son:\n",
    "\n",
    "<ul>\n",
    "    <li>min</li>\n",
    "    <li>max</li>\n",
    "    <li>count</li>\n",
    "    <li>sum</li>\n",
    "    <li>prod</li>\n",
    "    <li>mean</li>\n",
    "    <li>median</li>\n",
    "    <li>mode</li>\n",
    "    <li>std</li>\n",
    "    <li>var</li>\n",
    "</ul>\n",
    "\n",
    "\n"
   ]
  },
  {
   "cell_type": "code",
   "execution_count": 77,
   "metadata": {
    "colab": {
     "base_uri": "https://localhost:8080/",
     "height": 34
    },
    "colab_type": "code",
    "id": "H5N6HptUnTum",
    "outputId": "7465a791-d370-4d69-cb07-565179ed4311"
   },
   "outputs": [
    {
     "data": {
      "text/plain": [
       "12"
      ]
     },
     "execution_count": 77,
     "metadata": {
      "tags": []
     },
     "output_type": "execute_result"
    }
   ],
   "source": [
    "df['mes'].max()"
   ]
  },
  {
   "cell_type": "code",
   "execution_count": 78,
   "metadata": {
    "colab": {
     "base_uri": "https://localhost:8080/",
     "height": 34
    },
    "colab_type": "code",
    "id": "MN-iUKt0nTup",
    "outputId": "7d8e87da-e4f8-4ef1-9a67-f415bf31b54f"
   },
   "outputs": [
    {
     "data": {
      "text/plain": [
       "234234.3679999999"
      ]
     },
     "execution_count": 78,
     "metadata": {
      "tags": []
     },
     "output_type": "execute_result"
    }
   ],
   "source": [
    "df['asignacion_por_cargo_i'].mean()"
   ]
  },
  {
   "cell_type": "code",
   "execution_count": 79,
   "metadata": {
    "colab": {
     "base_uri": "https://localhost:8080/",
     "height": 34
    },
    "colab_type": "code",
    "id": "t485lBcnnTus",
    "outputId": "dbfc3b60-73dd-4d9a-b70d-a565a51c093a"
   },
   "outputs": [
    {
     "data": {
      "text/plain": [
       "35043.16008466176"
      ]
     },
     "execution_count": 79,
     "metadata": {
      "tags": []
     },
     "output_type": "execute_result"
    }
   ],
   "source": [
    "df['asignacion_por_cargo_i'].std()"
   ]
  },
  {
   "cell_type": "code",
   "execution_count": 80,
   "metadata": {
    "colab": {
     "base_uri": "https://localhost:8080/",
     "height": 34
    },
    "colab_type": "code",
    "id": "LC_46MCsnTuu",
    "outputId": "06d888c4-d448-4f77-e484-190c0748cfc7"
   },
   "outputs": [
    {
     "data": {
      "text/plain": [
       "97988834.36000001"
      ]
     },
     "execution_count": 80,
     "metadata": {
      "tags": []
     },
     "output_type": "execute_result"
    }
   ],
   "source": [
    "df['total_salario_bruto_i_+_ii'].sum()"
   ]
  },
  {
   "cell_type": "markdown",
   "metadata": {
    "colab_type": "text",
    "id": "xjAupvcxnTuw"
   },
   "source": [
    "Podemos combinar los filtros que vimos antes con las funciones de agregación para responder preguntas cómo ¿Cuál fue en gasto en asignaciones de funcionarios para la Secretaría de Medios 2019? ¿Y para la de Justicia y Seguridad?"
   ]
  },
  {
   "cell_type": "code",
   "execution_count": 81,
   "metadata": {
    "colab": {
     "base_uri": "https://localhost:8080/",
     "height": 34
    },
    "colab_type": "code",
    "id": "C3kuukm7nTuw",
    "outputId": "3ff77425-cef3-44dd-8655-2f01becae5d2"
   },
   "outputs": [
    {
     "data": {
      "text/plain": [
       "3232402.25"
      ]
     },
     "execution_count": 81,
     "metadata": {
      "tags": []
     },
     "output_type": "execute_result"
    }
   ],
   "source": [
    "df[df['reparticion'] == 'SECR de Medios']['total_salario_bruto_i_+_ii'].sum()"
   ]
  },
  {
   "cell_type": "code",
   "execution_count": null,
   "metadata": {
    "colab": {},
    "colab_type": "code",
    "id": "dIO2VZalnTux"
   },
   "outputs": [],
   "source": [
    "df[df['reparticion'] == 'SECR Justicia y Seguridad']['total_salario_bruto_i_+_ii'].sum()"
   ]
  },
  {
   "cell_type": "markdown",
   "metadata": {
    "colab_type": "text",
    "id": "b2cTw-x-nTuz"
   },
   "source": [
    "Ahora respondamos algunas preguntas: ¿Quién o quiénes del dataset cobran el salario más alto? ¿Y el más bajo?"
   ]
  },
  {
   "cell_type": "code",
   "execution_count": null,
   "metadata": {
    "colab": {},
    "colab_type": "code",
    "id": "_0pzT66CnTuz",
    "scrolled": true
   },
   "outputs": [],
   "source": [
    "df[df['total_salario_bruto_i_+_ii'] == df['total_salario_bruto_i_+_ii'].max()]"
   ]
  },
  {
   "cell_type": "code",
   "execution_count": null,
   "metadata": {
    "colab": {},
    "colab_type": "code",
    "id": "z0F_UFImnTu0",
    "scrolled": true
   },
   "outputs": [],
   "source": [
    "df[df['total_salario_bruto_i_+_ii'] == df['total_salario_bruto_i_+_ii'].min()]"
   ]
  },
  {
   "cell_type": "markdown",
   "metadata": {
    "colab_type": "text",
    "id": "37bydsugnTu4"
   },
   "source": [
    "# Otros análisis descriptivos\n",
    "\n",
    "Pandas viene con algunas funciones built-in para ayudar al análisis descriptivo.\n",
    "\n",
    "## Para las variables numéricas"
   ]
  },
  {
   "cell_type": "code",
   "execution_count": 82,
   "metadata": {
    "colab": {
     "base_uri": "https://localhost:8080/",
     "height": 297
    },
    "colab_type": "code",
    "id": "gJaCQr99nTu5",
    "outputId": "f4219ab4-8146-484c-975e-c11219c71eb5"
   },
   "outputs": [
    {
     "data": {
      "text/html": [
       "<div>\n",
       "<style scoped>\n",
       "    .dataframe tbody tr th:only-of-type {\n",
       "        vertical-align: middle;\n",
       "    }\n",
       "\n",
       "    .dataframe tbody tr th {\n",
       "        vertical-align: top;\n",
       "    }\n",
       "\n",
       "    .dataframe thead th {\n",
       "        text-align: right;\n",
       "    }\n",
       "</style>\n",
       "<table border=\"1\" class=\"dataframe\">\n",
       "  <thead>\n",
       "    <tr style=\"text-align: right;\">\n",
       "      <th></th>\n",
       "      <th>anio</th>\n",
       "      <th>mes</th>\n",
       "      <th>asignacion_por_cargo_i</th>\n",
       "      <th>aguinaldo_ii</th>\n",
       "      <th>total_salario_bruto_i_+_ii</th>\n",
       "    </tr>\n",
       "  </thead>\n",
       "  <tbody>\n",
       "    <tr>\n",
       "      <th>count</th>\n",
       "      <td>385.0</td>\n",
       "      <td>385.000000</td>\n",
       "      <td>385.000000</td>\n",
       "      <td>385.000000</td>\n",
       "      <td>385.000000</td>\n",
       "    </tr>\n",
       "    <tr>\n",
       "      <th>mean</th>\n",
       "      <td>2019.0</td>\n",
       "      <td>6.631169</td>\n",
       "      <td>234234.368000</td>\n",
       "      <td>20282.084883</td>\n",
       "      <td>254516.452883</td>\n",
       "    </tr>\n",
       "    <tr>\n",
       "      <th>std</th>\n",
       "      <td>0.0</td>\n",
       "      <td>3.539077</td>\n",
       "      <td>35043.160085</td>\n",
       "      <td>45248.840725</td>\n",
       "      <td>51434.987870</td>\n",
       "    </tr>\n",
       "    <tr>\n",
       "      <th>min</th>\n",
       "      <td>2019.0</td>\n",
       "      <td>1.000000</td>\n",
       "      <td>74991.860000</td>\n",
       "      <td>0.000000</td>\n",
       "      <td>185396.540000</td>\n",
       "    </tr>\n",
       "    <tr>\n",
       "      <th>25%</th>\n",
       "      <td>2019.0</td>\n",
       "      <td>4.000000</td>\n",
       "      <td>224516.620000</td>\n",
       "      <td>0.000000</td>\n",
       "      <td>224516.620000</td>\n",
       "    </tr>\n",
       "    <tr>\n",
       "      <th>50%</th>\n",
       "      <td>2019.0</td>\n",
       "      <td>7.000000</td>\n",
       "      <td>239470.360000</td>\n",
       "      <td>0.000000</td>\n",
       "      <td>245811.620000</td>\n",
       "    </tr>\n",
       "    <tr>\n",
       "      <th>75%</th>\n",
       "      <td>2019.0</td>\n",
       "      <td>10.000000</td>\n",
       "      <td>249972.870000</td>\n",
       "      <td>0.000000</td>\n",
       "      <td>263531.980000</td>\n",
       "    </tr>\n",
       "    <tr>\n",
       "      <th>max</th>\n",
       "      <td>2019.0</td>\n",
       "      <td>12.000000</td>\n",
       "      <td>275089.750000</td>\n",
       "      <td>170855.560000</td>\n",
       "      <td>445945.310000</td>\n",
       "    </tr>\n",
       "  </tbody>\n",
       "</table>\n",
       "</div>"
      ],
      "text/plain": [
       "         anio         mes  ...   aguinaldo_ii  total_salario_bruto_i_+_ii\n",
       "count   385.0  385.000000  ...     385.000000                  385.000000\n",
       "mean   2019.0    6.631169  ...   20282.084883               254516.452883\n",
       "std       0.0    3.539077  ...   45248.840725                51434.987870\n",
       "min    2019.0    1.000000  ...       0.000000               185396.540000\n",
       "25%    2019.0    4.000000  ...       0.000000               224516.620000\n",
       "50%    2019.0    7.000000  ...       0.000000               245811.620000\n",
       "75%    2019.0   10.000000  ...       0.000000               263531.980000\n",
       "max    2019.0   12.000000  ...  170855.560000               445945.310000\n",
       "\n",
       "[8 rows x 5 columns]"
      ]
     },
     "execution_count": 82,
     "metadata": {
      "tags": []
     },
     "output_type": "execute_result"
    }
   ],
   "source": [
    "df.describe()"
   ]
  },
  {
   "cell_type": "markdown",
   "metadata": {
    "colab_type": "text",
    "id": "6ggPJIQLnTu6"
   },
   "source": [
    "## Para las variables categóricas\n"
   ]
  },
  {
   "cell_type": "code",
   "execution_count": 83,
   "metadata": {
    "colab": {
     "base_uri": "https://localhost:8080/",
     "height": 816
    },
    "colab_type": "code",
    "id": "a6XuwLAAnTu6",
    "outputId": "71c77f2c-0948-46c1-b38f-eff34f442670"
   },
   "outputs": [
    {
     "data": {
      "text/plain": [
       "SECR Justicia y Seguridad                                         13\n",
       "SECR de Medios                                                    13\n",
       "Ministerio de Salud                                               13\n",
       "SECR Desarrollo Ciudadano                                         13\n",
       "Ministerio de Cultura                                             12\n",
       "Jefe de Gobierno                                                  12\n",
       "Ministerio de Desarrollo Urbano y Transporte                      12\n",
       "SS Comunicacion                                                   12\n",
       "Ente de Turismo Ley Nº 2627                                       12\n",
       "SECR Planificación, Evaluación y Coordinación de Gestión          12\n",
       "Jefatura de Gabinete de Ministros                                 12\n",
       "SS Contenidos                                                     12\n",
       "Ministerio de Gobierno                                            12\n",
       "SECR Integración Social Para Personas Mayores                     12\n",
       "Procuración General de la Ciudad de Buenos Aires                  12\n",
       "SECR Integración Social y Urbana                                  12\n",
       "UPE Transferencia de Funciones y Facultades en Materia de Seg.    12\n",
       "Sindicatura General de la Ciudad de Buenos Aires                  12\n",
       "SECR Administración de Seguridad y Emergencias                    12\n",
       "SECR Legal y Técnica                                              12\n",
       "Consejo de los Derechos de Niñas, Niños y Adoles - Presidencia    12\n",
       "Vicejefatura de Gobierno                                          12\n",
       "SECR Cultura Ciudadana y Función Pública                          11\n",
       "Ministerio de Economía y Finanzas                                 11\n",
       "Ministerio de Hábitat y Desarrollo Humano                         11\n",
       "SECR Transporte                                                   11\n",
       "SECR Atención y Gestión Ciudadana                                 11\n",
       "SECR General y de Relaciones Internacionales                      11\n",
       "Ministerio de Educación e Innovación                              11\n",
       "SECR Coordinación General                                         11\n",
       "Ministerio de Ambiente y Espacio Público                          11\n",
       "Ministerio de Desarrollo Humano y Hábitat                          2\n",
       "Ministerio de Espacio Público e Higiene Urbana                     2\n",
       "SECR Ciencia, Tecnologia e Innovacion                              2\n",
       "SECR Comunicación, Contenidos y Participación Ciudadana            1\n",
       "SECR Transporte y Obras Públicas                                   1\n",
       "Ministerio de Educación                                            1\n",
       "Ministerio de Hacienda y Finanzas                                  1\n",
       "Ministerio de Desarrollo Económico y Producción                    1\n",
       "SECR General y Relaciones Internacionales                          1\n",
       "SECR Ambiente                                                      1\n",
       "SECR Desarrollo Urbano                                             1\n",
       "SECR Innovación y Transformación Digital                           1\n",
       "SECR Atención Ciudadana y Gestión Comunal                          1\n",
       "SECR Transformación Cultural                                       1\n",
       "SECR Asuntos Estratégicos                                          1\n",
       "Name: reparticion, dtype: int64"
      ]
     },
     "execution_count": 83,
     "metadata": {
      "tags": []
     },
     "output_type": "execute_result"
    }
   ],
   "source": [
    "df['reparticion'].value_counts()"
   ]
  },
  {
   "cell_type": "markdown",
   "metadata": {
    "colab_type": "text",
    "id": "k-GiEWVanTu9"
   },
   "source": [
    "### Ejercicio: Volviendo al ejemplo del Titanic.\n",
    "\n",
    "1) ¿Cuál era la edad promedio de los pasajeros de cada clase (Pclass)?\n",
    "\n",
    "2) ¿Cuál fue la tarifa que pagaron en promedio los hombres? ¿Y las mujeres?\n",
    "\n",
    "3) ¿Cuánto pagaron en total los pasajeros de primera clase para subir al Titanic? ¿Y los de tercera?\n",
    "\n",
    "4) ¿Cuántos pasajeros había en cada tipo de clase?"
   ]
  },
  {
   "cell_type": "code",
   "execution_count": 85,
   "metadata": {
    "colab": {
     "base_uri": "https://localhost:8080/",
     "height": 204
    },
    "colab_type": "code",
    "id": "Dnqu1AQWnTu9",
    "outputId": "72cdeb43-e9d1-4807-9afb-b1d7df588eaf"
   },
   "outputs": [
    {
     "data": {
      "text/html": [
       "<div>\n",
       "<style scoped>\n",
       "    .dataframe tbody tr th:only-of-type {\n",
       "        vertical-align: middle;\n",
       "    }\n",
       "\n",
       "    .dataframe tbody tr th {\n",
       "        vertical-align: top;\n",
       "    }\n",
       "\n",
       "    .dataframe thead th {\n",
       "        text-align: right;\n",
       "    }\n",
       "</style>\n",
       "<table border=\"1\" class=\"dataframe\">\n",
       "  <thead>\n",
       "    <tr style=\"text-align: right;\">\n",
       "      <th></th>\n",
       "      <th>PassengerId</th>\n",
       "      <th>Survived</th>\n",
       "      <th>Pclass</th>\n",
       "      <th>Name</th>\n",
       "      <th>Sex</th>\n",
       "      <th>Age</th>\n",
       "      <th>SibSp</th>\n",
       "      <th>Parch</th>\n",
       "      <th>Ticket</th>\n",
       "      <th>Fare</th>\n",
       "      <th>Cabin</th>\n",
       "      <th>Embarked</th>\n",
       "    </tr>\n",
       "  </thead>\n",
       "  <tbody>\n",
       "    <tr>\n",
       "      <th>0</th>\n",
       "      <td>1</td>\n",
       "      <td>0</td>\n",
       "      <td>3</td>\n",
       "      <td>Braund, Mr. Owen Harris</td>\n",
       "      <td>male</td>\n",
       "      <td>22.0</td>\n",
       "      <td>1</td>\n",
       "      <td>0</td>\n",
       "      <td>A/5 21171</td>\n",
       "      <td>7.2500</td>\n",
       "      <td>NaN</td>\n",
       "      <td>S</td>\n",
       "    </tr>\n",
       "    <tr>\n",
       "      <th>1</th>\n",
       "      <td>2</td>\n",
       "      <td>1</td>\n",
       "      <td>1</td>\n",
       "      <td>Cumings, Mrs. John Bradley (Florence Briggs Th...</td>\n",
       "      <td>female</td>\n",
       "      <td>38.0</td>\n",
       "      <td>1</td>\n",
       "      <td>0</td>\n",
       "      <td>PC 17599</td>\n",
       "      <td>71.2833</td>\n",
       "      <td>C85</td>\n",
       "      <td>C</td>\n",
       "    </tr>\n",
       "    <tr>\n",
       "      <th>2</th>\n",
       "      <td>3</td>\n",
       "      <td>1</td>\n",
       "      <td>3</td>\n",
       "      <td>Heikkinen, Miss. Laina</td>\n",
       "      <td>female</td>\n",
       "      <td>26.0</td>\n",
       "      <td>0</td>\n",
       "      <td>0</td>\n",
       "      <td>STON/O2. 3101282</td>\n",
       "      <td>7.9250</td>\n",
       "      <td>NaN</td>\n",
       "      <td>S</td>\n",
       "    </tr>\n",
       "    <tr>\n",
       "      <th>3</th>\n",
       "      <td>4</td>\n",
       "      <td>1</td>\n",
       "      <td>1</td>\n",
       "      <td>Futrelle, Mrs. Jacques Heath (Lily May Peel)</td>\n",
       "      <td>female</td>\n",
       "      <td>35.0</td>\n",
       "      <td>1</td>\n",
       "      <td>0</td>\n",
       "      <td>113803</td>\n",
       "      <td>53.1000</td>\n",
       "      <td>C123</td>\n",
       "      <td>S</td>\n",
       "    </tr>\n",
       "    <tr>\n",
       "      <th>4</th>\n",
       "      <td>5</td>\n",
       "      <td>0</td>\n",
       "      <td>3</td>\n",
       "      <td>Allen, Mr. William Henry</td>\n",
       "      <td>male</td>\n",
       "      <td>35.0</td>\n",
       "      <td>0</td>\n",
       "      <td>0</td>\n",
       "      <td>373450</td>\n",
       "      <td>8.0500</td>\n",
       "      <td>NaN</td>\n",
       "      <td>S</td>\n",
       "    </tr>\n",
       "  </tbody>\n",
       "</table>\n",
       "</div>"
      ],
      "text/plain": [
       "   PassengerId  Survived  Pclass  ...     Fare Cabin  Embarked\n",
       "0            1         0       3  ...   7.2500   NaN         S\n",
       "1            2         1       1  ...  71.2833   C85         C\n",
       "2            3         1       3  ...   7.9250   NaN         S\n",
       "3            4         1       1  ...  53.1000  C123         S\n",
       "4            5         0       3  ...   8.0500   NaN         S\n",
       "\n",
       "[5 rows x 12 columns]"
      ]
     },
     "execution_count": 85,
     "metadata": {
      "tags": []
     },
     "output_type": "execute_result"
    }
   ],
   "source": [
    "df_titanic.head()"
   ]
  },
  {
   "cell_type": "code",
   "execution_count": 99,
   "metadata": {
    "colab": {
     "base_uri": "https://localhost:8080/",
     "height": 34
    },
    "colab_type": "code",
    "id": "9k2yYOZRnTu_",
    "outputId": "a5f73acc-9905-433c-e8f9-c9441b8607d8"
   },
   "outputs": [
    {
     "data": {
      "text/plain": [
       "38.233440860215055"
      ]
     },
     "execution_count": 99,
     "metadata": {
      "tags": []
     },
     "output_type": "execute_result"
    }
   ],
   "source": [
    "df_titanic[df_titanic['Pclass']==1]['Age'].mean()"
   ]
  },
  {
   "cell_type": "code",
   "execution_count": 100,
   "metadata": {
    "colab": {
     "base_uri": "https://localhost:8080/",
     "height": 34
    },
    "colab_type": "code",
    "id": "UQHZlhzBJpSB",
    "outputId": "b56914e2-a128-4a72-ec92-fb14f3879e86"
   },
   "outputs": [
    {
     "data": {
      "text/plain": [
       "29.87763005780347"
      ]
     },
     "execution_count": 100,
     "metadata": {
      "tags": []
     },
     "output_type": "execute_result"
    }
   ],
   "source": [
    "df_titanic[df_titanic['Pclass']==2]['Age'].mean()"
   ]
  },
  {
   "cell_type": "code",
   "execution_count": 101,
   "metadata": {
    "colab": {
     "base_uri": "https://localhost:8080/",
     "height": 34
    },
    "colab_type": "code",
    "id": "zMToiw1inTvA",
    "outputId": "a879c612-944c-4d24-a461-fdd761835727"
   },
   "outputs": [
    {
     "data": {
      "text/plain": [
       "25.14061971830986"
      ]
     },
     "execution_count": 101,
     "metadata": {
      "tags": []
     },
     "output_type": "execute_result"
    }
   ],
   "source": [
    "df_titanic[df_titanic['Pclass']==3]['Age'].mean()"
   ]
  },
  {
   "cell_type": "code",
   "execution_count": 104,
   "metadata": {
    "colab": {
     "base_uri": "https://localhost:8080/",
     "height": 34
    },
    "colab_type": "code",
    "id": "fcnLgHJ6nTvB",
    "outputId": "644747d0-aba1-4a62-e9de-6ff6cee44a6d"
   },
   "outputs": [
    {
     "data": {
      "text/plain": [
       "25.523893414211418"
      ]
     },
     "execution_count": 104,
     "metadata": {
      "tags": []
     },
     "output_type": "execute_result"
    }
   ],
   "source": [
    "df_titanic[df_titanic['Sex']=='male']['Fare'].mean()"
   ]
  },
  {
   "cell_type": "code",
   "execution_count": 105,
   "metadata": {
    "colab": {
     "base_uri": "https://localhost:8080/",
     "height": 34
    },
    "colab_type": "code",
    "id": "y1nPMoblnTvC",
    "outputId": "597be991-9b0d-493b-c9bc-3f809a891f36"
   },
   "outputs": [
    {
     "data": {
      "text/plain": [
       "44.47981783439487"
      ]
     },
     "execution_count": 105,
     "metadata": {
      "tags": []
     },
     "output_type": "execute_result"
    }
   ],
   "source": [
    "df_titanic[df_titanic['Sex']=='female']['Fare'].mean()"
   ]
  },
  {
   "cell_type": "code",
   "execution_count": 106,
   "metadata": {
    "colab": {
     "base_uri": "https://localhost:8080/",
     "height": 34
    },
    "colab_type": "code",
    "id": "3dL8rqnjnTvD",
    "outputId": "bdb5dcba-fd1b-411c-a9a3-dac828a13005"
   },
   "outputs": [
    {
     "data": {
      "text/plain": [
       "18177.4125"
      ]
     },
     "execution_count": 106,
     "metadata": {
      "tags": []
     },
     "output_type": "execute_result"
    }
   ],
   "source": [
    "df_titanic[df_titanic['Pclass']==1]['Fare'].sum()"
   ]
  },
  {
   "cell_type": "code",
   "execution_count": 107,
   "metadata": {
    "colab": {
     "base_uri": "https://localhost:8080/",
     "height": 34
    },
    "colab_type": "code",
    "id": "Si2Quj43nTvF",
    "outputId": "d5d437dd-958b-48bc-fb79-2c483eed6526"
   },
   "outputs": [
    {
     "data": {
      "text/plain": [
       "3801.8417"
      ]
     },
     "execution_count": 107,
     "metadata": {
      "tags": []
     },
     "output_type": "execute_result"
    }
   ],
   "source": [
    "df_titanic[df_titanic['Pclass']==2]['Fare'].sum()"
   ]
  },
  {
   "cell_type": "code",
   "execution_count": 108,
   "metadata": {
    "colab": {
     "base_uri": "https://localhost:8080/",
     "height": 34
    },
    "colab_type": "code",
    "id": "3EuS919nnTvG",
    "outputId": "7b19b5c6-18b1-4d4b-d359-c4c9ca107ffe"
   },
   "outputs": [
    {
     "data": {
      "text/plain": [
       "6714.6951"
      ]
     },
     "execution_count": 108,
     "metadata": {
      "tags": []
     },
     "output_type": "execute_result"
    }
   ],
   "source": [
    "df_titanic[df_titanic['Pclass']==3]['Fare'].sum()"
   ]
  },
  {
   "cell_type": "code",
   "execution_count": 109,
   "metadata": {
    "colab": {
     "base_uri": "https://localhost:8080/",
     "height": 85
    },
    "colab_type": "code",
    "id": "Odi_DqdxnTvH",
    "outputId": "5caf0df9-a5d4-4805-dd8e-5c6aad4d3a4b"
   },
   "outputs": [
    {
     "data": {
      "text/plain": [
       "3    491\n",
       "1    216\n",
       "2    184\n",
       "Name: Pclass, dtype: int64"
      ]
     },
     "execution_count": 109,
     "metadata": {
      "tags": []
     },
     "output_type": "execute_result"
    }
   ],
   "source": [
    "df_titanic['Pclass'].value_counts()"
   ]
  },
  {
   "cell_type": "markdown",
   "metadata": {
    "colab_type": "text",
    "id": "4V6PDsdcnTvJ"
   },
   "source": [
    "## Ordenar por columnas y limitar la cantidad de resultados"
   ]
  },
  {
   "cell_type": "markdown",
   "metadata": {
    "colab_type": "text",
    "id": "-o5XilSsnTvJ"
   },
   "source": [
    "Otra forma de resolver el problema de encontrar el mayor y el menos es con el método sort_values. Este método puede recibir un valor único (nombre de columna) o una lista (con varias columnas) y un orden asc o desc. Por default el orden es asc.\n",
    "\n",
    "Si combinamos el ordenamiento con el método head() para limitar la cantidad de resultados, podemos encontrar los N primeros. "
   ]
  },
  {
   "cell_type": "code",
   "execution_count": null,
   "metadata": {
    "colab": {},
    "colab_type": "code",
    "id": "ZiV8FAPTnTvJ"
   },
   "outputs": [],
   "source": [
    "# Recordemos cómo abrir la documentación de un método\n",
    "df.sort_values?"
   ]
  },
  {
   "cell_type": "code",
   "execution_count": 84,
   "metadata": {
    "colab": {
     "base_uri": "https://localhost:8080/",
     "height": 97
    },
    "colab_type": "code",
    "id": "_MoHQMhbnTvM",
    "outputId": "2569d521-8659-40f9-f8b1-897667a391e6"
   },
   "outputs": [
    {
     "data": {
      "text/html": [
       "<div>\n",
       "<style scoped>\n",
       "    .dataframe tbody tr th:only-of-type {\n",
       "        vertical-align: middle;\n",
       "    }\n",
       "\n",
       "    .dataframe tbody tr th {\n",
       "        vertical-align: top;\n",
       "    }\n",
       "\n",
       "    .dataframe thead th {\n",
       "        text-align: right;\n",
       "    }\n",
       "</style>\n",
       "<table border=\"1\" class=\"dataframe\">\n",
       "  <thead>\n",
       "    <tr style=\"text-align: right;\">\n",
       "      <th></th>\n",
       "      <th>cuil</th>\n",
       "      <th>anio</th>\n",
       "      <th>mes</th>\n",
       "      <th>funcionario_apellido</th>\n",
       "      <th>funcionario_nombre</th>\n",
       "      <th>reparticion</th>\n",
       "      <th>asignacion_por_cargo_i</th>\n",
       "      <th>aguinaldo_ii</th>\n",
       "      <th>total_salario_bruto_i_+_ii</th>\n",
       "      <th>observaciones</th>\n",
       "    </tr>\n",
       "  </thead>\n",
       "  <tbody>\n",
       "    <tr>\n",
       "      <th>374</th>\n",
       "      <td>20-13872301-2</td>\n",
       "      <td>2019</td>\n",
       "      <td>12</td>\n",
       "      <td>ASTARLOA</td>\n",
       "      <td>GABRIEL MARIA</td>\n",
       "      <td>Procuración General de la Ciudad de Buenos Aires</td>\n",
       "      <td>275089.75</td>\n",
       "      <td>170855.56</td>\n",
       "      <td>445945.31</td>\n",
       "      <td>NaN</td>\n",
       "    </tr>\n",
       "  </tbody>\n",
       "</table>\n",
       "</div>"
      ],
      "text/plain": [
       "              cuil  anio  ...  total_salario_bruto_i_+_ii observaciones\n",
       "374  20-13872301-2  2019  ...                   445945.31           NaN\n",
       "\n",
       "[1 rows x 10 columns]"
      ]
     },
     "execution_count": 84,
     "metadata": {
      "tags": []
     },
     "output_type": "execute_result"
    }
   ],
   "source": [
    "# Calculamos el máximo\n",
    "df.sort_values('total_salario_bruto_i_+_ii',ascending=False).head(1)"
   ]
  },
  {
   "cell_type": "code",
   "execution_count": 110,
   "metadata": {
    "colab": {
     "base_uri": "https://localhost:8080/",
     "height": 97
    },
    "colab_type": "code",
    "id": "oQNJQZTJnTvO",
    "outputId": "3417f15d-ecd0-4190-87dc-c534c2a5a0d4"
   },
   "outputs": [
    {
     "data": {
      "text/html": [
       "<div>\n",
       "<style scoped>\n",
       "    .dataframe tbody tr th:only-of-type {\n",
       "        vertical-align: middle;\n",
       "    }\n",
       "\n",
       "    .dataframe tbody tr th {\n",
       "        vertical-align: top;\n",
       "    }\n",
       "\n",
       "    .dataframe thead th {\n",
       "        text-align: right;\n",
       "    }\n",
       "</style>\n",
       "<table border=\"1\" class=\"dataframe\">\n",
       "  <thead>\n",
       "    <tr style=\"text-align: right;\">\n",
       "      <th></th>\n",
       "      <th>cuil</th>\n",
       "      <th>anio</th>\n",
       "      <th>mes</th>\n",
       "      <th>funcionario_apellido</th>\n",
       "      <th>funcionario_nombre</th>\n",
       "      <th>reparticion</th>\n",
       "      <th>asignacion_por_cargo_i</th>\n",
       "      <th>aguinaldo_ii</th>\n",
       "      <th>total_salario_bruto_i_+_ii</th>\n",
       "      <th>observaciones</th>\n",
       "    </tr>\n",
       "  </thead>\n",
       "  <tbody>\n",
       "    <tr>\n",
       "      <th>344</th>\n",
       "      <td>27-30744939-6</td>\n",
       "      <td>2019</td>\n",
       "      <td>12</td>\n",
       "      <td>FERRERO</td>\n",
       "      <td>GENOVEVA</td>\n",
       "      <td>SECR Administración de Seguridad y Emergencias</td>\n",
       "      <td>74991.86</td>\n",
       "      <td>110404.68</td>\n",
       "      <td>185396.54</td>\n",
       "      <td>baja al 9/12</td>\n",
       "    </tr>\n",
       "  </tbody>\n",
       "</table>\n",
       "</div>"
      ],
      "text/plain": [
       "              cuil  anio  ...  total_salario_bruto_i_+_ii observaciones\n",
       "344  27-30744939-6  2019  ...                   185396.54  baja al 9/12\n",
       "\n",
       "[1 rows x 10 columns]"
      ]
     },
     "execution_count": 110,
     "metadata": {
      "tags": []
     },
     "output_type": "execute_result"
    }
   ],
   "source": [
    "# Calculamos el mínimo\n",
    "df.sort_values('total_salario_bruto_i_+_ii',ascending=True).head(1)"
   ]
  },
  {
   "cell_type": "markdown",
   "metadata": {
    "colab_type": "text",
    "id": "GNTFTO02nTvR"
   },
   "source": [
    "# Anexo: volviendo al tema de la vectorización\n",
    "\n",
    "¿Por qué es tan importante trabajar con Pandas y no con funciones escritas por nosotros en Python nativo y que procesen los datos dentro de un for loop?\n",
    "\n",
    "Por un lado está la comodidad. Hay mucha funcionalidad que ya está desarrollada en Pandas. Existen funciones que resuelven muchos de los problemas clásicos de manipular datos: agrupar, sumarizar, sacar estadísticas, filtrar, etc. Pero además hay una razón de performance. \n",
    "\n",
    "Veamos una demostración de que vectorizar es más eficiente. Vamos a crear dos listas de 1.000.000 de números aleatorios cada una y vamos a tratar de multiplicar elemento por elemento con pandas y sin pandas:\n",
    "\n"
   ]
  },
  {
   "cell_type": "code",
   "execution_count": 111,
   "metadata": {
    "colab": {},
    "colab_type": "code",
    "id": "zOrmWK3wnTvR"
   },
   "outputs": [],
   "source": [
    "lista1 = list(np.random.randint(1, 100, 1000000))\n",
    "lista2 = list(np.random.randint(1, 100, 1000000))"
   ]
  },
  {
   "cell_type": "code",
   "execution_count": 112,
   "metadata": {
    "colab": {
     "base_uri": "https://localhost:8080/",
     "height": 34
    },
    "colab_type": "code",
    "id": "gmIn_6zVnTvS",
    "outputId": "c86a6e82-2ecd-46d8-ba01-64814d70eea5"
   },
   "outputs": [
    {
     "name": "stdout",
     "output_type": "stream",
     "text": [
      "10 loops, best of 3: 161 ms per loop\n"
     ]
    }
   ],
   "source": [
    "%%timeit \n",
    "for x,y in zip(lista1,lista2):\n",
    "    x * y"
   ]
  },
  {
   "cell_type": "markdown",
   "metadata": {
    "colab_type": "text",
    "id": "ZTIdYWQrnTvU"
   },
   "source": [
    "Ahora probemos hacer lo mismo con dos series de Pandas"
   ]
  },
  {
   "cell_type": "code",
   "execution_count": 113,
   "metadata": {
    "colab": {},
    "colab_type": "code",
    "id": "vVOAVXninTvU"
   },
   "outputs": [],
   "source": [
    "serie1 = pd.Series(lista1)\n",
    "serie2 = pd.Series(lista2)"
   ]
  },
  {
   "cell_type": "code",
   "execution_count": 114,
   "metadata": {
    "colab": {
     "base_uri": "https://localhost:8080/",
     "height": 34
    },
    "colab_type": "code",
    "id": "XhxRXdf2nTvV",
    "outputId": "91fef79f-8655-4e4c-f43b-433059a6fc23"
   },
   "outputs": [
    {
     "name": "stdout",
     "output_type": "stream",
     "text": [
      "1000 loops, best of 3: 1.79 ms per loop\n"
     ]
    }
   ],
   "source": [
    "%%timeit \n",
    "resultado = serie1 * serie2"
   ]
  },
  {
   "cell_type": "markdown",
   "metadata": {
    "colab_type": "text",
    "id": "pH4CHvYwnTvX"
   },
   "source": [
    "Conclusión: la operación vectorizada es <strong> más de 70 veces más rápida.</strong>"
   ]
  },
  {
   "cell_type": "code",
   "execution_count": null,
   "metadata": {
    "colab": {},
    "colab_type": "code",
    "id": "RokRyKm1nTvX"
   },
   "outputs": [],
   "source": []
  }
 ],
 "metadata": {
  "colab": {
   "name": "Indexing.ipynb",
   "provenance": [],
   "toc_visible": true
  },
  "kernelspec": {
   "display_name": "Python 3",
   "language": "python",
   "name": "python3"
  },
  "language_info": {
   "codemirror_mode": {
    "name": "ipython",
    "version": 3
   },
   "file_extension": ".py",
   "mimetype": "text/x-python",
   "name": "python",
   "nbconvert_exporter": "python",
   "pygments_lexer": "ipython3",
   "version": "3.8.0"
  }
 },
 "nbformat": 4,
 "nbformat_minor": 1
}
