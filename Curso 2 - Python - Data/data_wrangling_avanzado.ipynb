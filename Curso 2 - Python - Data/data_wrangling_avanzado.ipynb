{
  "nbformat": 4,
  "nbformat_minor": 0,
  "metadata": {
    "kernelspec": {
      "display_name": "conda_python3",
      "language": "python",
      "name": "conda_python3"
    },
    "language_info": {
      "codemirror_mode": {
        "name": "ipython",
        "version": 3
      },
      "file_extension": ".py",
      "mimetype": "text/x-python",
      "name": "python",
      "nbconvert_exporter": "python",
      "pygments_lexer": "ipython3",
      "version": "3.6.10"
    },
    "colab": {
      "name": "data_wrangling_avanzado.ipynb",
      "provenance": []
    }
  },
  "cells": [
    {
      "cell_type": "markdown",
      "metadata": {
        "id": "nqLCU7yzDj2j",
        "colab_type": "text"
      },
      "source": [
        "<a href=\"https://colab.research.google.com/github/institutohumai/cursos-python/blob/master/AnalisisDeDatos/4_Data_Wrangling_Avanzado/data_wrangling_avanzado.ipynb\"> <img src='https://colab.research.google.com/assets/colab-badge.svg' /> </a>\n",
        "<div align=\"center\"> Recordá abrir en una nueva pestaña </div>"
      ]
    },
    {
      "cell_type": "markdown",
      "metadata": {
        "id": "42lncz8xDj2m",
        "colab_type": "text"
      },
      "source": [
        "# Data Wrangling Avanzado\n"
      ]
    },
    {
      "cell_type": "markdown",
      "metadata": {
        "id": "Jp5JiaL1Dj2o",
        "colab_type": "text"
      },
      "source": [
        "## Tabla de Contenidos\n",
        "\n",
        "I. Data Wrangling Avanzado\n",
        "\n",
        "    I. Tabla de Contenidos\n",
        "\n",
        "II. Table of Contents\n",
        "\n",
        "    I. Introducción\n",
        "    II. Pandas y Cadenas de caracteres\n",
        "        I. count\n",
        "        II. Ejercicio\n",
        "        III. contains\n",
        "        IV. lower, upper y title\n",
        "        V. split\n",
        "\n",
        "III. ¿Cómo organizar la información? OLAP, OLTP y Tidy data\n",
        "\n",
        "    I. OLTP y OLAP\n",
        "    II. Tidy data\n",
        "        I. Tuberculosis\n",
        "            I. Tabla 1\n",
        "            II. Tablas 2.a y 2.b\n",
        "            III. Tabla 3\n",
        "            IV. Tabla 4\n",
        "            V. Tabla 5\n",
        "    III. Melt\n",
        "        I. Ejercicios\n",
        "        II. Ejercicios\n",
        "\n",
        "IV. Series de Tiempo\n",
        "\n",
        "    I. Datetime y metodos de manipulacion de series de tiempo\n",
        "    II. Ventanas y Medias moviles\n",
        "    III. Shift y Diff"
      ]
    },
    {
      "cell_type": "markdown",
      "metadata": {
        "id": "pf8lrfRuDj2r",
        "colab_type": "text"
      },
      "source": [
        "## Introducción\n",
        "\n",
        "En esta clase vamos a ver cómo hacer manejo avanzado de datos a partir, tanto en cadenas de caracteres como en series de tiempo. El primer dataset que vamos a utilizar es del portal de datos abiertos de España."
      ]
    },
    {
      "cell_type": "code",
      "metadata": {
        "id": "DskVLobLDj2v",
        "colab_type": "code",
        "colab": {}
      },
      "source": [
        "# !pip install seaborn\n",
        "# !pip install numpy==1.18.5"
      ],
      "execution_count": 1,
      "outputs": []
    },
    {
      "cell_type": "code",
      "metadata": {
        "id": "C2MRxf52Dj26",
        "colab_type": "code",
        "colab": {}
      },
      "source": [
        "import pandas as pd\n",
        "import numpy as np"
      ],
      "execution_count": 2,
      "outputs": []
    },
    {
      "cell_type": "code",
      "metadata": {
        "id": "npKQNklxDj3E",
        "colab_type": "code",
        "colab": {}
      },
      "source": [
        "df = pd.read_csv('https://datasets-humai.s3.amazonaws.com/datasets/parodesprov.csv')"
      ],
      "execution_count": 4,
      "outputs": []
    },
    {
      "cell_type": "code",
      "metadata": {
        "id": "vaKG8_9GDj3L",
        "colab_type": "code",
        "colab": {
          "base_uri": "https://localhost:8080/",
          "height": 204
        },
        "outputId": "58fcce8a-c8e8-4aae-d312-0d2c8b17b406"
      },
      "source": [
        "df.head()"
      ],
      "execution_count": 5,
      "outputs": [
        {
          "output_type": "execute_result",
          "data": {
            "text/html": [
              "<div>\n",
              "<style scoped>\n",
              "    .dataframe tbody tr th:only-of-type {\n",
              "        vertical-align: middle;\n",
              "    }\n",
              "\n",
              "    .dataframe tbody tr th {\n",
              "        vertical-align: top;\n",
              "    }\n",
              "\n",
              "    .dataframe thead th {\n",
              "        text-align: right;\n",
              "    }\n",
              "</style>\n",
              "<table border=\"1\" class=\"dataframe\">\n",
              "  <thead>\n",
              "    <tr style=\"text-align: right;\">\n",
              "      <th></th>\n",
              "      <th>OBJECTID</th>\n",
              "      <th>Codigo</th>\n",
              "      <th>Texto</th>\n",
              "      <th>Cod_Prov</th>\n",
              "      <th>Cod_CCAA</th>\n",
              "      <th>TotalParoRegistrado</th>\n",
              "      <th>PAD_1C02</th>\n",
              "      <th>PAD_1_COD_PROV</th>\n",
              "      <th>PAD_1_COD_CCAA</th>\n",
              "      <th>Shape__Area</th>\n",
              "      <th>Shape__Length</th>\n",
              "      <th>Codigop</th>\n",
              "    </tr>\n",
              "  </thead>\n",
              "  <tbody>\n",
              "    <tr>\n",
              "      <th>0</th>\n",
              "      <td>1</td>\n",
              "      <td>1001</td>\n",
              "      <td>Alegría-Dulantzi</td>\n",
              "      <td>1</td>\n",
              "      <td>16</td>\n",
              "      <td>184.0</td>\n",
              "      <td>2856.0</td>\n",
              "      <td>Araba/Álava</td>\n",
              "      <td>16.0</td>\n",
              "      <td>3.709269e+07</td>\n",
              "      <td>48191.568537</td>\n",
              "      <td>1.0</td>\n",
              "    </tr>\n",
              "    <tr>\n",
              "      <th>1</th>\n",
              "      <td>2</td>\n",
              "      <td>1002</td>\n",
              "      <td>Amurrio</td>\n",
              "      <td>1</td>\n",
              "      <td>16</td>\n",
              "      <td>766.0</td>\n",
              "      <td>10260.0</td>\n",
              "      <td>Araba/Álava</td>\n",
              "      <td>16.0</td>\n",
              "      <td>1.799114e+08</td>\n",
              "      <td>90623.621986</td>\n",
              "      <td>1.0</td>\n",
              "    </tr>\n",
              "    <tr>\n",
              "      <th>2</th>\n",
              "      <td>3</td>\n",
              "      <td>1003</td>\n",
              "      <td>Aramaio</td>\n",
              "      <td>1</td>\n",
              "      <td>16</td>\n",
              "      <td>18.0</td>\n",
              "      <td>1502.0</td>\n",
              "      <td>Araba/Álava</td>\n",
              "      <td>16.0</td>\n",
              "      <td>1.377066e+08</td>\n",
              "      <td>58592.914048</td>\n",
              "      <td>1.0</td>\n",
              "    </tr>\n",
              "    <tr>\n",
              "      <th>3</th>\n",
              "      <td>4</td>\n",
              "      <td>1004</td>\n",
              "      <td>Artziniega</td>\n",
              "      <td>1</td>\n",
              "      <td>16</td>\n",
              "      <td>110.0</td>\n",
              "      <td>1840.0</td>\n",
              "      <td>Araba/Álava</td>\n",
              "      <td>16.0</td>\n",
              "      <td>5.130078e+07</td>\n",
              "      <td>31498.524044</td>\n",
              "      <td>1.0</td>\n",
              "    </tr>\n",
              "    <tr>\n",
              "      <th>4</th>\n",
              "      <td>5</td>\n",
              "      <td>1006</td>\n",
              "      <td>Armiñón</td>\n",
              "      <td>1</td>\n",
              "      <td>16</td>\n",
              "      <td>12.0</td>\n",
              "      <td>234.0</td>\n",
              "      <td>Araba/Álava</td>\n",
              "      <td>16.0</td>\n",
              "      <td>2.380288e+07</td>\n",
              "      <td>33293.805036</td>\n",
              "      <td>1.0</td>\n",
              "    </tr>\n",
              "  </tbody>\n",
              "</table>\n",
              "</div>"
            ],
            "text/plain": [
              "   OBJECTID  Codigo             Texto  ...   Shape__Area  Shape__Length  Codigop\n",
              "0         1    1001  Alegría-Dulantzi  ...  3.709269e+07   48191.568537      1.0\n",
              "1         2    1002           Amurrio  ...  1.799114e+08   90623.621986      1.0\n",
              "2         3    1003           Aramaio  ...  1.377066e+08   58592.914048      1.0\n",
              "3         4    1004        Artziniega  ...  5.130078e+07   31498.524044      1.0\n",
              "4         5    1006           Armiñón  ...  2.380288e+07   33293.805036      1.0\n",
              "\n",
              "[5 rows x 12 columns]"
            ]
          },
          "metadata": {
            "tags": []
          },
          "execution_count": 5
        }
      ]
    },
    {
      "cell_type": "markdown",
      "metadata": {
        "id": "I7AjDGujDj3W",
        "colab_type": "text"
      },
      "source": [
        "Generalmente cuando en un dataset encontramos campos de texto es recomendable analizar si la carga se hizo con un buen criterio y no hay errores en la carga. Vamos a prestar atención a los campos Texto y PAD_1_COD_PROV."
      ]
    },
    {
      "cell_type": "code",
      "metadata": {
        "id": "qx39vFflDj3X",
        "colab_type": "code",
        "colab": {
          "base_uri": "https://localhost:8080/",
          "height": 119
        },
        "outputId": "d3dd8632-cc50-4c3b-d022-01977c9c2f95"
      },
      "source": [
        "df[\"Texto\"].head()"
      ],
      "execution_count": 6,
      "outputs": [
        {
          "output_type": "execute_result",
          "data": {
            "text/plain": [
              "0    Alegría-Dulantzi\n",
              "1             Amurrio\n",
              "2             Aramaio\n",
              "3          Artziniega\n",
              "4             Armiñón\n",
              "Name: Texto, dtype: object"
            ]
          },
          "metadata": {
            "tags": []
          },
          "execution_count": 6
        }
      ]
    },
    {
      "cell_type": "markdown",
      "metadata": {
        "id": "ORz-m68FDj3f",
        "colab_type": "text"
      },
      "source": [
        "Noten que el primer valor incluye un \"-\" como separador"
      ]
    },
    {
      "cell_type": "markdown",
      "metadata": {
        "id": "ART6jjpzDj3h",
        "colab_type": "text"
      },
      "source": [
        "Vamos a comenzar eliminando las filas que tienen null el campo Texto, para facilitar el análisis posterior."
      ]
    },
    {
      "cell_type": "code",
      "metadata": {
        "id": "I9pfct8tGG6j",
        "colab_type": "code",
        "colab": {
          "base_uri": "https://localhost:8080/",
          "height": 221
        },
        "outputId": "f5de10a8-0ff6-4d33-b28d-116691ff7c2d"
      },
      "source": [
        "df[\"Texto\"].isnull()"
      ],
      "execution_count": 7,
      "outputs": [
        {
          "output_type": "execute_result",
          "data": {
            "text/plain": [
              "0        False\n",
              "1        False\n",
              "2        False\n",
              "3        False\n",
              "4        False\n",
              "         ...  \n",
              "16334    False\n",
              "16335    False\n",
              "16336    False\n",
              "16337    False\n",
              "16338    False\n",
              "Name: Texto, Length: 16339, dtype: bool"
            ]
          },
          "metadata": {
            "tags": []
          },
          "execution_count": 7
        }
      ]
    },
    {
      "cell_type": "code",
      "metadata": {
        "id": "j-UjKFJDDj3i",
        "colab_type": "code",
        "colab": {}
      },
      "source": [
        "df = df[df[\"Texto\"].notnull()]\n",
        "df = df[~df[\"Texto\"].isnull()]"
      ],
      "execution_count": 8,
      "outputs": []
    },
    {
      "cell_type": "markdown",
      "metadata": {
        "id": "-12oaMfCDj3s",
        "colab_type": "text"
      },
      "source": [
        "## Pandas y Cadenas de caracteres\n",
        "\n",
        "Cuando una pd.Series es de tipo object Pandas permite acceder a métodos para operar sobre strings llamando al método **.str**."
      ]
    },
    {
      "cell_type": "markdown",
      "metadata": {
        "id": "53kZu82rDj3u",
        "colab_type": "text"
      },
      "source": [
        "### count\n",
        "\n",
        "El método **.str.count()** permite contar cuántas ocurrencias de un patrón hay en una Series. Para ello se puede pasar una regex. Las regex o expresiones regulares son una cadena de caracteres que define una búsqueda de un patrón. En esta clase no vamos a ahondar en regex pero sí podemos mencionar que:\n",
        "- Si pasamos un carácter en particular nos va a matchear cuántas veces aparece.\n",
        "- El carácter . funcion como comodín, con lo cual cualquier caracter va a matchear."
      ]
    },
    {
      "cell_type": "markdown",
      "metadata": {
        "id": "anveo7zlDj3x",
        "colab_type": "text"
      },
      "source": [
        "Entonces, si queremos saber cuántas veces aparece el símbolo \"-\" en cada término podemos hacer:"
      ]
    },
    {
      "cell_type": "code",
      "metadata": {
        "id": "UZbJ7j-GDj3y",
        "colab_type": "code",
        "colab": {
          "base_uri": "https://localhost:8080/",
          "height": 119
        },
        "outputId": "8f19c8d8-0812-459d-9895-98955a3da4b5"
      },
      "source": [
        "df[\"Texto\"].str.count(\"-\").head()"
      ],
      "execution_count": 9,
      "outputs": [
        {
          "output_type": "execute_result",
          "data": {
            "text/plain": [
              "0    1\n",
              "1    0\n",
              "2    0\n",
              "3    0\n",
              "4    0\n",
              "Name: Texto, dtype: int64"
            ]
          },
          "metadata": {
            "tags": []
          },
          "execution_count": 9
        }
      ]
    },
    {
      "cell_type": "markdown",
      "metadata": {
        "id": "v4CwdpUaDj35",
        "colab_type": "text"
      },
      "source": [
        "Ahora, nos llama la atención que el símbolo \"-\" aparece en la primera fila, ¿será algo común?"
      ]
    },
    {
      "cell_type": "code",
      "metadata": {
        "id": "Sp9YZd5DDj37",
        "colab_type": "code",
        "colab": {
          "base_uri": "https://localhost:8080/",
          "height": 85
        },
        "outputId": "2db62dfc-196a-4df4-9768-8b1b085a0425"
      },
      "source": [
        "df[\"Texto\"].str.count(\"-\").value_counts()"
      ],
      "execution_count": 10,
      "outputs": [
        {
          "output_type": "execute_result",
          "data": {
            "text/plain": [
              "0    16009\n",
              "1      222\n",
              "2        4\n",
              "Name: Texto, dtype: int64"
            ]
          },
          "metadata": {
            "tags": []
          },
          "execution_count": 10
        }
      ]
    },
    {
      "cell_type": "code",
      "metadata": {
        "id": "GtSj-K3fM6VY",
        "colab_type": "code",
        "colab": {
          "base_uri": "https://localhost:8080/",
          "height": 748
        },
        "outputId": "ffa6872a-f869-4b88-8ff1-324a23bd150e"
      },
      "source": [
        "df[\"Texto\"].str.len().value_counts()"
      ],
      "execution_count": 40,
      "outputs": [
        {
          "output_type": "execute_result",
          "data": {
            "text/plain": [
              "7     1672\n",
              "8     1502\n",
              "9     1399\n",
              "6     1321\n",
              "10    1109\n",
              "5      962\n",
              "11     806\n",
              "18     682\n",
              "19     674\n",
              "20     665\n",
              "17     617\n",
              "21     592\n",
              "12     553\n",
              "16     510\n",
              "13     462\n",
              "22     445\n",
              "15     432\n",
              "14     394\n",
              "4      382\n",
              "23     329\n",
              "24     260\n",
              "25     106\n",
              "26      88\n",
              "27      83\n",
              "3       62\n",
              "28      30\n",
              "29      26\n",
              "30      18\n",
              "34       8\n",
              "32       8\n",
              "36       6\n",
              "31       6\n",
              "35       4\n",
              "42       4\n",
              "43       4\n",
              "33       2\n",
              "41       2\n",
              "2        2\n",
              "40       2\n",
              "44       2\n",
              "38       2\n",
              "47       2\n",
              "Name: Texto, dtype: int64"
            ]
          },
          "metadata": {
            "tags": []
          },
          "execution_count": 40
        }
      ]
    },
    {
      "cell_type": "markdown",
      "metadata": {
        "id": "mp1KYct-Dj4D",
        "colab_type": "text"
      },
      "source": [
        "### Ejercicio\n",
        "\n",
        "1- Ver los casos que tiene 2 \"-\" en el nombre."
      ]
    },
    {
      "cell_type": "code",
      "metadata": {
        "id": "lYV5WeArDj4E",
        "colab_type": "code",
        "colab": {
          "base_uri": "https://localhost:8080/",
          "height": 173
        },
        "outputId": "ae9e9d06-7e57-49c4-f7ca-a5ac0ef6a318"
      },
      "source": [
        "df[df[\"Texto\"].str.count(\"-\")==2]"
      ],
      "execution_count": 11,
      "outputs": [
        {
          "output_type": "execute_result",
          "data": {
            "text/html": [
              "<div>\n",
              "<style scoped>\n",
              "    .dataframe tbody tr th:only-of-type {\n",
              "        vertical-align: middle;\n",
              "    }\n",
              "\n",
              "    .dataframe tbody tr th {\n",
              "        vertical-align: top;\n",
              "    }\n",
              "\n",
              "    .dataframe thead th {\n",
              "        text-align: right;\n",
              "    }\n",
              "</style>\n",
              "<table border=\"1\" class=\"dataframe\">\n",
              "  <thead>\n",
              "    <tr style=\"text-align: right;\">\n",
              "      <th></th>\n",
              "      <th>OBJECTID</th>\n",
              "      <th>Codigo</th>\n",
              "      <th>Texto</th>\n",
              "      <th>Cod_Prov</th>\n",
              "      <th>Cod_CCAA</th>\n",
              "      <th>TotalParoRegistrado</th>\n",
              "      <th>PAD_1C02</th>\n",
              "      <th>PAD_1_COD_PROV</th>\n",
              "      <th>PAD_1_COD_CCAA</th>\n",
              "      <th>Shape__Area</th>\n",
              "      <th>Shape__Length</th>\n",
              "      <th>Codigop</th>\n",
              "    </tr>\n",
              "  </thead>\n",
              "  <tbody>\n",
              "    <tr>\n",
              "      <th>4460</th>\n",
              "      <td>4461</td>\n",
              "      <td>28901</td>\n",
              "      <td>Lozoyuela-Navas-Sieteiglesias</td>\n",
              "      <td>28</td>\n",
              "      <td>13</td>\n",
              "      <td>82.0</td>\n",
              "      <td>1210.0</td>\n",
              "      <td>Madrid</td>\n",
              "      <td>13.0</td>\n",
              "      <td>9.022504e+07</td>\n",
              "      <td>41743.297851</td>\n",
              "      <td>28.0</td>\n",
              "    </tr>\n",
              "    <tr>\n",
              "      <th>4809</th>\n",
              "      <td>4810</td>\n",
              "      <td>31199</td>\n",
              "      <td>Oroz-Betelu/Orotz-Betelu</td>\n",
              "      <td>31</td>\n",
              "      <td>15</td>\n",
              "      <td>6.0</td>\n",
              "      <td>153.0</td>\n",
              "      <td>Navarra</td>\n",
              "      <td>15.0</td>\n",
              "      <td>4.376475e+07</td>\n",
              "      <td>30033.101103</td>\n",
              "      <td>31.0</td>\n",
              "    </tr>\n",
              "    <tr>\n",
              "      <th>12630</th>\n",
              "      <td>12631</td>\n",
              "      <td>28901</td>\n",
              "      <td>Lozoyuela-Navas-Sieteiglesias</td>\n",
              "      <td>28</td>\n",
              "      <td>13</td>\n",
              "      <td>82.0</td>\n",
              "      <td>1237.0</td>\n",
              "      <td>NaN</td>\n",
              "      <td>NaN</td>\n",
              "      <td>9.022504e+07</td>\n",
              "      <td>41743.297139</td>\n",
              "      <td>NaN</td>\n",
              "    </tr>\n",
              "    <tr>\n",
              "      <th>12979</th>\n",
              "      <td>12980</td>\n",
              "      <td>31199</td>\n",
              "      <td>Oroz-Betelu/Orotz-Betelu</td>\n",
              "      <td>31</td>\n",
              "      <td>15</td>\n",
              "      <td>6.0</td>\n",
              "      <td>149.0</td>\n",
              "      <td>NaN</td>\n",
              "      <td>NaN</td>\n",
              "      <td>4.376475e+07</td>\n",
              "      <td>30033.100830</td>\n",
              "      <td>NaN</td>\n",
              "    </tr>\n",
              "  </tbody>\n",
              "</table>\n",
              "</div>"
            ],
            "text/plain": [
              "       OBJECTID  Codigo  ... Shape__Length  Codigop\n",
              "4460       4461   28901  ...  41743.297851     28.0\n",
              "4809       4810   31199  ...  30033.101103     31.0\n",
              "12630     12631   28901  ...  41743.297139      NaN\n",
              "12979     12980   31199  ...  30033.100830      NaN\n",
              "\n",
              "[4 rows x 12 columns]"
            ]
          },
          "metadata": {
            "tags": []
          },
          "execution_count": 11
        }
      ]
    },
    {
      "cell_type": "markdown",
      "metadata": {
        "id": "qUkvJITADj4M",
        "colab_type": "text"
      },
      "source": [
        "2- Graficar un histograma con la cantidad de caracteres en la columna Texto usando contains. Tip: pueden usar el método .hist."
      ]
    },
    {
      "cell_type": "code",
      "metadata": {
        "id": "9o-yGixgDj4N",
        "colab_type": "code",
        "colab": {}
      },
      "source": [
        "import matplotlib.pyplot as plt\n",
        "%matplotlib inline"
      ],
      "execution_count": 12,
      "outputs": []
    },
    {
      "cell_type": "code",
      "metadata": {
        "id": "ZXm1QOGADj4a",
        "colab_type": "code",
        "colab": {
          "base_uri": "https://localhost:8080/",
          "height": 282
        },
        "outputId": "16fa98d3-ea3e-4f39-9e1c-429046d1a2dd"
      },
      "source": [
        "bin_values = np.arange(start=0, stop=50, step=1)\n",
        "df[\"Texto\"].str.len().hist()"
      ],
      "execution_count": 44,
      "outputs": [
        {
          "output_type": "execute_result",
          "data": {
            "text/plain": [
              "<matplotlib.axes._subplots.AxesSubplot at 0x7f50bd49d240>"
            ]
          },
          "metadata": {
            "tags": []
          },
          "execution_count": 44
        },
        {
          "output_type": "display_data",
          "data": {
            "image/png": "[encoded data removed]",
            "text/plain": [
              "<Figure size 432x288 with 1 Axes>"
            ]
          },
          "metadata": {
            "tags": [],
            "needs_background": "light"
          }
        }
      ]
    },
    {
      "cell_type": "markdown",
      "metadata": {
        "id": "Khf1H-s_Dj4j",
        "colab_type": "text"
      },
      "source": [
        "3- Mostrar que el resultado obtenido en el ejercicio anterior equivale a aplicar **.str.len()**. Para ello usen el método **pd.Series.equals()** y comparen el método usado en el ejercicio anterior con aplicar .str.len()"
      ]
    },
    {
      "cell_type": "code",
      "metadata": {
        "id": "MLMztfj3Dj4k",
        "colab_type": "code",
        "colab": {}
      },
      "source": [
        ""
      ],
      "execution_count": null,
      "outputs": []
    },
    {
      "cell_type": "markdown",
      "metadata": {
        "id": "bulqthWmDj4r",
        "colab_type": "text"
      },
      "source": [
        "### contains"
      ]
    },
    {
      "cell_type": "markdown",
      "metadata": {
        "id": "j9KcQx_QDj4t",
        "colab_type": "text"
      },
      "source": [
        "Digamos que queremos encontrar nombres de ciudades vascas. Para ello sabemos que \"herri\" en Euskera significa lugar, con lo que esperamos encontrar \"erri\" en una gran cantidad de ciudades. Vamos a filtrar trayendo solamente las ciudades que incluyen \"erri\" dentro de su nombre con el método **.str.contains**."
      ]
    },
    {
      "cell_type": "code",
      "metadata": {
        "id": "Nm-KEB4NDj4v",
        "colab_type": "code",
        "colab": {
          "base_uri": "https://localhost:8080/",
          "height": 204
        },
        "outputId": "5e763a14-99de-4e72-b903-783158000b5d"
      },
      "source": [
        "df[df[\"Texto\"].str.contains(\"erri\",case=False)].head() # case es para considerar mayúsculas y minúsculas o no"
      ],
      "execution_count": 45,
      "outputs": [
        {
          "output_type": "execute_result",
          "data": {
            "text/html": [
              "<div>\n",
              "<style scoped>\n",
              "    .dataframe tbody tr th:only-of-type {\n",
              "        vertical-align: middle;\n",
              "    }\n",
              "\n",
              "    .dataframe tbody tr th {\n",
              "        vertical-align: top;\n",
              "    }\n",
              "\n",
              "    .dataframe thead th {\n",
              "        text-align: right;\n",
              "    }\n",
              "</style>\n",
              "<table border=\"1\" class=\"dataframe\">\n",
              "  <thead>\n",
              "    <tr style=\"text-align: right;\">\n",
              "      <th></th>\n",
              "      <th>OBJECTID</th>\n",
              "      <th>Codigo</th>\n",
              "      <th>Texto</th>\n",
              "      <th>Cod_Prov</th>\n",
              "      <th>Cod_CCAA</th>\n",
              "      <th>TotalParoRegistrado</th>\n",
              "      <th>PAD_1C02</th>\n",
              "      <th>PAD_1_COD_PROV</th>\n",
              "      <th>PAD_1_COD_CCAA</th>\n",
              "      <th>Shape__Area</th>\n",
              "      <th>Shape__Length</th>\n",
              "      <th>Codigop</th>\n",
              "      <th>nombre_1</th>\n",
              "      <th>nombre_2</th>\n",
              "    </tr>\n",
              "  </thead>\n",
              "  <tbody>\n",
              "    <tr>\n",
              "      <th>33</th>\n",
              "      <td>34</td>\n",
              "      <td>1046</td>\n",
              "      <td>Erriberagoitia/Ribera Alta</td>\n",
              "      <td>1</td>\n",
              "      <td>16</td>\n",
              "      <td>26.0</td>\n",
              "      <td>745.0</td>\n",
              "      <td>Araba/Álava</td>\n",
              "      <td>16.0</td>\n",
              "      <td>2.227260e+08</td>\n",
              "      <td>114217.030007</td>\n",
              "      <td>1.0</td>\n",
              "      <td>Erriberagoitia</td>\n",
              "      <td>Ribera Alta</td>\n",
              "    </tr>\n",
              "    <tr>\n",
              "      <th>34</th>\n",
              "      <td>35</td>\n",
              "      <td>1047</td>\n",
              "      <td>Ribera Baja/Erribera Beitia</td>\n",
              "      <td>1</td>\n",
              "      <td>16</td>\n",
              "      <td>72.0</td>\n",
              "      <td>1353.0</td>\n",
              "      <td>Araba/Álava</td>\n",
              "      <td>16.0</td>\n",
              "      <td>4.706702e+07</td>\n",
              "      <td>42082.113185</td>\n",
              "      <td>1.0</td>\n",
              "      <td>Ribera Baja</td>\n",
              "      <td>Erribera Beitia</td>\n",
              "    </tr>\n",
              "    <tr>\n",
              "      <th>162</th>\n",
              "      <td>163</td>\n",
              "      <td>3025</td>\n",
              "      <td>Benferri</td>\n",
              "      <td>3</td>\n",
              "      <td>10</td>\n",
              "      <td>161.0</td>\n",
              "      <td>1920.0</td>\n",
              "      <td>Alicante/Alacant</td>\n",
              "      <td>10.0</td>\n",
              "      <td>2.002354e+07</td>\n",
              "      <td>21212.706211</td>\n",
              "      <td>3.0</td>\n",
              "      <td>Benferri</td>\n",
              "      <td>None</td>\n",
              "    </tr>\n",
              "    <tr>\n",
              "      <th>2026</th>\n",
              "      <td>2027</td>\n",
              "      <td>13081</td>\n",
              "      <td>Terrinches</td>\n",
              "      <td>13</td>\n",
              "      <td>8</td>\n",
              "      <td>122.0</td>\n",
              "      <td>748.0</td>\n",
              "      <td>Ciudad Real</td>\n",
              "      <td>8.0</td>\n",
              "      <td>9.099513e+07</td>\n",
              "      <td>41739.202048</td>\n",
              "      <td>13.0</td>\n",
              "      <td>Terrinches</td>\n",
              "      <td>None</td>\n",
              "    </tr>\n",
              "    <tr>\n",
              "      <th>2506</th>\n",
              "      <td>2507</td>\n",
              "      <td>17056</td>\n",
              "      <td>Cornellà del Terri</td>\n",
              "      <td>17</td>\n",
              "      <td>9</td>\n",
              "      <td>55.0</td>\n",
              "      <td>2279.0</td>\n",
              "      <td>Girona</td>\n",
              "      <td>9.0</td>\n",
              "      <td>5.058085e+07</td>\n",
              "      <td>38058.585347</td>\n",
              "      <td>17.0</td>\n",
              "      <td>Cornellà del Terri</td>\n",
              "      <td>None</td>\n",
              "    </tr>\n",
              "  </tbody>\n",
              "</table>\n",
              "</div>"
            ],
            "text/plain": [
              "      OBJECTID  Codigo  ...            nombre_1         nombre_2\n",
              "33          34    1046  ...      Erriberagoitia      Ribera Alta\n",
              "34          35    1047  ...         Ribera Baja  Erribera Beitia\n",
              "162        163    3025  ...            Benferri             None\n",
              "2026      2027   13081  ...          Terrinches             None\n",
              "2506      2507   17056  ...  Cornellà del Terri             None\n",
              "\n",
              "[5 rows x 14 columns]"
            ]
          },
          "metadata": {
            "tags": []
          },
          "execution_count": 45
        }
      ]
    },
    {
      "cell_type": "code",
      "metadata": {
        "id": "tkJhr5ahDj40",
        "colab_type": "code",
        "colab": {
          "base_uri": "https://localhost:8080/",
          "height": 34
        },
        "outputId": "764fc0b4-490f-449c-b0ef-3a9d308ac83d"
      },
      "source": [
        "df[df[\"Texto\"].str.contains(\"erri\",case=False)].shape "
      ],
      "execution_count": 16,
      "outputs": [
        {
          "output_type": "execute_result",
          "data": {
            "text/plain": [
              "(48, 12)"
            ]
          },
          "metadata": {
            "tags": []
          },
          "execution_count": 16
        }
      ]
    },
    {
      "cell_type": "markdown",
      "metadata": {
        "id": "jr4FTlZUDj46",
        "colab_type": "text"
      },
      "source": [
        "### lower, upper y title"
      ]
    },
    {
      "cell_type": "markdown",
      "metadata": {
        "id": "uclQEKZrDj47",
        "colab_type": "text"
      },
      "source": [
        "Supongamos que queremos estar seguros que las nombres están estandarizados... podemos elegir pasar todo a minúscula o a mayúscula de la siguiente manera:"
      ]
    },
    {
      "cell_type": "code",
      "metadata": {
        "id": "6R6ahDxlDj48",
        "colab_type": "code",
        "colab": {
          "base_uri": "https://localhost:8080/",
          "height": 119
        },
        "outputId": "825fb5d1-abf2-495c-c3cd-b1567afa9a71"
      },
      "source": [
        "df[\"Texto\"].str.lower().head()"
      ],
      "execution_count": 17,
      "outputs": [
        {
          "output_type": "execute_result",
          "data": {
            "text/plain": [
              "0    alegría-dulantzi\n",
              "1             amurrio\n",
              "2             aramaio\n",
              "3          artziniega\n",
              "4             armiñón\n",
              "Name: Texto, dtype: object"
            ]
          },
          "metadata": {
            "tags": []
          },
          "execution_count": 17
        }
      ]
    },
    {
      "cell_type": "code",
      "metadata": {
        "id": "PCX27bAMDj5C",
        "colab_type": "code",
        "colab": {
          "base_uri": "https://localhost:8080/",
          "height": 119
        },
        "outputId": "7adc2915-accf-4f6c-feaf-3ffdc49e8256"
      },
      "source": [
        "df[\"Texto\"].str.upper().head()"
      ],
      "execution_count": 18,
      "outputs": [
        {
          "output_type": "execute_result",
          "data": {
            "text/plain": [
              "0    ALEGRÍA-DULANTZI\n",
              "1             AMURRIO\n",
              "2             ARAMAIO\n",
              "3          ARTZINIEGA\n",
              "4             ARMIÑÓN\n",
              "Name: Texto, dtype: object"
            ]
          },
          "metadata": {
            "tags": []
          },
          "execution_count": 18
        }
      ]
    },
    {
      "cell_type": "markdown",
      "metadata": {
        "id": "AkymZoRNDj5G",
        "colab_type": "text"
      },
      "source": [
        "También podemos aplicar mayúscula a la primera letra y al resto minúscula, con **.str.title**. Este método toma en consideración espacios o símbolos no alfabéticos. Es decir, va a comenzar con mayúscula los términos después de un espacio, \"-\" o \"/\". Por ejemplo"
      ]
    },
    {
      "cell_type": "code",
      "metadata": {
        "id": "RWxpRmMaDj5H",
        "colab_type": "code",
        "colab": {
          "base_uri": "https://localhost:8080/",
          "height": 102
        },
        "outputId": "64f85cd8-26b5-439a-af35-339b2f387606"
      },
      "source": [
        "df[\"Texto\"][df[\"Texto\"].str.count(\"-\") == 2].str.title()"
      ],
      "execution_count": 19,
      "outputs": [
        {
          "output_type": "execute_result",
          "data": {
            "text/plain": [
              "4460     Lozoyuela-Navas-Sieteiglesias\n",
              "4809          Oroz-Betelu/Orotz-Betelu\n",
              "12630    Lozoyuela-Navas-Sieteiglesias\n",
              "12979         Oroz-Betelu/Orotz-Betelu\n",
              "Name: Texto, dtype: object"
            ]
          },
          "metadata": {
            "tags": []
          },
          "execution_count": 19
        }
      ]
    },
    {
      "cell_type": "markdown",
      "metadata": {
        "id": "ubZAOnp-Dj5N",
        "colab_type": "text"
      },
      "source": [
        "### split"
      ]
    },
    {
      "cell_type": "markdown",
      "metadata": {
        "id": "Og7Mhv_CDj5O",
        "colab_type": "text"
      },
      "source": [
        "En el ejemplo anterior encontramos el uso de \"/\". En este caso se refiere a que el nombre de la ciudad (Oroz-Betelu/Orotz-Betelu) tiene dos nombres oficiales, uno en español y otro en vasco.\n",
        "\n",
        "Supongamos que queremos estandarizar el problema y quedarnos sólo con el nombre que aparece primero, ¿cómo podemos hacerlo?"
      ]
    },
    {
      "cell_type": "markdown",
      "metadata": {
        "id": "LdGRGWR7Dj5P",
        "colab_type": "text"
      },
      "source": [
        "Primero veamos algunos ejemplos otros ejemplos de nombres con \"/\":"
      ]
    },
    {
      "cell_type": "code",
      "metadata": {
        "id": "0JAcH73IDj5R",
        "colab_type": "code",
        "colab": {
          "base_uri": "https://localhost:8080/",
          "height": 833
        },
        "outputId": "5c415cb7-4b26-4f01-f33e-6f24cbb3d9a0"
      },
      "source": [
        "df[\"Texto\"][df[\"Texto\"].str.count(\"/\") > 0].unique()"
      ],
      "execution_count": 26,
      "outputs": [
        {
          "output_type": "execute_result",
          "data": {
            "text/plain": [
              "array(['Ayala/Aiara', 'Baños de Ebro/Mañueta', 'Campezo/Kanpezu',\n",
              "       'Elburgo/Burgelu', 'Elvillar/Bilar', 'Labastida/Bastida',\n",
              "       'Lanciego/Lantziego', 'Laudio/Llodio',\n",
              "       'Moreda de Álava/Moreda Araba', 'Erriberagoitia/Ribera Alta',\n",
              "       'Ribera Baja/Erribera Beitia', 'Salvatierra/Agurain',\n",
              "       'San Millán/Donemiliaga', 'Valdegovía/Gaubea',\n",
              "       'Harana/Valle de Arana', 'Villabuena de Álava/Eskuernaga',\n",
              "       'Yécora/Iekora', 'Iruña Oka/Iruña de Oca', 'Alcoy/Alcoi',\n",
              "       'Alicante/Alacant', 'Benitachell/Poble Nou de Benitatxell, el',\n",
              "       'Campo de Mirra/Camp de Mirra, el', 'Elche/Elx',\n",
              "       'Fondó de les Neus, el/Hondón de las Nieves', 'Jávea/Xàbia',\n",
              "       'Jijona/Xixona', \"Lorcha/Orxa, l'\", 'Monóvar/Monòver',\n",
              "       'Pinós, el/Pinoso',\n",
              "       'San Vicente del Raspeig/Sant Vicent del Raspeig',\n",
              "       'Torremanzanas/Torre de les Maçanes, la',\n",
              "       'Villajoyosa/Vila Joiosa, la', 'Almazora/Almassora',\n",
              "       'Benicasim/Benicàssim', 'Borriana/Burriana',\n",
              "       'Castellón de la Plana/Castelló de la Plana', 'Chilches/Xilxes',\n",
              "       'Chodos/Xodos', 'Oropesa del Mar/Orpesa', 'Peníscola/Peñíscola',\n",
              "       'Sant Jordi/San Jorge', 'Sueras/Suera', 'Useras/Useres, les',\n",
              "       'Villafranca del Cid/Vilafranca', 'Arrasate/Mondragón',\n",
              "       'Donostia/San Sebastián', 'Abárzuza/Abartzuza',\n",
              "       'Abaurregaina/Abaurrea Alta', 'Abaurrepea/Abaurrea Baja',\n",
              "       'Aibar/Oibar', 'Altsasu/Alsasua', 'Allín/Allin', 'Ancín/Antzin',\n",
              "       'Ansoáin/Antsoain', 'Aoiz/Agoitz', 'Aranarache/Aranaratxe',\n",
              "       'Arce/Artzi', 'Atez/Atetz', 'Ayegui/Aiegi', 'Auritz/Burguete',\n",
              "       'Burgui/Burgi', 'Burlada/Burlata', 'Cirauqui/Zirauki',\n",
              "       'Ciriza/Ziritza', 'Noáin (Valle de Elorz)/Noain (Elortzibar)',\n",
              "       'Enériz/Eneritz', 'Ezcároz/Ezkaroze',\n",
              "       'Esparza de Salazar/Espartza Zaraitzu', 'Gallipienzo/Galipentzu',\n",
              "       'Gallués/Galoze', 'Güesa/Gorza', 'Guesálaz/Gesalatz',\n",
              "       'Huarte/Uharte', 'Isaba/Izaba', 'Iza/Itza', 'Izalzu/Itzaltzu',\n",
              "       'Leache/Leatxe', 'Leoz/Leotz', 'Lónguida/Longida', 'Monreal/Elo',\n",
              "       'Navascués/Nabaskoze', 'Ochagavía/Otsagabia', 'Olazti/Olazagutía',\n",
              "       'Olite/Erriberri', 'Olóriz/Oloritz', 'Cendea de Olza/Oltza Zendea',\n",
              "       'Oronz/Orontze', 'Oroz-Betelu/Orotz-Betelu', 'Pamplona/Iruña',\n",
              "       'Peralta/Azkoien', 'Puente la Reina/Gares', 'Roncal/Erronkari',\n",
              "       'Orreaga/Roncesvalles', 'Salinas de Oro/Jaitz', 'Sangüesa/Zangoza',\n",
              "       'Doneztebe/Santesteban', 'Sarriés/Sartze', 'Unzué/Untzue',\n",
              "       'Urdazubi/Urdax', 'Urzainqui/Urzainki', 'Uztárroz/Uztarroze',\n",
              "       'Luzaide/Valcarlos', 'Vidángoz/Bidankoze',\n",
              "       'Hiriberri/Villanueva de Aezkoa', 'Villava/Atarrabia',\n",
              "       'Valle de Yerri/Deierri', 'Zabalza/Zabaltza',\n",
              "       'Berrioplano/Berriobeiti', 'Zizur Mayor/Zizur Nagusia',\n",
              "       'Mogente/Moixent', 'Montitxelvo/Montichelvo', 'Montroi/Montroy',\n",
              "       'Novelé/Novetlè', 'Sagunto/Sagunt', 'Vilallonga/Villalonga',\n",
              "       'Karrantza Harana/Valle de Carranza', 'Urduña/Orduña'],\n",
              "      dtype=object)"
            ]
          },
          "metadata": {
            "tags": []
          },
          "execution_count": 26
        }
      ]
    },
    {
      "cell_type": "markdown",
      "metadata": {
        "id": "9iOvL6fQDj5W",
        "colab_type": "text"
      },
      "source": [
        "Nota: en un primer momento uno podría pensar que en este dataset el primer elemento debería ser siempre el nombre en, por ejemplo, español y el segundo en vasco... Sin embargo, no es así :-S\n",
        "\n",
        "Vamos a usar **.str.split()**, vale la pena mencionar que el método devuelve una lista con un elemento por cada separación que pudo realizar. Para ello recibe como parámetro un string que es un patrón que va a usar, justamente, para dividir la cadena de caracteres. Comúnmente sólo vamos a pasarle un elemento por el cual splitear."
      ]
    },
    {
      "cell_type": "code",
      "metadata": {
        "id": "Mm9WmjrbDj5X",
        "colab_type": "code",
        "colab": {
          "base_uri": "https://localhost:8080/",
          "height": 221
        },
        "outputId": "e9e686db-52bd-429a-f0f6-071635c17257"
      },
      "source": [
        "df[\"Texto\"].str.split() # por default split separa por espacios en blanco"
      ],
      "execution_count": 27,
      "outputs": [
        {
          "output_type": "execute_result",
          "data": {
            "text/plain": [
              "0               [Alegría-Dulantzi]\n",
              "1                        [Amurrio]\n",
              "2                        [Aramaio]\n",
              "3                     [Artziniega]\n",
              "4                        [Armiñón]\n",
              "                   ...            \n",
              "16334                       [Biel]\n",
              "16335                   [Marracos]\n",
              "16336    [Villamayor, de, Gállego]\n",
              "16337                      [Ceuta]\n",
              "16338                    [Melilla]\n",
              "Name: Texto, Length: 16235, dtype: object"
            ]
          },
          "metadata": {
            "tags": []
          },
          "execution_count": 27
        }
      ]
    },
    {
      "cell_type": "markdown",
      "metadata": {
        "id": "kFbtFOXFDj5c",
        "colab_type": "text"
      },
      "source": [
        "Noten en el ejemplo anterior que si devuelve una lista con un solo elemento es que no matcheó y, por lo tanto, no dividió el string."
      ]
    },
    {
      "cell_type": "markdown",
      "metadata": {
        "id": "KEn9NKZ_Dj5d",
        "colab_type": "text"
      },
      "source": [
        "Yendo a nuestro problema, separamos por el caracter '/'. Notar como se transforman los nombres compuestos\n",
        "MUCHO CUIDADO! Nuestros strings ahora son listas!! :o"
      ]
    },
    {
      "cell_type": "code",
      "metadata": {
        "id": "blxbhX3eDj5e",
        "colab_type": "code",
        "colab": {
          "base_uri": "https://localhost:8080/",
          "height": 119
        },
        "outputId": "e3569241-76bb-4b6b-b67c-fbbf767afdcd"
      },
      "source": [
        "df[\"Texto\"].str.split(\"/\").head()"
      ],
      "execution_count": 28,
      "outputs": [
        {
          "output_type": "execute_result",
          "data": {
            "text/plain": [
              "0    [Alegría-Dulantzi]\n",
              "1             [Amurrio]\n",
              "2             [Aramaio]\n",
              "3          [Artziniega]\n",
              "4             [Armiñón]\n",
              "Name: Texto, dtype: object"
            ]
          },
          "metadata": {
            "tags": []
          },
          "execution_count": 28
        }
      ]
    },
    {
      "cell_type": "markdown",
      "metadata": {
        "id": "FOmK3edWDj5l",
        "colab_type": "text"
      },
      "source": [
        "Entonces, nos quedamos con la primera versión del nombre al separar por \"/\""
      ]
    },
    {
      "cell_type": "code",
      "metadata": {
        "id": "hhwsqDLCDj5m",
        "colab_type": "code",
        "colab": {
          "base_uri": "https://localhost:8080/",
          "height": 221
        },
        "outputId": "eb49d0bc-c4e7-4cca-c041-9ca831c3f167"
      },
      "source": [
        "texto_para_split = df[\"Texto\"][df[\"Texto\"].str.count(\"/\") > 0] # guardo en una variable casos con /\n",
        "\n",
        "texto_para_split.str.split(\"/\").apply(lambda x: x[0]) # para indexar las listas tengo que usar apply"
      ],
      "execution_count": 29,
      "outputs": [
        {
          "output_type": "execute_result",
          "data": {
            "text/plain": [
              "7                   Ayala\n",
              "8           Baños de Ebro\n",
              "12                Campezo\n",
              "16                Elburgo\n",
              "18               Elvillar\n",
              "               ...       \n",
              "15372              Novelé\n",
              "15412             Sagunto\n",
              "15447          Vilallonga\n",
              "15705    Karrantza Harana\n",
              "15757              Urduña\n",
              "Name: Texto, Length: 234, dtype: object"
            ]
          },
          "metadata": {
            "tags": []
          },
          "execution_count": 29
        }
      ]
    },
    {
      "cell_type": "markdown",
      "metadata": {
        "id": "LR00Pl18Dj5s",
        "colab_type": "text"
      },
      "source": [
        "Por otra parte, si quisiéramos guardar cada nombre en una columna separada podemos hacerlo usando la opción expand:"
      ]
    },
    {
      "cell_type": "code",
      "metadata": {
        "id": "G8IBtGrhDj5t",
        "colab_type": "code",
        "colab": {
          "base_uri": "https://localhost:8080/",
          "height": 419
        },
        "outputId": "79818e4c-c5de-4348-aa9c-7840e1d0b069"
      },
      "source": [
        "texto_para_split.str.split(\"/\", expand=True)"
      ],
      "execution_count": 30,
      "outputs": [
        {
          "output_type": "execute_result",
          "data": {
            "text/html": [
              "<div>\n",
              "<style scoped>\n",
              "    .dataframe tbody tr th:only-of-type {\n",
              "        vertical-align: middle;\n",
              "    }\n",
              "\n",
              "    .dataframe tbody tr th {\n",
              "        vertical-align: top;\n",
              "    }\n",
              "\n",
              "    .dataframe thead th {\n",
              "        text-align: right;\n",
              "    }\n",
              "</style>\n",
              "<table border=\"1\" class=\"dataframe\">\n",
              "  <thead>\n",
              "    <tr style=\"text-align: right;\">\n",
              "      <th></th>\n",
              "      <th>0</th>\n",
              "      <th>1</th>\n",
              "    </tr>\n",
              "  </thead>\n",
              "  <tbody>\n",
              "    <tr>\n",
              "      <th>7</th>\n",
              "      <td>Ayala</td>\n",
              "      <td>Aiara</td>\n",
              "    </tr>\n",
              "    <tr>\n",
              "      <th>8</th>\n",
              "      <td>Baños de Ebro</td>\n",
              "      <td>Mañueta</td>\n",
              "    </tr>\n",
              "    <tr>\n",
              "      <th>12</th>\n",
              "      <td>Campezo</td>\n",
              "      <td>Kanpezu</td>\n",
              "    </tr>\n",
              "    <tr>\n",
              "      <th>16</th>\n",
              "      <td>Elburgo</td>\n",
              "      <td>Burgelu</td>\n",
              "    </tr>\n",
              "    <tr>\n",
              "      <th>18</th>\n",
              "      <td>Elvillar</td>\n",
              "      <td>Bilar</td>\n",
              "    </tr>\n",
              "    <tr>\n",
              "      <th>...</th>\n",
              "      <td>...</td>\n",
              "      <td>...</td>\n",
              "    </tr>\n",
              "    <tr>\n",
              "      <th>15372</th>\n",
              "      <td>Novelé</td>\n",
              "      <td>Novetlè</td>\n",
              "    </tr>\n",
              "    <tr>\n",
              "      <th>15412</th>\n",
              "      <td>Sagunto</td>\n",
              "      <td>Sagunt</td>\n",
              "    </tr>\n",
              "    <tr>\n",
              "      <th>15447</th>\n",
              "      <td>Vilallonga</td>\n",
              "      <td>Villalonga</td>\n",
              "    </tr>\n",
              "    <tr>\n",
              "      <th>15705</th>\n",
              "      <td>Karrantza Harana</td>\n",
              "      <td>Valle de Carranza</td>\n",
              "    </tr>\n",
              "    <tr>\n",
              "      <th>15757</th>\n",
              "      <td>Urduña</td>\n",
              "      <td>Orduña</td>\n",
              "    </tr>\n",
              "  </tbody>\n",
              "</table>\n",
              "<p>234 rows × 2 columns</p>\n",
              "</div>"
            ],
            "text/plain": [
              "                      0                  1\n",
              "7                 Ayala              Aiara\n",
              "8         Baños de Ebro            Mañueta\n",
              "12              Campezo            Kanpezu\n",
              "16              Elburgo            Burgelu\n",
              "18             Elvillar              Bilar\n",
              "...                 ...                ...\n",
              "15372            Novelé            Novetlè\n",
              "15412           Sagunto             Sagunt\n",
              "15447        Vilallonga         Villalonga\n",
              "15705  Karrantza Harana  Valle de Carranza\n",
              "15757            Urduña             Orduña\n",
              "\n",
              "[234 rows x 2 columns]"
            ]
          },
          "metadata": {
            "tags": []
          },
          "execution_count": 30
        }
      ]
    },
    {
      "cell_type": "markdown",
      "metadata": {
        "id": "SQ7WD8anDj5z",
        "colab_type": "text"
      },
      "source": [
        "Podemos asignar el resultado de expand de la siguiente manera:"
      ]
    },
    {
      "cell_type": "code",
      "metadata": {
        "id": "X5mHuKGsDj5z",
        "colab_type": "code",
        "colab": {}
      },
      "source": [
        "df[[\"nombre_1\", \"nombre_2\"]] = df[\"Texto\"].str.split(\"/\", expand=True) # usamos el df original y expandimos"
      ],
      "execution_count": 31,
      "outputs": []
    },
    {
      "cell_type": "code",
      "metadata": {
        "id": "wGV5NNfmDj54",
        "colab_type": "code",
        "colab": {
          "base_uri": "https://localhost:8080/",
          "height": 204
        },
        "outputId": "2e62a348-8a13-4133-b53d-2c585cbc1ad7"
      },
      "source": [
        "df[[\"nombre_1\", \"nombre_2\"]].head() # vemos que hay nulls que nombre_2 porque tienen un solo nombre"
      ],
      "execution_count": 32,
      "outputs": [
        {
          "output_type": "execute_result",
          "data": {
            "text/html": [
              "<div>\n",
              "<style scoped>\n",
              "    .dataframe tbody tr th:only-of-type {\n",
              "        vertical-align: middle;\n",
              "    }\n",
              "\n",
              "    .dataframe tbody tr th {\n",
              "        vertical-align: top;\n",
              "    }\n",
              "\n",
              "    .dataframe thead th {\n",
              "        text-align: right;\n",
              "    }\n",
              "</style>\n",
              "<table border=\"1\" class=\"dataframe\">\n",
              "  <thead>\n",
              "    <tr style=\"text-align: right;\">\n",
              "      <th></th>\n",
              "      <th>nombre_1</th>\n",
              "      <th>nombre_2</th>\n",
              "    </tr>\n",
              "  </thead>\n",
              "  <tbody>\n",
              "    <tr>\n",
              "      <th>0</th>\n",
              "      <td>Alegría-Dulantzi</td>\n",
              "      <td>None</td>\n",
              "    </tr>\n",
              "    <tr>\n",
              "      <th>1</th>\n",
              "      <td>Amurrio</td>\n",
              "      <td>None</td>\n",
              "    </tr>\n",
              "    <tr>\n",
              "      <th>2</th>\n",
              "      <td>Aramaio</td>\n",
              "      <td>None</td>\n",
              "    </tr>\n",
              "    <tr>\n",
              "      <th>3</th>\n",
              "      <td>Artziniega</td>\n",
              "      <td>None</td>\n",
              "    </tr>\n",
              "    <tr>\n",
              "      <th>4</th>\n",
              "      <td>Armiñón</td>\n",
              "      <td>None</td>\n",
              "    </tr>\n",
              "  </tbody>\n",
              "</table>\n",
              "</div>"
            ],
            "text/plain": [
              "           nombre_1 nombre_2\n",
              "0  Alegría-Dulantzi     None\n",
              "1           Amurrio     None\n",
              "2           Aramaio     None\n",
              "3        Artziniega     None\n",
              "4           Armiñón     None"
            ]
          },
          "metadata": {
            "tags": []
          },
          "execution_count": 32
        }
      ]
    },
    {
      "cell_type": "code",
      "metadata": {
        "id": "cUnRRZ_3Dj59",
        "colab_type": "code",
        "colab": {
          "base_uri": "https://localhost:8080/",
          "height": 204
        },
        "outputId": "59fba679-0814-4981-8a63-7c35b7991b5f"
      },
      "source": [
        "df.loc[~df[\"nombre_2\"].isnull(), [\"nombre_1\", \"nombre_2\"]].head() # noten el filtro booleano"
      ],
      "execution_count": 33,
      "outputs": [
        {
          "output_type": "execute_result",
          "data": {
            "text/html": [
              "<div>\n",
              "<style scoped>\n",
              "    .dataframe tbody tr th:only-of-type {\n",
              "        vertical-align: middle;\n",
              "    }\n",
              "\n",
              "    .dataframe tbody tr th {\n",
              "        vertical-align: top;\n",
              "    }\n",
              "\n",
              "    .dataframe thead th {\n",
              "        text-align: right;\n",
              "    }\n",
              "</style>\n",
              "<table border=\"1\" class=\"dataframe\">\n",
              "  <thead>\n",
              "    <tr style=\"text-align: right;\">\n",
              "      <th></th>\n",
              "      <th>nombre_1</th>\n",
              "      <th>nombre_2</th>\n",
              "    </tr>\n",
              "  </thead>\n",
              "  <tbody>\n",
              "    <tr>\n",
              "      <th>7</th>\n",
              "      <td>Ayala</td>\n",
              "      <td>Aiara</td>\n",
              "    </tr>\n",
              "    <tr>\n",
              "      <th>8</th>\n",
              "      <td>Baños de Ebro</td>\n",
              "      <td>Mañueta</td>\n",
              "    </tr>\n",
              "    <tr>\n",
              "      <th>12</th>\n",
              "      <td>Campezo</td>\n",
              "      <td>Kanpezu</td>\n",
              "    </tr>\n",
              "    <tr>\n",
              "      <th>16</th>\n",
              "      <td>Elburgo</td>\n",
              "      <td>Burgelu</td>\n",
              "    </tr>\n",
              "    <tr>\n",
              "      <th>18</th>\n",
              "      <td>Elvillar</td>\n",
              "      <td>Bilar</td>\n",
              "    </tr>\n",
              "  </tbody>\n",
              "</table>\n",
              "</div>"
            ],
            "text/plain": [
              "         nombre_1 nombre_2\n",
              "7           Ayala    Aiara\n",
              "8   Baños de Ebro  Mañueta\n",
              "12        Campezo  Kanpezu\n",
              "16        Elburgo  Burgelu\n",
              "18       Elvillar    Bilar"
            ]
          },
          "metadata": {
            "tags": []
          },
          "execution_count": 33
        }
      ]
    },
    {
      "cell_type": "markdown",
      "metadata": {
        "id": "KIyVpYKRDj6E",
        "colab_type": "text"
      },
      "source": [
        "# ¿Cómo organizar la información? OLAP, OLTP y Tidy data\n",
        "\n",
        "Existen diversas formas de organizar la información. En general, qué vamos a hacer con la información es clave para entender cómo organizarla. Veamos algunos conceptos habituales a la hora de trabajar con datos."
      ]
    },
    {
      "cell_type": "markdown",
      "metadata": {
        "id": "s4nGJIHGDj6F",
        "colab_type": "text"
      },
      "source": [
        "## OLTP y OLAP"
      ]
    },
    {
      "cell_type": "markdown",
      "metadata": {
        "id": "PY-gpYsnDj6G",
        "colab_type": "text"
      },
      "source": [
        "La sigla OLTP viene de Online transaction processing y se refiere a transacciones que ocurren en tiempo real. Un ejemplo típico son los ATMs (automated teller machine), más conocidos como \"cajeros automáticos\". \n",
        "\n",
        "En este aspecto transacción tiene dos acepciones y ambas son válidas: por un lado, se procesan transacciones en término de bases de datos (que vamos a ver a continuación), por otro lado, se suele aplicar a transacciones económicas en donde se intercambian entidades económicas. \n",
        "\n",
        "Sistemas OLTP son la mayoría de los sistemas tradicionales que conocemos, especialmente los sistemas bancarios. Estos son sistemas transaccionales (en la primera acepción de arriba) porque intentan cumplir 4 objetivos (**ACID**):\n",
        "\n",
        "- Las transacciones son operaciones **atómicas**: se hacen por completo o no se hacen. Imagínense una transferencia bancaria, ésto requiere debitar en una cuenta y acreditar en otra. Si la operación no fuera atómica y fallara podríamos quedarnos en un estado inesperado en el cual se debite de la primera y no se acredite en la segunda. Para evitar ésto, la atomicidad garantiza que si la operación falla en alguna parte del proceso revertimos completamos la operación y no impactamos ningún cambio (hacemos *rollback*).\n",
        "\n",
        "- Toda transacción debe mantener la **consistencia** de la base de datos, es decir, debe respetar una serie de restricciones. Por ejemplo, podemos pensar que para que una tarjeta de crédito sea de extensión de una cuenta esa cuenta debe existir previamente. Otro ejemplo, puede ser que no pueden existir dos cuentas bancarias diferentes con el mismo número.\n",
        "\n",
        "- Además, los sistemas transaccionales (especialmente los sistemas OLTP) requieren garantizar el **aislamiento** de las operaciones. Es común que estos sistemas necesiten resolver miles de operaciones concurrentes (es decir, que suceden en simultáneo), el aislamiento consiste en que esas operaciones dejen en la base de datos el mismo estado que si las operaciones fueran secuenciales (es decir, una por vez). Incluso, si una de esas falla, no debería alterar el resultado.\n",
        "\n",
        "\n",
        "Para ésto, se implementan diferentes algoritmos a fin de asegurar que no se generen errores ni competencias entre usuarios que estan intentando acceder a los mismos registros a la vez."
      ]
    },
    {
      "cell_type": "markdown",
      "metadata": {
        "id": "4zU8w2T1Dj6H",
        "colab_type": "text"
      },
      "source": [
        "OLAP (Online Analytical Processing) por otra parte se refiere a todos los sistemas utilizados para analisis y reportes de negocios (Business Intelligence), en los cuales se realizan diferentes operaciones de agregacion sobre los datos, a fin de proveer a los usuarios con informacion relevante. \n",
        "\n",
        "Las herramientas OLAP permiten realizar análisis multidimensionales, tomando en consideración distintas dimensiones y métricas. En este sentido, está lo que se conoce como \"cubo OLAP\". El cubo OLAP es un array multidimensional que permite analizar la información vista desde distintos ángulos. Por ejemplo, podemos querer ver un reporte financiero por producto, por ciudad, por tiempo, etc. Cada uno de estos términos es una dimensión del análisis.\n",
        "\n",
        "Estos sistemas generalmente requieren procesos de carga y transformaciones masivas que pueden durar horas o días, y permiten presentan la información de un modo tal que el análisis es en tiempo real, no así la información que usa. "
      ]
    },
    {
      "cell_type": "markdown",
      "metadata": {
        "id": "IcpvvWd7Dj6I",
        "colab_type": "text"
      },
      "source": [
        "## Tidy data"
      ]
    },
    {
      "cell_type": "markdown",
      "metadata": {
        "id": "dNtHEN1cDj6J",
        "colab_type": "text"
      },
      "source": [
        "**Tidy data** es un trabajo escrito por Hadley Wickham (de la empresa RStudio) que se ha difundido mucho, especialmente en la comunidad de R, sobre buenas prácticas a la hora de estructurar información tabular. Pueden consultar el trabajo acá: https://vita.had.co.nz/papers/tidy-data.pdf\n",
        "\n",
        "La información tabular consta de **filas** y **columnas**. Las columnas siempre tienen una etiqueta y las filas sólo a veces.\n",
        "\n",
        "Los *datasets* constan de **valores**, éstos pueden ser numéricos o no numéricos . En el caso en que sea un valor numérico representa una cantidad, si no es numérico es una cualidad. Además, los valores miden o caracterizan un determinado atributo (altura, peso, temperatura, etc.). Este atributo se conoce como **variable**. Por último, esa variable se corresponde con una determinada unidad observada. Generalmente llamamos a eso simplemente **observación** (por ejemplo, la persona a la que se le midió la altura).\n",
        "\n",
        "Dicho ésto, Wickham define un dataset *tidy* u ordenado como aquel que cumple la tercera forma normal de bases de datos, pero con un lenguaje más cercano al campo del análisis de datos y pensando en información contenida en una tabla, y no en una base de datos con muchas tablas. Las condiciones son:\n",
        "\n",
        "- Cada variable forma una columna.\n",
        "- Cada observación forma una fila.\n",
        "- Cada tipo de unidad observacional forma una tabla.\n",
        "\n",
        "Además, describe 5 de los errores más comunes a la hora de ordenar la información:\n",
        "\n",
        "- Los nombres de columna en vez de ser nombres de variables son valores\n",
        "- Muchas variables se guardan en una sola columna.\n",
        "- Las variables se guardan tanto en columnas como en filas.\n",
        "- Distintos tipos de unidades observacionales se guardan en una misma tabla.\n",
        "- Una única unidad observacional se almacena en distintas tablas.4"
      ]
    },
    {
      "cell_type": "markdown",
      "metadata": {
        "id": "9S9pF0WkDj6K",
        "colab_type": "text"
      },
      "source": [
        "### Tuberculosis\n",
        "\n",
        "A continuación vamos a ver un dataset de tuberculosis representado de distintas maneras... "
      ]
    },
    {
      "cell_type": "markdown",
      "metadata": {
        "id": "PGlem_z5Dj6L",
        "colab_type": "text"
      },
      "source": [
        "#### Tabla 1\n",
        "\n",
        "En esta primera representación de la información vemos que una misma columna (type) contiene dos variables (cases y population)"
      ]
    },
    {
      "cell_type": "markdown",
      "metadata": {
        "id": "yhoyLgVUDj6M",
        "colab_type": "text"
      },
      "source": [
        "|country|year|type|count|\n",
        "| --- | --- | --- | --- |\n",
        "|Afghanistan|1999|cases|745|\n",
        "|Afghanistan|1999|population|19987071|\n",
        "|Afghanistan|2000|cases|2666|\n",
        "|Afghanistan|2000|population|20595360|\n",
        "|Brazil|1999|cases|37737|\n",
        "|Brazil|1999|population|172006362|"
      ]
    },
    {
      "cell_type": "markdown",
      "metadata": {
        "id": "QyZWISJ1Dj6N",
        "colab_type": "text"
      },
      "source": [
        "#### Tablas 2.a y 2.b\n",
        "En este caso separamos la tabla en dos tablas. Una donde vemosla población y otra donde vemos la cantidad de casos... ¿Cuál es el problema acá?\n",
        "\n",
        "Si bien ésto puede parecer correcto noten que la unidad observacional en realidad es un país en un año determinado... Con lo cual, lo que estamos haciendo acá es tener la misma unidad observacional en dos tablas. Además, los valores de la variable year están como nombres de columnas..."
      ]
    },
    {
      "cell_type": "markdown",
      "metadata": {
        "id": "rjs5ncZ7Dj6O",
        "colab_type": "text"
      },
      "source": [
        "\n",
        "|country|1999|2000|\n",
        "| --- | --- | --- |\n",
        "|Afghanistan|745|2666|\n",
        "|Brazil|37737|80488|\n",
        "|China|212258|213766|"
      ]
    },
    {
      "cell_type": "markdown",
      "metadata": {
        "id": "p-J0MhrfDj6P",
        "colab_type": "text"
      },
      "source": [
        "|country|1999|2000|\n",
        "| --- | --- | --- |\n",
        "|Afghanistan|19987071|20595360|\n",
        "|Brazil|172006362|174504898|\n",
        "|China|1272915272|1280428583|"
      ]
    },
    {
      "cell_type": "markdown",
      "metadata": {
        "id": "P9u0jAgCDj6Q",
        "colab_type": "text"
      },
      "source": [
        "#### Tabla 3\n",
        "\n",
        "En este caso, perdimos las variables cases y population y calculamos un ratio. Si bien ésto cumple con ser \"ordenado\" estamos perdiendo las variables originales."
      ]
    },
    {
      "cell_type": "markdown",
      "metadata": {
        "id": "TDsA3aEUDj6R",
        "colab_type": "text"
      },
      "source": [
        "|country|year|rate|\n",
        "| --- | --- | --- |\n",
        "|Afghanistan|1999|745/19987071|\n",
        "|Afghanistan|2000|2666/20595360|\n",
        "|Brazil|1999|37737/172006362|\n",
        "|Brazil|2000|80488/174504898|\n",
        "|China|1999|212258/1272915272|\n",
        "|China|2000|213766/1280428583|"
      ]
    },
    {
      "cell_type": "markdown",
      "metadata": {
        "id": "c4787KKsDj6S",
        "colab_type": "text"
      },
      "source": [
        "#### Tabla 4\n",
        " \n",
        "En la tabla 4 vemos que la variable *year*, *cases* y *population* se juntaron, con lo cual los valores de *year* pasan a formar parte de los nombres de las columnas."
      ]
    },
    {
      "cell_type": "markdown",
      "metadata": {
        "id": "0btdVxiBDj6T",
        "colab_type": "text"
      },
      "source": [
        "|country|cases_1999|cases_2000|population_1999|population_2000|\n",
        "| --- | --- | --- | --- | --- |\n",
        "|Afghanistan|745|19987071|2666|20595360|\n",
        "|Brazil|37737|172006362|80488|174504898|\n",
        "|China|212258|1272915272|213766|1280428583|"
      ]
    },
    {
      "cell_type": "markdown",
      "metadata": {
        "id": "aOsHw4Z4Dj6U",
        "colab_type": "text"
      },
      "source": [
        "#### Tabla 5\n",
        "\n",
        "Finalmente, la tabla *tidy* es:"
      ]
    },
    {
      "cell_type": "markdown",
      "metadata": {
        "id": "tWIElj9MDj6V",
        "colab_type": "text"
      },
      "source": [
        "|country|year|cases|population|\n",
        "| --- | --- | --- | --- |\n",
        "|Afghanistan|1999|745|19987071|\n",
        "|Afghanistan|2000|2666|20595360|\n",
        "|Brazil|1999|37737|172006362|\n",
        "|Brazil|2000|80488|174504898|\n",
        "|China|1999|212258|1272915272|\n",
        "|China|2000|213766|1280428583|"
      ]
    },
    {
      "cell_type": "markdown",
      "metadata": {
        "id": "_DzjdzgpDj6Y",
        "colab_type": "text"
      },
      "source": [
        "## Melt\n",
        "\n",
        "Una de los métodos más útiles de Pandas para pasar de un formato *wide* o *ancho* como el de la tabla 4 a uno *largo* como el de la tabla 5 es **.melt**.\n",
        "\n",
        "Para aplicar este método vamos a obtener un dataset de Billboard sobre las canciones mas escuchadas del 2000.\n",
        "\n",
        "Vamos a agregar la opcion de encoding para solucionar un problema con los caracteres usados."
      ]
    },
    {
      "cell_type": "code",
      "metadata": {
        "id": "RA7Z1xJLDj6Z",
        "colab_type": "code",
        "colab": {}
      },
      "source": [
        "billboard = pd.read_csv('https://raw.githubusercontent.com/hadley/tidy-data/master/data/billboard.csv', warn_bad_lines=False, error_bad_lines=False, encoding='iso-8859-1')"
      ],
      "execution_count": 47,
      "outputs": []
    },
    {
      "cell_type": "markdown",
      "metadata": {
        "id": "sjYWVtdHDj6f",
        "colab_type": "text"
      },
      "source": [
        "### Ejercicios"
      ]
    },
    {
      "cell_type": "code",
      "metadata": {
        "id": "EzIcUGg4Xdrb",
        "colab_type": "code",
        "colab": {
          "base_uri": "https://localhost:8080/",
          "height": 592
        },
        "outputId": "067f8620-36ea-4f74-a2d7-e7679013db27"
      },
      "source": [
        "billboard"
      ],
      "execution_count": 48,
      "outputs": [
        {
          "output_type": "execute_result",
          "data": {
            "text/html": [
              "<div>\n",
              "<style scoped>\n",
              "    .dataframe tbody tr th:only-of-type {\n",
              "        vertical-align: middle;\n",
              "    }\n",
              "\n",
              "    .dataframe tbody tr th {\n",
              "        vertical-align: top;\n",
              "    }\n",
              "\n",
              "    .dataframe thead th {\n",
              "        text-align: right;\n",
              "    }\n",
              "</style>\n",
              "<table border=\"1\" class=\"dataframe\">\n",
              "  <thead>\n",
              "    <tr style=\"text-align: right;\">\n",
              "      <th></th>\n",
              "      <th>year</th>\n",
              "      <th>artist.inverted</th>\n",
              "      <th>track</th>\n",
              "      <th>time</th>\n",
              "      <th>genre</th>\n",
              "      <th>date.entered</th>\n",
              "      <th>date.peaked</th>\n",
              "      <th>x1st.week</th>\n",
              "      <th>x2nd.week</th>\n",
              "      <th>x3rd.week</th>\n",
              "      <th>x4th.week</th>\n",
              "      <th>x5th.week</th>\n",
              "      <th>x6th.week</th>\n",
              "      <th>x7th.week</th>\n",
              "      <th>x8th.week</th>\n",
              "      <th>x9th.week</th>\n",
              "      <th>x10th.week</th>\n",
              "      <th>x11th.week</th>\n",
              "      <th>x12th.week</th>\n",
              "      <th>x13th.week</th>\n",
              "      <th>x14th.week</th>\n",
              "      <th>x15th.week</th>\n",
              "      <th>x16th.week</th>\n",
              "      <th>x17th.week</th>\n",
              "      <th>x18th.week</th>\n",
              "      <th>x19th.week</th>\n",
              "      <th>x20th.week</th>\n",
              "      <th>x21st.week</th>\n",
              "      <th>x22nd.week</th>\n",
              "      <th>x23rd.week</th>\n",
              "      <th>x24th.week</th>\n",
              "      <th>x25th.week</th>\n",
              "      <th>x26th.week</th>\n",
              "      <th>x27th.week</th>\n",
              "      <th>x28th.week</th>\n",
              "      <th>x29th.week</th>\n",
              "      <th>x30th.week</th>\n",
              "      <th>x31st.week</th>\n",
              "      <th>x32nd.week</th>\n",
              "      <th>x33rd.week</th>\n",
              "      <th>...</th>\n",
              "      <th>x37th.week</th>\n",
              "      <th>x38th.week</th>\n",
              "      <th>x39th.week</th>\n",
              "      <th>x40th.week</th>\n",
              "      <th>x41st.week</th>\n",
              "      <th>x42nd.week</th>\n",
              "      <th>x43rd.week</th>\n",
              "      <th>x44th.week</th>\n",
              "      <th>x45th.week</th>\n",
              "      <th>x46th.week</th>\n",
              "      <th>x47th.week</th>\n",
              "      <th>x48th.week</th>\n",
              "      <th>x49th.week</th>\n",
              "      <th>x50th.week</th>\n",
              "      <th>x51st.week</th>\n",
              "      <th>x52nd.week</th>\n",
              "      <th>x53rd.week</th>\n",
              "      <th>x54th.week</th>\n",
              "      <th>x55th.week</th>\n",
              "      <th>x56th.week</th>\n",
              "      <th>x57th.week</th>\n",
              "      <th>x58th.week</th>\n",
              "      <th>x59th.week</th>\n",
              "      <th>x60th.week</th>\n",
              "      <th>x61st.week</th>\n",
              "      <th>x62nd.week</th>\n",
              "      <th>x63rd.week</th>\n",
              "      <th>x64th.week</th>\n",
              "      <th>x65th.week</th>\n",
              "      <th>x66th.week</th>\n",
              "      <th>x67th.week</th>\n",
              "      <th>x68th.week</th>\n",
              "      <th>x69th.week</th>\n",
              "      <th>x70th.week</th>\n",
              "      <th>x71st.week</th>\n",
              "      <th>x72nd.week</th>\n",
              "      <th>x73rd.week</th>\n",
              "      <th>x74th.week</th>\n",
              "      <th>x75th.week</th>\n",
              "      <th>x76th.week</th>\n",
              "    </tr>\n",
              "  </thead>\n",
              "  <tbody>\n",
              "    <tr>\n",
              "      <th>0</th>\n",
              "      <td>2000</td>\n",
              "      <td>Destiny's Child</td>\n",
              "      <td>Independent Women Part I</td>\n",
              "      <td>3:38</td>\n",
              "      <td>Rock</td>\n",
              "      <td>2000-09-23</td>\n",
              "      <td>2000-11-18</td>\n",
              "      <td>78</td>\n",
              "      <td>63.0</td>\n",
              "      <td>49.0</td>\n",
              "      <td>33.0</td>\n",
              "      <td>23.0</td>\n",
              "      <td>15.0</td>\n",
              "      <td>7.0</td>\n",
              "      <td>5.0</td>\n",
              "      <td>1.0</td>\n",
              "      <td>1.0</td>\n",
              "      <td>1.0</td>\n",
              "      <td>1.0</td>\n",
              "      <td>1.0</td>\n",
              "      <td>1.0</td>\n",
              "      <td>1.0</td>\n",
              "      <td>1.0</td>\n",
              "      <td>1.0</td>\n",
              "      <td>1.0</td>\n",
              "      <td>1.0</td>\n",
              "      <td>2.0</td>\n",
              "      <td>3.0</td>\n",
              "      <td>7.0</td>\n",
              "      <td>10.0</td>\n",
              "      <td>12.0</td>\n",
              "      <td>15.0</td>\n",
              "      <td>22.0</td>\n",
              "      <td>29.0</td>\n",
              "      <td>31.0</td>\n",
              "      <td>NaN</td>\n",
              "      <td>NaN</td>\n",
              "      <td>NaN</td>\n",
              "      <td>NaN</td>\n",
              "      <td>NaN</td>\n",
              "      <td>...</td>\n",
              "      <td>NaN</td>\n",
              "      <td>NaN</td>\n",
              "      <td>NaN</td>\n",
              "      <td>NaN</td>\n",
              "      <td>NaN</td>\n",
              "      <td>NaN</td>\n",
              "      <td>NaN</td>\n",
              "      <td>NaN</td>\n",
              "      <td>NaN</td>\n",
              "      <td>NaN</td>\n",
              "      <td>NaN</td>\n",
              "      <td>NaN</td>\n",
              "      <td>NaN</td>\n",
              "      <td>NaN</td>\n",
              "      <td>NaN</td>\n",
              "      <td>NaN</td>\n",
              "      <td>NaN</td>\n",
              "      <td>NaN</td>\n",
              "      <td>NaN</td>\n",
              "      <td>NaN</td>\n",
              "      <td>NaN</td>\n",
              "      <td>NaN</td>\n",
              "      <td>NaN</td>\n",
              "      <td>NaN</td>\n",
              "      <td>NaN</td>\n",
              "      <td>NaN</td>\n",
              "      <td>NaN</td>\n",
              "      <td>NaN</td>\n",
              "      <td>NaN</td>\n",
              "      <td>NaN</td>\n",
              "      <td>NaN</td>\n",
              "      <td>NaN</td>\n",
              "      <td>NaN</td>\n",
              "      <td>NaN</td>\n",
              "      <td>NaN</td>\n",
              "      <td>NaN</td>\n",
              "      <td>NaN</td>\n",
              "      <td>NaN</td>\n",
              "      <td>NaN</td>\n",
              "      <td>NaN</td>\n",
              "    </tr>\n",
              "    <tr>\n",
              "      <th>1</th>\n",
              "      <td>2000</td>\n",
              "      <td>Santana</td>\n",
              "      <td>Maria, Maria</td>\n",
              "      <td>4:18</td>\n",
              "      <td>Rock</td>\n",
              "      <td>2000-02-12</td>\n",
              "      <td>2000-04-08</td>\n",
              "      <td>15</td>\n",
              "      <td>8.0</td>\n",
              "      <td>6.0</td>\n",
              "      <td>5.0</td>\n",
              "      <td>2.0</td>\n",
              "      <td>3.0</td>\n",
              "      <td>2.0</td>\n",
              "      <td>2.0</td>\n",
              "      <td>1.0</td>\n",
              "      <td>1.0</td>\n",
              "      <td>1.0</td>\n",
              "      <td>1.0</td>\n",
              "      <td>1.0</td>\n",
              "      <td>1.0</td>\n",
              "      <td>1.0</td>\n",
              "      <td>1.0</td>\n",
              "      <td>1.0</td>\n",
              "      <td>1.0</td>\n",
              "      <td>8.0</td>\n",
              "      <td>15.0</td>\n",
              "      <td>19.0</td>\n",
              "      <td>21.0</td>\n",
              "      <td>26.0</td>\n",
              "      <td>36.0</td>\n",
              "      <td>48.0</td>\n",
              "      <td>47.0</td>\n",
              "      <td>NaN</td>\n",
              "      <td>NaN</td>\n",
              "      <td>NaN</td>\n",
              "      <td>NaN</td>\n",
              "      <td>NaN</td>\n",
              "      <td>NaN</td>\n",
              "      <td>NaN</td>\n",
              "      <td>...</td>\n",
              "      <td>NaN</td>\n",
              "      <td>NaN</td>\n",
              "      <td>NaN</td>\n",
              "      <td>NaN</td>\n",
              "      <td>NaN</td>\n",
              "      <td>NaN</td>\n",
              "      <td>NaN</td>\n",
              "      <td>NaN</td>\n",
              "      <td>NaN</td>\n",
              "      <td>NaN</td>\n",
              "      <td>NaN</td>\n",
              "      <td>NaN</td>\n",
              "      <td>NaN</td>\n",
              "      <td>NaN</td>\n",
              "      <td>NaN</td>\n",
              "      <td>NaN</td>\n",
              "      <td>NaN</td>\n",
              "      <td>NaN</td>\n",
              "      <td>NaN</td>\n",
              "      <td>NaN</td>\n",
              "      <td>NaN</td>\n",
              "      <td>NaN</td>\n",
              "      <td>NaN</td>\n",
              "      <td>NaN</td>\n",
              "      <td>NaN</td>\n",
              "      <td>NaN</td>\n",
              "      <td>NaN</td>\n",
              "      <td>NaN</td>\n",
              "      <td>NaN</td>\n",
              "      <td>NaN</td>\n",
              "      <td>NaN</td>\n",
              "      <td>NaN</td>\n",
              "      <td>NaN</td>\n",
              "      <td>NaN</td>\n",
              "      <td>NaN</td>\n",
              "      <td>NaN</td>\n",
              "      <td>NaN</td>\n",
              "      <td>NaN</td>\n",
              "      <td>NaN</td>\n",
              "      <td>NaN</td>\n",
              "    </tr>\n",
              "    <tr>\n",
              "      <th>2</th>\n",
              "      <td>2000</td>\n",
              "      <td>Savage Garden</td>\n",
              "      <td>I Knew I Loved You</td>\n",
              "      <td>4:07</td>\n",
              "      <td>Rock</td>\n",
              "      <td>1999-10-23</td>\n",
              "      <td>2000-01-29</td>\n",
              "      <td>71</td>\n",
              "      <td>48.0</td>\n",
              "      <td>43.0</td>\n",
              "      <td>31.0</td>\n",
              "      <td>20.0</td>\n",
              "      <td>13.0</td>\n",
              "      <td>7.0</td>\n",
              "      <td>6.0</td>\n",
              "      <td>4.0</td>\n",
              "      <td>4.0</td>\n",
              "      <td>4.0</td>\n",
              "      <td>6.0</td>\n",
              "      <td>4.0</td>\n",
              "      <td>2.0</td>\n",
              "      <td>1.0</td>\n",
              "      <td>1.0</td>\n",
              "      <td>1.0</td>\n",
              "      <td>2.0</td>\n",
              "      <td>1.0</td>\n",
              "      <td>2.0</td>\n",
              "      <td>4.0</td>\n",
              "      <td>8.0</td>\n",
              "      <td>8.0</td>\n",
              "      <td>12.0</td>\n",
              "      <td>14.0</td>\n",
              "      <td>17.0</td>\n",
              "      <td>21.0</td>\n",
              "      <td>24.0</td>\n",
              "      <td>30.0</td>\n",
              "      <td>34.0</td>\n",
              "      <td>37.0</td>\n",
              "      <td>46.0</td>\n",
              "      <td>47.0</td>\n",
              "      <td>...</td>\n",
              "      <td>NaN</td>\n",
              "      <td>NaN</td>\n",
              "      <td>NaN</td>\n",
              "      <td>NaN</td>\n",
              "      <td>NaN</td>\n",
              "      <td>NaN</td>\n",
              "      <td>NaN</td>\n",
              "      <td>NaN</td>\n",
              "      <td>NaN</td>\n",
              "      <td>NaN</td>\n",
              "      <td>NaN</td>\n",
              "      <td>NaN</td>\n",
              "      <td>NaN</td>\n",
              "      <td>NaN</td>\n",
              "      <td>NaN</td>\n",
              "      <td>NaN</td>\n",
              "      <td>NaN</td>\n",
              "      <td>NaN</td>\n",
              "      <td>NaN</td>\n",
              "      <td>NaN</td>\n",
              "      <td>NaN</td>\n",
              "      <td>NaN</td>\n",
              "      <td>NaN</td>\n",
              "      <td>NaN</td>\n",
              "      <td>NaN</td>\n",
              "      <td>NaN</td>\n",
              "      <td>NaN</td>\n",
              "      <td>NaN</td>\n",
              "      <td>NaN</td>\n",
              "      <td>NaN</td>\n",
              "      <td>NaN</td>\n",
              "      <td>NaN</td>\n",
              "      <td>NaN</td>\n",
              "      <td>NaN</td>\n",
              "      <td>NaN</td>\n",
              "      <td>NaN</td>\n",
              "      <td>NaN</td>\n",
              "      <td>NaN</td>\n",
              "      <td>NaN</td>\n",
              "      <td>NaN</td>\n",
              "    </tr>\n",
              "    <tr>\n",
              "      <th>3</th>\n",
              "      <td>2000</td>\n",
              "      <td>Madonna</td>\n",
              "      <td>Music</td>\n",
              "      <td>3:45</td>\n",
              "      <td>Rock</td>\n",
              "      <td>2000-08-12</td>\n",
              "      <td>2000-09-16</td>\n",
              "      <td>41</td>\n",
              "      <td>23.0</td>\n",
              "      <td>18.0</td>\n",
              "      <td>14.0</td>\n",
              "      <td>2.0</td>\n",
              "      <td>1.0</td>\n",
              "      <td>1.0</td>\n",
              "      <td>1.0</td>\n",
              "      <td>1.0</td>\n",
              "      <td>2.0</td>\n",
              "      <td>2.0</td>\n",
              "      <td>2.0</td>\n",
              "      <td>2.0</td>\n",
              "      <td>2.0</td>\n",
              "      <td>4.0</td>\n",
              "      <td>8.0</td>\n",
              "      <td>11.0</td>\n",
              "      <td>16.0</td>\n",
              "      <td>20.0</td>\n",
              "      <td>25.0</td>\n",
              "      <td>27.0</td>\n",
              "      <td>27.0</td>\n",
              "      <td>29.0</td>\n",
              "      <td>44.0</td>\n",
              "      <td>NaN</td>\n",
              "      <td>NaN</td>\n",
              "      <td>NaN</td>\n",
              "      <td>NaN</td>\n",
              "      <td>NaN</td>\n",
              "      <td>NaN</td>\n",
              "      <td>NaN</td>\n",
              "      <td>NaN</td>\n",
              "      <td>NaN</td>\n",
              "      <td>...</td>\n",
              "      <td>NaN</td>\n",
              "      <td>NaN</td>\n",
              "      <td>NaN</td>\n",
              "      <td>NaN</td>\n",
              "      <td>NaN</td>\n",
              "      <td>NaN</td>\n",
              "      <td>NaN</td>\n",
              "      <td>NaN</td>\n",
              "      <td>NaN</td>\n",
              "      <td>NaN</td>\n",
              "      <td>NaN</td>\n",
              "      <td>NaN</td>\n",
              "      <td>NaN</td>\n",
              "      <td>NaN</td>\n",
              "      <td>NaN</td>\n",
              "      <td>NaN</td>\n",
              "      <td>NaN</td>\n",
              "      <td>NaN</td>\n",
              "      <td>NaN</td>\n",
              "      <td>NaN</td>\n",
              "      <td>NaN</td>\n",
              "      <td>NaN</td>\n",
              "      <td>NaN</td>\n",
              "      <td>NaN</td>\n",
              "      <td>NaN</td>\n",
              "      <td>NaN</td>\n",
              "      <td>NaN</td>\n",
              "      <td>NaN</td>\n",
              "      <td>NaN</td>\n",
              "      <td>NaN</td>\n",
              "      <td>NaN</td>\n",
              "      <td>NaN</td>\n",
              "      <td>NaN</td>\n",
              "      <td>NaN</td>\n",
              "      <td>NaN</td>\n",
              "      <td>NaN</td>\n",
              "      <td>NaN</td>\n",
              "      <td>NaN</td>\n",
              "      <td>NaN</td>\n",
              "      <td>NaN</td>\n",
              "    </tr>\n",
              "    <tr>\n",
              "      <th>4</th>\n",
              "      <td>2000</td>\n",
              "      <td>Aguilera, Christina</td>\n",
              "      <td>Come On Over Baby (All I Want Is You)</td>\n",
              "      <td>3:38</td>\n",
              "      <td>Rock</td>\n",
              "      <td>2000-08-05</td>\n",
              "      <td>2000-10-14</td>\n",
              "      <td>57</td>\n",
              "      <td>47.0</td>\n",
              "      <td>45.0</td>\n",
              "      <td>29.0</td>\n",
              "      <td>23.0</td>\n",
              "      <td>18.0</td>\n",
              "      <td>11.0</td>\n",
              "      <td>9.0</td>\n",
              "      <td>9.0</td>\n",
              "      <td>11.0</td>\n",
              "      <td>1.0</td>\n",
              "      <td>1.0</td>\n",
              "      <td>1.0</td>\n",
              "      <td>1.0</td>\n",
              "      <td>4.0</td>\n",
              "      <td>8.0</td>\n",
              "      <td>12.0</td>\n",
              "      <td>22.0</td>\n",
              "      <td>23.0</td>\n",
              "      <td>43.0</td>\n",
              "      <td>44.0</td>\n",
              "      <td>NaN</td>\n",
              "      <td>NaN</td>\n",
              "      <td>NaN</td>\n",
              "      <td>NaN</td>\n",
              "      <td>NaN</td>\n",
              "      <td>NaN</td>\n",
              "      <td>NaN</td>\n",
              "      <td>NaN</td>\n",
              "      <td>NaN</td>\n",
              "      <td>NaN</td>\n",
              "      <td>NaN</td>\n",
              "      <td>NaN</td>\n",
              "      <td>...</td>\n",
              "      <td>NaN</td>\n",
              "      <td>NaN</td>\n",
              "      <td>NaN</td>\n",
              "      <td>NaN</td>\n",
              "      <td>NaN</td>\n",
              "      <td>NaN</td>\n",
              "      <td>NaN</td>\n",
              "      <td>NaN</td>\n",
              "      <td>NaN</td>\n",
              "      <td>NaN</td>\n",
              "      <td>NaN</td>\n",
              "      <td>NaN</td>\n",
              "      <td>NaN</td>\n",
              "      <td>NaN</td>\n",
              "      <td>NaN</td>\n",
              "      <td>NaN</td>\n",
              "      <td>NaN</td>\n",
              "      <td>NaN</td>\n",
              "      <td>NaN</td>\n",
              "      <td>NaN</td>\n",
              "      <td>NaN</td>\n",
              "      <td>NaN</td>\n",
              "      <td>NaN</td>\n",
              "      <td>NaN</td>\n",
              "      <td>NaN</td>\n",
              "      <td>NaN</td>\n",
              "      <td>NaN</td>\n",
              "      <td>NaN</td>\n",
              "      <td>NaN</td>\n",
              "      <td>NaN</td>\n",
              "      <td>NaN</td>\n",
              "      <td>NaN</td>\n",
              "      <td>NaN</td>\n",
              "      <td>NaN</td>\n",
              "      <td>NaN</td>\n",
              "      <td>NaN</td>\n",
              "      <td>NaN</td>\n",
              "      <td>NaN</td>\n",
              "      <td>NaN</td>\n",
              "      <td>NaN</td>\n",
              "    </tr>\n",
              "    <tr>\n",
              "      <th>...</th>\n",
              "      <td>...</td>\n",
              "      <td>...</td>\n",
              "      <td>...</td>\n",
              "      <td>...</td>\n",
              "      <td>...</td>\n",
              "      <td>...</td>\n",
              "      <td>...</td>\n",
              "      <td>...</td>\n",
              "      <td>...</td>\n",
              "      <td>...</td>\n",
              "      <td>...</td>\n",
              "      <td>...</td>\n",
              "      <td>...</td>\n",
              "      <td>...</td>\n",
              "      <td>...</td>\n",
              "      <td>...</td>\n",
              "      <td>...</td>\n",
              "      <td>...</td>\n",
              "      <td>...</td>\n",
              "      <td>...</td>\n",
              "      <td>...</td>\n",
              "      <td>...</td>\n",
              "      <td>...</td>\n",
              "      <td>...</td>\n",
              "      <td>...</td>\n",
              "      <td>...</td>\n",
              "      <td>...</td>\n",
              "      <td>...</td>\n",
              "      <td>...</td>\n",
              "      <td>...</td>\n",
              "      <td>...</td>\n",
              "      <td>...</td>\n",
              "      <td>...</td>\n",
              "      <td>...</td>\n",
              "      <td>...</td>\n",
              "      <td>...</td>\n",
              "      <td>...</td>\n",
              "      <td>...</td>\n",
              "      <td>...</td>\n",
              "      <td>...</td>\n",
              "      <td>...</td>\n",
              "      <td>...</td>\n",
              "      <td>...</td>\n",
              "      <td>...</td>\n",
              "      <td>...</td>\n",
              "      <td>...</td>\n",
              "      <td>...</td>\n",
              "      <td>...</td>\n",
              "      <td>...</td>\n",
              "      <td>...</td>\n",
              "      <td>...</td>\n",
              "      <td>...</td>\n",
              "      <td>...</td>\n",
              "      <td>...</td>\n",
              "      <td>...</td>\n",
              "      <td>...</td>\n",
              "      <td>...</td>\n",
              "      <td>...</td>\n",
              "      <td>...</td>\n",
              "      <td>...</td>\n",
              "      <td>...</td>\n",
              "      <td>...</td>\n",
              "      <td>...</td>\n",
              "      <td>...</td>\n",
              "      <td>...</td>\n",
              "      <td>...</td>\n",
              "      <td>...</td>\n",
              "      <td>...</td>\n",
              "      <td>...</td>\n",
              "      <td>...</td>\n",
              "      <td>...</td>\n",
              "      <td>...</td>\n",
              "      <td>...</td>\n",
              "      <td>...</td>\n",
              "      <td>...</td>\n",
              "      <td>...</td>\n",
              "      <td>...</td>\n",
              "      <td>...</td>\n",
              "      <td>...</td>\n",
              "      <td>...</td>\n",
              "      <td>...</td>\n",
              "    </tr>\n",
              "    <tr>\n",
              "      <th>312</th>\n",
              "      <td>2000</td>\n",
              "      <td>Ghostface Killah</td>\n",
              "      <td>Cherchez LaGhost</td>\n",
              "      <td>3:04</td>\n",
              "      <td>R&amp;B</td>\n",
              "      <td>2000-08-05</td>\n",
              "      <td>2000-08-05</td>\n",
              "      <td>98</td>\n",
              "      <td>NaN</td>\n",
              "      <td>NaN</td>\n",
              "      <td>NaN</td>\n",
              "      <td>NaN</td>\n",
              "      <td>NaN</td>\n",
              "      <td>NaN</td>\n",
              "      <td>NaN</td>\n",
              "      <td>NaN</td>\n",
              "      <td>NaN</td>\n",
              "      <td>NaN</td>\n",
              "      <td>NaN</td>\n",
              "      <td>NaN</td>\n",
              "      <td>NaN</td>\n",
              "      <td>NaN</td>\n",
              "      <td>NaN</td>\n",
              "      <td>NaN</td>\n",
              "      <td>NaN</td>\n",
              "      <td>NaN</td>\n",
              "      <td>NaN</td>\n",
              "      <td>NaN</td>\n",
              "      <td>NaN</td>\n",
              "      <td>NaN</td>\n",
              "      <td>NaN</td>\n",
              "      <td>NaN</td>\n",
              "      <td>NaN</td>\n",
              "      <td>NaN</td>\n",
              "      <td>NaN</td>\n",
              "      <td>NaN</td>\n",
              "      <td>NaN</td>\n",
              "      <td>NaN</td>\n",
              "      <td>NaN</td>\n",
              "      <td>NaN</td>\n",
              "      <td>...</td>\n",
              "      <td>NaN</td>\n",
              "      <td>NaN</td>\n",
              "      <td>NaN</td>\n",
              "      <td>NaN</td>\n",
              "      <td>NaN</td>\n",
              "      <td>NaN</td>\n",
              "      <td>NaN</td>\n",
              "      <td>NaN</td>\n",
              "      <td>NaN</td>\n",
              "      <td>NaN</td>\n",
              "      <td>NaN</td>\n",
              "      <td>NaN</td>\n",
              "      <td>NaN</td>\n",
              "      <td>NaN</td>\n",
              "      <td>NaN</td>\n",
              "      <td>NaN</td>\n",
              "      <td>NaN</td>\n",
              "      <td>NaN</td>\n",
              "      <td>NaN</td>\n",
              "      <td>NaN</td>\n",
              "      <td>NaN</td>\n",
              "      <td>NaN</td>\n",
              "      <td>NaN</td>\n",
              "      <td>NaN</td>\n",
              "      <td>NaN</td>\n",
              "      <td>NaN</td>\n",
              "      <td>NaN</td>\n",
              "      <td>NaN</td>\n",
              "      <td>NaN</td>\n",
              "      <td>NaN</td>\n",
              "      <td>NaN</td>\n",
              "      <td>NaN</td>\n",
              "      <td>NaN</td>\n",
              "      <td>NaN</td>\n",
              "      <td>NaN</td>\n",
              "      <td>NaN</td>\n",
              "      <td>NaN</td>\n",
              "      <td>NaN</td>\n",
              "      <td>NaN</td>\n",
              "      <td>NaN</td>\n",
              "    </tr>\n",
              "    <tr>\n",
              "      <th>313</th>\n",
              "      <td>2000</td>\n",
              "      <td>Smith, Will</td>\n",
              "      <td>Freakin' It</td>\n",
              "      <td>3:58</td>\n",
              "      <td>Rap</td>\n",
              "      <td>2000-02-12</td>\n",
              "      <td>2000-02-12</td>\n",
              "      <td>99</td>\n",
              "      <td>99.0</td>\n",
              "      <td>99.0</td>\n",
              "      <td>99.0</td>\n",
              "      <td>NaN</td>\n",
              "      <td>NaN</td>\n",
              "      <td>NaN</td>\n",
              "      <td>NaN</td>\n",
              "      <td>NaN</td>\n",
              "      <td>NaN</td>\n",
              "      <td>NaN</td>\n",
              "      <td>NaN</td>\n",
              "      <td>NaN</td>\n",
              "      <td>NaN</td>\n",
              "      <td>NaN</td>\n",
              "      <td>NaN</td>\n",
              "      <td>NaN</td>\n",
              "      <td>NaN</td>\n",
              "      <td>NaN</td>\n",
              "      <td>NaN</td>\n",
              "      <td>NaN</td>\n",
              "      <td>NaN</td>\n",
              "      <td>NaN</td>\n",
              "      <td>NaN</td>\n",
              "      <td>NaN</td>\n",
              "      <td>NaN</td>\n",
              "      <td>NaN</td>\n",
              "      <td>NaN</td>\n",
              "      <td>NaN</td>\n",
              "      <td>NaN</td>\n",
              "      <td>NaN</td>\n",
              "      <td>NaN</td>\n",
              "      <td>NaN</td>\n",
              "      <td>...</td>\n",
              "      <td>NaN</td>\n",
              "      <td>NaN</td>\n",
              "      <td>NaN</td>\n",
              "      <td>NaN</td>\n",
              "      <td>NaN</td>\n",
              "      <td>NaN</td>\n",
              "      <td>NaN</td>\n",
              "      <td>NaN</td>\n",
              "      <td>NaN</td>\n",
              "      <td>NaN</td>\n",
              "      <td>NaN</td>\n",
              "      <td>NaN</td>\n",
              "      <td>NaN</td>\n",
              "      <td>NaN</td>\n",
              "      <td>NaN</td>\n",
              "      <td>NaN</td>\n",
              "      <td>NaN</td>\n",
              "      <td>NaN</td>\n",
              "      <td>NaN</td>\n",
              "      <td>NaN</td>\n",
              "      <td>NaN</td>\n",
              "      <td>NaN</td>\n",
              "      <td>NaN</td>\n",
              "      <td>NaN</td>\n",
              "      <td>NaN</td>\n",
              "      <td>NaN</td>\n",
              "      <td>NaN</td>\n",
              "      <td>NaN</td>\n",
              "      <td>NaN</td>\n",
              "      <td>NaN</td>\n",
              "      <td>NaN</td>\n",
              "      <td>NaN</td>\n",
              "      <td>NaN</td>\n",
              "      <td>NaN</td>\n",
              "      <td>NaN</td>\n",
              "      <td>NaN</td>\n",
              "      <td>NaN</td>\n",
              "      <td>NaN</td>\n",
              "      <td>NaN</td>\n",
              "      <td>NaN</td>\n",
              "    </tr>\n",
              "    <tr>\n",
              "      <th>314</th>\n",
              "      <td>2000</td>\n",
              "      <td>Zombie Nation</td>\n",
              "      <td>Kernkraft 400</td>\n",
              "      <td>3:30</td>\n",
              "      <td>Rock</td>\n",
              "      <td>2000-09-02</td>\n",
              "      <td>2000-09-02</td>\n",
              "      <td>99</td>\n",
              "      <td>99.0</td>\n",
              "      <td>NaN</td>\n",
              "      <td>NaN</td>\n",
              "      <td>NaN</td>\n",
              "      <td>NaN</td>\n",
              "      <td>NaN</td>\n",
              "      <td>NaN</td>\n",
              "      <td>NaN</td>\n",
              "      <td>NaN</td>\n",
              "      <td>NaN</td>\n",
              "      <td>NaN</td>\n",
              "      <td>NaN</td>\n",
              "      <td>NaN</td>\n",
              "      <td>NaN</td>\n",
              "      <td>NaN</td>\n",
              "      <td>NaN</td>\n",
              "      <td>NaN</td>\n",
              "      <td>NaN</td>\n",
              "      <td>NaN</td>\n",
              "      <td>NaN</td>\n",
              "      <td>NaN</td>\n",
              "      <td>NaN</td>\n",
              "      <td>NaN</td>\n",
              "      <td>NaN</td>\n",
              "      <td>NaN</td>\n",
              "      <td>NaN</td>\n",
              "      <td>NaN</td>\n",
              "      <td>NaN</td>\n",
              "      <td>NaN</td>\n",
              "      <td>NaN</td>\n",
              "      <td>NaN</td>\n",
              "      <td>NaN</td>\n",
              "      <td>...</td>\n",
              "      <td>NaN</td>\n",
              "      <td>NaN</td>\n",
              "      <td>NaN</td>\n",
              "      <td>NaN</td>\n",
              "      <td>NaN</td>\n",
              "      <td>NaN</td>\n",
              "      <td>NaN</td>\n",
              "      <td>NaN</td>\n",
              "      <td>NaN</td>\n",
              "      <td>NaN</td>\n",
              "      <td>NaN</td>\n",
              "      <td>NaN</td>\n",
              "      <td>NaN</td>\n",
              "      <td>NaN</td>\n",
              "      <td>NaN</td>\n",
              "      <td>NaN</td>\n",
              "      <td>NaN</td>\n",
              "      <td>NaN</td>\n",
              "      <td>NaN</td>\n",
              "      <td>NaN</td>\n",
              "      <td>NaN</td>\n",
              "      <td>NaN</td>\n",
              "      <td>NaN</td>\n",
              "      <td>NaN</td>\n",
              "      <td>NaN</td>\n",
              "      <td>NaN</td>\n",
              "      <td>NaN</td>\n",
              "      <td>NaN</td>\n",
              "      <td>NaN</td>\n",
              "      <td>NaN</td>\n",
              "      <td>NaN</td>\n",
              "      <td>NaN</td>\n",
              "      <td>NaN</td>\n",
              "      <td>NaN</td>\n",
              "      <td>NaN</td>\n",
              "      <td>NaN</td>\n",
              "      <td>NaN</td>\n",
              "      <td>NaN</td>\n",
              "      <td>NaN</td>\n",
              "      <td>NaN</td>\n",
              "    </tr>\n",
              "    <tr>\n",
              "      <th>315</th>\n",
              "      <td>2000</td>\n",
              "      <td>Eastsidaz, The</td>\n",
              "      <td>Got Beef</td>\n",
              "      <td>3:58</td>\n",
              "      <td>Rap</td>\n",
              "      <td>2000-07-01</td>\n",
              "      <td>2000-07-01</td>\n",
              "      <td>99</td>\n",
              "      <td>99.0</td>\n",
              "      <td>NaN</td>\n",
              "      <td>NaN</td>\n",
              "      <td>NaN</td>\n",
              "      <td>NaN</td>\n",
              "      <td>NaN</td>\n",
              "      <td>NaN</td>\n",
              "      <td>NaN</td>\n",
              "      <td>NaN</td>\n",
              "      <td>NaN</td>\n",
              "      <td>NaN</td>\n",
              "      <td>NaN</td>\n",
              "      <td>NaN</td>\n",
              "      <td>NaN</td>\n",
              "      <td>NaN</td>\n",
              "      <td>NaN</td>\n",
              "      <td>NaN</td>\n",
              "      <td>NaN</td>\n",
              "      <td>NaN</td>\n",
              "      <td>NaN</td>\n",
              "      <td>NaN</td>\n",
              "      <td>NaN</td>\n",
              "      <td>NaN</td>\n",
              "      <td>NaN</td>\n",
              "      <td>NaN</td>\n",
              "      <td>NaN</td>\n",
              "      <td>NaN</td>\n",
              "      <td>NaN</td>\n",
              "      <td>NaN</td>\n",
              "      <td>NaN</td>\n",
              "      <td>NaN</td>\n",
              "      <td>NaN</td>\n",
              "      <td>...</td>\n",
              "      <td>NaN</td>\n",
              "      <td>NaN</td>\n",
              "      <td>NaN</td>\n",
              "      <td>NaN</td>\n",
              "      <td>NaN</td>\n",
              "      <td>NaN</td>\n",
              "      <td>NaN</td>\n",
              "      <td>NaN</td>\n",
              "      <td>NaN</td>\n",
              "      <td>NaN</td>\n",
              "      <td>NaN</td>\n",
              "      <td>NaN</td>\n",
              "      <td>NaN</td>\n",
              "      <td>NaN</td>\n",
              "      <td>NaN</td>\n",
              "      <td>NaN</td>\n",
              "      <td>NaN</td>\n",
              "      <td>NaN</td>\n",
              "      <td>NaN</td>\n",
              "      <td>NaN</td>\n",
              "      <td>NaN</td>\n",
              "      <td>NaN</td>\n",
              "      <td>NaN</td>\n",
              "      <td>NaN</td>\n",
              "      <td>NaN</td>\n",
              "      <td>NaN</td>\n",
              "      <td>NaN</td>\n",
              "      <td>NaN</td>\n",
              "      <td>NaN</td>\n",
              "      <td>NaN</td>\n",
              "      <td>NaN</td>\n",
              "      <td>NaN</td>\n",
              "      <td>NaN</td>\n",
              "      <td>NaN</td>\n",
              "      <td>NaN</td>\n",
              "      <td>NaN</td>\n",
              "      <td>NaN</td>\n",
              "      <td>NaN</td>\n",
              "      <td>NaN</td>\n",
              "      <td>NaN</td>\n",
              "    </tr>\n",
              "    <tr>\n",
              "      <th>316</th>\n",
              "      <td>2000</td>\n",
              "      <td>Fragma</td>\n",
              "      <td>Toca's Miracle</td>\n",
              "      <td>3:22</td>\n",
              "      <td>R&amp;B</td>\n",
              "      <td>2000-10-28</td>\n",
              "      <td>2000-10-28</td>\n",
              "      <td>99</td>\n",
              "      <td>NaN</td>\n",
              "      <td>NaN</td>\n",
              "      <td>NaN</td>\n",
              "      <td>NaN</td>\n",
              "      <td>NaN</td>\n",
              "      <td>NaN</td>\n",
              "      <td>NaN</td>\n",
              "      <td>NaN</td>\n",
              "      <td>NaN</td>\n",
              "      <td>NaN</td>\n",
              "      <td>NaN</td>\n",
              "      <td>NaN</td>\n",
              "      <td>NaN</td>\n",
              "      <td>NaN</td>\n",
              "      <td>NaN</td>\n",
              "      <td>NaN</td>\n",
              "      <td>NaN</td>\n",
              "      <td>NaN</td>\n",
              "      <td>NaN</td>\n",
              "      <td>NaN</td>\n",
              "      <td>NaN</td>\n",
              "      <td>NaN</td>\n",
              "      <td>NaN</td>\n",
              "      <td>NaN</td>\n",
              "      <td>NaN</td>\n",
              "      <td>NaN</td>\n",
              "      <td>NaN</td>\n",
              "      <td>NaN</td>\n",
              "      <td>NaN</td>\n",
              "      <td>NaN</td>\n",
              "      <td>NaN</td>\n",
              "      <td>NaN</td>\n",
              "      <td>...</td>\n",
              "      <td>NaN</td>\n",
              "      <td>NaN</td>\n",
              "      <td>NaN</td>\n",
              "      <td>NaN</td>\n",
              "      <td>NaN</td>\n",
              "      <td>NaN</td>\n",
              "      <td>NaN</td>\n",
              "      <td>NaN</td>\n",
              "      <td>NaN</td>\n",
              "      <td>NaN</td>\n",
              "      <td>NaN</td>\n",
              "      <td>NaN</td>\n",
              "      <td>NaN</td>\n",
              "      <td>NaN</td>\n",
              "      <td>NaN</td>\n",
              "      <td>NaN</td>\n",
              "      <td>NaN</td>\n",
              "      <td>NaN</td>\n",
              "      <td>NaN</td>\n",
              "      <td>NaN</td>\n",
              "      <td>NaN</td>\n",
              "      <td>NaN</td>\n",
              "      <td>NaN</td>\n",
              "      <td>NaN</td>\n",
              "      <td>NaN</td>\n",
              "      <td>NaN</td>\n",
              "      <td>NaN</td>\n",
              "      <td>NaN</td>\n",
              "      <td>NaN</td>\n",
              "      <td>NaN</td>\n",
              "      <td>NaN</td>\n",
              "      <td>NaN</td>\n",
              "      <td>NaN</td>\n",
              "      <td>NaN</td>\n",
              "      <td>NaN</td>\n",
              "      <td>NaN</td>\n",
              "      <td>NaN</td>\n",
              "      <td>NaN</td>\n",
              "      <td>NaN</td>\n",
              "      <td>NaN</td>\n",
              "    </tr>\n",
              "  </tbody>\n",
              "</table>\n",
              "<p>317 rows × 83 columns</p>\n",
              "</div>"
            ],
            "text/plain": [
              "     year      artist.inverted  ... x75th.week x76th.week\n",
              "0    2000      Destiny's Child  ...        NaN        NaN\n",
              "1    2000              Santana  ...        NaN        NaN\n",
              "2    2000        Savage Garden  ...        NaN        NaN\n",
              "3    2000              Madonna  ...        NaN        NaN\n",
              "4    2000  Aguilera, Christina  ...        NaN        NaN\n",
              "..    ...                  ...  ...        ...        ...\n",
              "312  2000     Ghostface Killah  ...        NaN        NaN\n",
              "313  2000          Smith, Will  ...        NaN        NaN\n",
              "314  2000        Zombie Nation  ...        NaN        NaN\n",
              "315  2000       Eastsidaz, The  ...        NaN        NaN\n",
              "316  2000               Fragma  ...        NaN        NaN\n",
              "\n",
              "[317 rows x 83 columns]"
            ]
          },
          "metadata": {
            "tags": []
          },
          "execution_count": 48
        }
      ]
    },
    {
      "cell_type": "markdown",
      "metadata": {
        "id": "71Aq5wkYDj6h",
        "colab_type": "text"
      },
      "source": [
        "1- Analicen el dataset, vean cuáles son las variables, qué es la observación. ¿Es necesario separarlo en dos tablas? Nota: lo que se está midiendo en las columnas x1st.week a x76th.week es la posición en el ranking de las 100 canciones más escuchadas en esa semana. Es decir, x1st.week es la posición en el ranking durante la primera semana que esa canción fue top 100."
      ]
    },
    {
      "cell_type": "code",
      "metadata": {
        "id": "kRIahaqnX1kT",
        "colab_type": "code",
        "colab": {
          "base_uri": "https://localhost:8080/",
          "height": 419
        },
        "outputId": "41880040-4682-4939-baa6-18f008e7ee11"
      },
      "source": [
        "# separar en semanas\n",
        "billboard.melt()"
      ],
      "execution_count": 49,
      "outputs": [
        {
          "output_type": "execute_result",
          "data": {
            "text/html": [
              "<div>\n",
              "<style scoped>\n",
              "    .dataframe tbody tr th:only-of-type {\n",
              "        vertical-align: middle;\n",
              "    }\n",
              "\n",
              "    .dataframe tbody tr th {\n",
              "        vertical-align: top;\n",
              "    }\n",
              "\n",
              "    .dataframe thead th {\n",
              "        text-align: right;\n",
              "    }\n",
              "</style>\n",
              "<table border=\"1\" class=\"dataframe\">\n",
              "  <thead>\n",
              "    <tr style=\"text-align: right;\">\n",
              "      <th></th>\n",
              "      <th>variable</th>\n",
              "      <th>value</th>\n",
              "    </tr>\n",
              "  </thead>\n",
              "  <tbody>\n",
              "    <tr>\n",
              "      <th>0</th>\n",
              "      <td>year</td>\n",
              "      <td>2000</td>\n",
              "    </tr>\n",
              "    <tr>\n",
              "      <th>1</th>\n",
              "      <td>year</td>\n",
              "      <td>2000</td>\n",
              "    </tr>\n",
              "    <tr>\n",
              "      <th>2</th>\n",
              "      <td>year</td>\n",
              "      <td>2000</td>\n",
              "    </tr>\n",
              "    <tr>\n",
              "      <th>3</th>\n",
              "      <td>year</td>\n",
              "      <td>2000</td>\n",
              "    </tr>\n",
              "    <tr>\n",
              "      <th>4</th>\n",
              "      <td>year</td>\n",
              "      <td>2000</td>\n",
              "    </tr>\n",
              "    <tr>\n",
              "      <th>...</th>\n",
              "      <td>...</td>\n",
              "      <td>...</td>\n",
              "    </tr>\n",
              "    <tr>\n",
              "      <th>26306</th>\n",
              "      <td>x76th.week</td>\n",
              "      <td>NaN</td>\n",
              "    </tr>\n",
              "    <tr>\n",
              "      <th>26307</th>\n",
              "      <td>x76th.week</td>\n",
              "      <td>NaN</td>\n",
              "    </tr>\n",
              "    <tr>\n",
              "      <th>26308</th>\n",
              "      <td>x76th.week</td>\n",
              "      <td>NaN</td>\n",
              "    </tr>\n",
              "    <tr>\n",
              "      <th>26309</th>\n",
              "      <td>x76th.week</td>\n",
              "      <td>NaN</td>\n",
              "    </tr>\n",
              "    <tr>\n",
              "      <th>26310</th>\n",
              "      <td>x76th.week</td>\n",
              "      <td>NaN</td>\n",
              "    </tr>\n",
              "  </tbody>\n",
              "</table>\n",
              "<p>26311 rows × 2 columns</p>\n",
              "</div>"
            ],
            "text/plain": [
              "         variable value\n",
              "0            year  2000\n",
              "1            year  2000\n",
              "2            year  2000\n",
              "3            year  2000\n",
              "4            year  2000\n",
              "...           ...   ...\n",
              "26306  x76th.week   NaN\n",
              "26307  x76th.week   NaN\n",
              "26308  x76th.week   NaN\n",
              "26309  x76th.week   NaN\n",
              "26310  x76th.week   NaN\n",
              "\n",
              "[26311 rows x 2 columns]"
            ]
          },
          "metadata": {
            "tags": []
          },
          "execution_count": 49
        }
      ]
    },
    {
      "cell_type": "markdown",
      "metadata": {
        "id": "NHpIIiHgDj6h",
        "colab_type": "text"
      },
      "source": [
        "2- ¿Por qué creen que hay tantas columnas con valores nulos?"
      ]
    },
    {
      "cell_type": "markdown",
      "metadata": {
        "id": "Utnr44cnDj6i",
        "colab_type": "text"
      },
      "source": [
        "3- ¿Cómo podríamos hacer este dataset más ordenado? (no miren la continuación de la notebook :-S)"
      ]
    },
    {
      "cell_type": "markdown",
      "metadata": {
        "id": "KUESApwPDj6k",
        "colab_type": "text"
      },
      "source": [
        "Veamos primero como luce el dataset"
      ]
    },
    {
      "cell_type": "code",
      "metadata": {
        "id": "0_W3n9TODj6l",
        "colab_type": "code",
        "colab": {},
        "outputId": "a7b0d710-e7d9-4d39-f74a-c82da0f44e73"
      },
      "source": [
        "billboard.head()"
      ],
      "execution_count": null,
      "outputs": [
        {
          "output_type": "execute_result",
          "data": {
            "text/html": [
              "<div>\n",
              "<style scoped>\n",
              "    .dataframe tbody tr th:only-of-type {\n",
              "        vertical-align: middle;\n",
              "    }\n",
              "\n",
              "    .dataframe tbody tr th {\n",
              "        vertical-align: top;\n",
              "    }\n",
              "\n",
              "    .dataframe thead th {\n",
              "        text-align: right;\n",
              "    }\n",
              "</style>\n",
              "<table border=\"1\" class=\"dataframe\">\n",
              "  <thead>\n",
              "    <tr style=\"text-align: right;\">\n",
              "      <th></th>\n",
              "      <th>year</th>\n",
              "      <th>artist.inverted</th>\n",
              "      <th>track</th>\n",
              "      <th>time</th>\n",
              "      <th>genre</th>\n",
              "      <th>date.entered</th>\n",
              "      <th>date.peaked</th>\n",
              "      <th>x1st.week</th>\n",
              "      <th>x2nd.week</th>\n",
              "      <th>x3rd.week</th>\n",
              "      <th>...</th>\n",
              "      <th>x67th.week</th>\n",
              "      <th>x68th.week</th>\n",
              "      <th>x69th.week</th>\n",
              "      <th>x70th.week</th>\n",
              "      <th>x71st.week</th>\n",
              "      <th>x72nd.week</th>\n",
              "      <th>x73rd.week</th>\n",
              "      <th>x74th.week</th>\n",
              "      <th>x75th.week</th>\n",
              "      <th>x76th.week</th>\n",
              "    </tr>\n",
              "  </thead>\n",
              "  <tbody>\n",
              "    <tr>\n",
              "      <th>0</th>\n",
              "      <td>2000</td>\n",
              "      <td>Destiny's Child</td>\n",
              "      <td>Independent Women Part I</td>\n",
              "      <td>3:38</td>\n",
              "      <td>Rock</td>\n",
              "      <td>2000-09-23</td>\n",
              "      <td>2000-11-18</td>\n",
              "      <td>78</td>\n",
              "      <td>63.0</td>\n",
              "      <td>49.0</td>\n",
              "      <td>...</td>\n",
              "      <td>NaN</td>\n",
              "      <td>NaN</td>\n",
              "      <td>NaN</td>\n",
              "      <td>NaN</td>\n",
              "      <td>NaN</td>\n",
              "      <td>NaN</td>\n",
              "      <td>NaN</td>\n",
              "      <td>NaN</td>\n",
              "      <td>NaN</td>\n",
              "      <td>NaN</td>\n",
              "    </tr>\n",
              "    <tr>\n",
              "      <th>1</th>\n",
              "      <td>2000</td>\n",
              "      <td>Santana</td>\n",
              "      <td>Maria, Maria</td>\n",
              "      <td>4:18</td>\n",
              "      <td>Rock</td>\n",
              "      <td>2000-02-12</td>\n",
              "      <td>2000-04-08</td>\n",
              "      <td>15</td>\n",
              "      <td>8.0</td>\n",
              "      <td>6.0</td>\n",
              "      <td>...</td>\n",
              "      <td>NaN</td>\n",
              "      <td>NaN</td>\n",
              "      <td>NaN</td>\n",
              "      <td>NaN</td>\n",
              "      <td>NaN</td>\n",
              "      <td>NaN</td>\n",
              "      <td>NaN</td>\n",
              "      <td>NaN</td>\n",
              "      <td>NaN</td>\n",
              "      <td>NaN</td>\n",
              "    </tr>\n",
              "    <tr>\n",
              "      <th>2</th>\n",
              "      <td>2000</td>\n",
              "      <td>Savage Garden</td>\n",
              "      <td>I Knew I Loved You</td>\n",
              "      <td>4:07</td>\n",
              "      <td>Rock</td>\n",
              "      <td>1999-10-23</td>\n",
              "      <td>2000-01-29</td>\n",
              "      <td>71</td>\n",
              "      <td>48.0</td>\n",
              "      <td>43.0</td>\n",
              "      <td>...</td>\n",
              "      <td>NaN</td>\n",
              "      <td>NaN</td>\n",
              "      <td>NaN</td>\n",
              "      <td>NaN</td>\n",
              "      <td>NaN</td>\n",
              "      <td>NaN</td>\n",
              "      <td>NaN</td>\n",
              "      <td>NaN</td>\n",
              "      <td>NaN</td>\n",
              "      <td>NaN</td>\n",
              "    </tr>\n",
              "    <tr>\n",
              "      <th>3</th>\n",
              "      <td>2000</td>\n",
              "      <td>Madonna</td>\n",
              "      <td>Music</td>\n",
              "      <td>3:45</td>\n",
              "      <td>Rock</td>\n",
              "      <td>2000-08-12</td>\n",
              "      <td>2000-09-16</td>\n",
              "      <td>41</td>\n",
              "      <td>23.0</td>\n",
              "      <td>18.0</td>\n",
              "      <td>...</td>\n",
              "      <td>NaN</td>\n",
              "      <td>NaN</td>\n",
              "      <td>NaN</td>\n",
              "      <td>NaN</td>\n",
              "      <td>NaN</td>\n",
              "      <td>NaN</td>\n",
              "      <td>NaN</td>\n",
              "      <td>NaN</td>\n",
              "      <td>NaN</td>\n",
              "      <td>NaN</td>\n",
              "    </tr>\n",
              "    <tr>\n",
              "      <th>4</th>\n",
              "      <td>2000</td>\n",
              "      <td>Aguilera, Christina</td>\n",
              "      <td>Come On Over Baby (All I Want Is You)</td>\n",
              "      <td>3:38</td>\n",
              "      <td>Rock</td>\n",
              "      <td>2000-08-05</td>\n",
              "      <td>2000-10-14</td>\n",
              "      <td>57</td>\n",
              "      <td>47.0</td>\n",
              "      <td>45.0</td>\n",
              "      <td>...</td>\n",
              "      <td>NaN</td>\n",
              "      <td>NaN</td>\n",
              "      <td>NaN</td>\n",
              "      <td>NaN</td>\n",
              "      <td>NaN</td>\n",
              "      <td>NaN</td>\n",
              "      <td>NaN</td>\n",
              "      <td>NaN</td>\n",
              "      <td>NaN</td>\n",
              "      <td>NaN</td>\n",
              "    </tr>\n",
              "  </tbody>\n",
              "</table>\n",
              "<p>5 rows × 83 columns</p>\n",
              "</div>"
            ],
            "text/plain": [
              "   year      artist.inverted                                  track  time  \\\n",
              "0  2000      Destiny's Child               Independent Women Part I  3:38   \n",
              "1  2000              Santana                           Maria, Maria  4:18   \n",
              "2  2000        Savage Garden                     I Knew I Loved You  4:07   \n",
              "3  2000              Madonna                                  Music  3:45   \n",
              "4  2000  Aguilera, Christina  Come On Over Baby (All I Want Is You)  3:38   \n",
              "\n",
              "  genre date.entered date.peaked  x1st.week  x2nd.week  x3rd.week  ...  \\\n",
              "0  Rock   2000-09-23  2000-11-18         78       63.0       49.0  ...   \n",
              "1  Rock   2000-02-12  2000-04-08         15        8.0        6.0  ...   \n",
              "2  Rock   1999-10-23  2000-01-29         71       48.0       43.0  ...   \n",
              "3  Rock   2000-08-12  2000-09-16         41       23.0       18.0  ...   \n",
              "4  Rock   2000-08-05  2000-10-14         57       47.0       45.0  ...   \n",
              "\n",
              "   x67th.week  x68th.week  x69th.week  x70th.week  x71st.week  x72nd.week  \\\n",
              "0         NaN         NaN         NaN         NaN         NaN         NaN   \n",
              "1         NaN         NaN         NaN         NaN         NaN         NaN   \n",
              "2         NaN         NaN         NaN         NaN         NaN         NaN   \n",
              "3         NaN         NaN         NaN         NaN         NaN         NaN   \n",
              "4         NaN         NaN         NaN         NaN         NaN         NaN   \n",
              "\n",
              "   x73rd.week  x74th.week  x75th.week  x76th.week  \n",
              "0         NaN         NaN         NaN         NaN  \n",
              "1         NaN         NaN         NaN         NaN  \n",
              "2         NaN         NaN         NaN         NaN  \n",
              "3         NaN         NaN         NaN         NaN  \n",
              "4         NaN         NaN         NaN         NaN  \n",
              "\n",
              "[5 rows x 83 columns]"
            ]
          },
          "metadata": {
            "tags": []
          },
          "execution_count": 27
        }
      ]
    },
    {
      "cell_type": "markdown",
      "metadata": {
        "id": "LmzN1FF4Dj6r",
        "colab_type": "text"
      },
      "source": [
        "Lo que querríamos es poder mantener todas las columnas excepto las columnas que incluyen \"week\" en el nombre. Para poder tener un formato \"tidy\" u \"ordenado\" deberíamos tener, por un lado, una columna week que indique el número de la semana (y preferentemente que sea un entero), y por otro lado una columna ranking con el valor del ranking en esa semana. \n",
        "\n",
        "Para lograr ésto, vamos a usar la función **.melt**. Esta función recibe el DataFrame y vamos a usar el parámetro id_vars para pasarle la lista de columnas que van a ser constantes, es decir, que no van a variar. Con las demás columnas .melt va a:\n",
        "\n",
        "1- tomar los nombres de columnas no incluídas en id_vars y convertirlos en una columna\n",
        "\n",
        "2- va a tomar los valores de esas columnas y convertirlos en una segunda columna."
      ]
    },
    {
      "cell_type": "code",
      "metadata": {
        "id": "O6WzKt8uDj6s",
        "colab_type": "code",
        "colab": {
          "base_uri": "https://localhost:8080/",
          "height": 204
        },
        "outputId": "efdf532f-01e6-4a6a-ba1f-6b6538691300"
      },
      "source": [
        "pd.melt(billboard,\n",
        "        id_vars=[\"year\", \"artist.inverted\", \"track\", \"time\", \"genre\", \"date.entered\", \"date.peaked\"]\n",
        ").head()"
      ],
      "execution_count": 50,
      "outputs": [
        {
          "output_type": "execute_result",
          "data": {
            "text/html": [
              "<div>\n",
              "<style scoped>\n",
              "    .dataframe tbody tr th:only-of-type {\n",
              "        vertical-align: middle;\n",
              "    }\n",
              "\n",
              "    .dataframe tbody tr th {\n",
              "        vertical-align: top;\n",
              "    }\n",
              "\n",
              "    .dataframe thead th {\n",
              "        text-align: right;\n",
              "    }\n",
              "</style>\n",
              "<table border=\"1\" class=\"dataframe\">\n",
              "  <thead>\n",
              "    <tr style=\"text-align: right;\">\n",
              "      <th></th>\n",
              "      <th>year</th>\n",
              "      <th>artist.inverted</th>\n",
              "      <th>track</th>\n",
              "      <th>time</th>\n",
              "      <th>genre</th>\n",
              "      <th>date.entered</th>\n",
              "      <th>date.peaked</th>\n",
              "      <th>variable</th>\n",
              "      <th>value</th>\n",
              "    </tr>\n",
              "  </thead>\n",
              "  <tbody>\n",
              "    <tr>\n",
              "      <th>0</th>\n",
              "      <td>2000</td>\n",
              "      <td>Destiny's Child</td>\n",
              "      <td>Independent Women Part I</td>\n",
              "      <td>3:38</td>\n",
              "      <td>Rock</td>\n",
              "      <td>2000-09-23</td>\n",
              "      <td>2000-11-18</td>\n",
              "      <td>x1st.week</td>\n",
              "      <td>78.0</td>\n",
              "    </tr>\n",
              "    <tr>\n",
              "      <th>1</th>\n",
              "      <td>2000</td>\n",
              "      <td>Santana</td>\n",
              "      <td>Maria, Maria</td>\n",
              "      <td>4:18</td>\n",
              "      <td>Rock</td>\n",
              "      <td>2000-02-12</td>\n",
              "      <td>2000-04-08</td>\n",
              "      <td>x1st.week</td>\n",
              "      <td>15.0</td>\n",
              "    </tr>\n",
              "    <tr>\n",
              "      <th>2</th>\n",
              "      <td>2000</td>\n",
              "      <td>Savage Garden</td>\n",
              "      <td>I Knew I Loved You</td>\n",
              "      <td>4:07</td>\n",
              "      <td>Rock</td>\n",
              "      <td>1999-10-23</td>\n",
              "      <td>2000-01-29</td>\n",
              "      <td>x1st.week</td>\n",
              "      <td>71.0</td>\n",
              "    </tr>\n",
              "    <tr>\n",
              "      <th>3</th>\n",
              "      <td>2000</td>\n",
              "      <td>Madonna</td>\n",
              "      <td>Music</td>\n",
              "      <td>3:45</td>\n",
              "      <td>Rock</td>\n",
              "      <td>2000-08-12</td>\n",
              "      <td>2000-09-16</td>\n",
              "      <td>x1st.week</td>\n",
              "      <td>41.0</td>\n",
              "    </tr>\n",
              "    <tr>\n",
              "      <th>4</th>\n",
              "      <td>2000</td>\n",
              "      <td>Aguilera, Christina</td>\n",
              "      <td>Come On Over Baby (All I Want Is You)</td>\n",
              "      <td>3:38</td>\n",
              "      <td>Rock</td>\n",
              "      <td>2000-08-05</td>\n",
              "      <td>2000-10-14</td>\n",
              "      <td>x1st.week</td>\n",
              "      <td>57.0</td>\n",
              "    </tr>\n",
              "  </tbody>\n",
              "</table>\n",
              "</div>"
            ],
            "text/plain": [
              "   year      artist.inverted  ...   variable value\n",
              "0  2000      Destiny's Child  ...  x1st.week  78.0\n",
              "1  2000              Santana  ...  x1st.week  15.0\n",
              "2  2000        Savage Garden  ...  x1st.week  71.0\n",
              "3  2000              Madonna  ...  x1st.week  41.0\n",
              "4  2000  Aguilera, Christina  ...  x1st.week  57.0\n",
              "\n",
              "[5 rows x 9 columns]"
            ]
          },
          "metadata": {
            "tags": []
          },
          "execution_count": 50
        }
      ]
    },
    {
      "cell_type": "markdown",
      "metadata": {
        "id": "Dz9Bu4YBDj6x",
        "colab_type": "text"
      },
      "source": [
        "Ahora, querríamos que variable se llame week y value se llame ranking, para eso hacemos..."
      ]
    },
    {
      "cell_type": "code",
      "metadata": {
        "id": "8YPOourODj6y",
        "colab_type": "code",
        "colab": {}
      },
      "source": [
        "billboard_2 = pd.melt(billboard, \n",
        "                      id_vars=[\"year\", \"artist.inverted\", \"track\", \"time\", \"genre\", \"date.entered\", \"date.peaked\"], \n",
        "                      var_name=\"week\", \n",
        "                      value_name=\"ranking\")"
      ],
      "execution_count": 51,
      "outputs": []
    },
    {
      "cell_type": "code",
      "metadata": {
        "id": "9gZfZSP-Dj64",
        "colab_type": "code",
        "colab": {
          "base_uri": "https://localhost:8080/",
          "height": 204
        },
        "outputId": "c65a84a5-9ba4-4c5b-89e0-a262daf2927f"
      },
      "source": [
        "billboard_2.tail()"
      ],
      "execution_count": 52,
      "outputs": [
        {
          "output_type": "execute_result",
          "data": {
            "text/html": [
              "<div>\n",
              "<style scoped>\n",
              "    .dataframe tbody tr th:only-of-type {\n",
              "        vertical-align: middle;\n",
              "    }\n",
              "\n",
              "    .dataframe tbody tr th {\n",
              "        vertical-align: top;\n",
              "    }\n",
              "\n",
              "    .dataframe thead th {\n",
              "        text-align: right;\n",
              "    }\n",
              "</style>\n",
              "<table border=\"1\" class=\"dataframe\">\n",
              "  <thead>\n",
              "    <tr style=\"text-align: right;\">\n",
              "      <th></th>\n",
              "      <th>year</th>\n",
              "      <th>artist.inverted</th>\n",
              "      <th>track</th>\n",
              "      <th>time</th>\n",
              "      <th>genre</th>\n",
              "      <th>date.entered</th>\n",
              "      <th>date.peaked</th>\n",
              "      <th>week</th>\n",
              "      <th>ranking</th>\n",
              "    </tr>\n",
              "  </thead>\n",
              "  <tbody>\n",
              "    <tr>\n",
              "      <th>24087</th>\n",
              "      <td>2000</td>\n",
              "      <td>Ghostface Killah</td>\n",
              "      <td>Cherchez LaGhost</td>\n",
              "      <td>3:04</td>\n",
              "      <td>R&amp;B</td>\n",
              "      <td>2000-08-05</td>\n",
              "      <td>2000-08-05</td>\n",
              "      <td>x76th.week</td>\n",
              "      <td>NaN</td>\n",
              "    </tr>\n",
              "    <tr>\n",
              "      <th>24088</th>\n",
              "      <td>2000</td>\n",
              "      <td>Smith, Will</td>\n",
              "      <td>Freakin' It</td>\n",
              "      <td>3:58</td>\n",
              "      <td>Rap</td>\n",
              "      <td>2000-02-12</td>\n",
              "      <td>2000-02-12</td>\n",
              "      <td>x76th.week</td>\n",
              "      <td>NaN</td>\n",
              "    </tr>\n",
              "    <tr>\n",
              "      <th>24089</th>\n",
              "      <td>2000</td>\n",
              "      <td>Zombie Nation</td>\n",
              "      <td>Kernkraft 400</td>\n",
              "      <td>3:30</td>\n",
              "      <td>Rock</td>\n",
              "      <td>2000-09-02</td>\n",
              "      <td>2000-09-02</td>\n",
              "      <td>x76th.week</td>\n",
              "      <td>NaN</td>\n",
              "    </tr>\n",
              "    <tr>\n",
              "      <th>24090</th>\n",
              "      <td>2000</td>\n",
              "      <td>Eastsidaz, The</td>\n",
              "      <td>Got Beef</td>\n",
              "      <td>3:58</td>\n",
              "      <td>Rap</td>\n",
              "      <td>2000-07-01</td>\n",
              "      <td>2000-07-01</td>\n",
              "      <td>x76th.week</td>\n",
              "      <td>NaN</td>\n",
              "    </tr>\n",
              "    <tr>\n",
              "      <th>24091</th>\n",
              "      <td>2000</td>\n",
              "      <td>Fragma</td>\n",
              "      <td>Toca's Miracle</td>\n",
              "      <td>3:22</td>\n",
              "      <td>R&amp;B</td>\n",
              "      <td>2000-10-28</td>\n",
              "      <td>2000-10-28</td>\n",
              "      <td>x76th.week</td>\n",
              "      <td>NaN</td>\n",
              "    </tr>\n",
              "  </tbody>\n",
              "</table>\n",
              "</div>"
            ],
            "text/plain": [
              "       year   artist.inverted  ...        week ranking\n",
              "24087  2000  Ghostface Killah  ...  x76th.week     NaN\n",
              "24088  2000       Smith, Will  ...  x76th.week     NaN\n",
              "24089  2000     Zombie Nation  ...  x76th.week     NaN\n",
              "24090  2000    Eastsidaz, The  ...  x76th.week     NaN\n",
              "24091  2000            Fragma  ...  x76th.week     NaN\n",
              "\n",
              "[5 rows x 9 columns]"
            ]
          },
          "metadata": {
            "tags": []
          },
          "execution_count": 52
        }
      ]
    },
    {
      "cell_type": "markdown",
      "metadata": {
        "id": "SBqn2VqwDj6-",
        "colab_type": "text"
      },
      "source": [
        "### Ejercicios"
      ]
    },
    {
      "cell_type": "markdown",
      "metadata": {
        "id": "kTqbLTksDj6_",
        "colab_type": "text"
      },
      "source": [
        "1- Quédense sólo con la parte numérica de week sin usar regex, y conviertan a número los valores de la columna."
      ]
    },
    {
      "cell_type": "code",
      "metadata": {
        "id": "Va56vwN2Dj7A",
        "colab_type": "code",
        "colab": {
          "base_uri": "https://localhost:8080/",
          "height": 419
        },
        "outputId": "19ed184e-b330-4c0c-a088-2206ff9cc2ff"
      },
      "source": [
        "# billboard_2['week']\n",
        "billboard_2['week']=billboard_2['week'].str.replace(\"x\",\"\").str.replace(\"st\",\"\").str.replace(\"th\",\"\").str.replace(\"nd\",\"\").str.replace(\"rd\",\"\").str.replace(\".week\",\"\").astype(int)\n",
        "billboard_2"
      ],
      "execution_count": 69,
      "outputs": [
        {
          "output_type": "execute_result",
          "data": {
            "text/html": [
              "<div>\n",
              "<style scoped>\n",
              "    .dataframe tbody tr th:only-of-type {\n",
              "        vertical-align: middle;\n",
              "    }\n",
              "\n",
              "    .dataframe tbody tr th {\n",
              "        vertical-align: top;\n",
              "    }\n",
              "\n",
              "    .dataframe thead th {\n",
              "        text-align: right;\n",
              "    }\n",
              "</style>\n",
              "<table border=\"1\" class=\"dataframe\">\n",
              "  <thead>\n",
              "    <tr style=\"text-align: right;\">\n",
              "      <th></th>\n",
              "      <th>year</th>\n",
              "      <th>artist.inverted</th>\n",
              "      <th>track</th>\n",
              "      <th>time</th>\n",
              "      <th>genre</th>\n",
              "      <th>date.entered</th>\n",
              "      <th>date.peaked</th>\n",
              "      <th>week</th>\n",
              "      <th>ranking</th>\n",
              "    </tr>\n",
              "  </thead>\n",
              "  <tbody>\n",
              "    <tr>\n",
              "      <th>0</th>\n",
              "      <td>2000</td>\n",
              "      <td>Destiny's Child</td>\n",
              "      <td>Independent Women Part I</td>\n",
              "      <td>3:38</td>\n",
              "      <td>Rock</td>\n",
              "      <td>2000-09-23</td>\n",
              "      <td>2000-11-18</td>\n",
              "      <td>1</td>\n",
              "      <td>78.0</td>\n",
              "    </tr>\n",
              "    <tr>\n",
              "      <th>1</th>\n",
              "      <td>2000</td>\n",
              "      <td>Santana</td>\n",
              "      <td>Maria, Maria</td>\n",
              "      <td>4:18</td>\n",
              "      <td>Rock</td>\n",
              "      <td>2000-02-12</td>\n",
              "      <td>2000-04-08</td>\n",
              "      <td>1</td>\n",
              "      <td>15.0</td>\n",
              "    </tr>\n",
              "    <tr>\n",
              "      <th>2</th>\n",
              "      <td>2000</td>\n",
              "      <td>Savage Garden</td>\n",
              "      <td>I Knew I Loved You</td>\n",
              "      <td>4:07</td>\n",
              "      <td>Rock</td>\n",
              "      <td>1999-10-23</td>\n",
              "      <td>2000-01-29</td>\n",
              "      <td>1</td>\n",
              "      <td>71.0</td>\n",
              "    </tr>\n",
              "    <tr>\n",
              "      <th>3</th>\n",
              "      <td>2000</td>\n",
              "      <td>Madonna</td>\n",
              "      <td>Music</td>\n",
              "      <td>3:45</td>\n",
              "      <td>Rock</td>\n",
              "      <td>2000-08-12</td>\n",
              "      <td>2000-09-16</td>\n",
              "      <td>1</td>\n",
              "      <td>41.0</td>\n",
              "    </tr>\n",
              "    <tr>\n",
              "      <th>4</th>\n",
              "      <td>2000</td>\n",
              "      <td>Aguilera, Christina</td>\n",
              "      <td>Come On Over Baby (All I Want Is You)</td>\n",
              "      <td>3:38</td>\n",
              "      <td>Rock</td>\n",
              "      <td>2000-08-05</td>\n",
              "      <td>2000-10-14</td>\n",
              "      <td>1</td>\n",
              "      <td>57.0</td>\n",
              "    </tr>\n",
              "    <tr>\n",
              "      <th>...</th>\n",
              "      <td>...</td>\n",
              "      <td>...</td>\n",
              "      <td>...</td>\n",
              "      <td>...</td>\n",
              "      <td>...</td>\n",
              "      <td>...</td>\n",
              "      <td>...</td>\n",
              "      <td>...</td>\n",
              "      <td>...</td>\n",
              "    </tr>\n",
              "    <tr>\n",
              "      <th>24087</th>\n",
              "      <td>2000</td>\n",
              "      <td>Ghostface Killah</td>\n",
              "      <td>Cherchez LaGhost</td>\n",
              "      <td>3:04</td>\n",
              "      <td>R&amp;B</td>\n",
              "      <td>2000-08-05</td>\n",
              "      <td>2000-08-05</td>\n",
              "      <td>76</td>\n",
              "      <td>NaN</td>\n",
              "    </tr>\n",
              "    <tr>\n",
              "      <th>24088</th>\n",
              "      <td>2000</td>\n",
              "      <td>Smith, Will</td>\n",
              "      <td>Freakin' It</td>\n",
              "      <td>3:58</td>\n",
              "      <td>Rap</td>\n",
              "      <td>2000-02-12</td>\n",
              "      <td>2000-02-12</td>\n",
              "      <td>76</td>\n",
              "      <td>NaN</td>\n",
              "    </tr>\n",
              "    <tr>\n",
              "      <th>24089</th>\n",
              "      <td>2000</td>\n",
              "      <td>Zombie Nation</td>\n",
              "      <td>Kernkraft 400</td>\n",
              "      <td>3:30</td>\n",
              "      <td>Rock</td>\n",
              "      <td>2000-09-02</td>\n",
              "      <td>2000-09-02</td>\n",
              "      <td>76</td>\n",
              "      <td>NaN</td>\n",
              "    </tr>\n",
              "    <tr>\n",
              "      <th>24090</th>\n",
              "      <td>2000</td>\n",
              "      <td>Eastsidaz, The</td>\n",
              "      <td>Got Beef</td>\n",
              "      <td>3:58</td>\n",
              "      <td>Rap</td>\n",
              "      <td>2000-07-01</td>\n",
              "      <td>2000-07-01</td>\n",
              "      <td>76</td>\n",
              "      <td>NaN</td>\n",
              "    </tr>\n",
              "    <tr>\n",
              "      <th>24091</th>\n",
              "      <td>2000</td>\n",
              "      <td>Fragma</td>\n",
              "      <td>Toca's Miracle</td>\n",
              "      <td>3:22</td>\n",
              "      <td>R&amp;B</td>\n",
              "      <td>2000-10-28</td>\n",
              "      <td>2000-10-28</td>\n",
              "      <td>76</td>\n",
              "      <td>NaN</td>\n",
              "    </tr>\n",
              "  </tbody>\n",
              "</table>\n",
              "<p>24092 rows × 9 columns</p>\n",
              "</div>"
            ],
            "text/plain": [
              "       year      artist.inverted  ... week ranking\n",
              "0      2000      Destiny's Child  ...    1    78.0\n",
              "1      2000              Santana  ...    1    15.0\n",
              "2      2000        Savage Garden  ...    1    71.0\n",
              "3      2000              Madonna  ...    1    41.0\n",
              "4      2000  Aguilera, Christina  ...    1    57.0\n",
              "...     ...                  ...  ...  ...     ...\n",
              "24087  2000     Ghostface Killah  ...   76     NaN\n",
              "24088  2000          Smith, Will  ...   76     NaN\n",
              "24089  2000        Zombie Nation  ...   76     NaN\n",
              "24090  2000       Eastsidaz, The  ...   76     NaN\n",
              "24091  2000               Fragma  ...   76     NaN\n",
              "\n",
              "[24092 rows x 9 columns]"
            ]
          },
          "metadata": {
            "tags": []
          },
          "execution_count": 69
        }
      ]
    },
    {
      "cell_type": "markdown",
      "metadata": {
        "id": "HdCdLJeYDj7I",
        "colab_type": "text"
      },
      "source": [
        "2- Conviertan los valores de la columna ranking a entero. Tip: prueben usar pd.isna() para saber si un valor es nulo o no."
      ]
    },
    {
      "cell_type": "code",
      "metadata": {
        "id": "_AZwfd3jDj7J",
        "colab_type": "code",
        "colab": {
          "base_uri": "https://localhost:8080/",
          "height": 129
        },
        "outputId": "201a941b-e598-4918-b9b5-43df83ad12e6"
      },
      "source": [
        "billboard_2['ranking']= billboard_2['ranking'].astype(int) "
      ],
      "execution_count": 79,
      "outputs": [
        {
          "output_type": "error",
          "ename": "SyntaxError",
          "evalue": "ignored",
          "traceback": [
            "\u001b[0;36m  File \u001b[0;32m\"<ipython-input-79-d0ddc5ea2369>\"\u001b[0;36m, line \u001b[0;32m1\u001b[0m\n\u001b[0;31m    billboard_2['ranking']= billboard_2['ranking'].astype(int) if ~(pd.isna(billboard_2['ranking'])): billboard_2['ranking'].astype(int) None\u001b[0m\n\u001b[0m                                                                                                    ^\u001b[0m\n\u001b[0;31mSyntaxError\u001b[0m\u001b[0;31m:\u001b[0m invalid syntax\n"
          ]
        }
      ]
    },
    {
      "cell_type": "markdown",
      "metadata": {
        "id": "dwimRPyDDj7T",
        "colab_type": "text"
      },
      "source": [
        "3- Vean cuántas filas totales hay y eliminen las filas con nulos, ahora vuelvan a ver cuántas filas quedan."
      ]
    },
    {
      "cell_type": "code",
      "metadata": {
        "id": "Zmom0b-cDj7U",
        "colab_type": "code",
        "colab": {}
      },
      "source": [
        ""
      ],
      "execution_count": null,
      "outputs": []
    },
    {
      "cell_type": "code",
      "metadata": {
        "id": "Tw8gtwR8Dj7c",
        "colab_type": "code",
        "colab": {}
      },
      "source": [
        ""
      ],
      "execution_count": null,
      "outputs": []
    },
    {
      "cell_type": "code",
      "metadata": {
        "id": "2u67eLFsDj7h",
        "colab_type": "code",
        "colab": {}
      },
      "source": [
        ""
      ],
      "execution_count": null,
      "outputs": []
    },
    {
      "cell_type": "markdown",
      "metadata": {
        "id": "4fElqgTdDj7n",
        "colab_type": "text"
      },
      "source": [
        "# Series de Tiempo"
      ]
    },
    {
      "cell_type": "markdown",
      "metadata": {
        "id": "toOQ9ffEDj7o",
        "colab_type": "text"
      },
      "source": [
        "Las series de tiempo representan uno de los problemas mas interesantes en la ciencia de datos ya que refiere a eventos continuos y ordenados los cuales pueden ser independientes o tener alguna correlacion entre si. En este modulo veremos los metodos mas utilizados para manipular series de tiempo en pandas"
      ]
    },
    {
      "cell_type": "markdown",
      "metadata": {
        "id": "UEQ2YJ-0Dj7p",
        "colab_type": "text"
      },
      "source": [
        "## Datetime y metodos de manipulacion de series de tiempo\n",
        "\n",
        "Para esta seccion vamos a utilizar el dataset de consumo energetico de Alemania."
      ]
    },
    {
      "cell_type": "code",
      "metadata": {
        "id": "ODXmL9aPDj7q",
        "colab_type": "code",
        "colab": {
          "base_uri": "https://localhost:8080/",
          "height": 68
        },
        "outputId": "61167b69-2dfe-4294-f652-944ab1670641"
      },
      "source": [
        "!pip install arrow\n",
        "import arrow"
      ],
      "execution_count": 84,
      "outputs": [
        {
          "output_type": "stream",
          "text": [
            "Requirement already satisfied: arrow in /usr/local/lib/python3.6/dist-packages (0.16.0)\n",
            "Requirement already satisfied: python-dateutil>=2.7.0 in /usr/local/lib/python3.6/dist-packages (from arrow) (2.8.1)\n",
            "Requirement already satisfied: six>=1.5 in /usr/local/lib/python3.6/dist-packages (from python-dateutil>=2.7.0->arrow) (1.15.0)\n"
          ],
          "name": "stdout"
        }
      ]
    },
    {
      "cell_type": "code",
      "metadata": {
        "id": "8MoYCtX_hYAN",
        "colab_type": "code",
        "colab": {}
      },
      "source": [
        "df_energia = pd.read_csv('https://raw.githubusercontent.com/jenfly/opsd/master/opsd_germany_daily.csv')"
      ],
      "execution_count": 85,
      "outputs": []
    },
    {
      "cell_type": "markdown",
      "metadata": {
        "id": "Ecq2De3dDj7u",
        "colab_type": "text"
      },
      "source": [
        "Primeramente vamos a evaluar el dataset"
      ]
    },
    {
      "cell_type": "code",
      "metadata": {
        "id": "9gU6un3ADj7v",
        "colab_type": "code",
        "colab": {
          "base_uri": "https://localhost:8080/",
          "height": 359
        },
        "outputId": "6a87e5b2-6b96-427a-e30f-0c55b60b8911"
      },
      "source": [
        "df_energia.columns = ['Fecha', 'Consumo', 'Eolica', 'Solar', 'Suma']\n",
        "df_energia.tail(10)\n",
        "# estandar de fecha iso 8601 YYYY-MM-DD o bien YYYY-MM-DDhh:mm:ss"
      ],
      "execution_count": 86,
      "outputs": [
        {
          "output_type": "execute_result",
          "data": {
            "text/html": [
              "<div>\n",
              "<style scoped>\n",
              "    .dataframe tbody tr th:only-of-type {\n",
              "        vertical-align: middle;\n",
              "    }\n",
              "\n",
              "    .dataframe tbody tr th {\n",
              "        vertical-align: top;\n",
              "    }\n",
              "\n",
              "    .dataframe thead th {\n",
              "        text-align: right;\n",
              "    }\n",
              "</style>\n",
              "<table border=\"1\" class=\"dataframe\">\n",
              "  <thead>\n",
              "    <tr style=\"text-align: right;\">\n",
              "      <th></th>\n",
              "      <th>Fecha</th>\n",
              "      <th>Consumo</th>\n",
              "      <th>Eolica</th>\n",
              "      <th>Solar</th>\n",
              "      <th>Suma</th>\n",
              "    </tr>\n",
              "  </thead>\n",
              "  <tbody>\n",
              "    <tr>\n",
              "      <th>4373</th>\n",
              "      <td>2017-12-22</td>\n",
              "      <td>1423.23782</td>\n",
              "      <td>228.773</td>\n",
              "      <td>10.065</td>\n",
              "      <td>238.838</td>\n",
              "    </tr>\n",
              "    <tr>\n",
              "      <th>4374</th>\n",
              "      <td>2017-12-23</td>\n",
              "      <td>1272.17085</td>\n",
              "      <td>748.074</td>\n",
              "      <td>8.450</td>\n",
              "      <td>756.524</td>\n",
              "    </tr>\n",
              "    <tr>\n",
              "      <th>4375</th>\n",
              "      <td>2017-12-24</td>\n",
              "      <td>1141.75730</td>\n",
              "      <td>812.422</td>\n",
              "      <td>9.949</td>\n",
              "      <td>822.371</td>\n",
              "    </tr>\n",
              "    <tr>\n",
              "      <th>4376</th>\n",
              "      <td>2017-12-25</td>\n",
              "      <td>1111.28338</td>\n",
              "      <td>587.810</td>\n",
              "      <td>15.765</td>\n",
              "      <td>603.575</td>\n",
              "    </tr>\n",
              "    <tr>\n",
              "      <th>4377</th>\n",
              "      <td>2017-12-26</td>\n",
              "      <td>1130.11683</td>\n",
              "      <td>717.453</td>\n",
              "      <td>30.923</td>\n",
              "      <td>748.376</td>\n",
              "    </tr>\n",
              "    <tr>\n",
              "      <th>4378</th>\n",
              "      <td>2017-12-27</td>\n",
              "      <td>1263.94091</td>\n",
              "      <td>394.507</td>\n",
              "      <td>16.530</td>\n",
              "      <td>411.037</td>\n",
              "    </tr>\n",
              "    <tr>\n",
              "      <th>4379</th>\n",
              "      <td>2017-12-28</td>\n",
              "      <td>1299.86398</td>\n",
              "      <td>506.424</td>\n",
              "      <td>14.162</td>\n",
              "      <td>520.586</td>\n",
              "    </tr>\n",
              "    <tr>\n",
              "      <th>4380</th>\n",
              "      <td>2017-12-29</td>\n",
              "      <td>1295.08753</td>\n",
              "      <td>584.277</td>\n",
              "      <td>29.854</td>\n",
              "      <td>614.131</td>\n",
              "    </tr>\n",
              "    <tr>\n",
              "      <th>4381</th>\n",
              "      <td>2017-12-30</td>\n",
              "      <td>1215.44897</td>\n",
              "      <td>721.247</td>\n",
              "      <td>7.467</td>\n",
              "      <td>728.714</td>\n",
              "    </tr>\n",
              "    <tr>\n",
              "      <th>4382</th>\n",
              "      <td>2017-12-31</td>\n",
              "      <td>1107.11488</td>\n",
              "      <td>721.176</td>\n",
              "      <td>19.980</td>\n",
              "      <td>741.156</td>\n",
              "    </tr>\n",
              "  </tbody>\n",
              "</table>\n",
              "</div>"
            ],
            "text/plain": [
              "           Fecha     Consumo   Eolica   Solar     Suma\n",
              "4373  2017-12-22  1423.23782  228.773  10.065  238.838\n",
              "4374  2017-12-23  1272.17085  748.074   8.450  756.524\n",
              "4375  2017-12-24  1141.75730  812.422   9.949  822.371\n",
              "4376  2017-12-25  1111.28338  587.810  15.765  603.575\n",
              "4377  2017-12-26  1130.11683  717.453  30.923  748.376\n",
              "4378  2017-12-27  1263.94091  394.507  16.530  411.037\n",
              "4379  2017-12-28  1299.86398  506.424  14.162  520.586\n",
              "4380  2017-12-29  1295.08753  584.277  29.854  614.131\n",
              "4381  2017-12-30  1215.44897  721.247   7.467  728.714\n",
              "4382  2017-12-31  1107.11488  721.176  19.980  741.156"
            ]
          },
          "metadata": {
            "tags": []
          },
          "execution_count": 86
        }
      ]
    },
    {
      "cell_type": "markdown",
      "metadata": {
        "id": "Suk3bmA9Dj71",
        "colab_type": "text"
      },
      "source": [
        "Las columnas son las siguientes:\n",
        "    - Date — La fecha (yyyy-mm-dd)\n",
        "    - Consumo — Electricidad Consumida en GWh\n",
        "    - Eolica — Produccion de energia eolica en GWh\n",
        "    - Solar — Produccion de energia solar en GWh\n",
        "    - Suma — Suma de las dos anteriores GWh"
      ]
    },
    {
      "cell_type": "markdown",
      "metadata": {
        "id": "zPAABRzlDj72",
        "colab_type": "text"
      },
      "source": [
        "Antes de comenzar a explorar el dataset, veamos algunas funciones de pandas para crear fechas. El metodo to_datetime nos permite transformar un string en cierto formato a un objeto del tipo Timestamp, el cual consiste de una fecha y una hora. Podemos ver que acepta varios formatos"
      ]
    },
    {
      "cell_type": "code",
      "metadata": {
        "id": "3YiM0G5VDj73",
        "colab_type": "code",
        "colab": {
          "base_uri": "https://localhost:8080/",
          "height": 34
        },
        "outputId": "13842733-e4a9-449d-8a0d-cf7bedf16960"
      },
      "source": [
        "pd.to_datetime('2018-01-15 3:45pm')"
      ],
      "execution_count": 87,
      "outputs": [
        {
          "output_type": "execute_result",
          "data": {
            "text/plain": [
              "Timestamp('2018-01-15 15:45:00')"
            ]
          },
          "metadata": {
            "tags": []
          },
          "execution_count": 87
        }
      ]
    },
    {
      "cell_type": "code",
      "metadata": {
        "id": "csnbIa7xDj79",
        "colab_type": "code",
        "colab": {
          "base_uri": "https://localhost:8080/",
          "height": 34
        },
        "outputId": "f90671db-c7e1-474d-bf64-2e33598c37d9"
      },
      "source": [
        "pd.to_datetime('7/8/1952')"
      ],
      "execution_count": 88,
      "outputs": [
        {
          "output_type": "execute_result",
          "data": {
            "text/plain": [
              "Timestamp('1952-07-08 00:00:00')"
            ]
          },
          "metadata": {
            "tags": []
          },
          "execution_count": 88
        }
      ]
    },
    {
      "cell_type": "markdown",
      "metadata": {
        "id": "TgP19duQDj8B",
        "colab_type": "text"
      },
      "source": [
        "Vamos a convertir el dtype de nuestra columna Fecha de object a  datetime64"
      ]
    },
    {
      "cell_type": "code",
      "metadata": {
        "id": "E2aWoc1nDj8C",
        "colab_type": "code",
        "colab": {
          "base_uri": "https://localhost:8080/",
          "height": 221
        },
        "outputId": "06f31ad9-72b0-4f7e-d49f-ea6e13eecd71"
      },
      "source": [
        "df_energia.info()"
      ],
      "execution_count": 89,
      "outputs": [
        {
          "output_type": "stream",
          "text": [
            "<class 'pandas.core.frame.DataFrame'>\n",
            "RangeIndex: 4383 entries, 0 to 4382\n",
            "Data columns (total 5 columns):\n",
            " #   Column   Non-Null Count  Dtype  \n",
            "---  ------   --------------  -----  \n",
            " 0   Fecha    4383 non-null   object \n",
            " 1   Consumo  4383 non-null   float64\n",
            " 2   Eolica   2920 non-null   float64\n",
            " 3   Solar    2188 non-null   float64\n",
            " 4   Suma     2187 non-null   float64\n",
            "dtypes: float64(4), object(1)\n",
            "memory usage: 171.3+ KB\n"
          ],
          "name": "stdout"
        }
      ]
    },
    {
      "cell_type": "code",
      "metadata": {
        "id": "XDYV3wAXDj8I",
        "colab_type": "code",
        "colab": {}
      },
      "source": [
        "df_energia[\"Fecha\"] = pd.to_datetime(df_energia[\"Fecha\"])"
      ],
      "execution_count": 90,
      "outputs": []
    },
    {
      "cell_type": "code",
      "metadata": {
        "id": "iZy80xrcDj8P",
        "colab_type": "code",
        "colab": {
          "base_uri": "https://localhost:8080/",
          "height": 221
        },
        "outputId": "663017c8-6959-4e58-b709-964af08ed7a5"
      },
      "source": [
        "df_energia.info()"
      ],
      "execution_count": 91,
      "outputs": [
        {
          "output_type": "stream",
          "text": [
            "<class 'pandas.core.frame.DataFrame'>\n",
            "RangeIndex: 4383 entries, 0 to 4382\n",
            "Data columns (total 5 columns):\n",
            " #   Column   Non-Null Count  Dtype         \n",
            "---  ------   --------------  -----         \n",
            " 0   Fecha    4383 non-null   datetime64[ns]\n",
            " 1   Consumo  4383 non-null   float64       \n",
            " 2   Eolica   2920 non-null   float64       \n",
            " 3   Solar    2188 non-null   float64       \n",
            " 4   Suma     2187 non-null   float64       \n",
            "dtypes: datetime64[ns](1), float64(4)\n",
            "memory usage: 171.3 KB\n"
          ],
          "name": "stdout"
        }
      ]
    },
    {
      "cell_type": "markdown",
      "metadata": {
        "id": "nIUS6earDj8Y",
        "colab_type": "text"
      },
      "source": [
        "Convertir la columna *Fecha* en datetime nos permite filtrar usando la información temporal..."
      ]
    },
    {
      "cell_type": "code",
      "metadata": {
        "id": "s-SsR34BDj8Z",
        "colab_type": "code",
        "colab": {
          "base_uri": "https://localhost:8080/",
          "height": 204
        },
        "outputId": "129e0029-a8e2-4cac-9486-2426fecc3b85"
      },
      "source": [
        "df_energia.head()"
      ],
      "execution_count": 92,
      "outputs": [
        {
          "output_type": "execute_result",
          "data": {
            "text/html": [
              "<div>\n",
              "<style scoped>\n",
              "    .dataframe tbody tr th:only-of-type {\n",
              "        vertical-align: middle;\n",
              "    }\n",
              "\n",
              "    .dataframe tbody tr th {\n",
              "        vertical-align: top;\n",
              "    }\n",
              "\n",
              "    .dataframe thead th {\n",
              "        text-align: right;\n",
              "    }\n",
              "</style>\n",
              "<table border=\"1\" class=\"dataframe\">\n",
              "  <thead>\n",
              "    <tr style=\"text-align: right;\">\n",
              "      <th></th>\n",
              "      <th>Fecha</th>\n",
              "      <th>Consumo</th>\n",
              "      <th>Eolica</th>\n",
              "      <th>Solar</th>\n",
              "      <th>Suma</th>\n",
              "    </tr>\n",
              "  </thead>\n",
              "  <tbody>\n",
              "    <tr>\n",
              "      <th>0</th>\n",
              "      <td>2006-01-01</td>\n",
              "      <td>1069.184</td>\n",
              "      <td>NaN</td>\n",
              "      <td>NaN</td>\n",
              "      <td>NaN</td>\n",
              "    </tr>\n",
              "    <tr>\n",
              "      <th>1</th>\n",
              "      <td>2006-01-02</td>\n",
              "      <td>1380.521</td>\n",
              "      <td>NaN</td>\n",
              "      <td>NaN</td>\n",
              "      <td>NaN</td>\n",
              "    </tr>\n",
              "    <tr>\n",
              "      <th>2</th>\n",
              "      <td>2006-01-03</td>\n",
              "      <td>1442.533</td>\n",
              "      <td>NaN</td>\n",
              "      <td>NaN</td>\n",
              "      <td>NaN</td>\n",
              "    </tr>\n",
              "    <tr>\n",
              "      <th>3</th>\n",
              "      <td>2006-01-04</td>\n",
              "      <td>1457.217</td>\n",
              "      <td>NaN</td>\n",
              "      <td>NaN</td>\n",
              "      <td>NaN</td>\n",
              "    </tr>\n",
              "    <tr>\n",
              "      <th>4</th>\n",
              "      <td>2006-01-05</td>\n",
              "      <td>1477.131</td>\n",
              "      <td>NaN</td>\n",
              "      <td>NaN</td>\n",
              "      <td>NaN</td>\n",
              "    </tr>\n",
              "  </tbody>\n",
              "</table>\n",
              "</div>"
            ],
            "text/plain": [
              "       Fecha   Consumo  Eolica  Solar  Suma\n",
              "0 2006-01-01  1069.184     NaN    NaN   NaN\n",
              "1 2006-01-02  1380.521     NaN    NaN   NaN\n",
              "2 2006-01-03  1442.533     NaN    NaN   NaN\n",
              "3 2006-01-04  1457.217     NaN    NaN   NaN\n",
              "4 2006-01-05  1477.131     NaN    NaN   NaN"
            ]
          },
          "metadata": {
            "tags": []
          },
          "execution_count": 92
        }
      ]
    },
    {
      "cell_type": "markdown",
      "metadata": {
        "id": "VlvmCzaxDj8g",
        "colab_type": "text"
      },
      "source": [
        "Podemos traernos los casos posteriores a 2009, por default a partir del 1ero de enero..."
      ]
    },
    {
      "cell_type": "code",
      "metadata": {
        "id": "nbfDZNTDDj8i",
        "colab_type": "code",
        "colab": {
          "base_uri": "https://localhost:8080/",
          "height": 204
        },
        "outputId": "51704288-9704-46c6-df61-e355a7411950"
      },
      "source": [
        "df_energia[df_energia[\"Fecha\"] > \"2009\"].head()"
      ],
      "execution_count": 93,
      "outputs": [
        {
          "output_type": "execute_result",
          "data": {
            "text/html": [
              "<div>\n",
              "<style scoped>\n",
              "    .dataframe tbody tr th:only-of-type {\n",
              "        vertical-align: middle;\n",
              "    }\n",
              "\n",
              "    .dataframe tbody tr th {\n",
              "        vertical-align: top;\n",
              "    }\n",
              "\n",
              "    .dataframe thead th {\n",
              "        text-align: right;\n",
              "    }\n",
              "</style>\n",
              "<table border=\"1\" class=\"dataframe\">\n",
              "  <thead>\n",
              "    <tr style=\"text-align: right;\">\n",
              "      <th></th>\n",
              "      <th>Fecha</th>\n",
              "      <th>Consumo</th>\n",
              "      <th>Eolica</th>\n",
              "      <th>Solar</th>\n",
              "      <th>Suma</th>\n",
              "    </tr>\n",
              "  </thead>\n",
              "  <tbody>\n",
              "    <tr>\n",
              "      <th>1097</th>\n",
              "      <td>2009-01-02</td>\n",
              "      <td>1161.911</td>\n",
              "      <td>NaN</td>\n",
              "      <td>NaN</td>\n",
              "      <td>NaN</td>\n",
              "    </tr>\n",
              "    <tr>\n",
              "      <th>1098</th>\n",
              "      <td>2009-01-03</td>\n",
              "      <td>1178.078</td>\n",
              "      <td>NaN</td>\n",
              "      <td>NaN</td>\n",
              "      <td>NaN</td>\n",
              "    </tr>\n",
              "    <tr>\n",
              "      <th>1099</th>\n",
              "      <td>2009-01-04</td>\n",
              "      <td>1130.021</td>\n",
              "      <td>NaN</td>\n",
              "      <td>NaN</td>\n",
              "      <td>NaN</td>\n",
              "    </tr>\n",
              "    <tr>\n",
              "      <th>1100</th>\n",
              "      <td>2009-01-05</td>\n",
              "      <td>1333.041</td>\n",
              "      <td>NaN</td>\n",
              "      <td>NaN</td>\n",
              "      <td>NaN</td>\n",
              "    </tr>\n",
              "    <tr>\n",
              "      <th>1101</th>\n",
              "      <td>2009-01-06</td>\n",
              "      <td>1340.896</td>\n",
              "      <td>NaN</td>\n",
              "      <td>NaN</td>\n",
              "      <td>NaN</td>\n",
              "    </tr>\n",
              "  </tbody>\n",
              "</table>\n",
              "</div>"
            ],
            "text/plain": [
              "          Fecha   Consumo  Eolica  Solar  Suma\n",
              "1097 2009-01-02  1161.911     NaN    NaN   NaN\n",
              "1098 2009-01-03  1178.078     NaN    NaN   NaN\n",
              "1099 2009-01-04  1130.021     NaN    NaN   NaN\n",
              "1100 2009-01-05  1333.041     NaN    NaN   NaN\n",
              "1101 2009-01-06  1340.896     NaN    NaN   NaN"
            ]
          },
          "metadata": {
            "tags": []
          },
          "execution_count": 93
        }
      ]
    },
    {
      "cell_type": "markdown",
      "metadata": {
        "id": "bgtyErQTDj8o",
        "colab_type": "text"
      },
      "source": [
        "Con el método **.between** podemos filtrar por un rango de fechas... "
      ]
    },
    {
      "cell_type": "code",
      "metadata": {
        "id": "8PFcmE23Dj8q",
        "colab_type": "code",
        "colab": {
          "base_uri": "https://localhost:8080/",
          "height": 204
        },
        "outputId": "ca66fc48-92b2-4747-fa9a-9f21c7115dea"
      },
      "source": [
        "df_energia[df_energia[\"Fecha\"].between(\"2008\", \"2010\")].head()"
      ],
      "execution_count": 94,
      "outputs": [
        {
          "output_type": "execute_result",
          "data": {
            "text/html": [
              "<div>\n",
              "<style scoped>\n",
              "    .dataframe tbody tr th:only-of-type {\n",
              "        vertical-align: middle;\n",
              "    }\n",
              "\n",
              "    .dataframe tbody tr th {\n",
              "        vertical-align: top;\n",
              "    }\n",
              "\n",
              "    .dataframe thead th {\n",
              "        text-align: right;\n",
              "    }\n",
              "</style>\n",
              "<table border=\"1\" class=\"dataframe\">\n",
              "  <thead>\n",
              "    <tr style=\"text-align: right;\">\n",
              "      <th></th>\n",
              "      <th>Fecha</th>\n",
              "      <th>Consumo</th>\n",
              "      <th>Eolica</th>\n",
              "      <th>Solar</th>\n",
              "      <th>Suma</th>\n",
              "    </tr>\n",
              "  </thead>\n",
              "  <tbody>\n",
              "    <tr>\n",
              "      <th>730</th>\n",
              "      <td>2008-01-01</td>\n",
              "      <td>1083.424</td>\n",
              "      <td>NaN</td>\n",
              "      <td>NaN</td>\n",
              "      <td>NaN</td>\n",
              "    </tr>\n",
              "    <tr>\n",
              "      <th>731</th>\n",
              "      <td>2008-01-02</td>\n",
              "      <td>1396.483</td>\n",
              "      <td>NaN</td>\n",
              "      <td>NaN</td>\n",
              "      <td>NaN</td>\n",
              "    </tr>\n",
              "    <tr>\n",
              "      <th>732</th>\n",
              "      <td>2008-01-03</td>\n",
              "      <td>1523.427</td>\n",
              "      <td>NaN</td>\n",
              "      <td>NaN</td>\n",
              "      <td>NaN</td>\n",
              "    </tr>\n",
              "    <tr>\n",
              "      <th>733</th>\n",
              "      <td>2008-01-04</td>\n",
              "      <td>1512.429</td>\n",
              "      <td>NaN</td>\n",
              "      <td>NaN</td>\n",
              "      <td>NaN</td>\n",
              "    </tr>\n",
              "    <tr>\n",
              "      <th>734</th>\n",
              "      <td>2008-01-05</td>\n",
              "      <td>1355.843</td>\n",
              "      <td>NaN</td>\n",
              "      <td>NaN</td>\n",
              "      <td>NaN</td>\n",
              "    </tr>\n",
              "  </tbody>\n",
              "</table>\n",
              "</div>"
            ],
            "text/plain": [
              "         Fecha   Consumo  Eolica  Solar  Suma\n",
              "730 2008-01-01  1083.424     NaN    NaN   NaN\n",
              "731 2008-01-02  1396.483     NaN    NaN   NaN\n",
              "732 2008-01-03  1523.427     NaN    NaN   NaN\n",
              "733 2008-01-04  1512.429     NaN    NaN   NaN\n",
              "734 2008-01-05  1355.843     NaN    NaN   NaN"
            ]
          },
          "metadata": {
            "tags": []
          },
          "execution_count": 94
        }
      ]
    },
    {
      "cell_type": "markdown",
      "metadata": {
        "id": "9xHie74NDj8x",
        "colab_type": "text"
      },
      "source": [
        "En vez de filtrar usando años podemos pasar la fecha completa (siempre tengan presente el formato de la fecha)..."
      ]
    },
    {
      "cell_type": "code",
      "metadata": {
        "id": "3Tvp9mxTDj8y",
        "colab_type": "code",
        "colab": {
          "base_uri": "https://localhost:8080/",
          "height": 204
        },
        "outputId": "74a33cd2-77a9-4a3a-a793-cb99f0ad2b60"
      },
      "source": [
        "df_energia[df_energia[\"Fecha\"].between(\"2008-01-01\", \"2010-01-22\")].head()"
      ],
      "execution_count": 95,
      "outputs": [
        {
          "output_type": "execute_result",
          "data": {
            "text/html": [
              "<div>\n",
              "<style scoped>\n",
              "    .dataframe tbody tr th:only-of-type {\n",
              "        vertical-align: middle;\n",
              "    }\n",
              "\n",
              "    .dataframe tbody tr th {\n",
              "        vertical-align: top;\n",
              "    }\n",
              "\n",
              "    .dataframe thead th {\n",
              "        text-align: right;\n",
              "    }\n",
              "</style>\n",
              "<table border=\"1\" class=\"dataframe\">\n",
              "  <thead>\n",
              "    <tr style=\"text-align: right;\">\n",
              "      <th></th>\n",
              "      <th>Fecha</th>\n",
              "      <th>Consumo</th>\n",
              "      <th>Eolica</th>\n",
              "      <th>Solar</th>\n",
              "      <th>Suma</th>\n",
              "    </tr>\n",
              "  </thead>\n",
              "  <tbody>\n",
              "    <tr>\n",
              "      <th>730</th>\n",
              "      <td>2008-01-01</td>\n",
              "      <td>1083.424</td>\n",
              "      <td>NaN</td>\n",
              "      <td>NaN</td>\n",
              "      <td>NaN</td>\n",
              "    </tr>\n",
              "    <tr>\n",
              "      <th>731</th>\n",
              "      <td>2008-01-02</td>\n",
              "      <td>1396.483</td>\n",
              "      <td>NaN</td>\n",
              "      <td>NaN</td>\n",
              "      <td>NaN</td>\n",
              "    </tr>\n",
              "    <tr>\n",
              "      <th>732</th>\n",
              "      <td>2008-01-03</td>\n",
              "      <td>1523.427</td>\n",
              "      <td>NaN</td>\n",
              "      <td>NaN</td>\n",
              "      <td>NaN</td>\n",
              "    </tr>\n",
              "    <tr>\n",
              "      <th>733</th>\n",
              "      <td>2008-01-04</td>\n",
              "      <td>1512.429</td>\n",
              "      <td>NaN</td>\n",
              "      <td>NaN</td>\n",
              "      <td>NaN</td>\n",
              "    </tr>\n",
              "    <tr>\n",
              "      <th>734</th>\n",
              "      <td>2008-01-05</td>\n",
              "      <td>1355.843</td>\n",
              "      <td>NaN</td>\n",
              "      <td>NaN</td>\n",
              "      <td>NaN</td>\n",
              "    </tr>\n",
              "  </tbody>\n",
              "</table>\n",
              "</div>"
            ],
            "text/plain": [
              "         Fecha   Consumo  Eolica  Solar  Suma\n",
              "730 2008-01-01  1083.424     NaN    NaN   NaN\n",
              "731 2008-01-02  1396.483     NaN    NaN   NaN\n",
              "732 2008-01-03  1523.427     NaN    NaN   NaN\n",
              "733 2008-01-04  1512.429     NaN    NaN   NaN\n",
              "734 2008-01-05  1355.843     NaN    NaN   NaN"
            ]
          },
          "metadata": {
            "tags": []
          },
          "execution_count": 95
        }
      ]
    },
    {
      "cell_type": "markdown",
      "metadata": {
        "id": "zPABwTxtDj83",
        "colab_type": "text"
      },
      "source": [
        "Y como si fuera poco también podemos filtrar sólo usando el año y el mes, sin especificar el día..."
      ]
    },
    {
      "cell_type": "code",
      "metadata": {
        "id": "6rGMHy_-Dj84",
        "colab_type": "code",
        "colab": {
          "base_uri": "https://localhost:8080/",
          "height": 204
        },
        "outputId": "7e17b659-3239-456f-ae2e-3a2f27deb479"
      },
      "source": [
        "df_energia[df_energia[\"Fecha\"].between(\"2008-01\", \"2010-02\")].head()"
      ],
      "execution_count": 96,
      "outputs": [
        {
          "output_type": "execute_result",
          "data": {
            "text/html": [
              "<div>\n",
              "<style scoped>\n",
              "    .dataframe tbody tr th:only-of-type {\n",
              "        vertical-align: middle;\n",
              "    }\n",
              "\n",
              "    .dataframe tbody tr th {\n",
              "        vertical-align: top;\n",
              "    }\n",
              "\n",
              "    .dataframe thead th {\n",
              "        text-align: right;\n",
              "    }\n",
              "</style>\n",
              "<table border=\"1\" class=\"dataframe\">\n",
              "  <thead>\n",
              "    <tr style=\"text-align: right;\">\n",
              "      <th></th>\n",
              "      <th>Fecha</th>\n",
              "      <th>Consumo</th>\n",
              "      <th>Eolica</th>\n",
              "      <th>Solar</th>\n",
              "      <th>Suma</th>\n",
              "    </tr>\n",
              "  </thead>\n",
              "  <tbody>\n",
              "    <tr>\n",
              "      <th>730</th>\n",
              "      <td>2008-01-01</td>\n",
              "      <td>1083.424</td>\n",
              "      <td>NaN</td>\n",
              "      <td>NaN</td>\n",
              "      <td>NaN</td>\n",
              "    </tr>\n",
              "    <tr>\n",
              "      <th>731</th>\n",
              "      <td>2008-01-02</td>\n",
              "      <td>1396.483</td>\n",
              "      <td>NaN</td>\n",
              "      <td>NaN</td>\n",
              "      <td>NaN</td>\n",
              "    </tr>\n",
              "    <tr>\n",
              "      <th>732</th>\n",
              "      <td>2008-01-03</td>\n",
              "      <td>1523.427</td>\n",
              "      <td>NaN</td>\n",
              "      <td>NaN</td>\n",
              "      <td>NaN</td>\n",
              "    </tr>\n",
              "    <tr>\n",
              "      <th>733</th>\n",
              "      <td>2008-01-04</td>\n",
              "      <td>1512.429</td>\n",
              "      <td>NaN</td>\n",
              "      <td>NaN</td>\n",
              "      <td>NaN</td>\n",
              "    </tr>\n",
              "    <tr>\n",
              "      <th>734</th>\n",
              "      <td>2008-01-05</td>\n",
              "      <td>1355.843</td>\n",
              "      <td>NaN</td>\n",
              "      <td>NaN</td>\n",
              "      <td>NaN</td>\n",
              "    </tr>\n",
              "  </tbody>\n",
              "</table>\n",
              "</div>"
            ],
            "text/plain": [
              "         Fecha   Consumo  Eolica  Solar  Suma\n",
              "730 2008-01-01  1083.424     NaN    NaN   NaN\n",
              "731 2008-01-02  1396.483     NaN    NaN   NaN\n",
              "732 2008-01-03  1523.427     NaN    NaN   NaN\n",
              "733 2008-01-04  1512.429     NaN    NaN   NaN\n",
              "734 2008-01-05  1355.843     NaN    NaN   NaN"
            ]
          },
          "metadata": {
            "tags": []
          },
          "execution_count": 96
        }
      ]
    },
    {
      "cell_type": "code",
      "metadata": {
        "id": "SkVX7BtuDj9A",
        "colab_type": "code",
        "colab": {
          "base_uri": "https://localhost:8080/",
          "height": 204
        },
        "outputId": "2306e409-c4e2-48a7-ee8c-4e370bc96367"
      },
      "source": [
        "df_energia[df_energia[\"Fecha\"].between(\"2008-01\", \"2010-02\")].tail()"
      ],
      "execution_count": 97,
      "outputs": [
        {
          "output_type": "execute_result",
          "data": {
            "text/html": [
              "<div>\n",
              "<style scoped>\n",
              "    .dataframe tbody tr th:only-of-type {\n",
              "        vertical-align: middle;\n",
              "    }\n",
              "\n",
              "    .dataframe tbody tr th {\n",
              "        vertical-align: top;\n",
              "    }\n",
              "\n",
              "    .dataframe thead th {\n",
              "        text-align: right;\n",
              "    }\n",
              "</style>\n",
              "<table border=\"1\" class=\"dataframe\">\n",
              "  <thead>\n",
              "    <tr style=\"text-align: right;\">\n",
              "      <th></th>\n",
              "      <th>Fecha</th>\n",
              "      <th>Consumo</th>\n",
              "      <th>Eolica</th>\n",
              "      <th>Solar</th>\n",
              "      <th>Suma</th>\n",
              "    </tr>\n",
              "  </thead>\n",
              "  <tbody>\n",
              "    <tr>\n",
              "      <th>1488</th>\n",
              "      <td>2010-01-28</td>\n",
              "      <td>1585.269</td>\n",
              "      <td>306.149</td>\n",
              "      <td>NaN</td>\n",
              "      <td>NaN</td>\n",
              "    </tr>\n",
              "    <tr>\n",
              "      <th>1489</th>\n",
              "      <td>2010-01-29</td>\n",
              "      <td>1493.020</td>\n",
              "      <td>145.473</td>\n",
              "      <td>NaN</td>\n",
              "      <td>NaN</td>\n",
              "    </tr>\n",
              "    <tr>\n",
              "      <th>1490</th>\n",
              "      <td>2010-01-30</td>\n",
              "      <td>1322.933</td>\n",
              "      <td>189.627</td>\n",
              "      <td>NaN</td>\n",
              "      <td>NaN</td>\n",
              "    </tr>\n",
              "    <tr>\n",
              "      <th>1491</th>\n",
              "      <td>2010-01-31</td>\n",
              "      <td>1203.635</td>\n",
              "      <td>174.109</td>\n",
              "      <td>NaN</td>\n",
              "      <td>NaN</td>\n",
              "    </tr>\n",
              "    <tr>\n",
              "      <th>1492</th>\n",
              "      <td>2010-02-01</td>\n",
              "      <td>1536.453</td>\n",
              "      <td>151.409</td>\n",
              "      <td>NaN</td>\n",
              "      <td>NaN</td>\n",
              "    </tr>\n",
              "  </tbody>\n",
              "</table>\n",
              "</div>"
            ],
            "text/plain": [
              "          Fecha   Consumo   Eolica  Solar  Suma\n",
              "1488 2010-01-28  1585.269  306.149    NaN   NaN\n",
              "1489 2010-01-29  1493.020  145.473    NaN   NaN\n",
              "1490 2010-01-30  1322.933  189.627    NaN   NaN\n",
              "1491 2010-01-31  1203.635  174.109    NaN   NaN\n",
              "1492 2010-02-01  1536.453  151.409    NaN   NaN"
            ]
          },
          "metadata": {
            "tags": []
          },
          "execution_count": 97
        }
      ]
    },
    {
      "cell_type": "markdown",
      "metadata": {
        "id": "QG5LXp7ODj9F",
        "colab_type": "text"
      },
      "source": [
        "Ahora, vamos a convertir nuestra columna Fecha en un índice temporal... Esto va a crear un nuevo tipo de objeto llamado DatetimeIndex"
      ]
    },
    {
      "cell_type": "code",
      "metadata": {
        "id": "bV2lo2CcDj9G",
        "colab_type": "code",
        "colab": {}
      },
      "source": [
        "df_energia = df_energia.set_index(\"Fecha\")"
      ],
      "execution_count": 98,
      "outputs": []
    },
    {
      "cell_type": "code",
      "metadata": {
        "id": "j_8MqtfCDj9L",
        "colab_type": "code",
        "colab": {
          "base_uri": "https://localhost:8080/",
          "height": 390
        },
        "outputId": "71d47974-a060-4b1c-b8d0-1148345c95dd"
      },
      "source": [
        "df_energia.tail(10)"
      ],
      "execution_count": 99,
      "outputs": [
        {
          "output_type": "execute_result",
          "data": {
            "text/html": [
              "<div>\n",
              "<style scoped>\n",
              "    .dataframe tbody tr th:only-of-type {\n",
              "        vertical-align: middle;\n",
              "    }\n",
              "\n",
              "    .dataframe tbody tr th {\n",
              "        vertical-align: top;\n",
              "    }\n",
              "\n",
              "    .dataframe thead th {\n",
              "        text-align: right;\n",
              "    }\n",
              "</style>\n",
              "<table border=\"1\" class=\"dataframe\">\n",
              "  <thead>\n",
              "    <tr style=\"text-align: right;\">\n",
              "      <th></th>\n",
              "      <th>Consumo</th>\n",
              "      <th>Eolica</th>\n",
              "      <th>Solar</th>\n",
              "      <th>Suma</th>\n",
              "    </tr>\n",
              "    <tr>\n",
              "      <th>Fecha</th>\n",
              "      <th></th>\n",
              "      <th></th>\n",
              "      <th></th>\n",
              "      <th></th>\n",
              "    </tr>\n",
              "  </thead>\n",
              "  <tbody>\n",
              "    <tr>\n",
              "      <th>2017-12-22</th>\n",
              "      <td>1423.23782</td>\n",
              "      <td>228.773</td>\n",
              "      <td>10.065</td>\n",
              "      <td>238.838</td>\n",
              "    </tr>\n",
              "    <tr>\n",
              "      <th>2017-12-23</th>\n",
              "      <td>1272.17085</td>\n",
              "      <td>748.074</td>\n",
              "      <td>8.450</td>\n",
              "      <td>756.524</td>\n",
              "    </tr>\n",
              "    <tr>\n",
              "      <th>2017-12-24</th>\n",
              "      <td>1141.75730</td>\n",
              "      <td>812.422</td>\n",
              "      <td>9.949</td>\n",
              "      <td>822.371</td>\n",
              "    </tr>\n",
              "    <tr>\n",
              "      <th>2017-12-25</th>\n",
              "      <td>1111.28338</td>\n",
              "      <td>587.810</td>\n",
              "      <td>15.765</td>\n",
              "      <td>603.575</td>\n",
              "    </tr>\n",
              "    <tr>\n",
              "      <th>2017-12-26</th>\n",
              "      <td>1130.11683</td>\n",
              "      <td>717.453</td>\n",
              "      <td>30.923</td>\n",
              "      <td>748.376</td>\n",
              "    </tr>\n",
              "    <tr>\n",
              "      <th>2017-12-27</th>\n",
              "      <td>1263.94091</td>\n",
              "      <td>394.507</td>\n",
              "      <td>16.530</td>\n",
              "      <td>411.037</td>\n",
              "    </tr>\n",
              "    <tr>\n",
              "      <th>2017-12-28</th>\n",
              "      <td>1299.86398</td>\n",
              "      <td>506.424</td>\n",
              "      <td>14.162</td>\n",
              "      <td>520.586</td>\n",
              "    </tr>\n",
              "    <tr>\n",
              "      <th>2017-12-29</th>\n",
              "      <td>1295.08753</td>\n",
              "      <td>584.277</td>\n",
              "      <td>29.854</td>\n",
              "      <td>614.131</td>\n",
              "    </tr>\n",
              "    <tr>\n",
              "      <th>2017-12-30</th>\n",
              "      <td>1215.44897</td>\n",
              "      <td>721.247</td>\n",
              "      <td>7.467</td>\n",
              "      <td>728.714</td>\n",
              "    </tr>\n",
              "    <tr>\n",
              "      <th>2017-12-31</th>\n",
              "      <td>1107.11488</td>\n",
              "      <td>721.176</td>\n",
              "      <td>19.980</td>\n",
              "      <td>741.156</td>\n",
              "    </tr>\n",
              "  </tbody>\n",
              "</table>\n",
              "</div>"
            ],
            "text/plain": [
              "               Consumo   Eolica   Solar     Suma\n",
              "Fecha                                           \n",
              "2017-12-22  1423.23782  228.773  10.065  238.838\n",
              "2017-12-23  1272.17085  748.074   8.450  756.524\n",
              "2017-12-24  1141.75730  812.422   9.949  822.371\n",
              "2017-12-25  1111.28338  587.810  15.765  603.575\n",
              "2017-12-26  1130.11683  717.453  30.923  748.376\n",
              "2017-12-27  1263.94091  394.507  16.530  411.037\n",
              "2017-12-28  1299.86398  506.424  14.162  520.586\n",
              "2017-12-29  1295.08753  584.277  29.854  614.131\n",
              "2017-12-30  1215.44897  721.247   7.467  728.714\n",
              "2017-12-31  1107.11488  721.176  19.980  741.156"
            ]
          },
          "metadata": {
            "tags": []
          },
          "execution_count": 99
        }
      ]
    },
    {
      "cell_type": "code",
      "metadata": {
        "id": "jrNOpq_IDj9Q",
        "colab_type": "code",
        "colab": {
          "base_uri": "https://localhost:8080/",
          "height": 153
        },
        "outputId": "7f90daf7-7df5-4e77-dbc2-d48c18e93570"
      },
      "source": [
        "df_energia.index"
      ],
      "execution_count": 100,
      "outputs": [
        {
          "output_type": "execute_result",
          "data": {
            "text/plain": [
              "DatetimeIndex(['2006-01-01', '2006-01-02', '2006-01-03', '2006-01-04',\n",
              "               '2006-01-05', '2006-01-06', '2006-01-07', '2006-01-08',\n",
              "               '2006-01-09', '2006-01-10',\n",
              "               ...\n",
              "               '2017-12-22', '2017-12-23', '2017-12-24', '2017-12-25',\n",
              "               '2017-12-26', '2017-12-27', '2017-12-28', '2017-12-29',\n",
              "               '2017-12-30', '2017-12-31'],\n",
              "              dtype='datetime64[ns]', name='Fecha', length=4383, freq=None)"
            ]
          },
          "metadata": {
            "tags": []
          },
          "execution_count": 100
        }
      ]
    },
    {
      "cell_type": "markdown",
      "metadata": {
        "id": "atrvrToEDj9U",
        "colab_type": "text"
      },
      "source": [
        "Primeramente vamos a agregar columnas que nos proporcionen mas informacion sobre las fechas"
      ]
    },
    {
      "cell_type": "code",
      "metadata": {
        "id": "oY_RlmHyDj9V",
        "colab_type": "code",
        "colab": {
          "base_uri": "https://localhost:8080/",
          "height": 235
        },
        "outputId": "0809bef7-ed34-42d1-823f-cbdce19b84b9"
      },
      "source": [
        "df_energia['Anio'] = df_energia.index.year\n",
        "df_energia['Mes'] = df_energia.index.month\n",
        "df_energia['Dia'] = df_energia.index.day_name()\n",
        "df_energia.sample(5, random_state=0)"
      ],
      "execution_count": 101,
      "outputs": [
        {
          "output_type": "execute_result",
          "data": {
            "text/html": [
              "<div>\n",
              "<style scoped>\n",
              "    .dataframe tbody tr th:only-of-type {\n",
              "        vertical-align: middle;\n",
              "    }\n",
              "\n",
              "    .dataframe tbody tr th {\n",
              "        vertical-align: top;\n",
              "    }\n",
              "\n",
              "    .dataframe thead th {\n",
              "        text-align: right;\n",
              "    }\n",
              "</style>\n",
              "<table border=\"1\" class=\"dataframe\">\n",
              "  <thead>\n",
              "    <tr style=\"text-align: right;\">\n",
              "      <th></th>\n",
              "      <th>Consumo</th>\n",
              "      <th>Eolica</th>\n",
              "      <th>Solar</th>\n",
              "      <th>Suma</th>\n",
              "      <th>Anio</th>\n",
              "      <th>Mes</th>\n",
              "      <th>Dia</th>\n",
              "    </tr>\n",
              "    <tr>\n",
              "      <th>Fecha</th>\n",
              "      <th></th>\n",
              "      <th></th>\n",
              "      <th></th>\n",
              "      <th></th>\n",
              "      <th></th>\n",
              "      <th></th>\n",
              "      <th></th>\n",
              "    </tr>\n",
              "  </thead>\n",
              "  <tbody>\n",
              "    <tr>\n",
              "      <th>2008-08-23</th>\n",
              "      <td>1152.011</td>\n",
              "      <td>NaN</td>\n",
              "      <td>NaN</td>\n",
              "      <td>NaN</td>\n",
              "      <td>2008</td>\n",
              "      <td>8</td>\n",
              "      <td>Saturday</td>\n",
              "    </tr>\n",
              "    <tr>\n",
              "      <th>2013-08-08</th>\n",
              "      <td>1291.984</td>\n",
              "      <td>79.666</td>\n",
              "      <td>93.371</td>\n",
              "      <td>173.037</td>\n",
              "      <td>2013</td>\n",
              "      <td>8</td>\n",
              "      <td>Thursday</td>\n",
              "    </tr>\n",
              "    <tr>\n",
              "      <th>2009-08-27</th>\n",
              "      <td>1281.057</td>\n",
              "      <td>NaN</td>\n",
              "      <td>NaN</td>\n",
              "      <td>NaN</td>\n",
              "      <td>2009</td>\n",
              "      <td>8</td>\n",
              "      <td>Thursday</td>\n",
              "    </tr>\n",
              "    <tr>\n",
              "      <th>2015-10-02</th>\n",
              "      <td>1391.050</td>\n",
              "      <td>81.229</td>\n",
              "      <td>160.641</td>\n",
              "      <td>241.870</td>\n",
              "      <td>2015</td>\n",
              "      <td>10</td>\n",
              "      <td>Friday</td>\n",
              "    </tr>\n",
              "    <tr>\n",
              "      <th>2009-06-02</th>\n",
              "      <td>1201.522</td>\n",
              "      <td>NaN</td>\n",
              "      <td>NaN</td>\n",
              "      <td>NaN</td>\n",
              "      <td>2009</td>\n",
              "      <td>6</td>\n",
              "      <td>Tuesday</td>\n",
              "    </tr>\n",
              "  </tbody>\n",
              "</table>\n",
              "</div>"
            ],
            "text/plain": [
              "             Consumo  Eolica    Solar     Suma  Anio  Mes       Dia\n",
              "Fecha                                                              \n",
              "2008-08-23  1152.011     NaN      NaN      NaN  2008    8  Saturday\n",
              "2013-08-08  1291.984  79.666   93.371  173.037  2013    8  Thursday\n",
              "2009-08-27  1281.057     NaN      NaN      NaN  2009    8  Thursday\n",
              "2015-10-02  1391.050  81.229  160.641  241.870  2015   10    Friday\n",
              "2009-06-02  1201.522     NaN      NaN      NaN  2009    6   Tuesday"
            ]
          },
          "metadata": {
            "tags": []
          },
          "execution_count": 101
        }
      ]
    },
    {
      "cell_type": "markdown",
      "metadata": {
        "id": "2ybxlQ1BDj9Z",
        "colab_type": "text"
      },
      "source": [
        "Como creamos el indice por las fechas, podemos localizar cualquier dia que querramos ahora"
      ]
    },
    {
      "cell_type": "code",
      "metadata": {
        "id": "CaSNQ32QDj9a",
        "colab_type": "code",
        "colab": {
          "base_uri": "https://localhost:8080/",
          "height": 153
        },
        "outputId": "53dacf84-b679-42b5-cf4a-94ac23825d73"
      },
      "source": [
        "df_energia.loc['2017-08-10']"
      ],
      "execution_count": 103,
      "outputs": [
        {
          "output_type": "execute_result",
          "data": {
            "text/plain": [
              "Consumo     1351.49\n",
              "Eolica      100.274\n",
              "Solar         71.16\n",
              "Suma        171.434\n",
              "Anio           2017\n",
              "Mes               8\n",
              "Dia        Thursday\n",
              "Name: 2017-08-10 00:00:00, dtype: object"
            ]
          },
          "metadata": {
            "tags": []
          },
          "execution_count": 103
        }
      ]
    },
    {
      "cell_type": "markdown",
      "metadata": {
        "id": "FhsM_5B0Dj9d",
        "colab_type": "text"
      },
      "source": [
        "Incluso podemos buscar rangos de fechas"
      ]
    },
    {
      "cell_type": "code",
      "metadata": {
        "id": "-f_F2DSrDj9e",
        "colab_type": "code",
        "colab": {
          "base_uri": "https://localhost:8080/",
          "height": 173
        },
        "outputId": "956a5066-7bcd-4302-cbd2-579d6434d30a"
      },
      "source": [
        "df_energia.loc['2014-01-20':'2014-01-22']"
      ],
      "execution_count": 104,
      "outputs": [
        {
          "output_type": "execute_result",
          "data": {
            "text/html": [
              "<div>\n",
              "<style scoped>\n",
              "    .dataframe tbody tr th:only-of-type {\n",
              "        vertical-align: middle;\n",
              "    }\n",
              "\n",
              "    .dataframe tbody tr th {\n",
              "        vertical-align: top;\n",
              "    }\n",
              "\n",
              "    .dataframe thead th {\n",
              "        text-align: right;\n",
              "    }\n",
              "</style>\n",
              "<table border=\"1\" class=\"dataframe\">\n",
              "  <thead>\n",
              "    <tr style=\"text-align: right;\">\n",
              "      <th></th>\n",
              "      <th>Consumo</th>\n",
              "      <th>Eolica</th>\n",
              "      <th>Solar</th>\n",
              "      <th>Suma</th>\n",
              "      <th>Anio</th>\n",
              "      <th>Mes</th>\n",
              "      <th>Dia</th>\n",
              "    </tr>\n",
              "    <tr>\n",
              "      <th>Fecha</th>\n",
              "      <th></th>\n",
              "      <th></th>\n",
              "      <th></th>\n",
              "      <th></th>\n",
              "      <th></th>\n",
              "      <th></th>\n",
              "      <th></th>\n",
              "    </tr>\n",
              "  </thead>\n",
              "  <tbody>\n",
              "    <tr>\n",
              "      <th>2014-01-20</th>\n",
              "      <td>1590.687</td>\n",
              "      <td>78.647</td>\n",
              "      <td>6.371</td>\n",
              "      <td>85.018</td>\n",
              "      <td>2014</td>\n",
              "      <td>1</td>\n",
              "      <td>Monday</td>\n",
              "    </tr>\n",
              "    <tr>\n",
              "      <th>2014-01-21</th>\n",
              "      <td>1624.806</td>\n",
              "      <td>15.643</td>\n",
              "      <td>5.835</td>\n",
              "      <td>21.478</td>\n",
              "      <td>2014</td>\n",
              "      <td>1</td>\n",
              "      <td>Tuesday</td>\n",
              "    </tr>\n",
              "    <tr>\n",
              "      <th>2014-01-22</th>\n",
              "      <td>1625.155</td>\n",
              "      <td>60.259</td>\n",
              "      <td>11.992</td>\n",
              "      <td>72.251</td>\n",
              "      <td>2014</td>\n",
              "      <td>1</td>\n",
              "      <td>Wednesday</td>\n",
              "    </tr>\n",
              "  </tbody>\n",
              "</table>\n",
              "</div>"
            ],
            "text/plain": [
              "             Consumo  Eolica   Solar    Suma  Anio  Mes        Dia\n",
              "Fecha                                                             \n",
              "2014-01-20  1590.687  78.647   6.371  85.018  2014    1     Monday\n",
              "2014-01-21  1624.806  15.643   5.835  21.478  2014    1    Tuesday\n",
              "2014-01-22  1625.155  60.259  11.992  72.251  2014    1  Wednesday"
            ]
          },
          "metadata": {
            "tags": []
          },
          "execution_count": 104
        }
      ]
    },
    {
      "cell_type": "markdown",
      "metadata": {
        "id": "vjzCZkxaDj9h",
        "colab_type": "text"
      },
      "source": [
        "O buscar por algun mes en particular"
      ]
    },
    {
      "cell_type": "code",
      "metadata": {
        "id": "e0oWe4ArDj9i",
        "colab_type": "code",
        "colab": {
          "base_uri": "https://localhost:8080/",
          "height": 1000
        },
        "outputId": "1137d78b-946c-4df2-b86a-d264a2615aae"
      },
      "source": [
        "df_energia.loc['2016-05']"
      ],
      "execution_count": 105,
      "outputs": [
        {
          "output_type": "execute_result",
          "data": {
            "text/html": [
              "<div>\n",
              "<style scoped>\n",
              "    .dataframe tbody tr th:only-of-type {\n",
              "        vertical-align: middle;\n",
              "    }\n",
              "\n",
              "    .dataframe tbody tr th {\n",
              "        vertical-align: top;\n",
              "    }\n",
              "\n",
              "    .dataframe thead th {\n",
              "        text-align: right;\n",
              "    }\n",
              "</style>\n",
              "<table border=\"1\" class=\"dataframe\">\n",
              "  <thead>\n",
              "    <tr style=\"text-align: right;\">\n",
              "      <th></th>\n",
              "      <th>Consumo</th>\n",
              "      <th>Eolica</th>\n",
              "      <th>Solar</th>\n",
              "      <th>Suma</th>\n",
              "      <th>Anio</th>\n",
              "      <th>Mes</th>\n",
              "      <th>Dia</th>\n",
              "    </tr>\n",
              "    <tr>\n",
              "      <th>Fecha</th>\n",
              "      <th></th>\n",
              "      <th></th>\n",
              "      <th></th>\n",
              "      <th></th>\n",
              "      <th></th>\n",
              "      <th></th>\n",
              "      <th></th>\n",
              "    </tr>\n",
              "  </thead>\n",
              "  <tbody>\n",
              "    <tr>\n",
              "      <th>2016-05-01</th>\n",
              "      <td>1078.602</td>\n",
              "      <td>179.870</td>\n",
              "      <td>147.931</td>\n",
              "      <td>327.801</td>\n",
              "      <td>2016</td>\n",
              "      <td>5</td>\n",
              "      <td>Sunday</td>\n",
              "    </tr>\n",
              "    <tr>\n",
              "      <th>2016-05-02</th>\n",
              "      <td>1405.185</td>\n",
              "      <td>81.868</td>\n",
              "      <td>197.183</td>\n",
              "      <td>279.051</td>\n",
              "      <td>2016</td>\n",
              "      <td>5</td>\n",
              "      <td>Monday</td>\n",
              "    </tr>\n",
              "    <tr>\n",
              "      <th>2016-05-03</th>\n",
              "      <td>1462.935</td>\n",
              "      <td>208.678</td>\n",
              "      <td>139.151</td>\n",
              "      <td>347.829</td>\n",
              "      <td>2016</td>\n",
              "      <td>5</td>\n",
              "      <td>Tuesday</td>\n",
              "    </tr>\n",
              "    <tr>\n",
              "      <th>2016-05-04</th>\n",
              "      <td>1430.136</td>\n",
              "      <td>84.961</td>\n",
              "      <td>174.185</td>\n",
              "      <td>259.146</td>\n",
              "      <td>2016</td>\n",
              "      <td>5</td>\n",
              "      <td>Wednesday</td>\n",
              "    </tr>\n",
              "    <tr>\n",
              "      <th>2016-05-05</th>\n",
              "      <td>1111.379</td>\n",
              "      <td>150.624</td>\n",
              "      <td>212.713</td>\n",
              "      <td>363.337</td>\n",
              "      <td>2016</td>\n",
              "      <td>5</td>\n",
              "      <td>Thursday</td>\n",
              "    </tr>\n",
              "    <tr>\n",
              "      <th>2016-05-06</th>\n",
              "      <td>1254.051</td>\n",
              "      <td>255.574</td>\n",
              "      <td>217.569</td>\n",
              "      <td>473.143</td>\n",
              "      <td>2016</td>\n",
              "      <td>5</td>\n",
              "      <td>Friday</td>\n",
              "    </tr>\n",
              "    <tr>\n",
              "      <th>2016-05-07</th>\n",
              "      <td>1149.938</td>\n",
              "      <td>315.362</td>\n",
              "      <td>215.963</td>\n",
              "      <td>531.325</td>\n",
              "      <td>2016</td>\n",
              "      <td>5</td>\n",
              "      <td>Saturday</td>\n",
              "    </tr>\n",
              "    <tr>\n",
              "      <th>2016-05-08</th>\n",
              "      <td>1072.653</td>\n",
              "      <td>390.557</td>\n",
              "      <td>217.819</td>\n",
              "      <td>608.376</td>\n",
              "      <td>2016</td>\n",
              "      <td>5</td>\n",
              "      <td>Sunday</td>\n",
              "    </tr>\n",
              "    <tr>\n",
              "      <th>2016-05-09</th>\n",
              "      <td>1403.845</td>\n",
              "      <td>360.421</td>\n",
              "      <td>207.427</td>\n",
              "      <td>567.848</td>\n",
              "      <td>2016</td>\n",
              "      <td>5</td>\n",
              "      <td>Monday</td>\n",
              "    </tr>\n",
              "    <tr>\n",
              "      <th>2016-05-10</th>\n",
              "      <td>1431.813</td>\n",
              "      <td>258.663</td>\n",
              "      <td>157.710</td>\n",
              "      <td>416.373</td>\n",
              "      <td>2016</td>\n",
              "      <td>5</td>\n",
              "      <td>Tuesday</td>\n",
              "    </tr>\n",
              "    <tr>\n",
              "      <th>2016-05-11</th>\n",
              "      <td>1441.717</td>\n",
              "      <td>304.436</td>\n",
              "      <td>180.639</td>\n",
              "      <td>485.075</td>\n",
              "      <td>2016</td>\n",
              "      <td>5</td>\n",
              "      <td>Wednesday</td>\n",
              "    </tr>\n",
              "    <tr>\n",
              "      <th>2016-05-12</th>\n",
              "      <td>1444.324</td>\n",
              "      <td>319.678</td>\n",
              "      <td>129.861</td>\n",
              "      <td>449.539</td>\n",
              "      <td>2016</td>\n",
              "      <td>5</td>\n",
              "      <td>Thursday</td>\n",
              "    </tr>\n",
              "    <tr>\n",
              "      <th>2016-05-13</th>\n",
              "      <td>1405.332</td>\n",
              "      <td>216.936</td>\n",
              "      <td>135.926</td>\n",
              "      <td>352.862</td>\n",
              "      <td>2016</td>\n",
              "      <td>5</td>\n",
              "      <td>Friday</td>\n",
              "    </tr>\n",
              "    <tr>\n",
              "      <th>2016-05-14</th>\n",
              "      <td>1168.618</td>\n",
              "      <td>387.183</td>\n",
              "      <td>132.009</td>\n",
              "      <td>519.192</td>\n",
              "      <td>2016</td>\n",
              "      <td>5</td>\n",
              "      <td>Saturday</td>\n",
              "    </tr>\n",
              "    <tr>\n",
              "      <th>2016-05-15</th>\n",
              "      <td>1048.215</td>\n",
              "      <td>391.687</td>\n",
              "      <td>130.935</td>\n",
              "      <td>522.622</td>\n",
              "      <td>2016</td>\n",
              "      <td>5</td>\n",
              "      <td>Sunday</td>\n",
              "    </tr>\n",
              "    <tr>\n",
              "      <th>2016-05-16</th>\n",
              "      <td>1080.327</td>\n",
              "      <td>264.281</td>\n",
              "      <td>115.660</td>\n",
              "      <td>379.941</td>\n",
              "      <td>2016</td>\n",
              "      <td>5</td>\n",
              "      <td>Monday</td>\n",
              "    </tr>\n",
              "    <tr>\n",
              "      <th>2016-05-17</th>\n",
              "      <td>1406.559</td>\n",
              "      <td>193.380</td>\n",
              "      <td>113.156</td>\n",
              "      <td>306.536</td>\n",
              "      <td>2016</td>\n",
              "      <td>5</td>\n",
              "      <td>Tuesday</td>\n",
              "    </tr>\n",
              "    <tr>\n",
              "      <th>2016-05-18</th>\n",
              "      <td>1432.772</td>\n",
              "      <td>88.949</td>\n",
              "      <td>151.707</td>\n",
              "      <td>240.656</td>\n",
              "      <td>2016</td>\n",
              "      <td>5</td>\n",
              "      <td>Wednesday</td>\n",
              "    </tr>\n",
              "    <tr>\n",
              "      <th>2016-05-19</th>\n",
              "      <td>1436.909</td>\n",
              "      <td>60.078</td>\n",
              "      <td>119.795</td>\n",
              "      <td>179.873</td>\n",
              "      <td>2016</td>\n",
              "      <td>5</td>\n",
              "      <td>Thursday</td>\n",
              "    </tr>\n",
              "    <tr>\n",
              "      <th>2016-05-20</th>\n",
              "      <td>1415.619</td>\n",
              "      <td>179.200</td>\n",
              "      <td>144.397</td>\n",
              "      <td>323.597</td>\n",
              "      <td>2016</td>\n",
              "      <td>5</td>\n",
              "      <td>Friday</td>\n",
              "    </tr>\n",
              "    <tr>\n",
              "      <th>2016-05-21</th>\n",
              "      <td>1175.567</td>\n",
              "      <td>133.517</td>\n",
              "      <td>186.839</td>\n",
              "      <td>320.356</td>\n",
              "      <td>2016</td>\n",
              "      <td>5</td>\n",
              "      <td>Saturday</td>\n",
              "    </tr>\n",
              "    <tr>\n",
              "      <th>2016-05-22</th>\n",
              "      <td>1099.152</td>\n",
              "      <td>217.768</td>\n",
              "      <td>185.444</td>\n",
              "      <td>403.212</td>\n",
              "      <td>2016</td>\n",
              "      <td>5</td>\n",
              "      <td>Sunday</td>\n",
              "    </tr>\n",
              "    <tr>\n",
              "      <th>2016-05-23</th>\n",
              "      <td>1430.635</td>\n",
              "      <td>179.097</td>\n",
              "      <td>83.886</td>\n",
              "      <td>262.983</td>\n",
              "      <td>2016</td>\n",
              "      <td>5</td>\n",
              "      <td>Monday</td>\n",
              "    </tr>\n",
              "    <tr>\n",
              "      <th>2016-05-24</th>\n",
              "      <td>1454.007</td>\n",
              "      <td>179.908</td>\n",
              "      <td>57.672</td>\n",
              "      <td>237.580</td>\n",
              "      <td>2016</td>\n",
              "      <td>5</td>\n",
              "      <td>Tuesday</td>\n",
              "    </tr>\n",
              "    <tr>\n",
              "      <th>2016-05-25</th>\n",
              "      <td>1426.676</td>\n",
              "      <td>27.068</td>\n",
              "      <td>100.661</td>\n",
              "      <td>127.729</td>\n",
              "      <td>2016</td>\n",
              "      <td>5</td>\n",
              "      <td>Wednesday</td>\n",
              "    </tr>\n",
              "    <tr>\n",
              "      <th>2016-05-26</th>\n",
              "      <td>1221.096</td>\n",
              "      <td>21.700</td>\n",
              "      <td>169.098</td>\n",
              "      <td>190.798</td>\n",
              "      <td>2016</td>\n",
              "      <td>5</td>\n",
              "      <td>Thursday</td>\n",
              "    </tr>\n",
              "    <tr>\n",
              "      <th>2016-05-27</th>\n",
              "      <td>1313.710</td>\n",
              "      <td>37.271</td>\n",
              "      <td>143.397</td>\n",
              "      <td>180.668</td>\n",
              "      <td>2016</td>\n",
              "      <td>5</td>\n",
              "      <td>Friday</td>\n",
              "    </tr>\n",
              "    <tr>\n",
              "      <th>2016-05-28</th>\n",
              "      <td>1169.531</td>\n",
              "      <td>85.468</td>\n",
              "      <td>160.593</td>\n",
              "      <td>246.061</td>\n",
              "      <td>2016</td>\n",
              "      <td>5</td>\n",
              "      <td>Saturday</td>\n",
              "    </tr>\n",
              "    <tr>\n",
              "      <th>2016-05-29</th>\n",
              "      <td>1096.905</td>\n",
              "      <td>163.103</td>\n",
              "      <td>124.929</td>\n",
              "      <td>288.032</td>\n",
              "      <td>2016</td>\n",
              "      <td>5</td>\n",
              "      <td>Sunday</td>\n",
              "    </tr>\n",
              "    <tr>\n",
              "      <th>2016-05-30</th>\n",
              "      <td>1423.574</td>\n",
              "      <td>246.019</td>\n",
              "      <td>121.137</td>\n",
              "      <td>367.156</td>\n",
              "      <td>2016</td>\n",
              "      <td>5</td>\n",
              "      <td>Monday</td>\n",
              "    </tr>\n",
              "    <tr>\n",
              "      <th>2016-05-31</th>\n",
              "      <td>1435.085</td>\n",
              "      <td>106.179</td>\n",
              "      <td>141.406</td>\n",
              "      <td>247.585</td>\n",
              "      <td>2016</td>\n",
              "      <td>5</td>\n",
              "      <td>Tuesday</td>\n",
              "    </tr>\n",
              "  </tbody>\n",
              "</table>\n",
              "</div>"
            ],
            "text/plain": [
              "             Consumo   Eolica    Solar     Suma  Anio  Mes        Dia\n",
              "Fecha                                                                \n",
              "2016-05-01  1078.602  179.870  147.931  327.801  2016    5     Sunday\n",
              "2016-05-02  1405.185   81.868  197.183  279.051  2016    5     Monday\n",
              "2016-05-03  1462.935  208.678  139.151  347.829  2016    5    Tuesday\n",
              "2016-05-04  1430.136   84.961  174.185  259.146  2016    5  Wednesday\n",
              "2016-05-05  1111.379  150.624  212.713  363.337  2016    5   Thursday\n",
              "2016-05-06  1254.051  255.574  217.569  473.143  2016    5     Friday\n",
              "2016-05-07  1149.938  315.362  215.963  531.325  2016    5   Saturday\n",
              "2016-05-08  1072.653  390.557  217.819  608.376  2016    5     Sunday\n",
              "2016-05-09  1403.845  360.421  207.427  567.848  2016    5     Monday\n",
              "2016-05-10  1431.813  258.663  157.710  416.373  2016    5    Tuesday\n",
              "2016-05-11  1441.717  304.436  180.639  485.075  2016    5  Wednesday\n",
              "2016-05-12  1444.324  319.678  129.861  449.539  2016    5   Thursday\n",
              "2016-05-13  1405.332  216.936  135.926  352.862  2016    5     Friday\n",
              "2016-05-14  1168.618  387.183  132.009  519.192  2016    5   Saturday\n",
              "2016-05-15  1048.215  391.687  130.935  522.622  2016    5     Sunday\n",
              "2016-05-16  1080.327  264.281  115.660  379.941  2016    5     Monday\n",
              "2016-05-17  1406.559  193.380  113.156  306.536  2016    5    Tuesday\n",
              "2016-05-18  1432.772   88.949  151.707  240.656  2016    5  Wednesday\n",
              "2016-05-19  1436.909   60.078  119.795  179.873  2016    5   Thursday\n",
              "2016-05-20  1415.619  179.200  144.397  323.597  2016    5     Friday\n",
              "2016-05-21  1175.567  133.517  186.839  320.356  2016    5   Saturday\n",
              "2016-05-22  1099.152  217.768  185.444  403.212  2016    5     Sunday\n",
              "2016-05-23  1430.635  179.097   83.886  262.983  2016    5     Monday\n",
              "2016-05-24  1454.007  179.908   57.672  237.580  2016    5    Tuesday\n",
              "2016-05-25  1426.676   27.068  100.661  127.729  2016    5  Wednesday\n",
              "2016-05-26  1221.096   21.700  169.098  190.798  2016    5   Thursday\n",
              "2016-05-27  1313.710   37.271  143.397  180.668  2016    5     Friday\n",
              "2016-05-28  1169.531   85.468  160.593  246.061  2016    5   Saturday\n",
              "2016-05-29  1096.905  163.103  124.929  288.032  2016    5     Sunday\n",
              "2016-05-30  1423.574  246.019  121.137  367.156  2016    5     Monday\n",
              "2016-05-31  1435.085  106.179  141.406  247.585  2016    5    Tuesday"
            ]
          },
          "metadata": {
            "tags": []
          },
          "execution_count": 105
        }
      ]
    },
    {
      "cell_type": "markdown",
      "metadata": {
        "id": "NY7v7fRxDj9l",
        "colab_type": "text"
      },
      "source": [
        "Ahora veamos como se ve nuestra data de consumo de energia"
      ]
    },
    {
      "cell_type": "code",
      "metadata": {
        "id": "4ALMAAuiDj9m",
        "colab_type": "code",
        "colab": {
          "base_uri": "https://localhost:8080/",
          "height": 279
        },
        "outputId": "417064e0-7b0e-4863-e4ef-d8af889e4eaf"
      },
      "source": [
        "#! pip install seaborn\n",
        "import matplotlib.pyplot as plt\n",
        "import seaborn as sns\n",
        "df_energia['Consumo'].plot(linewidth=0.5);"
      ],
      "execution_count": 108,
      "outputs": [
        {
          "output_type": "display_data",
          "data": {
            "image/png": "[encoded data removed]",
            "text/plain": [
              "<Figure size 432x288 with 1 Axes>"
            ]
          },
          "metadata": {
            "tags": [],
            "needs_background": "light"
          }
        }
      ]
    },
    {
      "cell_type": "markdown",
      "metadata": {
        "id": "oLeZ9o9HDj9p",
        "colab_type": "text"
      },
      "source": [
        "## Ventanas y Medias moviles\n",
        "\n",
        "Las ventanas moviles se refiere a aplicar alguna operacion de agregacion, por ejemplo el promedio sobre un conjunto de datos ordenados a la vez, por ejemplo el promedio de los ultimos 6 dias sobre cada conjunto ordenado de 6 dias en el dataset. Veamos un ejemplo para entenderlo mejor"
      ]
    },
    {
      "cell_type": "code",
      "metadata": {
        "id": "OV5Vmaz9Dj9q",
        "colab_type": "code",
        "colab": {
          "base_uri": "https://localhost:8080/",
          "height": 221
        },
        "outputId": "02038a07-716f-47c3-aecc-190e39e672e3"
      },
      "source": [
        "opsd_7d = df_energia[\"Consumo\"].rolling(6).mean()\n",
        "opsd_7d.head(10)"
      ],
      "execution_count": 109,
      "outputs": [
        {
          "output_type": "execute_result",
          "data": {
            "text/plain": [
              "Fecha\n",
              "2006-01-01            NaN\n",
              "2006-01-02            NaN\n",
              "2006-01-03            NaN\n",
              "2006-01-04            NaN\n",
              "2006-01-05            NaN\n",
              "2006-01-06    1371.668833\n",
              "2006-01-07    1410.186000\n",
              "2006-01-08    1381.430000\n",
              "2006-01-09    1395.895000\n",
              "2006-01-10    1415.844000\n",
              "Name: Consumo, dtype: float64"
            ]
          },
          "metadata": {
            "tags": []
          },
          "execution_count": 109
        }
      ]
    },
    {
      "cell_type": "markdown",
      "metadata": {
        "id": "OV_86-MZDj9w",
        "colab_type": "text"
      },
      "source": [
        "Podemos observar como las primeras 5 mediciones son Nan, ya que utiliza los primeros 5 valores para calcular a partir del 6to dia la media. El valor en el 7mo dia va a ser calculado con los datos del 2do al 6to dia, y asi sucesivamente."
      ]
    },
    {
      "cell_type": "markdown",
      "metadata": {
        "id": "ReFsJjcKDj9x",
        "colab_type": "text"
      },
      "source": [
        "Este tipo de metodos son particularmente utiles en analisis financiero."
      ]
    },
    {
      "cell_type": "markdown",
      "metadata": {
        "id": "i941YoEzDj9y",
        "colab_type": "text"
      },
      "source": [
        "## Shift y Diff\n",
        "\n",
        "La operacion de Shift, como su nombre lo dice traducido al castellano, desplazar los datos una cantidad N de periodos. Veamoslo con el ejemplo del consumo, suponiendo que quiero crear otra columna con el consumo total del periodo anterior para poder compararlo con el actual"
      ]
    },
    {
      "cell_type": "code",
      "metadata": {
        "id": "YKNRgmtwDj9z",
        "colab_type": "code",
        "colab": {}
      },
      "source": [
        "df_energia['ConsumoAyer'] = df_energia['Suma'].shift(periods=1)\n"
      ],
      "execution_count": 110,
      "outputs": []
    },
    {
      "cell_type": "markdown",
      "metadata": {
        "id": "BY5bRlqpDj92",
        "colab_type": "text"
      },
      "source": [
        "Veamos como quedo ahora el dataset"
      ]
    },
    {
      "cell_type": "code",
      "metadata": {
        "id": "A_lFpKOVDj93",
        "colab_type": "code",
        "colab": {
          "base_uri": "https://localhost:8080/",
          "height": 390
        },
        "outputId": "c6b8bfe8-487b-47d4-a9d3-9e70a7964d59"
      },
      "source": [
        "df_energia.tail(10)"
      ],
      "execution_count": 112,
      "outputs": [
        {
          "output_type": "execute_result",
          "data": {
            "text/html": [
              "<div>\n",
              "<style scoped>\n",
              "    .dataframe tbody tr th:only-of-type {\n",
              "        vertical-align: middle;\n",
              "    }\n",
              "\n",
              "    .dataframe tbody tr th {\n",
              "        vertical-align: top;\n",
              "    }\n",
              "\n",
              "    .dataframe thead th {\n",
              "        text-align: right;\n",
              "    }\n",
              "</style>\n",
              "<table border=\"1\" class=\"dataframe\">\n",
              "  <thead>\n",
              "    <tr style=\"text-align: right;\">\n",
              "      <th></th>\n",
              "      <th>Consumo</th>\n",
              "      <th>Eolica</th>\n",
              "      <th>Solar</th>\n",
              "      <th>Suma</th>\n",
              "      <th>Anio</th>\n",
              "      <th>Mes</th>\n",
              "      <th>Dia</th>\n",
              "      <th>ConsumoAyer</th>\n",
              "    </tr>\n",
              "    <tr>\n",
              "      <th>Fecha</th>\n",
              "      <th></th>\n",
              "      <th></th>\n",
              "      <th></th>\n",
              "      <th></th>\n",
              "      <th></th>\n",
              "      <th></th>\n",
              "      <th></th>\n",
              "      <th></th>\n",
              "    </tr>\n",
              "  </thead>\n",
              "  <tbody>\n",
              "    <tr>\n",
              "      <th>2017-12-22</th>\n",
              "      <td>1423.23782</td>\n",
              "      <td>228.773</td>\n",
              "      <td>10.065</td>\n",
              "      <td>238.838</td>\n",
              "      <td>2017</td>\n",
              "      <td>12</td>\n",
              "      <td>Friday</td>\n",
              "      <td>266.352</td>\n",
              "    </tr>\n",
              "    <tr>\n",
              "      <th>2017-12-23</th>\n",
              "      <td>1272.17085</td>\n",
              "      <td>748.074</td>\n",
              "      <td>8.450</td>\n",
              "      <td>756.524</td>\n",
              "      <td>2017</td>\n",
              "      <td>12</td>\n",
              "      <td>Saturday</td>\n",
              "      <td>238.838</td>\n",
              "    </tr>\n",
              "    <tr>\n",
              "      <th>2017-12-24</th>\n",
              "      <td>1141.75730</td>\n",
              "      <td>812.422</td>\n",
              "      <td>9.949</td>\n",
              "      <td>822.371</td>\n",
              "      <td>2017</td>\n",
              "      <td>12</td>\n",
              "      <td>Sunday</td>\n",
              "      <td>756.524</td>\n",
              "    </tr>\n",
              "    <tr>\n",
              "      <th>2017-12-25</th>\n",
              "      <td>1111.28338</td>\n",
              "      <td>587.810</td>\n",
              "      <td>15.765</td>\n",
              "      <td>603.575</td>\n",
              "      <td>2017</td>\n",
              "      <td>12</td>\n",
              "      <td>Monday</td>\n",
              "      <td>822.371</td>\n",
              "    </tr>\n",
              "    <tr>\n",
              "      <th>2017-12-26</th>\n",
              "      <td>1130.11683</td>\n",
              "      <td>717.453</td>\n",
              "      <td>30.923</td>\n",
              "      <td>748.376</td>\n",
              "      <td>2017</td>\n",
              "      <td>12</td>\n",
              "      <td>Tuesday</td>\n",
              "      <td>603.575</td>\n",
              "    </tr>\n",
              "    <tr>\n",
              "      <th>2017-12-27</th>\n",
              "      <td>1263.94091</td>\n",
              "      <td>394.507</td>\n",
              "      <td>16.530</td>\n",
              "      <td>411.037</td>\n",
              "      <td>2017</td>\n",
              "      <td>12</td>\n",
              "      <td>Wednesday</td>\n",
              "      <td>748.376</td>\n",
              "    </tr>\n",
              "    <tr>\n",
              "      <th>2017-12-28</th>\n",
              "      <td>1299.86398</td>\n",
              "      <td>506.424</td>\n",
              "      <td>14.162</td>\n",
              "      <td>520.586</td>\n",
              "      <td>2017</td>\n",
              "      <td>12</td>\n",
              "      <td>Thursday</td>\n",
              "      <td>411.037</td>\n",
              "    </tr>\n",
              "    <tr>\n",
              "      <th>2017-12-29</th>\n",
              "      <td>1295.08753</td>\n",
              "      <td>584.277</td>\n",
              "      <td>29.854</td>\n",
              "      <td>614.131</td>\n",
              "      <td>2017</td>\n",
              "      <td>12</td>\n",
              "      <td>Friday</td>\n",
              "      <td>520.586</td>\n",
              "    </tr>\n",
              "    <tr>\n",
              "      <th>2017-12-30</th>\n",
              "      <td>1215.44897</td>\n",
              "      <td>721.247</td>\n",
              "      <td>7.467</td>\n",
              "      <td>728.714</td>\n",
              "      <td>2017</td>\n",
              "      <td>12</td>\n",
              "      <td>Saturday</td>\n",
              "      <td>614.131</td>\n",
              "    </tr>\n",
              "    <tr>\n",
              "      <th>2017-12-31</th>\n",
              "      <td>1107.11488</td>\n",
              "      <td>721.176</td>\n",
              "      <td>19.980</td>\n",
              "      <td>741.156</td>\n",
              "      <td>2017</td>\n",
              "      <td>12</td>\n",
              "      <td>Sunday</td>\n",
              "      <td>728.714</td>\n",
              "    </tr>\n",
              "  </tbody>\n",
              "</table>\n",
              "</div>"
            ],
            "text/plain": [
              "               Consumo   Eolica   Solar  ...  Mes        Dia  ConsumoAyer\n",
              "Fecha                                    ...                             \n",
              "2017-12-22  1423.23782  228.773  10.065  ...   12     Friday      266.352\n",
              "2017-12-23  1272.17085  748.074   8.450  ...   12   Saturday      238.838\n",
              "2017-12-24  1141.75730  812.422   9.949  ...   12     Sunday      756.524\n",
              "2017-12-25  1111.28338  587.810  15.765  ...   12     Monday      822.371\n",
              "2017-12-26  1130.11683  717.453  30.923  ...   12    Tuesday      603.575\n",
              "2017-12-27  1263.94091  394.507  16.530  ...   12  Wednesday      748.376\n",
              "2017-12-28  1299.86398  506.424  14.162  ...   12   Thursday      411.037\n",
              "2017-12-29  1295.08753  584.277  29.854  ...   12     Friday      520.586\n",
              "2017-12-30  1215.44897  721.247   7.467  ...   12   Saturday      614.131\n",
              "2017-12-31  1107.11488  721.176  19.980  ...   12     Sunday      728.714\n",
              "\n",
              "[10 rows x 8 columns]"
            ]
          },
          "metadata": {
            "tags": []
          },
          "execution_count": 112
        }
      ]
    },
    {
      "cell_type": "markdown",
      "metadata": {
        "id": "IVOHYv8pDj96",
        "colab_type": "text"
      },
      "source": [
        "Podemos observar como la columna 'ConsumoAyer' es el valor de la columna 'Suma' exactamente del periodo anterior. Esto se puede realizar con tantos periodos como uno desee, pero hay que tener cuidado porque al inicio de nuestro dataset van a quedar valores Nan por la cantidad de periodos que elijamos. Hay que evaluar con que valor completamos esos valores."
      ]
    },
    {
      "cell_type": "markdown",
      "metadata": {
        "id": "FfY0kx2iDj96",
        "colab_type": "text"
      },
      "source": [
        "Por ultimo supongamos que deseamos hacer la diferencia fila a fila del valor de ayer con el valor de hoy para el consumo total. Aqui nos conviene utilizar el metodo diff."
      ]
    },
    {
      "cell_type": "code",
      "metadata": {
        "id": "wjh82sBlDj97",
        "colab_type": "code",
        "colab": {}
      },
      "source": [
        "df_energia['Diferencia'] = df_energia['Suma'].diff(1)"
      ],
      "execution_count": 114,
      "outputs": []
    },
    {
      "cell_type": "code",
      "metadata": {
        "id": "JfiXCCc5Dj9_",
        "colab_type": "code",
        "colab": {
          "base_uri": "https://localhost:8080/",
          "height": 390
        },
        "outputId": "486e1a2c-fa3c-4cd2-ec5d-8a2e96aa83a7"
      },
      "source": [
        "df_energia.tail(10)"
      ],
      "execution_count": 115,
      "outputs": [
        {
          "output_type": "execute_result",
          "data": {
            "text/html": [
              "<div>\n",
              "<style scoped>\n",
              "    .dataframe tbody tr th:only-of-type {\n",
              "        vertical-align: middle;\n",
              "    }\n",
              "\n",
              "    .dataframe tbody tr th {\n",
              "        vertical-align: top;\n",
              "    }\n",
              "\n",
              "    .dataframe thead th {\n",
              "        text-align: right;\n",
              "    }\n",
              "</style>\n",
              "<table border=\"1\" class=\"dataframe\">\n",
              "  <thead>\n",
              "    <tr style=\"text-align: right;\">\n",
              "      <th></th>\n",
              "      <th>Consumo</th>\n",
              "      <th>Eolica</th>\n",
              "      <th>Solar</th>\n",
              "      <th>Suma</th>\n",
              "      <th>Anio</th>\n",
              "      <th>Mes</th>\n",
              "      <th>Dia</th>\n",
              "      <th>ConsumoAyer</th>\n",
              "      <th>Diferencia</th>\n",
              "    </tr>\n",
              "    <tr>\n",
              "      <th>Fecha</th>\n",
              "      <th></th>\n",
              "      <th></th>\n",
              "      <th></th>\n",
              "      <th></th>\n",
              "      <th></th>\n",
              "      <th></th>\n",
              "      <th></th>\n",
              "      <th></th>\n",
              "      <th></th>\n",
              "    </tr>\n",
              "  </thead>\n",
              "  <tbody>\n",
              "    <tr>\n",
              "      <th>2017-12-22</th>\n",
              "      <td>1423.23782</td>\n",
              "      <td>228.773</td>\n",
              "      <td>10.065</td>\n",
              "      <td>238.838</td>\n",
              "      <td>2017</td>\n",
              "      <td>12</td>\n",
              "      <td>Friday</td>\n",
              "      <td>266.352</td>\n",
              "      <td>-27.514</td>\n",
              "    </tr>\n",
              "    <tr>\n",
              "      <th>2017-12-23</th>\n",
              "      <td>1272.17085</td>\n",
              "      <td>748.074</td>\n",
              "      <td>8.450</td>\n",
              "      <td>756.524</td>\n",
              "      <td>2017</td>\n",
              "      <td>12</td>\n",
              "      <td>Saturday</td>\n",
              "      <td>238.838</td>\n",
              "      <td>517.686</td>\n",
              "    </tr>\n",
              "    <tr>\n",
              "      <th>2017-12-24</th>\n",
              "      <td>1141.75730</td>\n",
              "      <td>812.422</td>\n",
              "      <td>9.949</td>\n",
              "      <td>822.371</td>\n",
              "      <td>2017</td>\n",
              "      <td>12</td>\n",
              "      <td>Sunday</td>\n",
              "      <td>756.524</td>\n",
              "      <td>65.847</td>\n",
              "    </tr>\n",
              "    <tr>\n",
              "      <th>2017-12-25</th>\n",
              "      <td>1111.28338</td>\n",
              "      <td>587.810</td>\n",
              "      <td>15.765</td>\n",
              "      <td>603.575</td>\n",
              "      <td>2017</td>\n",
              "      <td>12</td>\n",
              "      <td>Monday</td>\n",
              "      <td>822.371</td>\n",
              "      <td>-218.796</td>\n",
              "    </tr>\n",
              "    <tr>\n",
              "      <th>2017-12-26</th>\n",
              "      <td>1130.11683</td>\n",
              "      <td>717.453</td>\n",
              "      <td>30.923</td>\n",
              "      <td>748.376</td>\n",
              "      <td>2017</td>\n",
              "      <td>12</td>\n",
              "      <td>Tuesday</td>\n",
              "      <td>603.575</td>\n",
              "      <td>144.801</td>\n",
              "    </tr>\n",
              "    <tr>\n",
              "      <th>2017-12-27</th>\n",
              "      <td>1263.94091</td>\n",
              "      <td>394.507</td>\n",
              "      <td>16.530</td>\n",
              "      <td>411.037</td>\n",
              "      <td>2017</td>\n",
              "      <td>12</td>\n",
              "      <td>Wednesday</td>\n",
              "      <td>748.376</td>\n",
              "      <td>-337.339</td>\n",
              "    </tr>\n",
              "    <tr>\n",
              "      <th>2017-12-28</th>\n",
              "      <td>1299.86398</td>\n",
              "      <td>506.424</td>\n",
              "      <td>14.162</td>\n",
              "      <td>520.586</td>\n",
              "      <td>2017</td>\n",
              "      <td>12</td>\n",
              "      <td>Thursday</td>\n",
              "      <td>411.037</td>\n",
              "      <td>109.549</td>\n",
              "    </tr>\n",
              "    <tr>\n",
              "      <th>2017-12-29</th>\n",
              "      <td>1295.08753</td>\n",
              "      <td>584.277</td>\n",
              "      <td>29.854</td>\n",
              "      <td>614.131</td>\n",
              "      <td>2017</td>\n",
              "      <td>12</td>\n",
              "      <td>Friday</td>\n",
              "      <td>520.586</td>\n",
              "      <td>93.545</td>\n",
              "    </tr>\n",
              "    <tr>\n",
              "      <th>2017-12-30</th>\n",
              "      <td>1215.44897</td>\n",
              "      <td>721.247</td>\n",
              "      <td>7.467</td>\n",
              "      <td>728.714</td>\n",
              "      <td>2017</td>\n",
              "      <td>12</td>\n",
              "      <td>Saturday</td>\n",
              "      <td>614.131</td>\n",
              "      <td>114.583</td>\n",
              "    </tr>\n",
              "    <tr>\n",
              "      <th>2017-12-31</th>\n",
              "      <td>1107.11488</td>\n",
              "      <td>721.176</td>\n",
              "      <td>19.980</td>\n",
              "      <td>741.156</td>\n",
              "      <td>2017</td>\n",
              "      <td>12</td>\n",
              "      <td>Sunday</td>\n",
              "      <td>728.714</td>\n",
              "      <td>12.442</td>\n",
              "    </tr>\n",
              "  </tbody>\n",
              "</table>\n",
              "</div>"
            ],
            "text/plain": [
              "               Consumo   Eolica   Solar  ...        Dia  ConsumoAyer  Diferencia\n",
              "Fecha                                    ...                                    \n",
              "2017-12-22  1423.23782  228.773  10.065  ...     Friday      266.352     -27.514\n",
              "2017-12-23  1272.17085  748.074   8.450  ...   Saturday      238.838     517.686\n",
              "2017-12-24  1141.75730  812.422   9.949  ...     Sunday      756.524      65.847\n",
              "2017-12-25  1111.28338  587.810  15.765  ...     Monday      822.371    -218.796\n",
              "2017-12-26  1130.11683  717.453  30.923  ...    Tuesday      603.575     144.801\n",
              "2017-12-27  1263.94091  394.507  16.530  ...  Wednesday      748.376    -337.339\n",
              "2017-12-28  1299.86398  506.424  14.162  ...   Thursday      411.037     109.549\n",
              "2017-12-29  1295.08753  584.277  29.854  ...     Friday      520.586      93.545\n",
              "2017-12-30  1215.44897  721.247   7.467  ...   Saturday      614.131     114.583\n",
              "2017-12-31  1107.11488  721.176  19.980  ...     Sunday      728.714      12.442\n",
              "\n",
              "[10 rows x 9 columns]"
            ]
          },
          "metadata": {
            "tags": []
          },
          "execution_count": 115
        }
      ]
    },
    {
      "cell_type": "code",
      "metadata": {
        "id": "damrjZNzmc3c",
        "colab_type": "code",
        "colab": {}
      },
      "source": [
        ""
      ],
      "execution_count": null,
      "outputs": []
    }
  ]
}