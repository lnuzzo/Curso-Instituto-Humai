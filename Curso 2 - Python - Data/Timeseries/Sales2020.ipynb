{
 "cells": [
  {
   "cell_type": "code",
   "execution_count": 1,
   "metadata": {},
   "outputs": [],
   "source": [
    "import pandas as pd\n",
    "import matplotlib.pyplot as plt\n",
    "import seaborn as sns"
   ]
  },
  {
   "cell_type": "code",
   "execution_count": 2,
   "metadata": {},
   "outputs": [],
   "source": [
    "sales = pd.read_csv('C:/Users/lucas/Google Drive/Ferz - Kilbel/datawarehouse/ventas20200925.csv')"
   ]
  },
  {
   "cell_type": "code",
   "execution_count": 5,
   "metadata": {},
   "outputs": [
    {
     "data": {
      "text/html": [
       "<div>\n",
       "<style scoped>\n",
       "    .dataframe tbody tr th:only-of-type {\n",
       "        vertical-align: middle;\n",
       "    }\n",
       "\n",
       "    .dataframe tbody tr th {\n",
       "        vertical-align: top;\n",
       "    }\n",
       "\n",
       "    .dataframe thead th {\n",
       "        text-align: right;\n",
       "    }\n",
       "</style>\n",
       "<table border=\"1\" class=\"dataframe\">\n",
       "  <thead>\n",
       "    <tr style=\"text-align: right;\">\n",
       "      <th></th>\n",
       "      <th>id</th>\n",
       "      <th>datetime</th>\n",
       "      <th>product</th>\n",
       "      <th>client</th>\n",
       "      <th>store</th>\n",
       "      <th>qty</th>\n",
       "      <th>price</th>\n",
       "    </tr>\n",
       "  </thead>\n",
       "  <tbody>\n",
       "    <tr>\n",
       "      <th>0</th>\n",
       "      <td>17461441</td>\n",
       "      <td>2020-09-01 08:06:43</td>\n",
       "      <td>24710</td>\n",
       "      <td>45495</td>\n",
       "      <td>12</td>\n",
       "      <td>1.0</td>\n",
       "      <td>65.90</td>\n",
       "    </tr>\n",
       "    <tr>\n",
       "      <th>1</th>\n",
       "      <td>17461441</td>\n",
       "      <td>2020-09-01 08:06:43</td>\n",
       "      <td>29425</td>\n",
       "      <td>45495</td>\n",
       "      <td>12</td>\n",
       "      <td>3.0</td>\n",
       "      <td>801.00</td>\n",
       "    </tr>\n",
       "    <tr>\n",
       "      <th>2</th>\n",
       "      <td>17461441</td>\n",
       "      <td>2020-09-01 08:06:43</td>\n",
       "      <td>30947</td>\n",
       "      <td>45495</td>\n",
       "      <td>12</td>\n",
       "      <td>1.0</td>\n",
       "      <td>149.00</td>\n",
       "    </tr>\n",
       "    <tr>\n",
       "      <th>3</th>\n",
       "      <td>17461441</td>\n",
       "      <td>2020-09-01 08:06:43</td>\n",
       "      <td>33625</td>\n",
       "      <td>45495</td>\n",
       "      <td>12</td>\n",
       "      <td>1.0</td>\n",
       "      <td>65.90</td>\n",
       "    </tr>\n",
       "    <tr>\n",
       "      <th>4</th>\n",
       "      <td>17461441</td>\n",
       "      <td>2020-09-01 08:06:43</td>\n",
       "      <td>35588</td>\n",
       "      <td>45495</td>\n",
       "      <td>12</td>\n",
       "      <td>1.0</td>\n",
       "      <td>124.99</td>\n",
       "    </tr>\n",
       "  </tbody>\n",
       "</table>\n",
       "</div>"
      ],
      "text/plain": [
       "         id            datetime  product client  store  qty   price\n",
       "0  17461441 2020-09-01 08:06:43    24710  45495     12  1.0   65.90\n",
       "1  17461441 2020-09-01 08:06:43    29425  45495     12  3.0  801.00\n",
       "2  17461441 2020-09-01 08:06:43    30947  45495     12  1.0  149.00\n",
       "3  17461441 2020-09-01 08:06:43    33625  45495     12  1.0   65.90\n",
       "4  17461441 2020-09-01 08:06:43    35588  45495     12  1.0  124.99"
      ]
     },
     "execution_count": 5,
     "metadata": {},
     "output_type": "execute_result"
    }
   ],
   "source": [
    "sales.columns=['id', 'datetime', 'product', 'client', 'store', 'pos', 'qty', 'price']\n",
    "sales['datetime'] = pd.to_datetime(sales['datetime'])\n",
    "sales.drop(columns='pos', inplace=True)\n",
    "sales.set_index('datetime')\n",
    "sales.reset_index()\n",
    "sales.head()"
   ]
  },
  {
   "cell_type": "code",
   "execution_count": 27,
   "metadata": {},
   "outputs": [
    {
     "name": "stdout",
     "output_type": "stream",
     "text": [
      "<class 'pandas.core.frame.DataFrame'>\n",
      "Int64Index: 1651870 entries, 0 to 1665267\n",
      "Data columns (total 12 columns):\n",
      " #   Column     Non-Null Count    Dtype         \n",
      "---  ------     --------------    -----         \n",
      " 0   id         1651870 non-null  int64         \n",
      " 1   datetime   1651870 non-null  datetime64[ns]\n",
      " 2   product    1651870 non-null  object        \n",
      " 3   client     1651870 non-null  object        \n",
      " 4   store      1651870 non-null  object        \n",
      " 5   qty        1651870 non-null  float64       \n",
      " 6   price      1651870 non-null  float64       \n",
      " 7   year       1651870 non-null  int64         \n",
      " 8   month      1651870 non-null  int64         \n",
      " 9   day        1651870 non-null  int64         \n",
      " 10  dayofweek  1651870 non-null  int64         \n",
      " 11  hour       1651870 non-null  int64         \n",
      "dtypes: datetime64[ns](1), float64(2), int64(6), object(3)\n",
      "memory usage: 144.9+ MB\n"
     ]
    }
   ],
   "source": [
    "sales.info()"
   ]
  },
  {
   "cell_type": "code",
   "execution_count": 7,
   "metadata": {},
   "outputs": [],
   "source": [
    "sales['product'] = sales['product'].astype('object')\n",
    "sales['store'] = sales['store'].astype('object')"
   ]
  },
  {
   "cell_type": "code",
   "execution_count": 9,
   "metadata": {},
   "outputs": [
    {
     "data": {
      "text/html": [
       "<div>\n",
       "<style scoped>\n",
       "    .dataframe tbody tr th:only-of-type {\n",
       "        vertical-align: middle;\n",
       "    }\n",
       "\n",
       "    .dataframe tbody tr th {\n",
       "        vertical-align: top;\n",
       "    }\n",
       "\n",
       "    .dataframe thead th {\n",
       "        text-align: right;\n",
       "    }\n",
       "</style>\n",
       "<table border=\"1\" class=\"dataframe\">\n",
       "  <thead>\n",
       "    <tr style=\"text-align: right;\">\n",
       "      <th></th>\n",
       "      <th>id</th>\n",
       "      <th>datetime</th>\n",
       "      <th>product</th>\n",
       "      <th>client</th>\n",
       "      <th>store</th>\n",
       "      <th>qty</th>\n",
       "      <th>price</th>\n",
       "      <th>year</th>\n",
       "      <th>month</th>\n",
       "      <th>day</th>\n",
       "      <th>dayofweek</th>\n",
       "      <th>hour</th>\n",
       "    </tr>\n",
       "  </thead>\n",
       "  <tbody>\n",
       "    <tr>\n",
       "      <th>0</th>\n",
       "      <td>17461441</td>\n",
       "      <td>2020-09-01 08:06:43</td>\n",
       "      <td>24710</td>\n",
       "      <td>45495</td>\n",
       "      <td>12</td>\n",
       "      <td>1.0</td>\n",
       "      <td>65.90</td>\n",
       "      <td>2020</td>\n",
       "      <td>9</td>\n",
       "      <td>1</td>\n",
       "      <td>1</td>\n",
       "      <td>8</td>\n",
       "    </tr>\n",
       "    <tr>\n",
       "      <th>1</th>\n",
       "      <td>17461441</td>\n",
       "      <td>2020-09-01 08:06:43</td>\n",
       "      <td>29425</td>\n",
       "      <td>45495</td>\n",
       "      <td>12</td>\n",
       "      <td>3.0</td>\n",
       "      <td>801.00</td>\n",
       "      <td>2020</td>\n",
       "      <td>9</td>\n",
       "      <td>1</td>\n",
       "      <td>1</td>\n",
       "      <td>8</td>\n",
       "    </tr>\n",
       "    <tr>\n",
       "      <th>2</th>\n",
       "      <td>17461441</td>\n",
       "      <td>2020-09-01 08:06:43</td>\n",
       "      <td>30947</td>\n",
       "      <td>45495</td>\n",
       "      <td>12</td>\n",
       "      <td>1.0</td>\n",
       "      <td>149.00</td>\n",
       "      <td>2020</td>\n",
       "      <td>9</td>\n",
       "      <td>1</td>\n",
       "      <td>1</td>\n",
       "      <td>8</td>\n",
       "    </tr>\n",
       "    <tr>\n",
       "      <th>3</th>\n",
       "      <td>17461441</td>\n",
       "      <td>2020-09-01 08:06:43</td>\n",
       "      <td>33625</td>\n",
       "      <td>45495</td>\n",
       "      <td>12</td>\n",
       "      <td>1.0</td>\n",
       "      <td>65.90</td>\n",
       "      <td>2020</td>\n",
       "      <td>9</td>\n",
       "      <td>1</td>\n",
       "      <td>1</td>\n",
       "      <td>8</td>\n",
       "    </tr>\n",
       "    <tr>\n",
       "      <th>4</th>\n",
       "      <td>17461441</td>\n",
       "      <td>2020-09-01 08:06:43</td>\n",
       "      <td>35588</td>\n",
       "      <td>45495</td>\n",
       "      <td>12</td>\n",
       "      <td>1.0</td>\n",
       "      <td>124.99</td>\n",
       "      <td>2020</td>\n",
       "      <td>9</td>\n",
       "      <td>1</td>\n",
       "      <td>1</td>\n",
       "      <td>8</td>\n",
       "    </tr>\n",
       "    <tr>\n",
       "      <th>...</th>\n",
       "      <td>...</td>\n",
       "      <td>...</td>\n",
       "      <td>...</td>\n",
       "      <td>...</td>\n",
       "      <td>...</td>\n",
       "      <td>...</td>\n",
       "      <td>...</td>\n",
       "      <td>...</td>\n",
       "      <td>...</td>\n",
       "      <td>...</td>\n",
       "      <td>...</td>\n",
       "      <td>...</td>\n",
       "    </tr>\n",
       "    <tr>\n",
       "      <th>1665264</th>\n",
       "      <td>17627934</td>\n",
       "      <td>2020-09-26 17:10:14</td>\n",
       "      <td>33374</td>\n",
       "      <td>10223</td>\n",
       "      <td>11</td>\n",
       "      <td>1.0</td>\n",
       "      <td>49.00</td>\n",
       "      <td>2020</td>\n",
       "      <td>9</td>\n",
       "      <td>26</td>\n",
       "      <td>5</td>\n",
       "      <td>17</td>\n",
       "    </tr>\n",
       "    <tr>\n",
       "      <th>1665265</th>\n",
       "      <td>17627934</td>\n",
       "      <td>2020-09-26 17:10:14</td>\n",
       "      <td>34191</td>\n",
       "      <td>10223</td>\n",
       "      <td>11</td>\n",
       "      <td>1.0</td>\n",
       "      <td>40.92</td>\n",
       "      <td>2020</td>\n",
       "      <td>9</td>\n",
       "      <td>26</td>\n",
       "      <td>5</td>\n",
       "      <td>17</td>\n",
       "    </tr>\n",
       "    <tr>\n",
       "      <th>1665266</th>\n",
       "      <td>17627934</td>\n",
       "      <td>2020-09-26 17:10:14</td>\n",
       "      <td>37126</td>\n",
       "      <td>10223</td>\n",
       "      <td>11</td>\n",
       "      <td>1.0</td>\n",
       "      <td>69.68</td>\n",
       "      <td>2020</td>\n",
       "      <td>9</td>\n",
       "      <td>26</td>\n",
       "      <td>5</td>\n",
       "      <td>17</td>\n",
       "    </tr>\n",
       "    <tr>\n",
       "      <th>1665267</th>\n",
       "      <td>17627934</td>\n",
       "      <td>2020-09-26 17:10:14</td>\n",
       "      <td>38704</td>\n",
       "      <td>10223</td>\n",
       "      <td>11</td>\n",
       "      <td>1.0</td>\n",
       "      <td>51.40</td>\n",
       "      <td>2020</td>\n",
       "      <td>9</td>\n",
       "      <td>26</td>\n",
       "      <td>5</td>\n",
       "      <td>17</td>\n",
       "    </tr>\n",
       "    <tr>\n",
       "      <th>1665268</th>\n",
       "      <td>17627934</td>\n",
       "      <td>2020-09-26 17:10:14</td>\n",
       "      <td>999999</td>\n",
       "      <td>10223</td>\n",
       "      <td>11</td>\n",
       "      <td>0.0</td>\n",
       "      <td>6.97</td>\n",
       "      <td>2020</td>\n",
       "      <td>9</td>\n",
       "      <td>26</td>\n",
       "      <td>5</td>\n",
       "      <td>17</td>\n",
       "    </tr>\n",
       "  </tbody>\n",
       "</table>\n",
       "<p>1665269 rows × 12 columns</p>\n",
       "</div>"
      ],
      "text/plain": [
       "               id            datetime product client store  qty   price  year  \\\n",
       "0        17461441 2020-09-01 08:06:43   24710  45495    12  1.0   65.90  2020   \n",
       "1        17461441 2020-09-01 08:06:43   29425  45495    12  3.0  801.00  2020   \n",
       "2        17461441 2020-09-01 08:06:43   30947  45495    12  1.0  149.00  2020   \n",
       "3        17461441 2020-09-01 08:06:43   33625  45495    12  1.0   65.90  2020   \n",
       "4        17461441 2020-09-01 08:06:43   35588  45495    12  1.0  124.99  2020   \n",
       "...           ...                 ...     ...    ...   ...  ...     ...   ...   \n",
       "1665264  17627934 2020-09-26 17:10:14   33374  10223    11  1.0   49.00  2020   \n",
       "1665265  17627934 2020-09-26 17:10:14   34191  10223    11  1.0   40.92  2020   \n",
       "1665266  17627934 2020-09-26 17:10:14   37126  10223    11  1.0   69.68  2020   \n",
       "1665267  17627934 2020-09-26 17:10:14   38704  10223    11  1.0   51.40  2020   \n",
       "1665268  17627934 2020-09-26 17:10:14  999999  10223    11  0.0    6.97  2020   \n",
       "\n",
       "         month  day  dayofweek  hour  \n",
       "0            9    1          1     8  \n",
       "1            9    1          1     8  \n",
       "2            9    1          1     8  \n",
       "3            9    1          1     8  \n",
       "4            9    1          1     8  \n",
       "...        ...  ...        ...   ...  \n",
       "1665264      9   26          5    17  \n",
       "1665265      9   26          5    17  \n",
       "1665266      9   26          5    17  \n",
       "1665267      9   26          5    17  \n",
       "1665268      9   26          5    17  \n",
       "\n",
       "[1665269 rows x 12 columns]"
      ]
     },
     "execution_count": 9,
     "metadata": {},
     "output_type": "execute_result"
    }
   ],
   "source": [
    "sales['year'] = sales['datetime'].dt.year\n",
    "sales['month'] = sales['datetime'].dt.month\n",
    "sales['day'] = sales['datetime'].dt.day\n",
    "sales['dayofweek'] = sales['datetime'].dt.dayofweek\n",
    "sales['hour'] = sales['datetime'].dt.hour\n",
    "\n",
    "sales"
   ]
  },
  {
   "cell_type": "code",
   "execution_count": 10,
   "metadata": {},
   "outputs": [
    {
     "data": {
      "text/html": [
       "<div>\n",
       "<style scoped>\n",
       "    .dataframe tbody tr th:only-of-type {\n",
       "        vertical-align: middle;\n",
       "    }\n",
       "\n",
       "    .dataframe tbody tr th {\n",
       "        vertical-align: top;\n",
       "    }\n",
       "\n",
       "    .dataframe thead th {\n",
       "        text-align: right;\n",
       "    }\n",
       "</style>\n",
       "<table border=\"1\" class=\"dataframe\">\n",
       "  <thead>\n",
       "    <tr style=\"text-align: right;\">\n",
       "      <th></th>\n",
       "      <th>id</th>\n",
       "      <th>qty</th>\n",
       "      <th>price</th>\n",
       "      <th>year</th>\n",
       "      <th>month</th>\n",
       "      <th>day</th>\n",
       "      <th>dayofweek</th>\n",
       "      <th>hour</th>\n",
       "    </tr>\n",
       "  </thead>\n",
       "  <tbody>\n",
       "    <tr>\n",
       "      <th>count</th>\n",
       "      <td>1.665269e+06</td>\n",
       "      <td>1.665269e+06</td>\n",
       "      <td>1.665269e+06</td>\n",
       "      <td>1665269.0</td>\n",
       "      <td>1665269.0</td>\n",
       "      <td>1.665269e+06</td>\n",
       "      <td>1.665269e+06</td>\n",
       "      <td>1.665269e+06</td>\n",
       "    </tr>\n",
       "    <tr>\n",
       "      <th>mean</th>\n",
       "      <td>1.754347e+07</td>\n",
       "      <td>1.201833e+00</td>\n",
       "      <td>1.249303e+02</td>\n",
       "      <td>2020.0</td>\n",
       "      <td>9.0</td>\n",
       "      <td>1.317652e+01</td>\n",
       "      <td>2.997406e+00</td>\n",
       "      <td>1.405808e+01</td>\n",
       "    </tr>\n",
       "    <tr>\n",
       "      <th>std</th>\n",
       "      <td>4.832508e+04</td>\n",
       "      <td>1.087639e+00</td>\n",
       "      <td>1.215071e+02</td>\n",
       "      <td>0.0</td>\n",
       "      <td>0.0</td>\n",
       "      <td>7.524043e+00</td>\n",
       "      <td>1.755180e+00</td>\n",
       "      <td>3.405283e+00</td>\n",
       "    </tr>\n",
       "    <tr>\n",
       "      <th>min</th>\n",
       "      <td>1.746144e+07</td>\n",
       "      <td>-9.000000e+01</td>\n",
       "      <td>-5.868450e+03</td>\n",
       "      <td>2020.0</td>\n",
       "      <td>9.0</td>\n",
       "      <td>1.000000e+00</td>\n",
       "      <td>0.000000e+00</td>\n",
       "      <td>6.000000e+00</td>\n",
       "    </tr>\n",
       "    <tr>\n",
       "      <th>25%</th>\n",
       "      <td>1.750113e+07</td>\n",
       "      <td>1.000000e+00</td>\n",
       "      <td>5.985000e+01</td>\n",
       "      <td>2020.0</td>\n",
       "      <td>9.0</td>\n",
       "      <td>7.000000e+00</td>\n",
       "      <td>2.000000e+00</td>\n",
       "      <td>1.100000e+01</td>\n",
       "    </tr>\n",
       "    <tr>\n",
       "      <th>50%</th>\n",
       "      <td>1.754205e+07</td>\n",
       "      <td>1.000000e+00</td>\n",
       "      <td>9.150000e+01</td>\n",
       "      <td>2020.0</td>\n",
       "      <td>9.0</td>\n",
       "      <td>1.300000e+01</td>\n",
       "      <td>3.000000e+00</td>\n",
       "      <td>1.400000e+01</td>\n",
       "    </tr>\n",
       "    <tr>\n",
       "      <th>75%</th>\n",
       "      <td>1.758462e+07</td>\n",
       "      <td>1.000000e+00</td>\n",
       "      <td>1.461700e+02</td>\n",
       "      <td>2020.0</td>\n",
       "      <td>9.0</td>\n",
       "      <td>1.900000e+01</td>\n",
       "      <td>5.000000e+00</td>\n",
       "      <td>1.700000e+01</td>\n",
       "    </tr>\n",
       "    <tr>\n",
       "      <th>max</th>\n",
       "      <td>1.762793e+07</td>\n",
       "      <td>1.090000e+02</td>\n",
       "      <td>6.036120e+03</td>\n",
       "      <td>2020.0</td>\n",
       "      <td>9.0</td>\n",
       "      <td>2.600000e+01</td>\n",
       "      <td>6.000000e+00</td>\n",
       "      <td>2.000000e+01</td>\n",
       "    </tr>\n",
       "  </tbody>\n",
       "</table>\n",
       "</div>"
      ],
      "text/plain": [
       "                 id           qty         price       year      month  \\\n",
       "count  1.665269e+06  1.665269e+06  1.665269e+06  1665269.0  1665269.0   \n",
       "mean   1.754347e+07  1.201833e+00  1.249303e+02     2020.0        9.0   \n",
       "std    4.832508e+04  1.087639e+00  1.215071e+02        0.0        0.0   \n",
       "min    1.746144e+07 -9.000000e+01 -5.868450e+03     2020.0        9.0   \n",
       "25%    1.750113e+07  1.000000e+00  5.985000e+01     2020.0        9.0   \n",
       "50%    1.754205e+07  1.000000e+00  9.150000e+01     2020.0        9.0   \n",
       "75%    1.758462e+07  1.000000e+00  1.461700e+02     2020.0        9.0   \n",
       "max    1.762793e+07  1.090000e+02  6.036120e+03     2020.0        9.0   \n",
       "\n",
       "                day     dayofweek          hour  \n",
       "count  1.665269e+06  1.665269e+06  1.665269e+06  \n",
       "mean   1.317652e+01  2.997406e+00  1.405808e+01  \n",
       "std    7.524043e+00  1.755180e+00  3.405283e+00  \n",
       "min    1.000000e+00  0.000000e+00  6.000000e+00  \n",
       "25%    7.000000e+00  2.000000e+00  1.100000e+01  \n",
       "50%    1.300000e+01  3.000000e+00  1.400000e+01  \n",
       "75%    1.900000e+01  5.000000e+00  1.700000e+01  \n",
       "max    2.600000e+01  6.000000e+00  2.000000e+01  "
      ]
     },
     "execution_count": 10,
     "metadata": {},
     "output_type": "execute_result"
    }
   ],
   "source": [
    "sales.describe()"
   ]
  },
  {
   "cell_type": "code",
   "execution_count": 11,
   "metadata": {},
   "outputs": [],
   "source": [
    "sales = sales[sales['qty']!=0]"
   ]
  },
  {
   "cell_type": "code",
   "execution_count": null,
   "metadata": {},
   "outputs": [],
   "source": [
    "sales.head(10)"
   ]
  },
  {
   "cell_type": "code",
   "execution_count": 12,
   "metadata": {},
   "outputs": [
    {
     "data": {
      "text/plain": [
       "<AxesSubplot:xlabel='hour'>"
      ]
     },
     "execution_count": 12,
     "metadata": {},
     "output_type": "execute_result"
    },
    {
     "data": {
      "image/png": "[encoded data removed]",
      "text/plain": [
       "<Figure size 432x288 with 1 Axes>"
      ]
     },
     "metadata": {
      "needs_background": "light"
     },
     "output_type": "display_data"
    }
   ],
   "source": [
    "# Esto primero no hace falta, ya que el count toma valores únicos\n",
    "# df1 = sales.loc[:,['id','hour']]\n",
    "# df1 = df1.groupby('hour').agg({'id':'count'})\n",
    "df1 = sales.groupby('hour').agg({'id':'count'})\n",
    "df1.plot()"
   ]
  },
  {
   "cell_type": "code",
   "execution_count": 13,
   "metadata": {},
   "outputs": [
    {
     "data": {
      "text/plain": [
       "<AxesSubplot:xlabel='dayofweek'>"
      ]
     },
     "execution_count": 13,
     "metadata": {},
     "output_type": "execute_result"
    },
    {
     "data": {
      "image/png": "[encoded data removed]",
      "text/plain": [
       "<Figure size 432x288 with 1 Axes>"
      ]
     },
     "metadata": {
      "needs_background": "light"
     },
     "output_type": "display_data"
    }
   ],
   "source": [
    "df2 = sales.groupby('dayofweek').agg({'id':'count'})\n",
    "df2.plot()"
   ]
  },
  {
   "cell_type": "code",
   "execution_count": 15,
   "metadata": {},
   "outputs": [
    {
     "data": {
      "text/plain": [
       "<AxesSubplot:xlabel='day'>"
      ]
     },
     "execution_count": 15,
     "metadata": {},
     "output_type": "execute_result"
    },
    {
     "data": {
      "image/png": "[encoded data removed]",
      "text/plain": [
       "<Figure size 432x288 with 1 Axes>"
      ]
     },
     "metadata": {
      "needs_background": "light"
     },
     "output_type": "display_data"
    }
   ],
   "source": [
    "df4 = sales.groupby('day').agg({'id':'count'})\n",
    "df4.plot()"
   ]
  },
  {
   "cell_type": "code",
   "execution_count": 16,
   "metadata": {},
   "outputs": [
    {
     "data": {
      "text/html": [
       "<div>\n",
       "<style scoped>\n",
       "    .dataframe tbody tr th:only-of-type {\n",
       "        vertical-align: middle;\n",
       "    }\n",
       "\n",
       "    .dataframe tbody tr th {\n",
       "        vertical-align: top;\n",
       "    }\n",
       "\n",
       "    .dataframe thead th {\n",
       "        text-align: right;\n",
       "    }\n",
       "</style>\n",
       "<table border=\"1\" class=\"dataframe\">\n",
       "  <thead>\n",
       "    <tr style=\"text-align: right;\">\n",
       "      <th></th>\n",
       "      <th>id</th>\n",
       "      <th>datetime</th>\n",
       "      <th>product</th>\n",
       "      <th>client</th>\n",
       "      <th>store</th>\n",
       "      <th>qty</th>\n",
       "      <th>price</th>\n",
       "      <th>year</th>\n",
       "      <th>month</th>\n",
       "      <th>day</th>\n",
       "      <th>dayofweek</th>\n",
       "      <th>hour</th>\n",
       "    </tr>\n",
       "  </thead>\n",
       "  <tbody>\n",
       "    <tr>\n",
       "      <th>0</th>\n",
       "      <td>17461441</td>\n",
       "      <td>2020-09-01 08:06:43</td>\n",
       "      <td>24710</td>\n",
       "      <td>45495</td>\n",
       "      <td>12</td>\n",
       "      <td>1.0</td>\n",
       "      <td>65.90</td>\n",
       "      <td>2020</td>\n",
       "      <td>9</td>\n",
       "      <td>1</td>\n",
       "      <td>1</td>\n",
       "      <td>8</td>\n",
       "    </tr>\n",
       "    <tr>\n",
       "      <th>1</th>\n",
       "      <td>17461441</td>\n",
       "      <td>2020-09-01 08:06:43</td>\n",
       "      <td>29425</td>\n",
       "      <td>45495</td>\n",
       "      <td>12</td>\n",
       "      <td>3.0</td>\n",
       "      <td>801.00</td>\n",
       "      <td>2020</td>\n",
       "      <td>9</td>\n",
       "      <td>1</td>\n",
       "      <td>1</td>\n",
       "      <td>8</td>\n",
       "    </tr>\n",
       "    <tr>\n",
       "      <th>2</th>\n",
       "      <td>17461441</td>\n",
       "      <td>2020-09-01 08:06:43</td>\n",
       "      <td>30947</td>\n",
       "      <td>45495</td>\n",
       "      <td>12</td>\n",
       "      <td>1.0</td>\n",
       "      <td>149.00</td>\n",
       "      <td>2020</td>\n",
       "      <td>9</td>\n",
       "      <td>1</td>\n",
       "      <td>1</td>\n",
       "      <td>8</td>\n",
       "    </tr>\n",
       "    <tr>\n",
       "      <th>3</th>\n",
       "      <td>17461441</td>\n",
       "      <td>2020-09-01 08:06:43</td>\n",
       "      <td>33625</td>\n",
       "      <td>45495</td>\n",
       "      <td>12</td>\n",
       "      <td>1.0</td>\n",
       "      <td>65.90</td>\n",
       "      <td>2020</td>\n",
       "      <td>9</td>\n",
       "      <td>1</td>\n",
       "      <td>1</td>\n",
       "      <td>8</td>\n",
       "    </tr>\n",
       "    <tr>\n",
       "      <th>4</th>\n",
       "      <td>17461441</td>\n",
       "      <td>2020-09-01 08:06:43</td>\n",
       "      <td>35588</td>\n",
       "      <td>45495</td>\n",
       "      <td>12</td>\n",
       "      <td>1.0</td>\n",
       "      <td>124.99</td>\n",
       "      <td>2020</td>\n",
       "      <td>9</td>\n",
       "      <td>1</td>\n",
       "      <td>1</td>\n",
       "      <td>8</td>\n",
       "    </tr>\n",
       "  </tbody>\n",
       "</table>\n",
       "</div>"
      ],
      "text/plain": [
       "         id            datetime product client store  qty   price  year  \\\n",
       "0  17461441 2020-09-01 08:06:43   24710  45495    12  1.0   65.90  2020   \n",
       "1  17461441 2020-09-01 08:06:43   29425  45495    12  3.0  801.00  2020   \n",
       "2  17461441 2020-09-01 08:06:43   30947  45495    12  1.0  149.00  2020   \n",
       "3  17461441 2020-09-01 08:06:43   33625  45495    12  1.0   65.90  2020   \n",
       "4  17461441 2020-09-01 08:06:43   35588  45495    12  1.0  124.99  2020   \n",
       "\n",
       "   month  day  dayofweek  hour  \n",
       "0      9    1          1     8  \n",
       "1      9    1          1     8  \n",
       "2      9    1          1     8  \n",
       "3      9    1          1     8  \n",
       "4      9    1          1     8  "
      ]
     },
     "execution_count": 16,
     "metadata": {},
     "output_type": "execute_result"
    }
   ],
   "source": [
    "df_product = sales[sales['id'].duplicated(keep=False)]\n",
    "df_product.head()"
   ]
  },
  {
   "cell_type": "code",
   "execution_count": 20,
   "metadata": {},
   "outputs": [
    {
     "data": {
      "text/plain": [
       "0          24710\n",
       "1          29425\n",
       "2          30947\n",
       "3          33625\n",
       "4          35588\n",
       "           ...  \n",
       "1665257      292\n",
       "1665258     1037\n",
       "1665259     3167\n",
       "1665260     4581\n",
       "1665261    21655\n",
       "Name: product, Length: 666893, dtype: object"
      ]
     },
     "execution_count": 20,
     "metadata": {},
     "output_type": "execute_result"
    }
   ],
   "source": [
    " df_product.groupby('id')['product'].apply(str).head()"
   ]
  },
  {
   "cell_type": "code",
   "execution_count": 43,
   "metadata": {},
   "outputs": [
    {
     "name": "stderr",
     "output_type": "stream",
     "text": [
      "<ipython-input-43-d50fa8528717>:2: SettingWithCopyWarning: \n",
      "A value is trying to be set on a copy of a slice from a DataFrame.\n",
      "Try using .loc[row_indexer,col_indexer] = value instead\n",
      "\n",
      "See the caveats in the documentation: https://pandas.pydata.org/pandas-docs/stable/user_guide/indexing.html#returning-a-view-versus-a-copy\n",
      "  sales['product'] = productos.astype('str').apply(lambda x: 'P' .join(x))\n"
     ]
    }
   ],
   "source": [
    "productos = sales['product'].copy()\n",
    "sales['product'] = productos.astype('str').apply(lambda x: 'P' .join(x))"
   ]
  },
  {
   "cell_type": "code",
   "execution_count": 30,
   "metadata": {},
   "outputs": [
    {
     "data": {
      "text/plain": [
       "0          24710\n",
       "1          29425\n",
       "2          30947\n",
       "3          33625\n",
       "4          35588\n",
       "           ...  \n",
       "1665257      292\n",
       "1665258     1037\n",
       "1665259     3167\n",
       "1665260     4581\n",
       "1665261    21655\n",
       "Name: product, Length: 666893, dtype: object"
      ]
     },
     "execution_count": 30,
     "metadata": {},
     "output_type": "execute_result"
    }
   ],
   "source": [
    "df_product.groupby('id')['product'].head()"
   ]
  },
  {
   "cell_type": "code",
   "execution_count": 24,
   "metadata": {},
   "outputs": [
    {
     "ename": "TypeError",
     "evalue": "sequence item 0: expected str instance, int found",
     "output_type": "error",
     "traceback": [
      "\u001b[1;31m---------------------------------------------------------------------------\u001b[0m",
      "\u001b[1;31mTypeError\u001b[0m                                 Traceback (most recent call last)",
      "\u001b[1;32m<ipython-input-24-6470e0f19353>\u001b[0m in \u001b[0;36m<module>\u001b[1;34m\u001b[0m\n\u001b[1;32m----> 1\u001b[1;33m \u001b[0mdf_product\u001b[0m\u001b[1;33m[\u001b[0m\u001b[1;34m'list'\u001b[0m\u001b[1;33m]\u001b[0m \u001b[1;33m=\u001b[0m \u001b[0mdf_product\u001b[0m\u001b[1;33m.\u001b[0m\u001b[0mgroupby\u001b[0m\u001b[1;33m(\u001b[0m\u001b[1;34m'id'\u001b[0m\u001b[1;33m)\u001b[0m\u001b[1;33m[\u001b[0m\u001b[1;34m'product'\u001b[0m\u001b[1;33m]\u001b[0m\u001b[1;33m.\u001b[0m\u001b[0mtransform\u001b[0m\u001b[1;33m(\u001b[0m\u001b[1;32mlambda\u001b[0m \u001b[0mx\u001b[0m\u001b[1;33m:\u001b[0m \u001b[1;34m','\u001b[0m\u001b[1;33m.\u001b[0m\u001b[0mjoin\u001b[0m\u001b[1;33m(\u001b[0m\u001b[0mx\u001b[0m\u001b[1;33m)\u001b[0m\u001b[1;33m)\u001b[0m\u001b[1;33m\u001b[0m\u001b[1;33m\u001b[0m\u001b[0m\n\u001b[0m\u001b[0;32m      2\u001b[0m \u001b[0mdf_product\u001b[0m\u001b[1;33m\u001b[0m\u001b[1;33m\u001b[0m\u001b[0m\n",
      "\u001b[1;32mc:\\program files (x86)\\python38-32\\lib\\site-packages\\pandas\\core\\groupby\\generic.py\u001b[0m in \u001b[0;36mtransform\u001b[1;34m(self, func, *args, **kwargs)\u001b[0m\n\u001b[0;32m    463\u001b[0m \u001b[1;33m\u001b[0m\u001b[0m\n\u001b[0;32m    464\u001b[0m         \u001b[1;32mif\u001b[0m \u001b[1;32mnot\u001b[0m \u001b[0misinstance\u001b[0m\u001b[1;33m(\u001b[0m\u001b[0mfunc\u001b[0m\u001b[1;33m,\u001b[0m \u001b[0mstr\u001b[0m\u001b[1;33m)\u001b[0m\u001b[1;33m:\u001b[0m\u001b[1;33m\u001b[0m\u001b[1;33m\u001b[0m\u001b[0m\n\u001b[1;32m--> 465\u001b[1;33m             \u001b[1;32mreturn\u001b[0m \u001b[0mself\u001b[0m\u001b[1;33m.\u001b[0m\u001b[0m_transform_general\u001b[0m\u001b[1;33m(\u001b[0m\u001b[0mfunc\u001b[0m\u001b[1;33m,\u001b[0m \u001b[1;33m*\u001b[0m\u001b[0margs\u001b[0m\u001b[1;33m,\u001b[0m \u001b[1;33m**\u001b[0m\u001b[0mkwargs\u001b[0m\u001b[1;33m)\u001b[0m\u001b[1;33m\u001b[0m\u001b[1;33m\u001b[0m\u001b[0m\n\u001b[0m\u001b[0;32m    466\u001b[0m \u001b[1;33m\u001b[0m\u001b[0m\n\u001b[0;32m    467\u001b[0m         \u001b[1;32melif\u001b[0m \u001b[0mfunc\u001b[0m \u001b[1;32mnot\u001b[0m \u001b[1;32min\u001b[0m \u001b[0mbase\u001b[0m\u001b[1;33m.\u001b[0m\u001b[0mtransform_kernel_whitelist\u001b[0m\u001b[1;33m:\u001b[0m\u001b[1;33m\u001b[0m\u001b[1;33m\u001b[0m\u001b[0m\n",
      "\u001b[1;32mc:\\program files (x86)\\python38-32\\lib\\site-packages\\pandas\\core\\groupby\\generic.py\u001b[0m in \u001b[0;36m_transform_general\u001b[1;34m(self, func, *args, **kwargs)\u001b[0m\n\u001b[0;32m    487\u001b[0m         \u001b[1;32mfor\u001b[0m \u001b[0mname\u001b[0m\u001b[1;33m,\u001b[0m \u001b[0mgroup\u001b[0m \u001b[1;32min\u001b[0m \u001b[0mself\u001b[0m\u001b[1;33m:\u001b[0m\u001b[1;33m\u001b[0m\u001b[1;33m\u001b[0m\u001b[0m\n\u001b[0;32m    488\u001b[0m             \u001b[0mobject\u001b[0m\u001b[1;33m.\u001b[0m\u001b[0m__setattr__\u001b[0m\u001b[1;33m(\u001b[0m\u001b[0mgroup\u001b[0m\u001b[1;33m,\u001b[0m \u001b[1;34m\"name\"\u001b[0m\u001b[1;33m,\u001b[0m \u001b[0mname\u001b[0m\u001b[1;33m)\u001b[0m\u001b[1;33m\u001b[0m\u001b[1;33m\u001b[0m\u001b[0m\n\u001b[1;32m--> 489\u001b[1;33m             \u001b[0mres\u001b[0m \u001b[1;33m=\u001b[0m \u001b[0mfunc\u001b[0m\u001b[1;33m(\u001b[0m\u001b[0mgroup\u001b[0m\u001b[1;33m,\u001b[0m \u001b[1;33m*\u001b[0m\u001b[0margs\u001b[0m\u001b[1;33m,\u001b[0m \u001b[1;33m**\u001b[0m\u001b[0mkwargs\u001b[0m\u001b[1;33m)\u001b[0m\u001b[1;33m\u001b[0m\u001b[1;33m\u001b[0m\u001b[0m\n\u001b[0m\u001b[0;32m    490\u001b[0m \u001b[1;33m\u001b[0m\u001b[0m\n\u001b[0;32m    491\u001b[0m             \u001b[1;32mif\u001b[0m \u001b[0misinstance\u001b[0m\u001b[1;33m(\u001b[0m\u001b[0mres\u001b[0m\u001b[1;33m,\u001b[0m \u001b[1;33m(\u001b[0m\u001b[0mABCDataFrame\u001b[0m\u001b[1;33m,\u001b[0m \u001b[0mABCSeries\u001b[0m\u001b[1;33m)\u001b[0m\u001b[1;33m)\u001b[0m\u001b[1;33m:\u001b[0m\u001b[1;33m\u001b[0m\u001b[1;33m\u001b[0m\u001b[0m\n",
      "\u001b[1;32m<ipython-input-24-6470e0f19353>\u001b[0m in \u001b[0;36m<lambda>\u001b[1;34m(x)\u001b[0m\n\u001b[1;32m----> 1\u001b[1;33m \u001b[0mdf_product\u001b[0m\u001b[1;33m[\u001b[0m\u001b[1;34m'list'\u001b[0m\u001b[1;33m]\u001b[0m \u001b[1;33m=\u001b[0m \u001b[0mdf_product\u001b[0m\u001b[1;33m.\u001b[0m\u001b[0mgroupby\u001b[0m\u001b[1;33m(\u001b[0m\u001b[1;34m'id'\u001b[0m\u001b[1;33m)\u001b[0m\u001b[1;33m[\u001b[0m\u001b[1;34m'product'\u001b[0m\u001b[1;33m]\u001b[0m\u001b[1;33m.\u001b[0m\u001b[0mtransform\u001b[0m\u001b[1;33m(\u001b[0m\u001b[1;32mlambda\u001b[0m \u001b[0mx\u001b[0m\u001b[1;33m:\u001b[0m \u001b[1;34m','\u001b[0m\u001b[1;33m.\u001b[0m\u001b[0mjoin\u001b[0m\u001b[1;33m(\u001b[0m\u001b[0mx\u001b[0m\u001b[1;33m)\u001b[0m\u001b[1;33m)\u001b[0m\u001b[1;33m\u001b[0m\u001b[1;33m\u001b[0m\u001b[0m\n\u001b[0m\u001b[0;32m      2\u001b[0m \u001b[0mdf_product\u001b[0m\u001b[1;33m\u001b[0m\u001b[1;33m\u001b[0m\u001b[0m\n",
      "\u001b[1;31mTypeError\u001b[0m: sequence item 0: expected str instance, int found"
     ]
    }
   ],
   "source": [
    "df_product['list'] = df_product.groupby('id')['product'].transform(lambda x: ','.join(x))\n",
    "df_product"
   ]
  },
  {
   "cell_type": "code",
   "execution_count": null,
   "metadata": {},
   "outputs": [],
   "source": [
    "df_product.groupby('id')['product'].head()"
   ]
  },
  {
   "cell_type": "code",
   "execution_count": null,
   "metadata": {},
   "outputs": [],
   "source": []
  }
 ],
 "metadata": {
  "kernelspec": {
   "display_name": "Python 3",
   "language": "python",
   "name": "python3"
  },
  "language_info": {
   "codemirror_mode": {
    "name": "ipython",
    "version": 3
   },
   "file_extension": ".py",
   "mimetype": "text/x-python",
   "name": "python",
   "nbconvert_exporter": "python",
   "pygments_lexer": "ipython3",
   "version": "3.8.0"
  }
 },
 "nbformat": 4,
 "nbformat_minor": 4
}
